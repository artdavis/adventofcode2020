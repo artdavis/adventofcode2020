{
 "cells": [
  {
   "cell_type": "code",
   "execution_count": 1,
   "metadata": {
    "ExecuteTime": {
     "end_time": "2020-12-10T14:28:02.033619Z",
     "start_time": "2020-12-10T14:28:01.694616Z"
    }
   },
   "outputs": [],
   "source": [
    "import numpy as np\n",
    "from IPython.display import Markdown\n",
    "from IPython.core.debugger import set_trace as breakpt"
   ]
  },
  {
   "cell_type": "markdown",
   "metadata": {},
   "source": [
    "# Day 10: Adapter Array\n",
    "\n",
    "Reference: https://adventofcode.com/2020/day/10\n",
    "\n",
    "## Part 1\n",
    "\n",
    "Patched into the aircraft's data port, you discover weather forecasts of a massive tropical storm. Before you can figure out whether it will impact your vacation plans, however, your device suddenly turns off!\n",
    "\n",
    "Its battery is dead.\n",
    "\n",
    "You'll need to plug it in. There's only one problem: the charging outlet near your seat produces the wrong number of jolts. Always prepared, you make a list of all of the joltage adapters in your bag.\n",
    "\n",
    "Each of your joltage adapters is rated for a specific output joltage (your puzzle input). Any given adapter can take an input 1, 2, or 3 jolts lower than its rating and still produce its rated output joltage.\n",
    "\n",
    "In addition, your device has a built-in joltage adapter rated for 3 jolts higher than the highest-rated adapter in your bag. (If your adapter list were 3, 9, and 6, your device's built-in adapter would be rated for 12 jolts.)\n",
    "\n",
    "Treat the charging outlet near your seat as having an effective joltage rating of 0.\n",
    "\n",
    "Since you have some time to kill, you might as well test all of your adapters. Wouldn't want to get to your resort and realize you can't even charge your device!\n",
    "\n",
    "If you use every adapter in your bag at once, what is the distribution of joltage differences between the charging outlet, the adapters, and your device?\n",
    "\n",
    "For example, suppose that in your bag, you have adapters with the following joltage ratings:\n",
    "```\n",
    "16\n",
    "10\n",
    "15\n",
    "5\n",
    "1\n",
    "11\n",
    "7\n",
    "19\n",
    "6\n",
    "12\n",
    "4\n",
    "```\n",
    "With these adapters, your device's built-in joltage adapter would be rated for 19 + 3 = 22 jolts, 3 higher than the highest-rated adapter.\n",
    "\n",
    "Because adapters can only connect to a source 1-3 jolts lower than its rating, in order to use every adapter, you'd need to choose them like this:\n",
    "\n",
    "    The charging outlet has an effective rating of 0 jolts, so the only adapters that could connect to it directly would need to have a joltage rating of 1, 2, or 3 jolts. Of these, only one you have is an adapter rated 1 jolt (difference of 1).\n",
    "    From your 1-jolt rated adapter, the only choice is your 4-jolt rated adapter (difference of 3).\n",
    "    From the 4-jolt rated adapter, the adapters rated 5, 6, or 7 are valid choices. However, in order to not skip any adapters, you have to pick the adapter rated 5 jolts (difference of 1).\n",
    "    Similarly, the next choices would need to be the adapter rated 6 and then the adapter rated 7 (with difference of 1 and 1).\n",
    "    The only adapter that works with the 7-jolt rated adapter is the one rated 10 jolts (difference of 3).\n",
    "    From 10, the choices are 11 or 12; choose 11 (difference of 1) and then 12 (difference of 1).\n",
    "    After 12, only valid adapter has a rating of 15 (difference of 3), then 16 (difference of 1), then 19 (difference of 3).\n",
    "    Finally, your device's built-in adapter is always 3 higher than the highest adapter, so its rating is 22 jolts (always a difference of 3).\n",
    "\n",
    "In this example, when using every adapter, there are 7 differences of 1 jolt and 5 differences of 3 jolts.\n",
    "\n",
    "Here is a larger example:\n",
    "```\n",
    "28\n",
    "33\n",
    "18\n",
    "42\n",
    "31\n",
    "14\n",
    "46\n",
    "20\n",
    "48\n",
    "47\n",
    "24\n",
    "23\n",
    "49\n",
    "45\n",
    "19\n",
    "38\n",
    "39\n",
    "11\n",
    "1\n",
    "32\n",
    "25\n",
    "35\n",
    "8\n",
    "17\n",
    "7\n",
    "9\n",
    "4\n",
    "2\n",
    "34\n",
    "10\n",
    "3\n",
    "```\n",
    "In this larger example, in a chain that uses all of the adapters, there are 22 differences of 1 jolt and 10 differences of 3 jolts.\n",
    "\n",
    "Find a chain that uses all of your adapters to connect the charging outlet to your device's built-in adapter and count the joltage differences between the charging outlet, the adapters, and your device. What is the number of 1-jolt differences multiplied by the number of 3-jolt differences?"
   ]
  },
  {
   "cell_type": "code",
   "execution_count": 512,
   "metadata": {
    "ExecuteTime": {
     "end_time": "2020-12-11T20:46:36.629171Z",
     "start_time": "2020-12-11T20:46:36.607171Z"
    }
   },
   "outputs": [
    {
     "name": "stdout",
     "output_type": "stream",
     "text": [
      "Device rating = 172\n"
     ]
    }
   ],
   "source": [
    "dat = np.loadtxt('adapter_input.txt', dtype=np.int)\n",
    "print(\"Device rating = {}\".format(3 + max(dat)))"
   ]
  },
  {
   "cell_type": "code",
   "execution_count": 513,
   "metadata": {
    "ExecuteTime": {
     "end_time": "2020-12-11T20:46:52.314843Z",
     "start_time": "2020-12-11T20:46:52.294843Z"
    }
   },
   "outputs": [
    {
     "data": {
      "text/plain": [
       "array([1, 1, 3, 1, 1, 1, 3, 1, 1, 1, 1, 3, 1, 1, 1, 1, 3, 1, 1, 1, 1, 3,\n",
       "       1, 1, 3, 1, 1, 1, 1, 3, 1, 1, 1, 1, 3, 1, 1, 3, 3, 1, 1, 1, 1, 3,\n",
       "       3, 1, 3, 3, 1, 1, 1, 3, 1, 1, 1, 1, 3, 1, 1, 1, 1, 3, 1, 3, 1, 3,\n",
       "       1, 1, 1, 3, 1, 1, 1, 1, 3, 3, 3, 1, 1, 1, 3, 1, 1, 1, 1, 3, 3, 1,\n",
       "       1, 3, 1, 1, 1, 3, 3, 1, 3, 1, 1, 1, 1, 3, 1, 1, 1, 1])"
      ]
     },
     "execution_count": 513,
     "metadata": {},
     "output_type": "execute_result"
    }
   ],
   "source": [
    "datsort = np.sort(dat)\n",
    "datdiff = np.diff(datsort)\n",
    "datdiff"
   ]
  },
  {
   "cell_type": "code",
   "execution_count": 516,
   "metadata": {
    "ExecuteTime": {
     "end_time": "2020-12-11T20:48:28.222835Z",
     "start_time": "2020-12-11T20:48:28.214828Z"
    }
   },
   "outputs": [],
   "source": [
    "onesum = sum(datdiff == 1) + 1\n",
    "threesum = sum(datdiff == 3) + 1"
   ]
  },
  {
   "cell_type": "code",
   "execution_count": 520,
   "metadata": {
    "ExecuteTime": {
     "end_time": "2020-12-11T21:04:17.302520Z",
     "start_time": "2020-12-11T21:04:17.282415Z"
    }
   },
   "outputs": [
    {
     "data": {
      "text/markdown": [
       "The number of 1-jolt differences times the number of 3-jolt differnces is: **2432**"
      ],
      "text/plain": [
       "<IPython.core.display.Markdown object>"
      ]
     },
     "execution_count": 520,
     "metadata": {},
     "output_type": "execute_result"
    }
   ],
   "source": [
    "Markdown(\"The number of 1-jolt differences times the number \"\n",
    "         \"of 3-jolt differnces is: **{}**\".format(onesum * threesum))"
   ]
  },
  {
   "cell_type": "markdown",
   "metadata": {},
   "source": [
    "## Part 2\n",
    "\n",
    "To completely determine whether you have enough adapters, you'll need to figure out how many different ways they can be arranged. Every arrangement needs to connect the charging outlet to your device. The previous rules about when adapters can successfully connect still apply.\n",
    "\n",
    "The first example above (the one that starts with 16, 10, 15) supports the following arrangements:\n",
    "```\n",
    "(0), 1, 4, 5, 6, 7, 10, 11, 12, 15, 16, 19, (22)\n",
    "(0), 1, 4, 5, 6, 7, 10, 12, 15, 16, 19, (22)\n",
    "(0), 1, 4, 5, 7, 10, 11, 12, 15, 16, 19, (22)\n",
    "(0), 1, 4, 5, 7, 10, 12, 15, 16, 19, (22)\n",
    "(0), 1, 4, 6, 7, 10, 11, 12, 15, 16, 19, (22)\n",
    "(0), 1, 4, 6, 7, 10, 12, 15, 16, 19, (22)\n",
    "(0), 1, 4, 7, 10, 11, 12, 15, 16, 19, (22)\n",
    "(0), 1, 4, 7, 10, 12, 15, 16, 19, (22)\n",
    "```\n",
    "(The charging outlet and your device's built-in adapter are shown in parentheses.) Given the adapters from the first example, the total number of arrangements that connect the charging outlet to your device is 8.\n",
    "\n",
    "The second example above (the one that starts with 28, 33, 18) has many arrangements. Here are a few:\n",
    "```\n",
    "(0), 1, 2, 3, 4, 7, 8, 9, 10, 11, 14, 17, 18, 19, 20, 23, 24, 25, 28, 31,\n",
    "32, 33, 34, 35, 38, 39, 42, 45, 46, 47, 48, 49, (52)\n",
    "\n",
    "(0), 1, 2, 3, 4, 7, 8, 9, 10, 11, 14, 17, 18, 19, 20, 23, 24, 25, 28, 31,\n",
    "32, 33, 34, 35, 38, 39, 42, 45, 46, 47, 49, (52)\n",
    "\n",
    "(0), 1, 2, 3, 4, 7, 8, 9, 10, 11, 14, 17, 18, 19, 20, 23, 24, 25, 28, 31,\n",
    "32, 33, 34, 35, 38, 39, 42, 45, 46, 48, 49, (52)\n",
    "\n",
    "(0), 1, 2, 3, 4, 7, 8, 9, 10, 11, 14, 17, 18, 19, 20, 23, 24, 25, 28, 31,\n",
    "32, 33, 34, 35, 38, 39, 42, 45, 46, 49, (52)\n",
    "\n",
    "(0), 1, 2, 3, 4, 7, 8, 9, 10, 11, 14, 17, 18, 19, 20, 23, 24, 25, 28, 31,\n",
    "32, 33, 34, 35, 38, 39, 42, 45, 47, 48, 49, (52)\n",
    "\n",
    "(0), 3, 4, 7, 10, 11, 14, 17, 20, 23, 25, 28, 31, 34, 35, 38, 39, 42, 45,\n",
    "46, 48, 49, (52)\n",
    "\n",
    "(0), 3, 4, 7, 10, 11, 14, 17, 20, 23, 25, 28, 31, 34, 35, 38, 39, 42, 45,\n",
    "46, 49, (52)\n",
    "\n",
    "(0), 3, 4, 7, 10, 11, 14, 17, 20, 23, 25, 28, 31, 34, 35, 38, 39, 42, 45,\n",
    "47, 48, 49, (52)\n",
    "\n",
    "(0), 3, 4, 7, 10, 11, 14, 17, 20, 23, 25, 28, 31, 34, 35, 38, 39, 42, 45,\n",
    "47, 49, (52)\n",
    "\n",
    "(0), 3, 4, 7, 10, 11, 14, 17, 20, 23, 25, 28, 31, 34, 35, 38, 39, 42, 45,\n",
    "48, 49, (52)\n",
    "```\n",
    "In total, this set of adapters can connect the charging outlet to your device in 19208 distinct arrangements.\n",
    "\n",
    "You glance back down at your bag and try to remember why you brought so many adapters; there must be more than a trillion valid ways to arrange them! Surely, there must be an efficient way to count the arrangements.\n",
    "\n",
    "What is the total number of distinct ways you can arrange the adapters to connect the charging outlet to your device?"
   ]
  },
  {
   "cell_type": "code",
   "execution_count": 519,
   "metadata": {
    "ExecuteTime": {
     "end_time": "2020-12-11T21:03:11.617061Z",
     "start_time": "2020-12-11T21:03:11.594059Z"
    }
   },
   "outputs": [
    {
     "data": {
      "text/plain": [
       "array([  0,   1,   2,   3,   6,   7,   8,   9,  12,  13,  14,  15,  16,\n",
       "        19,  20,  21,  22,  23,  26,  27,  28,  29,  30,  33,  34,  35,\n",
       "        38,  39,  40,  41,  42,  45,  46,  47,  48,  49,  52,  53,  54,\n",
       "        57,  60,  61,  62,  63,  64,  67,  70,  71,  74,  77,  78,  79,\n",
       "        80,  83,  84,  85,  86,  87,  90,  91,  92,  93,  94,  97,  98,\n",
       "       101, 102, 105, 106, 107, 108, 111, 112, 113, 114, 115, 118, 121,\n",
       "       124, 125, 126, 127, 130, 131, 132, 133, 134, 137, 140, 141, 142,\n",
       "       145, 146, 147, 148, 151, 154, 155, 158, 159, 160, 161, 162, 165,\n",
       "       166, 167, 168, 169, 172], dtype=int64)"
      ]
     },
     "execution_count": 519,
     "metadata": {},
     "output_type": "execute_result"
    }
   ],
   "source": [
    "#dat = np.loadtxt('test1_adapter_input.txt', dtype=np.int)\n",
    "#dat = np.loadtxt('test2_adapter_input.txt', dtype=np.int)\n",
    "#dat = np.loadtxt('test3_adapter_input.txt', dtype=np.int)\n",
    "dat = np.loadtxt('adapter_input.txt', dtype=np.int64)\n",
    "dat.sort()\n",
    "device_rating = dat[-1] + 3\n",
    "device_rating\n",
    "\n",
    "dat = np.append(dat, device_rating)\n",
    "dat = np.insert(dat, 0, 0)\n",
    "dat"
   ]
  },
  {
   "cell_type": "markdown",
   "metadata": {},
   "source": [
    "### Strategy\n",
    "\n",
    "Start by calculating the \"skip difference\" defined as the difference between every element\n",
    "and the the element TWO ahead of this element.\n",
    "Where the results are MORE THAN TWO, this element definitely\n",
    "CANNOT be dropped (since then there would be a joltage difference of greater than\n",
    "3 between adjacent elements)."
   ]
  },
  {
   "cell_type": "code",
   "execution_count": 521,
   "metadata": {
    "ExecuteTime": {
     "end_time": "2020-12-11T21:07:34.770295Z",
     "start_time": "2020-12-11T21:07:34.755291Z"
    }
   },
   "outputs": [
    {
     "data": {
      "text/plain": [
       "array([2, 2, 4, 4, 2, 2, 4, 4, 2, 2, 2, 4, 4, 2, 2, 2, 4, 4, 2, 2, 2, 4,\n",
       "       4, 2, 4, 4, 2, 2, 2, 4, 4, 2, 2, 2, 4, 4, 2, 4, 6, 4, 2, 2, 2, 4,\n",
       "       6, 4, 4, 6, 4, 2, 2, 4, 4, 2, 2, 2, 4, 4, 2, 2, 2, 4, 4, 4, 4, 4,\n",
       "       4, 2, 2, 4, 4, 2, 2, 2, 4, 6, 6, 4, 2, 2, 4, 4, 2, 2, 2, 4, 6, 4,\n",
       "       2, 4, 4, 2, 2, 4, 6, 4, 4, 4, 2, 2, 2, 4, 4, 2, 2, 2, 4],\n",
       "      dtype=int64)"
      ]
     },
     "execution_count": 521,
     "metadata": {},
     "output_type": "execute_result"
    }
   ],
   "source": [
    "dat2 = np.roll(dat, -2)\n",
    "diff2 = (dat2 - dat)[:-2]\n",
    "diff2"
   ]
  },
  {
   "cell_type": "markdown",
   "metadata": {},
   "source": [
    "#### Standalone 2\n",
    "\n",
    "Wherever there is a \"standalone 2\" in this array, we multiply the number\n",
    "of possible arrays by 2. For example consider the sequence and its skip\n",
    "difference:\n",
    "```\n",
    "... 20 23 24 25 28 ...\n",
    "...    4  2  4 ...\n",
    "```\n",
    "In this case we can drop the `24` or not to maintain the required\n",
    "minimum 3-jolt difference between elements doubling the possible\n",
    "sequence combinations (multiplier = 2). Handily enough, we can just\n",
    "leaves these 2's in the skip difference list and use them for multipliers\n",
    "when we're done.\n",
    "\n",
    "#### Pair of 2's\n",
    "\n",
    "Wherever there is a \"pair of 2's\", we multiply the number of possible\n",
    "arrays by 4. For example consider the following sequence and its skip difference:\n",
    "```\n",
    "... 14 17 18 19 20 23 ...\n",
    "...    4  2  2  4 ...\n",
    "```\n",
    "The 4 possible valid sequences then are:\n",
    "```\n",
    "... 14 17 18 19 20 23 ...\n",
    "... 14 17    19 20 23 ...\n",
    "... 14 17 18    20 23 ...\n",
    "... 14 17       20 23 ...\n",
    "```\n",
    "Since a pair of 2's conveniently multiply out to 4 we can also\n",
    "just use them directly as multipliers.\n",
    "\n",
    "#### Triplet of 2's\n",
    "\n",
    "Wherever there is a \"triplet of 2's\", we multiply the number of possible\n",
    "arrays by 7. For example consider the following sequence and its skip difference:\n",
    "```\n",
    "... 4 7 8 9 10 11 14 ...\n",
    "...   4 2 2 2  4 ...\n",
    "```\n",
    "The 7 possible valid sequences would be:\n",
    "```\n",
    "... 4 7 8 9 10 11 14 ...\n",
    "... 4 7   9 10 11 14 ...\n",
    "... 4 7 8   10 11 14 ...\n",
    "... 4 7 8 9    11 14 ...\n",
    "... 4 7     10 11 14 ...\n",
    "... 4 7   9    11 14 ...\n",
    "... 4 7 8      11 14 ...\n",
    "```\n",
    "We will first run through the skip difference and tally up\n",
    "the number of times there is a triplet of 2's (N). The\n",
    "net multiplier for the number of possible sequences this corresponds\n",
    "to will be $7^N$.\n",
    "\n",
    "If we then strip all the triple 2's out of the skip difference\n",
    "and remove any remaining \"non 2's\" our answer will be\n",
    "the product of all of those 2's and $7^N$."
   ]
  },
  {
   "cell_type": "code",
   "execution_count": 522,
   "metadata": {
    "ExecuteTime": {
     "end_time": "2020-12-11T21:35:35.090791Z",
     "start_time": "2020-12-11T21:35:35.072791Z"
    }
   },
   "outputs": [],
   "source": [
    "i = 0\n",
    "three_twos = 0\n",
    "diff3 = list()\n",
    "while i < len(diff2):\n",
    "    if np.all(diff2[i:i+3] == 2):\n",
    "        # There was a run of three 2's\n",
    "        three_twos += 1\n",
    "        i += 3\n",
    "    else:\n",
    "        diff3.append(diff2[i])\n",
    "        i += 1"
   ]
  },
  {
   "cell_type": "code",
   "execution_count": 523,
   "metadata": {
    "ExecuteTime": {
     "end_time": "2020-12-11T21:35:35.517656Z",
     "start_time": "2020-12-11T21:35:35.513656Z"
    }
   },
   "outputs": [],
   "source": [
    "diff3 = np.array(diff3)\n",
    "twos = diff3[diff3 == 2]\n",
    "soln = np.prod(twos) * 7 ** three_twos"
   ]
  },
  {
   "cell_type": "code",
   "execution_count": 524,
   "metadata": {
    "ExecuteTime": {
     "end_time": "2020-12-11T21:36:08.394473Z",
     "start_time": "2020-12-11T21:36:08.385538Z"
    }
   },
   "outputs": [
    {
     "data": {
      "text/markdown": [
       "The total number of distinct adapter arrangements is **453551299002368**"
      ],
      "text/plain": [
       "<IPython.core.display.Markdown object>"
      ]
     },
     "execution_count": 524,
     "metadata": {},
     "output_type": "execute_result"
    }
   ],
   "source": [
    "Markdown(\"The total number of distinct adapter arrangements is **{}**\".format(soln))"
   ]
  },
  {
   "cell_type": "code",
   "execution_count": null,
   "metadata": {},
   "outputs": [],
   "source": []
  }
 ],
 "metadata": {
  "kernelspec": {
   "display_name": "Python 3",
   "language": "python",
   "name": "python3"
  },
  "language_info": {
   "codemirror_mode": {
    "name": "ipython",
    "version": 3
   },
   "file_extension": ".py",
   "mimetype": "text/x-python",
   "name": "python",
   "nbconvert_exporter": "python",
   "pygments_lexer": "ipython3",
   "version": "3.6.10"
  },
  "toc": {
   "base_numbering": 1,
   "nav_menu": {},
   "number_sections": true,
   "sideBar": true,
   "skip_h1_title": false,
   "title_cell": "Table of Contents",
   "title_sidebar": "Contents",
   "toc_cell": false,
   "toc_position": {},
   "toc_section_display": true,
   "toc_window_display": false
  }
 },
 "nbformat": 4,
 "nbformat_minor": 4
}
