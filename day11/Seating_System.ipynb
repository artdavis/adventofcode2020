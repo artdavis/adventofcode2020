{
 "cells": [
  {
   "cell_type": "code",
   "execution_count": 470,
   "metadata": {
    "ExecuteTime": {
     "end_time": "2020-12-12T17:14:32.309556Z",
     "start_time": "2020-12-12T17:14:32.302553Z"
    }
   },
   "outputs": [],
   "source": [
    "import numpy as np\n",
    "import itertools\n",
    "from IPython.display import Markdown\n",
    "from IPython.core.debugger import set_trace as breakpt"
   ]
  },
  {
   "cell_type": "markdown",
   "metadata": {},
   "source": [
    "# Day 11: Seating System\n",
    "\n",
    "Reference: https://adventofcode.com/2020/day/11\n",
    "\n",
    "## Part 1\n",
    "\n",
    "**How many seats end up occupied?**"
   ]
  },
  {
   "cell_type": "code",
   "execution_count": 449,
   "metadata": {
    "ExecuteTime": {
     "end_time": "2020-12-12T16:32:36.442824Z",
     "start_time": "2020-12-12T16:32:36.410827Z"
    }
   },
   "outputs": [],
   "source": [
    "#with open('test1_seats_input.txt', 'r') as fid:\n",
    "#with open('test2_seats_input.txt', 'r') as fid:\n",
    "with open('seats_input.txt', 'r') as fid:\n",
    "    seats = fid.read().splitlines()\n",
    "\n",
    "# Convert tonumpy array so we can use 2D slicing syntax\n",
    "# L - empty seat -> 0\n",
    "# # - occupied seat -> 1\n",
    "# . - floor -> 2\n",
    "arr = list()\n",
    "tr = {'L': 0, '#': 1, '.': 2}\n",
    "for s in seats:\n",
    "    arr.append(np.array([tr[x] for x in s], dtype = np.int8))\n",
    "arr = np.array(arr)\n",
    "#arr\n",
    "\n",
    "# Get coordinate list for all grid positions\n",
    "ri, ci = np.indices(arr.shape)\n",
    "\n",
    "seatbool = arr.ravel() == 0\n",
    "r_s = ri.ravel()[seatbool]\n",
    "c_s = ci.ravel()[seatbool]\n",
    "#arr_s = arr.ravel()[seatbool]\n",
    "rc = np.array([r_s, c_s])\n",
    "# Print out coordinates for every seat\n",
    "#for r, c in rc.T:\n",
    "#    print(\"({},{},{})\".format(r, c, arr[r, c]), end=', ')\n",
    "\n",
    "# Known seat position coordinates. We only ever need to check\n",
    "# seat coordinates for occupancy/vacancy\n",
    "seatcoords = [tuple(x) for x in np.array([r_s, c_s]).T]"
   ]
  },
  {
   "cell_type": "code",
   "execution_count": 458,
   "metadata": {
    "ExecuteTime": {
     "end_time": "2020-12-12T16:49:57.310874Z",
     "start_time": "2020-12-12T16:49:57.301875Z"
    }
   },
   "outputs": [],
   "source": [
    "def get_window(index):\n",
    "    # Get the 1-D window coordinates for spaces\n",
    "    # that are adjacent to the supplied index\n",
    "    if index == 0:\n",
    "        index0 = 0\n",
    "    else:\n",
    "        index0 = index - 1\n",
    "    index1 = index + 2\n",
    "    return index0, index1"
   ]
  },
  {
   "cell_type": "code",
   "execution_count": 459,
   "metadata": {
    "ExecuteTime": {
     "end_time": "2020-12-12T16:50:02.126446Z",
     "start_time": "2020-12-12T16:50:02.110444Z"
    }
   },
   "outputs": [
    {
     "data": {
      "text/plain": [
       "array([[0, 0, 0],\n",
       "       [0, 0, 0],\n",
       "       [0, 0, 0]], dtype=int8)"
      ]
     },
     "execution_count": 459,
     "metadata": {},
     "output_type": "execute_result"
    }
   ],
   "source": [
    "# Test example\n",
    "i = 2; j = 3\n",
    "#i = 8; j = 8\n",
    "#i = 9; j = 9\n",
    "#i = 0; j = 0\n",
    "arr[i, j]\n",
    "arr[i-1:i+2, j-1:j+2]\n",
    "\n",
    "i0, i1 = get_window(i)\n",
    "j0, j1 = get_window(j)\n",
    "arr[i0:i1, j0:j1]"
   ]
  },
  {
   "cell_type": "code",
   "execution_count": 460,
   "metadata": {
    "ExecuteTime": {
     "end_time": "2020-12-12T16:50:40.347125Z",
     "start_time": "2020-12-12T16:50:40.327121Z"
    }
   },
   "outputs": [],
   "source": [
    "def runseats(arr0, seatconfigs=set()):\n",
    "    # Visit every array coordinate\n",
    "    arr2 = arr0.copy()\n",
    "    ri, ci = np.indices(arr0.shape)\n",
    "    for r, c in np.nditer([ri, ci]):\n",
    "        if 2 == arr0[r, c]:\n",
    "            # Floor position, cannot occupy\n",
    "            continue\n",
    "        r0, r1 = get_window(r)\n",
    "        c0, c1 = get_window(c)\n",
    "        window = arr0[r0:r1, c0:c1]\n",
    "        if 0 == arr0[r, c]:\n",
    "            # Empty seat, check if it should get occupied\n",
    "            if not np.any(window == 1):\n",
    "                # No neighbors =1 and position should become occupied\n",
    "                arr2[r, c] = 1\n",
    "        elif 1 == arr0[r, c]:\n",
    "            # Filled seat, check if it should get vacated\n",
    "            #print(window)\n",
    "            if 4 < np.sum(window == 1):\n",
    "                # This seat plust at least 4 other neighbors are filled\n",
    "                # Vacate\n",
    "                arr2[r, c] = 0\n",
    "        else:\n",
    "            raise ValueError(\"Unhandled value: {}\".format(arr0[r, c]))\n",
    "    # Create a hashable representation of seating for set\n",
    "    #print(arr2)\n",
    "    seathash = ''.join([str(x) for x in arr2.ravel()])\n",
    "    #print(seathash)\n",
    "    if seathash in seatconfigs:\n",
    "        # Done.. hit an existing stable config\n",
    "        return arr2, seatconfigs, True\n",
    "    seatconfigs.add(seathash)\n",
    "    return arr2, seatconfigs, False"
   ]
  },
  {
   "cell_type": "code",
   "execution_count": null,
   "metadata": {
    "ExecuteTime": {
     "end_time": "2020-12-11T13:18:13.717329Z",
     "start_time": "2020-12-11T13:18:13.685304Z"
    }
   },
   "outputs": [],
   "source": [
    "#arr0 = runseats(arr)\n",
    "#arr1 = runseats(arr0)\n",
    "#arr1"
   ]
  },
  {
   "cell_type": "code",
   "execution_count": 462,
   "metadata": {
    "ExecuteTime": {
     "end_time": "2020-12-12T16:53:34.596418Z",
     "start_time": "2020-12-12T16:53:18.390580Z"
    }
   },
   "outputs": [
    {
     "name": "stdout",
     "output_type": "stream",
     "text": [
      "Trials: 1, 2, 3, 4, 5, 6, 7, 8, 9, 10, 11, 12, 13, 14, 15, 16, 17, 18, 19, 20, 21, 22, 23, 24, 25, 26, 27, 28, 29, 30, 31, 32, 33, 34, 35, 36, 37, 38, 39, 40, 41, 42, 43, 44, 45, 46, 47, 48, 49, 50, 51, 52, 53, 54, 55, 56, 57, 58, 59, 60, 61, 62, 63, 64, 65, 66, 67, 68, 69, 70, 71, 72, 73, 74, 75, 76, "
     ]
    }
   ],
   "source": [
    "seatconfigs = set()\n",
    "newarr = arr.copy()\n",
    "done = False\n",
    "trial = 1\n",
    "print(\"Trials: \", end='')\n",
    "while(not done):\n",
    "    print(trial, end=', ')\n",
    "    newarr, seatconfigs, done = runseats(newarr, seatconfigs)\n",
    "    trial += 1\n",
    "#len(seatconfigs)\n",
    "occupied_seats = np.sum(newarr == 1)"
   ]
  },
  {
   "cell_type": "code",
   "execution_count": 1,
   "metadata": {
    "ExecuteTime": {
     "end_time": "2021-12-13T19:00:31.358485Z",
     "start_time": "2021-12-13T19:00:31.327234Z"
    }
   },
   "outputs": [],
   "source": [
    "#Markdown(\"The number of occupied seats is **{}**\".format(occupied_seats))"
   ]
  },
  {
   "cell_type": "markdown",
   "metadata": {},
   "source": [
    "## Part 2\n",
    "\n",
    "Given the new visibility method and the rule change for occupied seats becoming empty, once equilibrium is reached, **how many seats end up occupied?**"
   ]
  },
  {
   "cell_type": "code",
   "execution_count": 465,
   "metadata": {
    "ExecuteTime": {
     "end_time": "2020-12-12T16:59:29.210632Z",
     "start_time": "2020-12-12T16:59:29.187631Z"
    }
   },
   "outputs": [],
   "source": [
    "# Define functions that will return the indices for\n",
    "# \"rays\" headed out from all directions from any\n",
    "# coordinate position in the array\n",
    "\n",
    "def rplus(arr, r, c):\n",
    "    # From coord r, c in arr, get and return\n",
    "    # all of the coordinates from here along +r\n",
    "    # Order from the coordinate forward\n",
    "    ri = np.arange(r+1, arr.shape[0])\n",
    "    ci = np.repeat(c, len(ri))\n",
    "    return np.array([ri, ci])\n",
    "\n",
    "def rminus(arr, r, c):\n",
    "    # From coord r, c in arr, get and return\n",
    "    # all of the coordinates from here along -r\n",
    "    # Order from the coordinate back\n",
    "    ri = np.arange(0, r)[::-1]\n",
    "    ci = np.repeat(c, len(ri))\n",
    "    return np.array([ri, ci])\n",
    "\n",
    "def cplus(arr, r, c):\n",
    "    # From coord r, c in arr, get and return\n",
    "    # all of the coordinates from here along +c\n",
    "    # Order from the coordinate forward\n",
    "    ci = np.arange(c+1, arr.shape[1])\n",
    "    ri = np.repeat(r, len(ci))\n",
    "    return np.array([ri, ci])\n",
    "\n",
    "def cminus(arr, r, c):\n",
    "    # From coord r, c in arr, get and return\n",
    "    # all of the coordinates from here along -c\n",
    "    # Order from the coordinate back\n",
    "    ci = np.arange(0, c)[::-1]\n",
    "    ri = np.repeat(r, len(ci))\n",
    "    return np.array([ri, ci])\n",
    "\n",
    "def rcplusplus(arr, r, c):\n",
    "    # From coord r, c in arr, get and return\n",
    "    # all of the diagonal +r, +c coords\n",
    "    # Order from the coordinate on\n",
    "    ri = np.arange(r+1, arr.shape[0])\n",
    "    ci = np.arange(c+1, arr.shape[1])\n",
    "    return np.array([ri[:len(ci)], ci[:len(ri)]])\n",
    "\n",
    "def rcplusminus(arr, r, c):\n",
    "    # From coord r, c in arr, get and return\n",
    "    # all of the diagonal +r, -c coords\n",
    "    # Order from the coordinate on\n",
    "    ri = np.arange(r+1, arr.shape[0])\n",
    "    ci = np.arange(0, c)[::-1]\n",
    "    return np.array([ri[:len(ci)], ci[:len(ri)]])\n",
    "\n",
    "def rcminusplus(arr, r, c):\n",
    "    # From coord r, c in arr, get and return\n",
    "    # all of the diagonal -r, +c coords\n",
    "    # Order from the coordinate on\n",
    "    ri = np.arange(0, r)[::-1]\n",
    "    ci = np.arange(c+1, arr.shape[1])\n",
    "    return np.array([ri[:len(ci)], ci[:len(ri)]])\n",
    "\n",
    "def rcminusminus(arr, r, c):\n",
    "    # From coord r, c in arr, get and return\n",
    "    # all of the diagonal -r, -c coords\n",
    "    # Order from the coordinate on\n",
    "    ri = np.arange(0, r)[::-1]\n",
    "    ci = np.arange(0, c)[::-1]\n",
    "    return np.array([ri[:len(ci)], ci[:len(ri)]])\n"
   ]
  },
  {
   "cell_type": "code",
   "execution_count": 466,
   "metadata": {
    "ExecuteTime": {
     "end_time": "2020-12-12T17:01:52.646998Z",
     "start_time": "2020-12-12T17:01:52.629996Z"
    }
   },
   "outputs": [],
   "source": [
    "# Return the seat occupancy for a supplied ray\n",
    "def get_occupancy_from_ray(ray):\n",
    "    # A ray is a 1-D slice of the room visible\n",
    "    # from the observer. The 0 position moves out\n",
    "    # from the observer. The first time a seat is\n",
    "    # encountered : 0 or 1 the ray stops and we\n",
    "    # report what we've found\n",
    "    for pos in ray:\n",
    "        if 0 == pos:\n",
    "            return 0\n",
    "        if 1 == pos:\n",
    "            return 1\n",
    "    # No seats occupied or vacant encountered\n",
    "    return None\n",
    "\n",
    "# Accumulate the occupancy based on output\n",
    "# from get_occupancy_from_ray\n",
    "def accum_occ(occ, empty, filled):\n",
    "    if occ is None:\n",
    "        # Nothing encountered and nothing to do\n",
    "        pass\n",
    "    elif 0 == occ:\n",
    "        # Empty seat encountered\n",
    "        empty += 1\n",
    "    elif 1 == occ:\n",
    "        # Filled seat encountered\n",
    "        filled += 1\n",
    "    else:\n",
    "        raise ValuError(\"Unhandled occupancy: {}\".format(occ))   \n",
    "    return empty, filled\n",
    "\n",
    "# For a given r, c in arr, get state of all visible chairs\n",
    "rayfns = [rplus, rminus, cplus, cminus,\n",
    "          rcplusplus, rcplusminus,\n",
    "          rcminusplus, rcminusminus]\n",
    "def get_state(arr, r, c):\n",
    "    empty = 0\n",
    "    filled = 0\n",
    "    for rfn in rayfns:\n",
    "        raycoords = rfn(arr, r, c)\n",
    "        if 0 == len(raycoords): continue # No rays\n",
    "        r0, c0 = raycoords\n",
    "        occ = get_occupancy_from_ray(arr[r0, c0])\n",
    "        empty, filled = accum_occ(occ, empty, filled)\n",
    "    return empty, filled\n"
   ]
  },
  {
   "cell_type": "code",
   "execution_count": 467,
   "metadata": {
    "ExecuteTime": {
     "end_time": "2020-12-12T17:02:09.012092Z",
     "start_time": "2020-12-12T17:02:08.990091Z"
    }
   },
   "outputs": [],
   "source": [
    "# Known seat coordinates are in seatcoords\n",
    "def runseats2(arr0, seatconfigs=set()):\n",
    "    arr2 = arr0.copy()\n",
    "    # Visit every seat coordinate\n",
    "    for r, c in seatcoords:\n",
    "        empty, filled = get_state(arr0, r, c)\n",
    "        if 0 == arr0[r, c]:\n",
    "            # Empty seat, check if it should get occupied\n",
    "            if 0 == filled:\n",
    "                # No visible filled positions. Seat should become occupied\n",
    "                arr2[r, c] = 1\n",
    "        elif 1 == arr0[r, c]:\n",
    "            # Filled seat, check if it should get vacated\n",
    "            if 4 < filled:\n",
    "                # 5 or more other filled seats are visible... Vacate\n",
    "                arr2[r, c] = 0\n",
    "        else:\n",
    "            raise ValueError(\"Unhandled value: {}\".format(arr0[r, c]))\n",
    "    # Create a hashable representation of seating for set\n",
    "    #print(arr2)\n",
    "    seathash = ''.join([str(x) for x in arr2.ravel()])\n",
    "    #print(seathash)\n",
    "    if seathash in seatconfigs:\n",
    "        # Done.. hit an existing stable config\n",
    "        return arr2, seatconfigs, True\n",
    "    seatconfigs.add(seathash)\n",
    "    return arr2, seatconfigs, False"
   ]
  },
  {
   "cell_type": "code",
   "execution_count": 468,
   "metadata": {
    "ExecuteTime": {
     "end_time": "2020-12-12T17:04:44.779462Z",
     "start_time": "2020-12-12T17:02:51.369012Z"
    }
   },
   "outputs": [
    {
     "name": "stdout",
     "output_type": "stream",
     "text": [
      "Trials: 1, 2, 3, 4, 5, 6, 7, 8, 9, 10, 11, 12, 13, 14, 15, 16, 17, 18, 19, 20, 21, 22, 23, 24, 25, 26, 27, 28, 29, 30, 31, 32, 33, 34, 35, 36, 37, 38, 39, 40, 41, 42, 43, 44, 45, 46, 47, 48, 49, 50, 51, 52, 53, 54, 55, 56, 57, 58, 59, 60, 61, 62, 63, 64, 65, 66, 67, 68, 69, 70, 71, 72, 73, 74, 75, 76, 77, 78, 79, 80, 81, 82, 83, 84, "
     ]
    }
   ],
   "source": [
    "seatconfigs = set()\n",
    "newarr = arr.copy()\n",
    "done = False\n",
    "trial = 1\n",
    "print(\"Trials: \", end='')\n",
    "while(not done):\n",
    "    print(trial, end=', ')\n",
    "    newarr, seatconfigs, done = runseats2(newarr, seatconfigs)\n",
    "    trial += 1\n",
    "#len(seatconfigs)\n",
    "occupied_seats2 = np.sum(newarr == 1)"
   ]
  },
  {
   "cell_type": "code",
   "execution_count": 2,
   "metadata": {
    "ExecuteTime": {
     "end_time": "2021-12-13T19:00:39.644972Z",
     "start_time": "2021-12-13T19:00:39.629336Z"
    }
   },
   "outputs": [],
   "source": [
    "#Markdown(\"The number of occupied seats is **{}**\".format(occupied_seats2))"
   ]
  },
  {
   "cell_type": "code",
   "execution_count": null,
   "metadata": {},
   "outputs": [],
   "source": []
  }
 ],
 "metadata": {
  "kernelspec": {
   "display_name": "Python 3",
   "language": "python",
   "name": "python3"
  },
  "language_info": {
   "codemirror_mode": {
    "name": "ipython",
    "version": 3
   },
   "file_extension": ".py",
   "mimetype": "text/x-python",
   "name": "python",
   "nbconvert_exporter": "python",
   "pygments_lexer": "ipython3",
   "version": "3.6.12"
  },
  "toc": {
   "base_numbering": 1,
   "nav_menu": {},
   "number_sections": true,
   "sideBar": true,
   "skip_h1_title": false,
   "title_cell": "Table of Contents",
   "title_sidebar": "Contents",
   "toc_cell": false,
   "toc_position": {},
   "toc_section_display": true,
   "toc_window_display": false
  }
 },
 "nbformat": 4,
 "nbformat_minor": 4
}
