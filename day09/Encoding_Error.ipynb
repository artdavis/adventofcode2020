{
 "cells": [
  {
   "cell_type": "code",
   "execution_count": 1,
   "metadata": {
    "ExecuteTime": {
     "end_time": "2020-12-09T11:51:00.203513Z",
     "start_time": "2020-12-09T11:50:59.865513Z"
    }
   },
   "outputs": [],
   "source": [
    "import itertools\n",
    "import numpy as np\n",
    "from IPython.display import Markdown\n",
    "#from IPython.core.debugger import set_trace as breakpt"
   ]
  },
  {
   "cell_type": "markdown",
   "metadata": {},
   "source": [
    "# Day 9: Encoding Error\n",
    "\n",
    "Reference: https://adventofcode.com/2020/day/9\n",
    "\n",
    "## Part 1\n",
    "\n",
    "The first step of attacking the weakness in the XMAS data is to find the first number in the list (after the preamble) which is not the sum of two of the 25 numbers before it. **What is the first number that does not have this property?**"
   ]
  },
  {
   "cell_type": "code",
   "execution_count": 2,
   "metadata": {
    "ExecuteTime": {
     "end_time": "2020-12-09T11:51:00.219517Z",
     "start_time": "2020-12-09T11:51:00.205513Z"
    }
   },
   "outputs": [],
   "source": [
    "with open('encoding_input.txt', 'r') as fid:\n",
    "    dat = [int(line) for line in fid]"
   ]
  },
  {
   "cell_type": "code",
   "execution_count": 3,
   "metadata": {
    "ExecuteTime": {
     "end_time": "2020-12-09T11:51:00.251514Z",
     "start_time": "2020-12-09T11:51:00.222547Z"
    }
   },
   "outputs": [],
   "source": [
    "box = 25\n",
    "for i in range(box, len(dat)):\n",
    "    for x in itertools.combinations(dat[i - box:i], 2):\n",
    "        if sum(x) == dat[i]:\n",
    "            # Verified\n",
    "            #print(\"{} + {} = {}\".format(x[0], x[1], sum(x)))\n",
    "            verified = True\n",
    "            break\n",
    "        else:\n",
    "            verified = False\n",
    "    if not verified:\n",
    "        # Found a number which does not verify\n",
    "        #print(\"{}: {}\".format(i, dat[i]))\n",
    "        invalid = dat[i]\n",
    "        break"
   ]
  },
  {
   "cell_type": "code",
   "execution_count": 4,
   "metadata": {
    "ExecuteTime": {
     "end_time": "2020-12-09T11:51:00.283513Z",
     "start_time": "2020-12-09T11:51:00.253516Z"
    }
   },
   "outputs": [],
   "source": [
    "#Markdown(\"The first invalid number is **{}**\".format(invalid))"
   ]
  },
  {
   "cell_type": "markdown",
   "metadata": {},
   "source": [
    "## Part 2\n",
    "\n",
    "**What is the encryption weakness in your XMAS-encrypted list of numbers?**"
   ]
  },
  {
   "cell_type": "code",
   "execution_count": 5,
   "metadata": {
    "ExecuteTime": {
     "end_time": "2020-12-09T11:51:00.315513Z",
     "start_time": "2020-12-09T11:51:00.284513Z"
    }
   },
   "outputs": [],
   "source": [
    "# Iteratively shift the numbers by 1 and add them to\n",
    "# the running sum array. As soon as the target invalid number\n",
    "# appear in the running sum array, we've found the solution\n",
    "d0 = np.array(dat)\n",
    "arrs = [d0.copy()]\n",
    "dsum = d0.copy()\n",
    "cond = False\n",
    "while(not cond):\n",
    "    d0 = np.roll(d0, -1)\n",
    "    d0[-1] = 0\n",
    "    arrs.append(d0.copy())\n",
    "    dsum += d0\n",
    "    cond = invalid in dsum"
   ]
  },
  {
   "cell_type": "code",
   "execution_count": 6,
   "metadata": {
    "ExecuteTime": {
     "end_time": "2020-12-09T11:51:00.331513Z",
     "start_time": "2020-12-09T11:51:00.317513Z"
    }
   },
   "outputs": [],
   "source": [
    "# The index of the invalid number in the running\n",
    "# sum array is the index in all of the composition\n",
    "# arrays for the numbers that summed to the invalid number\n",
    "i = int(np.where(dsum == invalid)[0])\n",
    "#print(\"Solution starts at index: {}\".format(i))\n",
    "soln = [a[i] for a in arrs]"
   ]
  },
  {
   "cell_type": "code",
   "execution_count": 7,
   "metadata": {
    "ExecuteTime": {
     "end_time": "2020-12-09T11:51:00.362515Z",
     "start_time": "2020-12-09T11:51:00.335514Z"
    }
   },
   "outputs": [],
   "source": [
    "#Markdown(\"The sum of the min and max values in the solution is: **{}**\"\n",
    "#        .format(min(soln) + max(soln)))"
   ]
  }
 ],
 "metadata": {
  "kernelspec": {
   "display_name": "Python 3",
   "language": "python",
   "name": "python3"
  },
  "language_info": {
   "codemirror_mode": {
    "name": "ipython",
    "version": 3
   },
   "file_extension": ".py",
   "mimetype": "text/x-python",
   "name": "python",
   "nbconvert_exporter": "python",
   "pygments_lexer": "ipython3",
   "version": "3.6.12"
  },
  "toc": {
   "base_numbering": 1,
   "nav_menu": {},
   "number_sections": true,
   "sideBar": true,
   "skip_h1_title": false,
   "title_cell": "Table of Contents",
   "title_sidebar": "Contents",
   "toc_cell": false,
   "toc_position": {},
   "toc_section_display": true,
   "toc_window_display": false
  }
 },
 "nbformat": 4,
 "nbformat_minor": 4
}
