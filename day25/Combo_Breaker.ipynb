{
 "cells": [
  {
   "cell_type": "code",
   "execution_count": 2,
   "metadata": {
    "ExecuteTime": {
     "end_time": "2020-12-26T14:20:07.051648Z",
     "start_time": "2020-12-26T14:20:07.043652Z"
    }
   },
   "outputs": [],
   "source": [
    "from IPython.display import Markdown\n",
    "from IPython.core.debugger import set_trace"
   ]
  },
  {
   "cell_type": "markdown",
   "metadata": {},
   "source": [
    "# Day 25: Combo Breaker\n",
    "\n",
    "Reference: https://adventofcode.com/2020/day/25\n",
    "\n",
    "## Part 1\n",
    "\n",
    "You finally reach the check-in desk. Unfortunately, their registration systems are currently offline, and they cannot check you in. Noticing the look on your face, they quickly add that tech support is already on the way! They even created all the room keys this morning; you can take yours now and give them your room deposit once the registration system comes back online.\n",
    "\n",
    "The room key is a small RFID card. Your room is on the 25th floor and the elevators are also temporarily out of service, so it takes what little energy you have left to even climb the stairs and navigate the halls. You finally reach the door to your room, swipe your card, and - beep - the light turns red.\n",
    "\n",
    "Examining the card more closely, you discover a phone number for tech support.\n",
    "\n",
    "\"Hello! How can we help you today?\" You explain the situation.\n",
    "\n",
    "\"Well, it sounds like the card isn't sending the right command to unlock the door. If you go back to the check-in desk, surely someone there can reset it for you.\" Still catching your breath, you describe the status of the elevator and the exact number of stairs you just had to climb.\n",
    "\n",
    "\"I see! Well, your only other option would be to reverse-engineer the cryptographic handshake the card does with the door and then inject your own commands into the data stream, but that's definitely impossible.\" You thank them for their time.\n",
    "\n",
    "Unfortunately for the door, you know a thing or two about cryptographic handshakes.\n",
    "\n",
    "The handshake used by the card and the door involves an operation that transforms a subject number. To transform a subject number, start with the value 1. Then, a number of times called the loop size, perform the following steps:\n",
    "\n",
    "- Set the value to itself multiplied by the subject number.\n",
    "- Set the value to the remainder after dividing the value by 20201227.\n",
    "\n",
    "The card always uses a specific, secret loop size when it transforms a subject number. The door always uses a different, secret loop size.\n",
    "\n",
    "The cryptographic handshake works like this:\n",
    "\n",
    "- The card transforms the subject number of 7 according to the card's secret loop size. The result is called the card's public key.\n",
    "- The door transforms the subject number of 7 according to the door's secret loop size. The result is called the door's public key.\n",
    "- The card and door use the wireless RFID signal to transmit the two public keys (your puzzle input) to the other device. Now, the card has the door's public key, and the door has the card's public key. Because you can eavesdrop on the signal, you have both public keys, but neither device's loop size.\n",
    "- The card transforms the subject number of the door's public key according to the card's loop size. The result is the encryption key.\n",
    "- The door transforms the subject number of the card's public key according to the door's loop size. The result is the same encryption key as the card calculated.\n",
    "\n",
    "If you can use the two public keys to determine each device's loop size, you will have enough information to calculate the secret encryption key that the card and door use to communicate; this would let you send the unlock command directly to the door!\n",
    "\n",
    "For example, suppose you know that the card's public key is 5764801. With a little trial and error, you can work out that the card's loop size must be 8, because transforming the initial subject number of 7 with a loop size of 8 produces 5764801.\n",
    "\n",
    "Then, suppose you know that the door's public key is 17807724. By the same process, you can determine that the door's loop size is 11, because transforming the initial subject number of 7 with a loop size of 11 produces 17807724.\n",
    "\n",
    "At this point, you can use either device's loop size with the other device's public key to calculate the encryption key. Transforming the subject number of 17807724 (the door's public key) with a loop size of 8 (the card's loop size) produces the encryption key, 14897079. (Transforming the subject number of 5764801 (the card's public key) with a loop size of 11 (the door's loop size) produces the same encryption key: 14897079.)\n",
    "\n",
    "What encryption key is the handshake trying to establish?"
   ]
  },
  {
   "cell_type": "code",
   "execution_count": 3,
   "metadata": {
    "ExecuteTime": {
     "end_time": "2020-12-26T14:20:07.082653Z",
     "start_time": "2020-12-26T14:20:07.053652Z"
    }
   },
   "outputs": [],
   "source": [
    "with open('pubk_input.txt', 'r') as fid:\n",
    "    pubk1 = int(fid.readline().strip())\n",
    "    pubk2 = int(fid.readline().strip())"
   ]
  },
  {
   "cell_type": "code",
   "execution_count": 4,
   "metadata": {
    "ExecuteTime": {
     "end_time": "2020-12-26T14:20:07.097654Z",
     "start_time": "2020-12-26T14:20:07.086654Z"
    }
   },
   "outputs": [],
   "source": [
    "def get_val(loopsize, subjectnum=7, val=1):\n",
    "    for i in range(loopsize):\n",
    "        val = (val * subjectnum) % 20201227\n",
    "    return val\n",
    "\n",
    "def seek_loop(pubk, subjectnum=7, val=1):\n",
    "    loopsize = 0\n",
    "    while(val != pubk) :\n",
    "        loopsize += 1\n",
    "        val = (val * subjectnum) % 20201227\n",
    "    return val, loopsize\n"
   ]
  },
  {
   "cell_type": "code",
   "execution_count": 5,
   "metadata": {
    "ExecuteTime": {
     "end_time": "2020-12-26T14:20:09.319815Z",
     "start_time": "2020-12-26T14:20:07.100652Z"
    }
   },
   "outputs": [
    {
     "data": {
      "text/markdown": [
       "Loop size for the card was found to be 13207740"
      ],
      "text/plain": [
       "<IPython.core.display.Markdown object>"
      ]
     },
     "execution_count": 5,
     "metadata": {},
     "output_type": "execute_result"
    }
   ],
   "source": [
    "pubk1_verify, loop1 = seek_loop(pubk1)\n",
    "assert pubk1 == pubk1_verify\n",
    "Markdown(\"Loop size for the card was found to be {}\".format(loop1))"
   ]
  },
  {
   "cell_type": "code",
   "execution_count": 6,
   "metadata": {
    "ExecuteTime": {
     "end_time": "2020-12-26T14:20:28.302342Z",
     "start_time": "2020-12-26T14:20:26.847340Z"
    }
   },
   "outputs": [
    {
     "data": {
      "text/markdown": [
       "Loop size for the door was found to be 8229037"
      ],
      "text/plain": [
       "<IPython.core.display.Markdown object>"
      ]
     },
     "execution_count": 6,
     "metadata": {},
     "output_type": "execute_result"
    }
   ],
   "source": [
    "pubk2_verify, loop2 = seek_loop(pubk2)\n",
    "assert pubk2 == pubk2_verify\n",
    "Markdown(\"Loop size for the door was found to be {}\".format(loop2))"
   ]
  },
  {
   "cell_type": "code",
   "execution_count": 10,
   "metadata": {
    "ExecuteTime": {
     "end_time": "2020-12-26T14:23:13.348873Z",
     "start_time": "2020-12-26T14:23:09.537327Z"
    }
   },
   "outputs": [],
   "source": [
    "secretk1 = get_val(loop1, subjectnum=pubk2)\n",
    "secretk2 = get_val(loop2, subjectnum=pubk1)\n",
    "assert secretk1 == secretk2"
   ]
  },
  {
   "cell_type": "code",
   "execution_count": 11,
   "metadata": {
    "ExecuteTime": {
     "end_time": "2020-12-26T14:23:13.364915Z",
     "start_time": "2020-12-26T14:23:13.351886Z"
    }
   },
   "outputs": [
    {
     "data": {
      "text/markdown": [
       "The shared secret key using the card loop size and the door public key is **11576351**"
      ],
      "text/plain": [
       "<IPython.core.display.Markdown object>"
      ]
     },
     "execution_count": 11,
     "metadata": {},
     "output_type": "execute_result"
    }
   ],
   "source": [
    "Markdown(\"The shared secret key using the card loop size \"\n",
    "         \"and the door public key is **{}**\".format(secretk1))"
   ]
  },
  {
   "cell_type": "code",
   "execution_count": 12,
   "metadata": {
    "ExecuteTime": {
     "end_time": "2020-12-26T14:23:13.380943Z",
     "start_time": "2020-12-26T14:23:13.367922Z"
    }
   },
   "outputs": [
    {
     "data": {
      "text/markdown": [
       "The shared secret key using the door loop size and the card public key is **11576351**"
      ],
      "text/plain": [
       "<IPython.core.display.Markdown object>"
      ]
     },
     "execution_count": 12,
     "metadata": {},
     "output_type": "execute_result"
    }
   ],
   "source": [
    "Markdown(\"The shared secret key using the door loop size \"\n",
    "         \"and the card public key is **{}**\".format(secretk2))"
   ]
  },
  {
   "cell_type": "markdown",
   "metadata": {},
   "source": [
    "## Part Two\n",
    "\n",
    "The light turns green and the door unlocks. As you collapse onto the bed in your room, your pager goes off!\n",
    "\n",
    "\"It's an emergency!\" the Elf calling you explains. \"The soft serve machine in the cafeteria on sub-basement 7 just failed and you're the only one that knows how to fix it! We've already dispatched a reindeer to your location to pick you up.\"\n",
    "\n",
    "You hear the sound of hooves landing on your balcony.\n",
    "\n",
    "The reindeer carefully explores the contents of your room while you figure out how you're going to pay the 50 stars you owe the resort before you leave. Noticing that you look concerned, the reindeer wanders over to you; you see that it's carrying a small pouch.\n",
    "\n",
    "\"Sorry for the trouble,\" a note in the pouch reads. Sitting at the bottom of the pouch is a gold coin with a little picture of a starfish on it.\n",
    "\n",
    "Looks like you only needed 49 stars after all.\n",
    "\n",
    "You spend all fifty stars to cover the room deposit!\n",
    "\n",
    "As you fix the soft serve machine, Santa offers you a ride in his sleigh; maybe the resort has a chimney you can use..."
   ]
  },
  {
   "cell_type": "code",
   "execution_count": null,
   "metadata": {},
   "outputs": [],
   "source": []
  }
 ],
 "metadata": {
  "kernelspec": {
   "display_name": "Python 3",
   "language": "python",
   "name": "python3"
  },
  "language_info": {
   "codemirror_mode": {
    "name": "ipython",
    "version": 3
   },
   "file_extension": ".py",
   "mimetype": "text/x-python",
   "name": "python",
   "nbconvert_exporter": "python",
   "pygments_lexer": "ipython3",
   "version": "3.6.10"
  },
  "toc": {
   "base_numbering": 1,
   "nav_menu": {},
   "number_sections": true,
   "sideBar": true,
   "skip_h1_title": false,
   "title_cell": "Table of Contents",
   "title_sidebar": "Contents",
   "toc_cell": false,
   "toc_position": {},
   "toc_section_display": true,
   "toc_window_display": false
  }
 },
 "nbformat": 4,
 "nbformat_minor": 4
}
