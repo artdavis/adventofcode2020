{
 "cells": [
  {
   "cell_type": "code",
   "execution_count": 2,
   "metadata": {
    "ExecuteTime": {
     "end_time": "2020-12-26T14:20:07.051648Z",
     "start_time": "2020-12-26T14:20:07.043652Z"
    }
   },
   "outputs": [],
   "source": [
    "from IPython.display import Markdown\n",
    "from IPython.core.debugger import set_trace"
   ]
  },
  {
   "cell_type": "markdown",
   "metadata": {},
   "source": [
    "# Day 25: Combo Breaker\n",
    "\n",
    "Reference: https://adventofcode.com/2020/day/25\n",
    "\n",
    "## Part 1\n",
    "\n",
    "**What encryption key is the handshake trying to establish?**"
   ]
  },
  {
   "cell_type": "code",
   "execution_count": 3,
   "metadata": {
    "ExecuteTime": {
     "end_time": "2020-12-26T14:20:07.082653Z",
     "start_time": "2020-12-26T14:20:07.053652Z"
    }
   },
   "outputs": [],
   "source": [
    "with open('pubk_input.txt', 'r') as fid:\n",
    "    pubk1 = int(fid.readline().strip())\n",
    "    pubk2 = int(fid.readline().strip())"
   ]
  },
  {
   "cell_type": "code",
   "execution_count": 4,
   "metadata": {
    "ExecuteTime": {
     "end_time": "2020-12-26T14:20:07.097654Z",
     "start_time": "2020-12-26T14:20:07.086654Z"
    }
   },
   "outputs": [],
   "source": [
    "def get_val(loopsize, subjectnum=7, val=1):\n",
    "    for i in range(loopsize):\n",
    "        val = (val * subjectnum) % 20201227\n",
    "    return val\n",
    "\n",
    "def seek_loop(pubk, subjectnum=7, val=1):\n",
    "    loopsize = 0\n",
    "    while(val != pubk) :\n",
    "        loopsize += 1\n",
    "        val = (val * subjectnum) % 20201227\n",
    "    return val, loopsize\n"
   ]
  },
  {
   "cell_type": "code",
   "execution_count": 5,
   "metadata": {
    "ExecuteTime": {
     "end_time": "2020-12-26T14:20:09.319815Z",
     "start_time": "2020-12-26T14:20:07.100652Z"
    }
   },
   "outputs": [
    {
     "data": {
      "text/markdown": [
       "Loop size for the card was found to be 13207740"
      ],
      "text/plain": [
       "<IPython.core.display.Markdown object>"
      ]
     },
     "execution_count": 5,
     "metadata": {},
     "output_type": "execute_result"
    }
   ],
   "source": [
    "pubk1_verify, loop1 = seek_loop(pubk1)\n",
    "assert pubk1 == pubk1_verify\n",
    "Markdown(\"Loop size for the card was found to be {}\".format(loop1))"
   ]
  },
  {
   "cell_type": "code",
   "execution_count": 6,
   "metadata": {
    "ExecuteTime": {
     "end_time": "2020-12-26T14:20:28.302342Z",
     "start_time": "2020-12-26T14:20:26.847340Z"
    }
   },
   "outputs": [
    {
     "data": {
      "text/markdown": [
       "Loop size for the door was found to be 8229037"
      ],
      "text/plain": [
       "<IPython.core.display.Markdown object>"
      ]
     },
     "execution_count": 6,
     "metadata": {},
     "output_type": "execute_result"
    }
   ],
   "source": [
    "pubk2_verify, loop2 = seek_loop(pubk2)\n",
    "assert pubk2 == pubk2_verify\n",
    "Markdown(\"Loop size for the door was found to be {}\".format(loop2))"
   ]
  },
  {
   "cell_type": "code",
   "execution_count": 10,
   "metadata": {
    "ExecuteTime": {
     "end_time": "2020-12-26T14:23:13.348873Z",
     "start_time": "2020-12-26T14:23:09.537327Z"
    }
   },
   "outputs": [],
   "source": [
    "secretk1 = get_val(loop1, subjectnum=pubk2)\n",
    "secretk2 = get_val(loop2, subjectnum=pubk1)\n",
    "assert secretk1 == secretk2"
   ]
  },
  {
   "cell_type": "code",
   "execution_count": 1,
   "metadata": {
    "ExecuteTime": {
     "end_time": "2021-12-13T18:55:39.119798Z",
     "start_time": "2021-12-13T18:55:39.104171Z"
    }
   },
   "outputs": [],
   "source": [
    "#Markdown(\"The shared secret key using the card loop size \"\n",
    "#         \"and the door public key is **{}**\".format(secretk1))"
   ]
  },
  {
   "cell_type": "code",
   "execution_count": 2,
   "metadata": {
    "ExecuteTime": {
     "end_time": "2021-12-13T18:55:43.353268Z",
     "start_time": "2021-12-13T18:55:43.331115Z"
    }
   },
   "outputs": [],
   "source": [
    "#Markdown(\"The shared secret key using the door loop size \"\n",
    "#         \"and the card public key is **{}**\".format(secretk2))"
   ]
  },
  {
   "cell_type": "markdown",
   "metadata": {},
   "source": [
    "## Part Two\n",
    "\n",
    "Looks like you only needed 49 stars after all."
   ]
  },
  {
   "cell_type": "code",
   "execution_count": null,
   "metadata": {},
   "outputs": [],
   "source": []
  }
 ],
 "metadata": {
  "kernelspec": {
   "display_name": "Python 3",
   "language": "python",
   "name": "python3"
  },
  "language_info": {
   "codemirror_mode": {
    "name": "ipython",
    "version": 3
   },
   "file_extension": ".py",
   "mimetype": "text/x-python",
   "name": "python",
   "nbconvert_exporter": "python",
   "pygments_lexer": "ipython3",
   "version": "3.6.12"
  },
  "toc": {
   "base_numbering": 1,
   "nav_menu": {},
   "number_sections": true,
   "sideBar": true,
   "skip_h1_title": false,
   "title_cell": "Table of Contents",
   "title_sidebar": "Contents",
   "toc_cell": false,
   "toc_position": {},
   "toc_section_display": true,
   "toc_window_display": false
  }
 },
 "nbformat": 4,
 "nbformat_minor": 4
}
