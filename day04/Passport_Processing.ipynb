{
 "cells": [
  {
   "cell_type": "markdown",
   "metadata": {},
   "source": [
    "# Day 4: Passport Processing\n",
    "\n",
    "Reference: https://adventofcode.com/2020/day/4\n",
    "\n",
    "## Part 1\n",
    "\n",
    "You arrive at the airport only to realize that you grabbed your North Pole Credentials instead of your passport. While these documents are extremely similar, North Pole Credentials aren't issued by a country and therefore aren't actually valid documentation for travel in most of the world.\n",
    "\n",
    "It seems like you're not the only one having problems, though; a very long line has formed for the automatic passport scanners, and the delay could upset your travel itinerary.\n",
    "\n",
    "Due to some questionable network security, you realize you might be able to solve both of these problems at the same time.\n",
    "\n",
    "The automatic passport scanners are slow because they're having trouble detecting which passports have all required fields. The expected fields are as follows:\n",
    "\n",
    "    byr (Birth Year)\n",
    "    iyr (Issue Year)\n",
    "    eyr (Expiration Year)\n",
    "    hgt (Height)\n",
    "    hcl (Hair Color)\n",
    "    ecl (Eye Color)\n",
    "    pid (Passport ID)\n",
    "    cid (Country ID)\n",
    "\n",
    "Passport data is validated in batch files (your puzzle input). Each passport is represented as a sequence of key:value pairs separated by spaces or newlines. Passports are separated by blank lines.\n",
    "\n",
    "Here is an example batch file containing four passports:\n",
    "```\n",
    "ecl:gry pid:860033327 eyr:2020 hcl:#fffffd\n",
    "byr:1937 iyr:2017 cid:147 hgt:183cm\n",
    "\n",
    "iyr:2013 ecl:amb cid:350 eyr:2023 pid:028048884\n",
    "hcl:#cfa07d byr:1929\n",
    "\n",
    "hcl:#ae17e1 iyr:2013\n",
    "eyr:2024\n",
    "ecl:brn pid:760753108 byr:1931\n",
    "hgt:179cm\n",
    "\n",
    "hcl:#cfa07d eyr:2025 pid:166559648\n",
    "iyr:2011 ecl:brn hgt:59in\n",
    "```\n",
    "The first passport is valid - all eight fields are present. The second passport is invalid - it is missing hgt (the Height field).\n",
    "\n",
    "The third passport is interesting; the only missing field is cid, so it looks like data from North Pole Credentials, not a passport at all! Surely, nobody would mind if you made the system temporarily ignore missing cid fields. Treat this \"passport\" as valid.\n",
    "\n",
    "The fourth passport is missing two fields, cid and byr. Missing cid is fine, but missing any other field is not, so this passport is invalid.\n",
    "\n",
    "According to the above rules, your improved system would report 2 valid passports.\n",
    "\n",
    "Count the number of valid passports - those that have all required fields. Treat cid as optional. In your batch file, how many passports are valid?"
   ]
  },
  {
   "cell_type": "code",
   "execution_count": 165,
   "metadata": {
    "ExecuteTime": {
     "end_time": "2020-12-04T13:33:09.636669Z",
     "start_time": "2020-12-04T13:33:09.625669Z"
    }
   },
   "outputs": [],
   "source": [
    "import itertools\n",
    "import re\n",
    "import numpy as np\n",
    "from IPython.display import Markdown\n",
    "from IPython.core.debugger import set_trace as breakpt"
   ]
  },
  {
   "cell_type": "code",
   "execution_count": 161,
   "metadata": {
    "ExecuteTime": {
     "end_time": "2020-12-04T13:30:29.714450Z",
     "start_time": "2020-12-04T13:30:29.691447Z"
    }
   },
   "outputs": [],
   "source": [
    "# Read in the passport data and do \n",
    "# some preliminary parsing\n",
    "rlist = list()\n",
    "record = dict()\n",
    "with open('pwdb_input.txt', 'r') as fid:\n",
    "    for line in fid:\n",
    "        line = line.strip()\n",
    "        for field in line.split():\n",
    "            k, v = field.split(':')\n",
    "            record[k] = v\n",
    "        if not line and record:\n",
    "            rlist.append(record.copy())\n",
    "            record = dict()"
   ]
  },
  {
   "cell_type": "code",
   "execution_count": 160,
   "metadata": {
    "ExecuteTime": {
     "end_time": "2020-12-04T13:25:52.040901Z",
     "start_time": "2020-12-04T13:25:52.019901Z"
    }
   },
   "outputs": [],
   "source": [
    "# Create a list of valid records for entries that\n",
    "# contain all requisite fields\n",
    "reqkeys = {'byr', 'iyr', 'eyr', 'hgt', 'hcl', 'ecl', 'pid'}\n",
    "vlist = list()\n",
    "for rec in rlist:\n",
    "    if not(reqkeys - set(rec.keys())):\n",
    "        # If an empty set, all reqkeys were present\n",
    "        # and record was valid\n",
    "        #print(\"{} Valid: {}\".format(i, ', '.join(list(rec.keys()))))\n",
    "        vlist.append(rec)"
   ]
  },
  {
   "cell_type": "code",
   "execution_count": 166,
   "metadata": {
    "ExecuteTime": {
     "end_time": "2020-12-04T13:33:15.783309Z",
     "start_time": "2020-12-04T13:33:15.779308Z"
    }
   },
   "outputs": [],
   "source": [
    "#Markdown(\"Found **{}** valid passport records\".format(len(vlist)))"
   ]
  },
  {
   "cell_type": "markdown",
   "metadata": {},
   "source": [
    "## Part 2\n",
    "\n",
    "The line is moving more quickly now, but you overhear airport security talking about how passports with invalid data are getting through. Better add some data validation, quick!\n",
    "\n",
    "You can continue to ignore the cid field, but each other field has strict rules about what values are valid for automatic validation:\n",
    "\n",
    "    byr (Birth Year) - four digits; at least 1920 and at most 2002.\n",
    "    iyr (Issue Year) - four digits; at least 2010 and at most 2020.\n",
    "    eyr (Expiration Year) - four digits; at least 2020 and at most 2030.\n",
    "    hgt (Height) - a number followed by either cm or in:\n",
    "        If cm, the number must be at least 150 and at most 193.\n",
    "        If in, the number must be at least 59 and at most 76.\n",
    "    hcl (Hair Color) - a # followed by exactly six characters 0-9 or a-f.\n",
    "    ecl (Eye Color) - exactly one of: amb blu brn gry grn hzl oth.\n",
    "    pid (Passport ID) - a nine-digit number, including leading zeroes.\n",
    "    cid (Country ID) - ignored, missing or not.\n",
    "\n",
    "Your job is to count the passports where all required fields are both present and valid according to the above rules. Here are some example values:\n",
    "```\n",
    "byr valid:   2002\n",
    "byr invalid: 2003\n",
    "\n",
    "hgt valid:   60in\n",
    "hgt valid:   190cm\n",
    "hgt invalid: 190in\n",
    "hgt invalid: 190\n",
    "\n",
    "hcl valid:   #123abc\n",
    "hcl invalid: #123abz\n",
    "hcl invalid: 123abc\n",
    "\n",
    "ecl valid:   brn\n",
    "ecl invalid: wat\n",
    "\n",
    "pid valid:   000000001\n",
    "pid invalid: 0123456789\n",
    "```\n",
    "Here are some invalid passports:\n",
    "```\n",
    "eyr:1972 cid:100\n",
    "hcl:#18171d ecl:amb hgt:170 pid:186cm iyr:2018 byr:1926\n",
    "\n",
    "iyr:2019\n",
    "hcl:#602927 eyr:1967 hgt:170cm\n",
    "ecl:grn pid:012533040 byr:1946\n",
    "\n",
    "hcl:dab227 iyr:2012\n",
    "ecl:brn hgt:182cm pid:021572410 eyr:2020 byr:1992 cid:277\n",
    "\n",
    "hgt:59cm ecl:zzz\n",
    "eyr:2038 hcl:74454a iyr:2023\n",
    "pid:3556412378 byr:2007\n",
    "```\n",
    "Here are some valid passports:\n",
    "```\n",
    "pid:087499704 hgt:74in ecl:grn iyr:2012 eyr:2030 byr:1980\n",
    "hcl:#623a2f\n",
    "\n",
    "eyr:2029 ecl:blu cid:129 byr:1989\n",
    "iyr:2014 pid:896056539 hcl:#a97842 hgt:165cm\n",
    "\n",
    "hcl:#888785\n",
    "hgt:164cm byr:2001 iyr:2015 cid:88\n",
    "pid:545766238 ecl:hzl\n",
    "eyr:2022\n",
    "\n",
    "iyr:2010 hgt:158cm hcl:#b6652a ecl:blu byr:1944 eyr:2021 pid:093154719\n",
    "```\n",
    "Count the number of valid passports - those that have all required fields and valid values. Continue to treat cid as optional. In your batch file, how many passports are valid?"
   ]
  },
  {
   "cell_type": "code",
   "execution_count": 168,
   "metadata": {
    "ExecuteTime": {
     "end_time": "2020-12-04T13:40:46.809069Z",
     "start_time": "2020-12-04T13:40:46.789067Z"
    }
   },
   "outputs": [],
   "source": [
    "# Set up some useful variables for validation\n",
    "rht = re.compile('(\\d+)(cm|in)')\n",
    "rhcl = re.compile('#[0-9a-f]{6}')\n",
    "eyecolors = {'amb', 'blu', 'brn', 'gry', 'grn', 'hzl', 'oth'}\n",
    "rpid = re.compile('[0-9]{9}')\n",
    "\n",
    "# Keep a list of validated fields for debugging purposes\n",
    "lbyr, liyr, leyr, lhgt = [list()] * 4\n",
    "lhgtnum, lhgtunits, lhcl = [list()] * 3\n",
    "lecl, lpid = [list()] * 2\n",
    "\n",
    "# Slog through all the records. If any field does\n",
    "# not verify, skip it and move on. If all the fields\n",
    "# verify by the end of the loop, log it as verified.\n",
    "verified = 0\n",
    "for rec in vlist:\n",
    "    # Check byr\n",
    "    byr = int(rec['byr'])\n",
    "    if not(1920 <= byr and 2002 >= byr):\n",
    "        continue\n",
    "    # Check iyr\n",
    "    iyr = int(rec['iyr'])\n",
    "    if not(2010 <= iyr and 2020 >= iyr):\n",
    "        continue\n",
    "    # Check eyr\n",
    "    eyr = int(rec['eyr'])\n",
    "    if not(2020 <= eyr and 2030 >= eyr):\n",
    "        continue\n",
    "    # Check hgt\n",
    "    htm = rht.match(rec['hgt'])\n",
    "    if htm is None:\n",
    "        # No match means invalid height spec\n",
    "        continue\n",
    "    ht = int(htm[1])\n",
    "    units = htm[2]\n",
    "    if 'cm' == units:\n",
    "        if not(150 <= ht and 193 >= ht):\n",
    "            continue\n",
    "    elif 'in' == units:\n",
    "        if not(59 <= ht and 76 >= ht):\n",
    "            continue\n",
    "    else:\n",
    "        # Invalid height units\n",
    "        continue\n",
    "    # Check hcl\n",
    "    hclm = rhcl.match(rec['hcl'])\n",
    "    if hclm is None:\n",
    "        # Invalid hair color\n",
    "        continue\n",
    "    # Check ecl\n",
    "    if not(rec['ecl'] in eyecolors):\n",
    "        continue\n",
    "    # Check pid\n",
    "    pidm = rpid.match(rec['pid'])\n",
    "    if pidm is None:\n",
    "        # Invalid passport id\n",
    "        continue\n",
    "    elif len(pidm.string) > 9:\n",
    "        # Check that not more than 9 digits were matched\n",
    "        continue\n",
    "    # Still here? Information was verified\n",
    "    #print(\"byr: {}, iyr: {}, eyr: {}, hgt: {}, hcl: {}, ecl: {}, pid: {}\"\n",
    "    #      .format(byr, iyr, eyr, rec['hgt'], rec['hcl'], rec['ecl'], rec['pid']))\n",
    "    verified += 1\n",
    "    lbyr.append(byr)\n",
    "    liyr.append(iyr)\n",
    "    leyr.append(eyr)\n",
    "    lhgt.append(rec['hgt'])\n",
    "    lhgtnum.append(ht)\n",
    "    lhgtunits.append(units)\n",
    "    lhcl.append(rec['hcl'])\n",
    "    lecl.append(rec['ecl'])\n",
    "    lpid.append(rec['pid'])"
   ]
  },
  {
   "cell_type": "code",
   "execution_count": 137,
   "metadata": {
    "ExecuteTime": {
     "end_time": "2020-12-04T12:38:06.224013Z",
     "start_time": "2020-12-04T12:38:06.204013Z"
    }
   },
   "outputs": [],
   "source": [
    "# For debugging, make a DataFrame of the validated records\n",
    "#import pandas as pd\n",
    "#df = pd.DataFrame({'byr': lbyr, 'iyr': liyr, 'eyr': leyr,\n",
    "#                   'hgt': lhgt, 'htnum': lhgtnum, 'htun': lhgtunits,\n",
    "#                   'hcl': lhcl, 'ecl': lecl, 'pid': lpid})\n",
    "\n",
    "# Show the range of validated 'cm' heights\n",
    "#ght = df.groupby('htun')\n",
    "#ght.get_group('cm')['htnum'].agg([np.min, np.max])\n",
    "# Show the range of validated 'in' heights\n",
    "#ght.get_group('in')['htnum'].agg([np.min, np.max])"
   ]
  },
  {
   "cell_type": "code",
   "execution_count": 170,
   "metadata": {
    "ExecuteTime": {
     "end_time": "2020-12-04T13:41:30.371048Z",
     "start_time": "2020-12-04T13:41:30.357048Z"
    }
   },
   "outputs": [],
   "source": [
    "#Markdown(\"Verified **{}** passport records\".format(verified))"
   ]
  }
 ],
 "metadata": {
  "kernelspec": {
   "display_name": "Python 3",
   "language": "python",
   "name": "python3"
  },
  "language_info": {
   "codemirror_mode": {
    "name": "ipython",
    "version": 3
   },
   "file_extension": ".py",
   "mimetype": "text/x-python",
   "name": "python",
   "nbconvert_exporter": "python",
   "pygments_lexer": "ipython3",
   "version": "3.6.10"
  },
  "toc": {
   "base_numbering": 1,
   "nav_menu": {},
   "number_sections": true,
   "sideBar": true,
   "skip_h1_title": false,
   "title_cell": "Table of Contents",
   "title_sidebar": "Contents",
   "toc_cell": false,
   "toc_position": {},
   "toc_section_display": true,
   "toc_window_display": false
  }
 },
 "nbformat": 4,
 "nbformat_minor": 4
}
