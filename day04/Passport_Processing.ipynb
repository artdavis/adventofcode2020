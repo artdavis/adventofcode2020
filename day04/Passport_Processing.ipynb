{
 "cells": [
  {
   "cell_type": "markdown",
   "metadata": {},
   "source": [
    "# Day 4: Passport Processing\n",
    "\n",
    "Reference: https://adventofcode.com/2020/day/4\n",
    "\n",
    "## Part 1\n",
    "\n",
    "**In your batch file, how many passports are valid?**"
   ]
  },
  {
   "cell_type": "code",
   "execution_count": 8,
   "metadata": {
    "ExecuteTime": {
     "end_time": "2020-12-04T20:16:57.931067Z",
     "start_time": "2020-12-04T20:16:57.914066Z"
    }
   },
   "outputs": [],
   "source": [
    "import re\n",
    "from IPython.display import Markdown\n",
    "#from IPython.core.debugger import set_trace as breakpt"
   ]
  },
  {
   "cell_type": "code",
   "execution_count": 9,
   "metadata": {
    "ExecuteTime": {
     "end_time": "2020-12-04T20:16:57.978072Z",
     "start_time": "2020-12-04T20:16:57.934069Z"
    }
   },
   "outputs": [],
   "source": [
    "# Read in the passport data and do \n",
    "# some preliminary parsing\n",
    "rlist = list()\n",
    "record = dict()\n",
    "with open('passport_input.txt', 'r') as fid:\n",
    "    for line in fid:\n",
    "        line = line.strip()\n",
    "        for field in line.split():\n",
    "            k, v = field.split(':')\n",
    "            record[k] = v\n",
    "        if not line and record:\n",
    "            rlist.append(record.copy())\n",
    "            record = dict()"
   ]
  },
  {
   "cell_type": "code",
   "execution_count": 10,
   "metadata": {
    "ExecuteTime": {
     "end_time": "2020-12-04T20:16:57.994078Z",
     "start_time": "2020-12-04T20:16:57.983070Z"
    }
   },
   "outputs": [],
   "source": [
    "# Create a list of valid records for entries that\n",
    "# contain all requisite fields\n",
    "reqkeys = {'byr', 'iyr', 'eyr', 'hgt', 'hcl', 'ecl', 'pid'}\n",
    "vlist = list()\n",
    "for rec in rlist:\n",
    "    if not(reqkeys - set(rec.keys())):\n",
    "        # If an empty set, all reqkeys were present\n",
    "        # and record was valid\n",
    "        #print(\"{} Valid: {}\".format(i, ', '.join(list(rec.keys()))))\n",
    "        vlist.append(rec)"
   ]
  },
  {
   "cell_type": "code",
   "execution_count": 15,
   "metadata": {
    "ExecuteTime": {
     "end_time": "2020-12-04T20:17:48.641182Z",
     "start_time": "2020-12-04T20:17:48.623183Z"
    }
   },
   "outputs": [],
   "source": [
    "#Markdown(\"Found **{}** valid passport records\".format(len(vlist)))"
   ]
  },
  {
   "cell_type": "markdown",
   "metadata": {},
   "source": [
    "## Part 2\n",
    "\n",
    "**In your batch file, how many passports are valid?**"
   ]
  },
  {
   "cell_type": "code",
   "execution_count": 12,
   "metadata": {
    "ExecuteTime": {
     "end_time": "2020-12-04T20:16:58.074076Z",
     "start_time": "2020-12-04T20:16:58.030079Z"
    }
   },
   "outputs": [],
   "source": [
    "# Set up some useful variables for validation\n",
    "rht = re.compile('(\\d+)(cm|in)')\n",
    "rhcl = re.compile('#[0-9a-f]{6}')\n",
    "eyecolors = {'amb', 'blu', 'brn', 'gry', 'grn', 'hzl', 'oth'}\n",
    "rpid = re.compile('^[0-9]{9}$')\n",
    "\n",
    "# Keep a list of validated fields for debugging purposes\n",
    "lbyr, liyr, leyr, lhgt = [list()] * 4\n",
    "lhgtnum, lhgtunits, lhcl = [list()] * 3\n",
    "lecl, lpid = [list()] * 2\n",
    "\n",
    "# Slog through all the records. If any field does\n",
    "# not verify, skip it and move on. If all the fields\n",
    "# verify by the end of the loop, log it as verified.\n",
    "verified = 0\n",
    "for rec in vlist:\n",
    "    # Check byr\n",
    "    byr = int(rec['byr'])\n",
    "    if not(1920 <= byr and 2002 >= byr):\n",
    "        continue\n",
    "    # Check iyr\n",
    "    iyr = int(rec['iyr'])\n",
    "    if not(2010 <= iyr and 2020 >= iyr):\n",
    "        continue\n",
    "    # Check eyr\n",
    "    eyr = int(rec['eyr'])\n",
    "    if not(2020 <= eyr and 2030 >= eyr):\n",
    "        continue\n",
    "    # Check hgt\n",
    "    htm = rht.match(rec['hgt'])\n",
    "    if htm is None:\n",
    "        # No match means invalid height spec\n",
    "        continue\n",
    "    ht = int(htm[1])\n",
    "    units = htm[2]\n",
    "    if 'cm' == units:\n",
    "        if not(150 <= ht and 193 >= ht):\n",
    "            continue\n",
    "    elif 'in' == units:\n",
    "        if not(59 <= ht and 76 >= ht):\n",
    "            continue\n",
    "    else:\n",
    "        # Invalid height units\n",
    "        continue\n",
    "    # Check hcl\n",
    "    hclm = rhcl.match(rec['hcl'])\n",
    "    if hclm is None:\n",
    "        # Invalid hair color\n",
    "        continue\n",
    "    # Check ecl\n",
    "    if not(rec['ecl'] in eyecolors):\n",
    "        continue\n",
    "    # Check pid\n",
    "    pidm = rpid.match(rec['pid'])\n",
    "    if pidm is None:\n",
    "        # Invalid passport id\n",
    "        continue\n",
    "    # Still here? Information was verified\n",
    "    #print(\"byr: {}, iyr: {}, eyr: {}, hgt: {}, hcl: {}, ecl: {}, pid: {}\"\n",
    "    #      .format(byr, iyr, eyr, rec['hgt'], rec['hcl'], rec['ecl'], rec['pid']))\n",
    "    verified += 1\n",
    "    lbyr.append(byr)\n",
    "    liyr.append(iyr)\n",
    "    leyr.append(eyr)\n",
    "    lhgt.append(rec['hgt'])\n",
    "    lhgtnum.append(ht)\n",
    "    lhgtunits.append(units)\n",
    "    lhcl.append(rec['hcl'])\n",
    "    lecl.append(rec['ecl'])\n",
    "    lpid.append(rec['pid'])"
   ]
  },
  {
   "cell_type": "code",
   "execution_count": 13,
   "metadata": {
    "ExecuteTime": {
     "end_time": "2020-12-04T20:16:58.090075Z",
     "start_time": "2020-12-04T20:16:58.077075Z"
    }
   },
   "outputs": [],
   "source": [
    "# For debugging, make a DataFrame of the validated records\n",
    "#import pandas as pd\n",
    "#df = pd.DataFrame({'byr': lbyr, 'iyr': liyr, 'eyr': leyr,\n",
    "#                   'hgt': lhgt, 'htnum': lhgtnum, 'htun': lhgtunits,\n",
    "#                   'hcl': lhcl, 'ecl': lecl, 'pid': lpid})\n",
    "\n",
    "# Show the range of validated 'cm' heights\n",
    "#ght = df.groupby('htun')\n",
    "#ght.get_group('cm')['htnum'].agg([np.min, np.max])\n",
    "# Show the range of validated 'in' heights\n",
    "#ght.get_group('in')['htnum'].agg([np.min, np.max])"
   ]
  },
  {
   "cell_type": "code",
   "execution_count": 16,
   "metadata": {
    "ExecuteTime": {
     "end_time": "2020-12-04T20:17:55.134805Z",
     "start_time": "2020-12-04T20:17:55.125806Z"
    }
   },
   "outputs": [],
   "source": [
    "#Markdown(\"Verified **{}** passport records\".format(verified))"
   ]
  }
 ],
 "metadata": {
  "kernelspec": {
   "display_name": "Python 3",
   "language": "python",
   "name": "python3"
  },
  "language_info": {
   "codemirror_mode": {
    "name": "ipython",
    "version": 3
   },
   "file_extension": ".py",
   "mimetype": "text/x-python",
   "name": "python",
   "nbconvert_exporter": "python",
   "pygments_lexer": "ipython3",
   "version": "3.6.12"
  },
  "toc": {
   "base_numbering": 1,
   "nav_menu": {},
   "number_sections": true,
   "sideBar": true,
   "skip_h1_title": false,
   "title_cell": "Table of Contents",
   "title_sidebar": "Contents",
   "toc_cell": false,
   "toc_position": {},
   "toc_section_display": true,
   "toc_window_display": false
  }
 },
 "nbformat": 4,
 "nbformat_minor": 4
}
