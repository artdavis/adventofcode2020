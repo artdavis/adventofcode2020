{
 "cells": [
  {
   "cell_type": "markdown",
   "metadata": {},
   "source": [
    "# Day 5: Binary Boarding\n",
    "\n",
    "Reference: https://adventofcode.com/2020/day/5\n",
    "\n",
    "## Part 1\n",
    "\n",
    "**What is the highest seat ID on a boarding pass?**"
   ]
  },
  {
   "cell_type": "code",
   "execution_count": 1,
   "metadata": {
    "ExecuteTime": {
     "end_time": "2020-12-06T14:26:12.609174Z",
     "start_time": "2020-12-06T14:26:12.605174Z"
    }
   },
   "outputs": [],
   "source": [
    "from IPython.display import Markdown\n",
    "#from IPython.core.debugger import set_trace as breakpt"
   ]
  },
  {
   "cell_type": "markdown",
   "metadata": {},
   "source": [
    "### Brute force the paritioning"
   ]
  },
  {
   "cell_type": "code",
   "execution_count": 2,
   "metadata": {
    "ExecuteTime": {
     "end_time": "2020-12-06T14:26:12.657172Z",
     "start_time": "2020-12-06T14:26:12.618175Z"
    }
   },
   "outputs": [],
   "source": [
    "def binpart(code, segment):\n",
    "    \"\"\"\n",
    "    Binary partion the supplied segment according to code character\n",
    "\n",
    "    Parameters\n",
    "    ----------\n",
    "    code: str\n",
    "        Single code charachter of:\n",
    "            'F' or 'L' for lower half or\n",
    "            'B' or 'R' for upper half\n",
    "    segment: list\n",
    "        List for binary segmentation\n",
    "    \"\"\"\n",
    "    mid = len(segment) // 2\n",
    "    if code in 'FL':\n",
    "        return segment[:mid]\n",
    "    elif code in 'BR':\n",
    "        return segment[mid:]\n",
    "    else:\n",
    "        raise ValueError(\"Unhandled code: {}\".format(code))\n",
    "\n",
    "def consume(codestr, segment, result=None):\n",
    "    \"\"\"\n",
    "    Consume a codestr and partition segment recursively\n",
    "    to yield the identifier\n",
    "    \n",
    "    Parameters\n",
    "    ----------\n",
    "    codestr: str\n",
    "        Valid sequential characters in the codestr are:\n",
    "            'F' or 'L' for lower half or\n",
    "            'B' or 'R' for upper half\n",
    "    segment: list\n",
    "        List for binary segmentation\n",
    "    \"\"\"\n",
    "    if 1 == len(segment):\n",
    "        return segment[0]\n",
    "    else:\n",
    "        segment = binpart(codestr[0], segment)\n",
    "        return consume(codestr[1:], segment)\n",
    "    \n",
    "def code2seat(codestr):\n",
    "    \"\"\"\n",
    "    Convert codestr to seatid and return\n",
    "    \n",
    "    Parameters\n",
    "    ----------\n",
    "    codestr: str\n",
    "        First 7 characters of 'F' or 'B' for lower or upper half\n",
    "        respectively of 0 through 127.\n",
    "        Last three characters of 'L' or 'R' for lower or upper half\n",
    "        respectively of 0 through 7\n",
    "    \"\"\"\n",
    "    row = consume(codestr[:7], list(range(128)))\n",
    "    col = consume(codestr[7:], list(range(8)))\n",
    "    return row * 8 + col # seatid"
   ]
  },
  {
   "cell_type": "code",
   "execution_count": 3,
   "metadata": {
    "ExecuteTime": {
     "end_time": "2020-12-06T14:26:12.689174Z",
     "start_time": "2020-12-06T14:26:12.659175Z"
    }
   },
   "outputs": [
    {
     "name": "stdout",
     "output_type": "stream",
     "text": [
      "8.51 ms ± 15.5 µs per loop (mean ± std. dev. of 7 runs, 100 loops each)\n"
     ]
    }
   ],
   "source": [
    "#%%timeit\n",
    "# Read in the seat input converting to seat IDs\n",
    "seatids = list()\n",
    "with open('seats_input.txt', 'r') as fid:\n",
    "    for line in fid:\n",
    "        seatids.append(code2seat(line.strip()))\n",
    "# timeit results:\n",
    "print('8.51 ms ± 15.5 µs per loop (mean ± std. dev. of 7 runs, 100 loops each)')"
   ]
  },
  {
   "cell_type": "code",
   "execution_count": 4,
   "metadata": {
    "ExecuteTime": {
     "end_time": "2020-12-06T14:26:12.705175Z",
     "start_time": "2020-12-06T14:26:12.692172Z"
    }
   },
   "outputs": [],
   "source": [
    "#Markdown(\"The highest seat on a boarding pass is **{}**\".format(max(seatids)))"
   ]
  },
  {
   "cell_type": "markdown",
   "metadata": {},
   "source": [
    "### Binary representation of the partitioning\n",
    "\n",
    "Turns out binary partitioning is just \"counting by binary\".\n",
    "Convert FRs to 0s and BLs to 1s and that binary number is the answer!\n",
    "This is way simpler."
   ]
  },
  {
   "cell_type": "code",
   "execution_count": 5,
   "metadata": {
    "ExecuteTime": {
     "end_time": "2020-12-06T14:26:12.737175Z",
     "start_time": "2020-12-06T14:26:12.707170Z"
    }
   },
   "outputs": [],
   "source": [
    "ckeys = {'F': '0', 'L': '0', 'B': '1', 'R': '1'}\n",
    "def bincode2seat(codestr):\n",
    "    return int(''.join([ckeys[x] for x in codestr]), 2)"
   ]
  },
  {
   "cell_type": "code",
   "execution_count": 6,
   "metadata": {
    "ExecuteTime": {
     "end_time": "2020-12-06T14:26:12.769175Z",
     "start_time": "2020-12-06T14:26:12.738171Z"
    }
   },
   "outputs": [
    {
     "name": "stdout",
     "output_type": "stream",
     "text": [
      "1.6 ms ± 12.3 µs per loop (mean ± std. dev. of 7 runs, 1000 loops each)\n"
     ]
    }
   ],
   "source": [
    "#%%timeit\n",
    "# Read in the seat input converting to seat IDs\n",
    "seatids = list()\n",
    "with open('seats_input.txt', 'r') as fid:\n",
    "    for line in fid:\n",
    "        seatids.append(bincode2seat(line.strip()))\n",
    "# timeit results:\n",
    "print('1.6 ms ± 12.3 µs per loop (mean ± std. dev. of 7 runs, 1000 loops each)')"
   ]
  },
  {
   "cell_type": "code",
   "execution_count": 7,
   "metadata": {
    "ExecuteTime": {
     "end_time": "2020-12-06T14:26:12.785171Z",
     "start_time": "2020-12-06T14:26:12.771175Z"
    }
   },
   "outputs": [],
   "source": [
    "#Markdown(\"The highest seat on a boarding pass is **{}**\".format(max(seatids)))"
   ]
  },
  {
   "cell_type": "markdown",
   "metadata": {},
   "source": [
    "## Part 2\n",
    "\n",
    "**What is the ID of your seat?**"
   ]
  },
  {
   "cell_type": "code",
   "execution_count": 8,
   "metadata": {
    "ExecuteTime": {
     "end_time": "2020-12-06T14:26:12.817175Z",
     "start_time": "2020-12-06T14:26:12.786171Z"
    }
   },
   "outputs": [],
   "source": [
    "# Range of seats\n",
    "s0, s1 = min(seatids), max(seatids)\n",
    "allseats = set(range(s0, s1+1))\n",
    "# Our seat is the one missing from seatids\n",
    "ourseat = allseats - set(seatids)"
   ]
  },
  {
   "cell_type": "code",
   "execution_count": 9,
   "metadata": {
    "ExecuteTime": {
     "end_time": "2020-12-06T14:26:12.833169Z",
     "start_time": "2020-12-06T14:26:12.820169Z"
    }
   },
   "outputs": [],
   "source": [
    "#Markdown(\"Our seat ID is: **{}**\".format(ourseat.pop()))"
   ]
  }
 ],
 "metadata": {
  "kernelspec": {
   "display_name": "Python 3",
   "language": "python",
   "name": "python3"
  },
  "language_info": {
   "codemirror_mode": {
    "name": "ipython",
    "version": 3
   },
   "file_extension": ".py",
   "mimetype": "text/x-python",
   "name": "python",
   "nbconvert_exporter": "python",
   "pygments_lexer": "ipython3",
   "version": "3.6.12"
  },
  "toc": {
   "base_numbering": 1,
   "nav_menu": {},
   "number_sections": true,
   "sideBar": true,
   "skip_h1_title": false,
   "title_cell": "Table of Contents",
   "title_sidebar": "Contents",
   "toc_cell": false,
   "toc_position": {},
   "toc_section_display": true,
   "toc_window_display": false
  }
 },
 "nbformat": 4,
 "nbformat_minor": 4
}
