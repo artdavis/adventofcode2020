{
 "cells": [
  {
   "cell_type": "code",
   "execution_count": 97,
   "metadata": {
    "ExecuteTime": {
     "end_time": "2020-12-05T07:03:02.221472Z",
     "start_time": "2020-12-05T07:03:00.660407Z"
    }
   },
   "outputs": [],
   "source": [
    "import pandas as pd\n",
    "from IPython.display import Markdown\n",
    "from IPython.core.debugger import set_trace as breakpt"
   ]
  },
  {
   "cell_type": "code",
   "execution_count": 92,
   "metadata": {
    "ExecuteTime": {
     "end_time": "2020-12-05T07:01:49.166912Z",
     "start_time": "2020-12-05T07:01:49.155910Z"
    }
   },
   "outputs": [],
   "source": [
    "# Read in the seat input\n",
    "seatids = list()\n",
    "with open('seats_input.txt', 'r') as fid:\n",
    "    for line in fid:\n",
    "        seatids.append(line.strip())"
   ]
  },
  {
   "cell_type": "code",
   "execution_count": 17,
   "metadata": {
    "ExecuteTime": {
     "end_time": "2020-12-05T06:28:13.483579Z",
     "start_time": "2020-12-05T06:28:13.470573Z"
    }
   },
   "outputs": [],
   "source": [
    "c1 = 'FBFFFFBRRL'\n",
    "s1 = list(range(8))"
   ]
  },
  {
   "cell_type": "code",
   "execution_count": 36,
   "metadata": {
    "ExecuteTime": {
     "end_time": "2020-12-05T06:30:48.173318Z",
     "start_time": "2020-12-05T06:30:48.161319Z"
    }
   },
   "outputs": [],
   "source": [
    "def binpart(code, segment):\n",
    "    mid = len(segment) // 2\n",
    "    if code in 'FL':\n",
    "        return segment[:mid]\n",
    "    elif code in 'BR':\n",
    "        return segment[mid:]\n",
    "    else:\n",
    "        raise ValueError(\"Unhandled code: {}\".format(code))"
   ]
  },
  {
   "cell_type": "code",
   "execution_count": 40,
   "metadata": {
    "ExecuteTime": {
     "end_time": "2020-12-05T06:31:32.641937Z",
     "start_time": "2020-12-05T06:31:32.625939Z"
    }
   },
   "outputs": [
    {
     "name": "stdout",
     "output_type": "stream",
     "text": [
      "[0, 1, 2, 3]\n",
      "[4, 5, 6, 7]\n",
      "[0, 1, 2, 3]\n",
      "[4, 5, 6, 7]\n"
     ]
    }
   ],
   "source": [
    "print(binpart('F', s1))\n",
    "print(binpart('B', s1))\n",
    "print(binpart('L', s1))\n",
    "print(binpart('R', s1))"
   ]
  },
  {
   "cell_type": "code",
   "execution_count": 151,
   "metadata": {
    "ExecuteTime": {
     "end_time": "2020-12-05T13:49:12.542519Z",
     "start_time": "2020-12-05T13:49:12.524519Z"
    }
   },
   "outputs": [
    {
     "name": "stdout",
     "output_type": "stream",
     "text": [
      "codestr: FBFFFFBRRL, segment: [0, 1, 2, 3, 4, 5, 6, 7], len: 8, result: None\n",
      "codestr: BFFFFBRRL, segment: [0, 1, 2, 3], len: 4, result: [0, 1, 2, 3]\n",
      "codestr: FFFFBRRL, segment: [2, 3], len: 2, result: [2, 3]\n",
      "codestr: FFFBRRL, segment: [2], len: 1, result: [2]\n",
      "HIT\n",
      "[2]\n"
     ]
    }
   ],
   "source": [
    "def consume(codestr, segment, result=None):\n",
    "    #print(\"codestr: {}, segment: {}, len: {}, result: {}\"\n",
    "    #      .format(codestr, segment, len(segment), result))\n",
    "    if 1 == len(segment):\n",
    "        print(\"HIT\")\n",
    "        return result\n",
    "    else:\n",
    "        seg = binpart(codestr[0], segment)\n",
    "        result = seg\n",
    "        #print(\"codestr: {}, code: {}, seg: {}, result: {}\"\n",
    "        #      .format(codestr, codestr[0], seg, result))\n",
    "        return consume(codestr[1:], seg, result)\n",
    "\n",
    "a = consume(c1, s1)\n",
    "print(a)        "
   ]
  },
  {
   "cell_type": "code",
   "execution_count": 152,
   "metadata": {
    "ExecuteTime": {
     "end_time": "2020-12-05T13:49:59.360791Z",
     "start_time": "2020-12-05T13:49:59.354789Z"
    }
   },
   "outputs": [
    {
     "name": "stdout",
     "output_type": "stream",
     "text": [
      "codestr: FBFFFFBRRL, segment: [0, 1, 2, 3, 4, 5, 6, 7], len: 8, result: None\n",
      "codestr: BFFFFBRRL, segment: [0, 1, 2, 3], len: 4, result: [0, 1, 2, 3]\n",
      "codestr: FFFFBRRL, segment: [2, 3], len: 2, result: [2, 3]\n",
      "codestr: FFFBRRL, segment: [2], len: 1, result: [2]\n",
      "HIT\n",
      "[2]\n"
     ]
    }
   ],
   "source": [
    "a = consume(c1, s1)\n",
    "print(a)"
   ]
  },
  {
   "cell_type": "code",
   "execution_count": 72,
   "metadata": {
    "ExecuteTime": {
     "end_time": "2020-12-05T06:48:02.466375Z",
     "start_time": "2020-12-05T06:48:02.458378Z"
    }
   },
   "outputs": [
    {
     "data": {
      "text/plain": [
       "[2]"
      ]
     },
     "execution_count": 72,
     "metadata": {},
     "output_type": "execute_result"
    }
   ],
   "source": [
    "s = s1\n",
    "for codechar in 'FBF':\n",
    "    s = binpart(codechar, s)\n",
    "s"
   ]
  },
  {
   "cell_type": "code",
   "execution_count": 80,
   "metadata": {
    "ExecuteTime": {
     "end_time": "2020-12-05T06:55:37.856388Z",
     "start_time": "2020-12-05T06:55:37.844388Z"
    }
   },
   "outputs": [],
   "source": [
    "def getbin(codestr, partsize):\n",
    "    seg = list(range(partsize))\n",
    "    for codechar in codestr:\n",
    "        seg = binpart(codechar, seg)\n",
    "    return seg[0]\n",
    "\n",
    "#getbin(c1[:7], 128)\n",
    "#getbin(c1[7:], 8)"
   ]
  },
  {
   "cell_type": "code",
   "execution_count": 93,
   "metadata": {
    "ExecuteTime": {
     "end_time": "2020-12-05T07:02:02.463377Z",
     "start_time": "2020-12-05T07:02:02.446378Z"
    }
   },
   "outputs": [],
   "source": [
    "seatpos = list()\n",
    "rows = list()\n",
    "cols = list()\n",
    "for i in seatids:\n",
    "    r = getbin(i[:7], 128)\n",
    "    c = getbin(i[7:], 8)\n",
    "    seatpos.append((r, c))\n",
    "    rows.append(r)\n",
    "    cols.append(c)"
   ]
  },
  {
   "cell_type": "code",
   "execution_count": 94,
   "metadata": {
    "ExecuteTime": {
     "end_time": "2020-12-05T07:02:08.402374Z",
     "start_time": "2020-12-05T07:02:08.396369Z"
    }
   },
   "outputs": [],
   "source": [
    "ids = [r * 8 + c for r, c in seatpos]"
   ]
  },
  {
   "cell_type": "code",
   "execution_count": 95,
   "metadata": {
    "ExecuteTime": {
     "end_time": "2020-12-05T07:02:13.243206Z",
     "start_time": "2020-12-05T07:02:13.220204Z"
    }
   },
   "outputs": [
    {
     "data": {
      "text/plain": [
       "822"
      ]
     },
     "execution_count": 95,
     "metadata": {},
     "output_type": "execute_result"
    }
   ],
   "source": [
    "max(ids)"
   ]
  },
  {
   "cell_type": "code",
   "execution_count": 112,
   "metadata": {
    "ExecuteTime": {
     "end_time": "2020-12-05T07:05:36.763385Z",
     "start_time": "2020-12-05T07:05:36.735384Z"
    }
   },
   "outputs": [
    {
     "data": {
      "text/html": [
       "<div>\n",
       "<style scoped>\n",
       "    .dataframe tbody tr th:only-of-type {\n",
       "        vertical-align: middle;\n",
       "    }\n",
       "\n",
       "    .dataframe tbody tr th {\n",
       "        vertical-align: top;\n",
       "    }\n",
       "\n",
       "    .dataframe thead th {\n",
       "        text-align: right;\n",
       "    }\n",
       "</style>\n",
       "<table border=\"1\" class=\"dataframe\">\n",
       "  <thead>\n",
       "    <tr style=\"text-align: right;\">\n",
       "      <th></th>\n",
       "      <th>row</th>\n",
       "      <th>col</th>\n",
       "      <th>seatid</th>\n",
       "    </tr>\n",
       "  </thead>\n",
       "  <tbody>\n",
       "    <tr>\n",
       "      <th>0</th>\n",
       "      <td>87</td>\n",
       "      <td>4</td>\n",
       "      <td>700</td>\n",
       "    </tr>\n",
       "    <tr>\n",
       "      <th>1</th>\n",
       "      <td>79</td>\n",
       "      <td>7</td>\n",
       "      <td>639</td>\n",
       "    </tr>\n",
       "    <tr>\n",
       "      <th>2</th>\n",
       "      <td>26</td>\n",
       "      <td>0</td>\n",
       "      <td>208</td>\n",
       "    </tr>\n",
       "    <tr>\n",
       "      <th>3</th>\n",
       "      <td>31</td>\n",
       "      <td>5</td>\n",
       "      <td>253</td>\n",
       "    </tr>\n",
       "    <tr>\n",
       "      <th>4</th>\n",
       "      <td>74</td>\n",
       "      <td>6</td>\n",
       "      <td>598</td>\n",
       "    </tr>\n",
       "    <tr>\n",
       "      <th>...</th>\n",
       "      <td>...</td>\n",
       "      <td>...</td>\n",
       "      <td>...</td>\n",
       "    </tr>\n",
       "    <tr>\n",
       "      <th>804</th>\n",
       "      <td>35</td>\n",
       "      <td>3</td>\n",
       "      <td>283</td>\n",
       "    </tr>\n",
       "    <tr>\n",
       "      <th>805</th>\n",
       "      <td>60</td>\n",
       "      <td>5</td>\n",
       "      <td>485</td>\n",
       "    </tr>\n",
       "    <tr>\n",
       "      <th>806</th>\n",
       "      <td>52</td>\n",
       "      <td>5</td>\n",
       "      <td>421</td>\n",
       "    </tr>\n",
       "    <tr>\n",
       "      <th>807</th>\n",
       "      <td>44</td>\n",
       "      <td>6</td>\n",
       "      <td>358</td>\n",
       "    </tr>\n",
       "    <tr>\n",
       "      <th>808</th>\n",
       "      <td>33</td>\n",
       "      <td>6</td>\n",
       "      <td>270</td>\n",
       "    </tr>\n",
       "  </tbody>\n",
       "</table>\n",
       "<p>809 rows × 3 columns</p>\n",
       "</div>"
      ],
      "text/plain": [
       "     row  col  seatid\n",
       "0     87    4     700\n",
       "1     79    7     639\n",
       "2     26    0     208\n",
       "3     31    5     253\n",
       "4     74    6     598\n",
       "..   ...  ...     ...\n",
       "804   35    3     283\n",
       "805   60    5     485\n",
       "806   52    5     421\n",
       "807   44    6     358\n",
       "808   33    6     270\n",
       "\n",
       "[809 rows x 3 columns]"
      ]
     },
     "execution_count": 112,
     "metadata": {},
     "output_type": "execute_result"
    }
   ],
   "source": [
    "df = pd.DataFrame({'row': rows, 'col': cols, 'seatid': ids})\n",
    "df"
   ]
  },
  {
   "cell_type": "code",
   "execution_count": 113,
   "metadata": {
    "ExecuteTime": {
     "end_time": "2020-12-05T07:05:55.164377Z",
     "start_time": "2020-12-05T07:05:55.141381Z"
    }
   },
   "outputs": [
    {
     "data": {
      "text/html": [
       "<div>\n",
       "<style scoped>\n",
       "    .dataframe tbody tr th:only-of-type {\n",
       "        vertical-align: middle;\n",
       "    }\n",
       "\n",
       "    .dataframe tbody tr th {\n",
       "        vertical-align: top;\n",
       "    }\n",
       "\n",
       "    .dataframe thead th {\n",
       "        text-align: right;\n",
       "    }\n",
       "</style>\n",
       "<table border=\"1\" class=\"dataframe\">\n",
       "  <thead>\n",
       "    <tr style=\"text-align: right;\">\n",
       "      <th></th>\n",
       "      <th>row</th>\n",
       "      <th>col</th>\n",
       "      <th>seatid</th>\n",
       "    </tr>\n",
       "  </thead>\n",
       "  <tbody>\n",
       "    <tr>\n",
       "      <th>739</th>\n",
       "      <td>1</td>\n",
       "      <td>5</td>\n",
       "      <td>13</td>\n",
       "    </tr>\n",
       "    <tr>\n",
       "      <th>204</th>\n",
       "      <td>1</td>\n",
       "      <td>6</td>\n",
       "      <td>14</td>\n",
       "    </tr>\n",
       "    <tr>\n",
       "      <th>10</th>\n",
       "      <td>1</td>\n",
       "      <td>7</td>\n",
       "      <td>15</td>\n",
       "    </tr>\n",
       "    <tr>\n",
       "      <th>689</th>\n",
       "      <td>2</td>\n",
       "      <td>0</td>\n",
       "      <td>16</td>\n",
       "    </tr>\n",
       "    <tr>\n",
       "      <th>562</th>\n",
       "      <td>2</td>\n",
       "      <td>1</td>\n",
       "      <td>17</td>\n",
       "    </tr>\n",
       "    <tr>\n",
       "      <th>...</th>\n",
       "      <td>...</td>\n",
       "      <td>...</td>\n",
       "      <td>...</td>\n",
       "    </tr>\n",
       "    <tr>\n",
       "      <th>596</th>\n",
       "      <td>102</td>\n",
       "      <td>2</td>\n",
       "      <td>818</td>\n",
       "    </tr>\n",
       "    <tr>\n",
       "      <th>514</th>\n",
       "      <td>102</td>\n",
       "      <td>3</td>\n",
       "      <td>819</td>\n",
       "    </tr>\n",
       "    <tr>\n",
       "      <th>203</th>\n",
       "      <td>102</td>\n",
       "      <td>4</td>\n",
       "      <td>820</td>\n",
       "    </tr>\n",
       "    <tr>\n",
       "      <th>427</th>\n",
       "      <td>102</td>\n",
       "      <td>5</td>\n",
       "      <td>821</td>\n",
       "    </tr>\n",
       "    <tr>\n",
       "      <th>399</th>\n",
       "      <td>102</td>\n",
       "      <td>6</td>\n",
       "      <td>822</td>\n",
       "    </tr>\n",
       "  </tbody>\n",
       "</table>\n",
       "<p>809 rows × 3 columns</p>\n",
       "</div>"
      ],
      "text/plain": [
       "     row  col  seatid\n",
       "739    1    5      13\n",
       "204    1    6      14\n",
       "10     1    7      15\n",
       "689    2    0      16\n",
       "562    2    1      17\n",
       "..   ...  ...     ...\n",
       "596  102    2     818\n",
       "514  102    3     819\n",
       "203  102    4     820\n",
       "427  102    5     821\n",
       "399  102    6     822\n",
       "\n",
       "[809 rows x 3 columns]"
      ]
     },
     "execution_count": 113,
     "metadata": {},
     "output_type": "execute_result"
    }
   ],
   "source": [
    "df1 = df.sort_values(['row', 'col'])\n",
    "df1"
   ]
  },
  {
   "cell_type": "code",
   "execution_count": 117,
   "metadata": {
    "ExecuteTime": {
     "end_time": "2020-12-05T07:07:10.909382Z",
     "start_time": "2020-12-05T07:07:10.887388Z"
    }
   },
   "outputs": [
    {
     "name": "stdout",
     "output_type": "stream",
     "text": [
      "1 102\n"
     ]
    }
   ],
   "source": [
    "rowmin = min(rows)\n",
    "rowmax = max(rows)\n",
    "\n",
    "print(rowmin, rowmax)"
   ]
  },
  {
   "cell_type": "code",
   "execution_count": 133,
   "metadata": {
    "ExecuteTime": {
     "end_time": "2020-12-05T07:11:31.314692Z",
     "start_time": "2020-12-05T07:11:31.285692Z"
    }
   },
   "outputs": [
    {
     "data": {
      "text/html": [
       "<div>\n",
       "<style scoped>\n",
       "    .dataframe tbody tr th:only-of-type {\n",
       "        vertical-align: middle;\n",
       "    }\n",
       "\n",
       "    .dataframe tbody tr th {\n",
       "        vertical-align: top;\n",
       "    }\n",
       "\n",
       "    .dataframe thead th {\n",
       "        text-align: right;\n",
       "    }\n",
       "</style>\n",
       "<table border=\"1\" class=\"dataframe\">\n",
       "  <thead>\n",
       "    <tr style=\"text-align: right;\">\n",
       "      <th></th>\n",
       "      <th>index</th>\n",
       "      <th>row</th>\n",
       "      <th>col</th>\n",
       "      <th>seatid</th>\n",
       "      <th>delta</th>\n",
       "    </tr>\n",
       "  </thead>\n",
       "  <tbody>\n",
       "    <tr>\n",
       "      <th>0</th>\n",
       "      <td>739</td>\n",
       "      <td>1</td>\n",
       "      <td>5</td>\n",
       "      <td>13</td>\n",
       "      <td>NaN</td>\n",
       "    </tr>\n",
       "    <tr>\n",
       "      <th>1</th>\n",
       "      <td>204</td>\n",
       "      <td>1</td>\n",
       "      <td>6</td>\n",
       "      <td>14</td>\n",
       "      <td>1.0</td>\n",
       "    </tr>\n",
       "    <tr>\n",
       "      <th>2</th>\n",
       "      <td>10</td>\n",
       "      <td>1</td>\n",
       "      <td>7</td>\n",
       "      <td>15</td>\n",
       "      <td>1.0</td>\n",
       "    </tr>\n",
       "    <tr>\n",
       "      <th>3</th>\n",
       "      <td>689</td>\n",
       "      <td>2</td>\n",
       "      <td>0</td>\n",
       "      <td>16</td>\n",
       "      <td>1.0</td>\n",
       "    </tr>\n",
       "    <tr>\n",
       "      <th>4</th>\n",
       "      <td>562</td>\n",
       "      <td>2</td>\n",
       "      <td>1</td>\n",
       "      <td>17</td>\n",
       "      <td>1.0</td>\n",
       "    </tr>\n",
       "    <tr>\n",
       "      <th>...</th>\n",
       "      <td>...</td>\n",
       "      <td>...</td>\n",
       "      <td>...</td>\n",
       "      <td>...</td>\n",
       "      <td>...</td>\n",
       "    </tr>\n",
       "    <tr>\n",
       "      <th>804</th>\n",
       "      <td>596</td>\n",
       "      <td>102</td>\n",
       "      <td>2</td>\n",
       "      <td>818</td>\n",
       "      <td>1.0</td>\n",
       "    </tr>\n",
       "    <tr>\n",
       "      <th>805</th>\n",
       "      <td>514</td>\n",
       "      <td>102</td>\n",
       "      <td>3</td>\n",
       "      <td>819</td>\n",
       "      <td>1.0</td>\n",
       "    </tr>\n",
       "    <tr>\n",
       "      <th>806</th>\n",
       "      <td>203</td>\n",
       "      <td>102</td>\n",
       "      <td>4</td>\n",
       "      <td>820</td>\n",
       "      <td>1.0</td>\n",
       "    </tr>\n",
       "    <tr>\n",
       "      <th>807</th>\n",
       "      <td>427</td>\n",
       "      <td>102</td>\n",
       "      <td>5</td>\n",
       "      <td>821</td>\n",
       "      <td>1.0</td>\n",
       "    </tr>\n",
       "    <tr>\n",
       "      <th>808</th>\n",
       "      <td>399</td>\n",
       "      <td>102</td>\n",
       "      <td>6</td>\n",
       "      <td>822</td>\n",
       "      <td>1.0</td>\n",
       "    </tr>\n",
       "  </tbody>\n",
       "</table>\n",
       "<p>809 rows × 5 columns</p>\n",
       "</div>"
      ],
      "text/plain": [
       "     index  row  col  seatid  delta\n",
       "0      739    1    5      13    NaN\n",
       "1      204    1    6      14    1.0\n",
       "2       10    1    7      15    1.0\n",
       "3      689    2    0      16    1.0\n",
       "4      562    2    1      17    1.0\n",
       "..     ...  ...  ...     ...    ...\n",
       "804    596  102    2     818    1.0\n",
       "805    514  102    3     819    1.0\n",
       "806    203  102    4     820    1.0\n",
       "807    427  102    5     821    1.0\n",
       "808    399  102    6     822    1.0\n",
       "\n",
       "[809 rows x 5 columns]"
      ]
     },
     "execution_count": 133,
     "metadata": {},
     "output_type": "execute_result"
    }
   ],
   "source": [
    "df2 = df1.sort_values('seatid')\n",
    "df2['delta'] = df2['seatid'] - df2['seatid'].shift(1)\n",
    "df2 = df2.reset_index()\n",
    "df2"
   ]
  },
  {
   "cell_type": "code",
   "execution_count": 134,
   "metadata": {
    "ExecuteTime": {
     "end_time": "2020-12-05T07:11:42.829390Z",
     "start_time": "2020-12-05T07:11:42.801396Z"
    }
   },
   "outputs": [
    {
     "data": {
      "text/html": [
       "<div>\n",
       "<style scoped>\n",
       "    .dataframe tbody tr th:only-of-type {\n",
       "        vertical-align: middle;\n",
       "    }\n",
       "\n",
       "    .dataframe tbody tr th {\n",
       "        vertical-align: top;\n",
       "    }\n",
       "\n",
       "    .dataframe thead th {\n",
       "        text-align: right;\n",
       "    }\n",
       "</style>\n",
       "<table border=\"1\" class=\"dataframe\">\n",
       "  <thead>\n",
       "    <tr style=\"text-align: right;\">\n",
       "      <th></th>\n",
       "      <th>index</th>\n",
       "      <th>row</th>\n",
       "      <th>col</th>\n",
       "      <th>seatid</th>\n",
       "      <th>delta</th>\n",
       "    </tr>\n",
       "  </thead>\n",
       "  <tbody>\n",
       "    <tr>\n",
       "      <th>0</th>\n",
       "      <td>739</td>\n",
       "      <td>1</td>\n",
       "      <td>5</td>\n",
       "      <td>13</td>\n",
       "      <td>NaN</td>\n",
       "    </tr>\n",
       "    <tr>\n",
       "      <th>692</th>\n",
       "      <td>487</td>\n",
       "      <td>88</td>\n",
       "      <td>2</td>\n",
       "      <td>706</td>\n",
       "      <td>2.0</td>\n",
       "    </tr>\n",
       "  </tbody>\n",
       "</table>\n",
       "</div>"
      ],
      "text/plain": [
       "     index  row  col  seatid  delta\n",
       "0      739    1    5      13    NaN\n",
       "692    487   88    2     706    2.0"
      ]
     },
     "execution_count": 134,
     "metadata": {},
     "output_type": "execute_result"
    }
   ],
   "source": [
    "df2[df2['delta'] != 1]"
   ]
  },
  {
   "cell_type": "code",
   "execution_count": 137,
   "metadata": {
    "ExecuteTime": {
     "end_time": "2020-12-05T07:12:41.362736Z",
     "start_time": "2020-12-05T07:12:41.338738Z"
    }
   },
   "outputs": [
    {
     "data": {
      "text/html": [
       "<div>\n",
       "<style scoped>\n",
       "    .dataframe tbody tr th:only-of-type {\n",
       "        vertical-align: middle;\n",
       "    }\n",
       "\n",
       "    .dataframe tbody tr th {\n",
       "        vertical-align: top;\n",
       "    }\n",
       "\n",
       "    .dataframe thead th {\n",
       "        text-align: right;\n",
       "    }\n",
       "</style>\n",
       "<table border=\"1\" class=\"dataframe\">\n",
       "  <thead>\n",
       "    <tr style=\"text-align: right;\">\n",
       "      <th></th>\n",
       "      <th>index</th>\n",
       "      <th>row</th>\n",
       "      <th>col</th>\n",
       "      <th>seatid</th>\n",
       "      <th>delta</th>\n",
       "    </tr>\n",
       "  </thead>\n",
       "  <tbody>\n",
       "    <tr>\n",
       "      <th>690</th>\n",
       "      <td>530</td>\n",
       "      <td>87</td>\n",
       "      <td>7</td>\n",
       "      <td>703</td>\n",
       "      <td>1.0</td>\n",
       "    </tr>\n",
       "    <tr>\n",
       "      <th>691</th>\n",
       "      <td>228</td>\n",
       "      <td>88</td>\n",
       "      <td>0</td>\n",
       "      <td>704</td>\n",
       "      <td>1.0</td>\n",
       "    </tr>\n",
       "    <tr>\n",
       "      <th>692</th>\n",
       "      <td>487</td>\n",
       "      <td>88</td>\n",
       "      <td>2</td>\n",
       "      <td>706</td>\n",
       "      <td>2.0</td>\n",
       "    </tr>\n",
       "    <tr>\n",
       "      <th>693</th>\n",
       "      <td>784</td>\n",
       "      <td>88</td>\n",
       "      <td>3</td>\n",
       "      <td>707</td>\n",
       "      <td>1.0</td>\n",
       "    </tr>\n",
       "    <tr>\n",
       "      <th>694</th>\n",
       "      <td>324</td>\n",
       "      <td>88</td>\n",
       "      <td>4</td>\n",
       "      <td>708</td>\n",
       "      <td>1.0</td>\n",
       "    </tr>\n",
       "    <tr>\n",
       "      <th>695</th>\n",
       "      <td>210</td>\n",
       "      <td>88</td>\n",
       "      <td>5</td>\n",
       "      <td>709</td>\n",
       "      <td>1.0</td>\n",
       "    </tr>\n",
       "  </tbody>\n",
       "</table>\n",
       "</div>"
      ],
      "text/plain": [
       "     index  row  col  seatid  delta\n",
       "690    530   87    7     703    1.0\n",
       "691    228   88    0     704    1.0\n",
       "692    487   88    2     706    2.0\n",
       "693    784   88    3     707    1.0\n",
       "694    324   88    4     708    1.0\n",
       "695    210   88    5     709    1.0"
      ]
     },
     "execution_count": 137,
     "metadata": {},
     "output_type": "execute_result"
    }
   ],
   "source": [
    "df2.loc[690:695]"
   ]
  },
  {
   "cell_type": "code",
   "execution_count": null,
   "metadata": {},
   "outputs": [],
   "source": []
  }
 ],
 "metadata": {
  "kernelspec": {
   "display_name": "Python 3",
   "language": "python",
   "name": "python3"
  },
  "language_info": {
   "codemirror_mode": {
    "name": "ipython",
    "version": 3
   },
   "file_extension": ".py",
   "mimetype": "text/x-python",
   "name": "python",
   "nbconvert_exporter": "python",
   "pygments_lexer": "ipython3",
   "version": "3.6.10"
  },
  "toc": {
   "base_numbering": 1,
   "nav_menu": {},
   "number_sections": true,
   "sideBar": true,
   "skip_h1_title": false,
   "title_cell": "Table of Contents",
   "title_sidebar": "Contents",
   "toc_cell": false,
   "toc_position": {},
   "toc_section_display": true,
   "toc_window_display": false
  }
 },
 "nbformat": 4,
 "nbformat_minor": 4
}
