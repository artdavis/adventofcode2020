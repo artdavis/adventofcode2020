{
 "cells": [
  {
   "cell_type": "code",
   "execution_count": 1,
   "metadata": {
    "ExecuteTime": {
     "end_time": "2020-12-21T16:01:25.517575Z",
     "start_time": "2020-12-21T16:01:25.497575Z"
    }
   },
   "outputs": [],
   "source": [
    "from IPython.display import Markdown\n",
    "#from IPython.core.debugger import set_trace as breakpt"
   ]
  },
  {
   "cell_type": "markdown",
   "metadata": {},
   "source": [
    "# Day 21: Allergen Assessment\n",
    "\n",
    "Reference: https://adventofcode.com/2020/day/21\n",
    "\n",
    "## Part 1\n",
    "\n",
    "You reach the train's last stop and the closest you can get to your vacation island without getting wet. There aren't even any boats here, but nothing can stop you now: you build a raft. You just need a few days' worth of food for your journey.\n",
    "\n",
    "You don't speak the local language, so you can't read any ingredients lists. However, sometimes, allergens are listed in a language you do understand. You should be able to use this information to determine which ingredient contains which allergen and work out which foods are safe to take with you on your trip.\n",
    "\n",
    "You start by compiling a list of foods (your puzzle input), one food per line. Each line includes that food's ingredients list followed by some or all of the allergens the food contains.\n",
    "\n",
    "Each allergen is found in exactly one ingredient. Each ingredient contains zero or one allergen. Allergens aren't always marked; when they're listed (as in (contains nuts, shellfish) after an ingredients list), the ingredient that contains each listed allergen will be somewhere in the corresponding ingredients list. However, even if an allergen isn't listed, the ingredient that contains that allergen could still be present: maybe they forgot to label it, or maybe it was labeled in a language you don't know.\n",
    "\n",
    "For example, consider the following list of foods:\n",
    "```\n",
    "mxmxvkd kfcds sqjhc nhms (contains dairy, fish)\n",
    "trh fvjkl sbzzf mxmxvkd (contains dairy)\n",
    "sqjhc fvjkl (contains soy)\n",
    "sqjhc mxmxvkd sbzzf (contains fish)\n",
    "```\n",
    "The first food in the list has four ingredients (written in a language you don't understand): mxmxvkd, kfcds, sqjhc, and nhms. While the food might contain other allergens, a few allergens the food definitely contains are listed afterward: dairy and fish.\n",
    "\n",
    "The first step is to determine which ingredients can't possibly contain any of the allergens in any food in your list. In the above example, none of the ingredients kfcds, nhms, sbzzf, or trh can contain an allergen. Counting the number of times any of these ingredients appear in any ingredients list produces 5: they all appear once each except sbzzf, which appears twice.\n",
    "\n",
    "Determine which ingredients cannot possibly contain any of the allergens in your list. How many times do any of those ingredients appear?"
   ]
  },
  {
   "cell_type": "code",
   "execution_count": 2,
   "metadata": {
    "ExecuteTime": {
     "end_time": "2020-12-21T16:01:25.549575Z",
     "start_time": "2020-12-21T16:01:25.522581Z"
    }
   },
   "outputs": [],
   "source": [
    "menu = list()\n",
    "with open('foods_input.txt', 'r') as fid:\n",
    "    for line in fid:\n",
    "        ingreds, allergens = line.strip().rsplit('(contains ')\n",
    "        ingreds = set(ingreds.split())\n",
    "        allergens = set(allergens.rstrip(')').split(', '))\n",
    "        menu.append((allergens, ingreds))"
   ]
  },
  {
   "cell_type": "markdown",
   "metadata": {},
   "source": [
    "The `menu` list is now structured like:\n",
    "```\n",
    "[\n",
    "    {allergen1, allergen2} {ingredient1, ingredient2, ...}\n",
    "    {allergen3...} {ingredient3...}\n",
    "    ...\n",
    "]\n",
    "```"
   ]
  },
  {
   "cell_type": "code",
   "execution_count": 3,
   "metadata": {
    "ExecuteTime": {
     "end_time": "2020-12-21T16:01:25.595578Z",
     "start_time": "2020-12-21T16:01:25.554576Z"
    }
   },
   "outputs": [
    {
     "name": "stdout",
     "output_type": "stream",
     "text": [
      "All known allergens: \n"
     ]
    },
    {
     "data": {
      "text/plain": [
       "{'dairy', 'eggs', 'fish', 'nuts', 'peanuts', 'sesame', 'shellfish', 'soy'}"
      ]
     },
     "metadata": {},
     "output_type": "display_data"
    }
   ],
   "source": [
    "# Get all known allergens and ingredients\n",
    "all_allergs = set()\n",
    "all_ingreds = set()\n",
    "for allers, ingreds in menu:\n",
    "    all_allergs |= allers\n",
    "    all_ingreds |= ingreds\n",
    "\n",
    "print(\"All known allergens: \")\n",
    "display(all_allergs)"
   ]
  },
  {
   "cell_type": "code",
   "execution_count": 4,
   "metadata": {
    "ExecuteTime": {
     "end_time": "2020-12-21T16:01:25.611577Z",
     "start_time": "2020-12-21T16:01:25.597584Z"
    }
   },
   "outputs": [
    {
     "name": "stdout",
     "output_type": "stream",
     "text": [
      "Allergens with ingredients that may contain that allergen:\n"
     ]
    },
    {
     "data": {
      "text/plain": [
       "{'peanuts': {'dvkbjh', 'mhnrqp'},\n",
       " 'eggs': {'mfp', 'mgvfmvp', 'mhnrqp', 'nhdjth'},\n",
       " 'sesame': {'dcvrf', 'hcdchl', 'mhnrqp'},\n",
       " 'dairy': {'hcdchl', 'mfp'},\n",
       " 'soy': {'mhnrqp'},\n",
       " 'shellfish': {'bcjz', 'nhdjth'},\n",
       " 'nuts': {'hcdchl', 'mhnrqp'},\n",
       " 'fish': {'hcdchl', 'nhdjth'}}"
      ]
     },
     "metadata": {},
     "output_type": "display_data"
    }
   ],
   "source": [
    "# Find the intersection of all ingredients per\n",
    "# allergen to get the set of candidate ingredients\n",
    "# to contain each allergen\n",
    "aller_dict = dict()\n",
    "for aller in all_allergs:\n",
    "    final_ingreds = set()\n",
    "    for allers, ingreds in menu:\n",
    "        if aller in allers:\n",
    "            if 0 == len(final_ingreds):\n",
    "                # Prime our ingredients set\n",
    "                final_ingreds = ingreds.copy()\n",
    "            else:\n",
    "                final_ingreds &= ingreds\n",
    "    aller_dict[aller] = final_ingreds.copy()\n",
    "\n",
    "print(\"Allergens with ingredients that may contain that allergen:\")\n",
    "display(aller_dict)"
   ]
  },
  {
   "cell_type": "code",
   "execution_count": 5,
   "metadata": {
    "ExecuteTime": {
     "end_time": "2020-12-21T16:01:25.643577Z",
     "start_time": "2020-12-21T16:01:25.613583Z"
    }
   },
   "outputs": [
    {
     "name": "stdout",
     "output_type": "stream",
     "text": [
      "Ingredients that contain allergens:\n"
     ]
    },
    {
     "data": {
      "text/plain": [
       "{'bcjz', 'dcvrf', 'dvkbjh', 'hcdchl', 'mfp', 'mgvfmvp', 'mhnrqp', 'nhdjth'}"
      ]
     },
     "metadata": {},
     "output_type": "display_data"
    }
   ],
   "source": [
    "# Generate a set of ingredients with allergens\n",
    "aller_ingreds = set()\n",
    "for a in aller_dict.values():\n",
    "    aller_ingreds |= a\n",
    "print(\"Ingredients that contain allergens:\")\n",
    "display(aller_ingreds)"
   ]
  },
  {
   "cell_type": "code",
   "execution_count": 6,
   "metadata": {
    "ExecuteTime": {
     "end_time": "2020-12-21T16:01:25.659579Z",
     "start_time": "2020-12-21T16:01:25.645577Z"
    }
   },
   "outputs": [],
   "source": [
    "# Find the non allergenic ingredients\n",
    "non_allerg_ingreds = all_ingreds - aller_ingreds\n",
    "#non_allerg_ingreds"
   ]
  },
  {
   "cell_type": "code",
   "execution_count": 7,
   "metadata": {
    "ExecuteTime": {
     "end_time": "2020-12-21T16:01:25.691577Z",
     "start_time": "2020-12-21T16:01:25.661578Z"
    }
   },
   "outputs": [
    {
     "data": {
      "text/markdown": [
       "Non-allergenic ingredients appear in the menu **2412** times"
      ],
      "text/plain": [
       "<IPython.core.display.Markdown object>"
      ]
     },
     "execution_count": 7,
     "metadata": {},
     "output_type": "execute_result"
    }
   ],
   "source": [
    "# Count how many times non-allergen ingredients appear in menu items\n",
    "count = 0\n",
    "for allers, ingreds in menu:\n",
    "    count += len(non_allerg_ingreds & ingreds)\n",
    "Markdown(\"Non-allergenic ingredients appear in the menu \"\n",
    "         \"**{}** times\".format(count))"
   ]
  },
  {
   "cell_type": "markdown",
   "metadata": {},
   "source": [
    "## Part 2\n",
    "\n",
    "Now that you've isolated the inert ingredients, you should have enough information to figure out which ingredient contains which allergen.\n",
    "\n",
    "In the above example:\n",
    "\n",
    "    mxmxvkd contains dairy.\n",
    "    sqjhc contains fish.\n",
    "    fvjkl contains soy.\n",
    "\n",
    "Arrange the ingredients alphabetically by their allergen and separate them by commas to produce your canonical dangerous ingredient list. (There should not be any spaces in your canonical dangerous ingredient list.) In the above example, this would be mxmxvkd,sqjhc,fvjkl.\n",
    "\n",
    "Time to stock your raft with supplies. What is your canonical dangerous ingredient list?"
   ]
  },
  {
   "cell_type": "code",
   "execution_count": 8,
   "metadata": {
    "ExecuteTime": {
     "end_time": "2020-12-21T16:01:25.722584Z",
     "start_time": "2020-12-21T16:01:25.694577Z"
    }
   },
   "outputs": [
    {
     "name": "stdout",
     "output_type": "stream",
     "text": [
      "Allergens and the ingredients that contains them are:\n"
     ]
    },
    {
     "data": {
      "text/plain": [
       "{'soy': 'mhnrqp',\n",
       " 'peanuts': 'dvkbjh',\n",
       " 'nuts': 'hcdchl',\n",
       " 'sesame': 'dcvrf',\n",
       " 'dairy': 'mfp',\n",
       " 'fish': 'nhdjth',\n",
       " 'eggs': 'mgvfmvp',\n",
       " 'shellfish': 'bcjz'}"
      ]
     },
     "metadata": {},
     "output_type": "display_data"
    }
   ],
   "source": [
    "# From the known allergens and their candidate ingredients,\n",
    "# wherever there is a unique ingredient per allergen we know\n",
    "# that must be the ingredient for that allergen and it can be\n",
    "# removed as a candidate from all other allergens.\n",
    "aller_dict2 = aller_dict.copy()\n",
    "aller_dict3 = dict()\n",
    "while(0 < len(aller_dict2)):\n",
    "    for k, v in aller_dict2.items():\n",
    "        if 1 == len(v):\n",
    "            #print(k, v)\n",
    "            # Known allergen\n",
    "            ingred = next(iter(v))\n",
    "            aller_dict3[k] = ingred\n",
    "            # Remove this ingredient from all other sets\n",
    "            for k1, v1 in aller_dict2.items():\n",
    "                if ingred in v1:\n",
    "                    v1.discard(ingred)\n",
    "            break\n",
    "    # Remove this item from the dictionary\n",
    "    aller_dict2.pop(k)\n",
    "\n",
    "print(\"Allergens and the ingredients that contains them are:\")\n",
    "display(aller_dict3)"
   ]
  },
  {
   "cell_type": "code",
   "execution_count": 12,
   "metadata": {
    "ExecuteTime": {
     "end_time": "2020-12-21T16:02:11.801219Z",
     "start_time": "2020-12-21T16:02:11.787220Z"
    }
   },
   "outputs": [
    {
     "name": "stdout",
     "output_type": "stream",
     "text": [
      "The dangerous ingredients sorted alphabetically by their allergen are:\n"
     ]
    },
    {
     "data": {
      "text/plain": [
       "['mfp', 'mgvfmvp', 'nhdjth', 'hcdchl', 'dvkbjh', 'dcvrf', 'bcjz', 'mhnrqp']"
      ]
     },
     "metadata": {},
     "output_type": "display_data"
    }
   ],
   "source": [
    "dangerous_ingreds = [aller_dict3[k] for k in sorted(aller_dict3)]\n",
    "print('The dangerous ingredients sorted alphabetically by their allergen are:')\n",
    "display(dangerous_ingreds)"
   ]
  },
  {
   "cell_type": "code",
   "execution_count": 13,
   "metadata": {
    "ExecuteTime": {
     "end_time": "2020-12-21T16:03:15.260103Z",
     "start_time": "2020-12-21T16:03:15.236104Z"
    }
   },
   "outputs": [
    {
     "data": {
      "text/markdown": [
       "The canonical dangerous ingredient list is:"
      ],
      "text/plain": [
       "<IPython.core.display.Markdown object>"
      ]
     },
     "metadata": {},
     "output_type": "display_data"
    },
    {
     "data": {
      "text/markdown": [
       "**mfp,mgvfmvp,nhdjth,hcdchl,dvkbjh,dcvrf,bcjz,mhnrqp**"
      ],
      "text/plain": [
       "<IPython.core.display.Markdown object>"
      ]
     },
     "execution_count": 13,
     "metadata": {},
     "output_type": "execute_result"
    }
   ],
   "source": [
    "display(Markdown(\"The canonical dangerous ingredient list is:\"))\n",
    "Markdown('**' + ','.join(dangerous_ingreds) + '**')"
   ]
  }
 ],
 "metadata": {
  "kernelspec": {
   "display_name": "Python 3",
   "language": "python",
   "name": "python3"
  },
  "language_info": {
   "codemirror_mode": {
    "name": "ipython",
    "version": 3
   },
   "file_extension": ".py",
   "mimetype": "text/x-python",
   "name": "python",
   "nbconvert_exporter": "python",
   "pygments_lexer": "ipython3",
   "version": "3.6.10"
  },
  "toc": {
   "base_numbering": 1,
   "nav_menu": {},
   "number_sections": true,
   "sideBar": true,
   "skip_h1_title": false,
   "title_cell": "Table of Contents",
   "title_sidebar": "Contents",
   "toc_cell": false,
   "toc_position": {},
   "toc_section_display": true,
   "toc_window_display": false
  }
 },
 "nbformat": 4,
 "nbformat_minor": 4
}
