{
 "cells": [
  {
   "cell_type": "code",
   "execution_count": 1,
   "metadata": {
    "ExecuteTime": {
     "end_time": "2020-12-18T18:19:03.364131Z",
     "start_time": "2020-12-18T18:19:03.325129Z"
    }
   },
   "outputs": [],
   "source": [
    "import pyparsing as pp\n",
    "from pyparsing import pyparsing_common as ppc\n",
    "from IPython.display import Markdown\n",
    "#from IPython.core.debugger import set_trace as breakpt"
   ]
  },
  {
   "cell_type": "markdown",
   "metadata": {},
   "source": [
    "# Day 18: Operation Order\n",
    "\n",
    "Reference: https://adventofcode.com/2020/day/18\n",
    "\n",
    "## Part 1\n",
    "\n",
    "Before you can help with the homework, you need to understand it yourself. Evaluate the expression on each line of the homework; **what is the sum of the resulting values?**"
   ]
  },
  {
   "cell_type": "code",
   "execution_count": 2,
   "metadata": {
    "ExecuteTime": {
     "end_time": "2020-12-18T18:19:03.380127Z",
     "start_time": "2020-12-18T18:19:03.366132Z"
    }
   },
   "outputs": [],
   "source": [
    "# Test equations\n",
    "eq1 = '1 + (2 * 3) + (4 * (5 + 6))' # 51\n",
    "eq2 = '((2 + 4 * 9) * (6 + 9 * 8 + 6) + 6) + 2 + 4 * 2' # 13632"
   ]
  },
  {
   "cell_type": "code",
   "execution_count": 4,
   "metadata": {
    "ExecuteTime": {
     "end_time": "2020-12-18T18:19:03.426136Z",
     "start_time": "2020-12-18T18:19:03.397130Z"
    }
   },
   "outputs": [],
   "source": [
    "# Addition '+' and multiplication '*' have the same precedence\n",
    "op = pp.oneOf('+ *')\n",
    "expr = pp.infixNotation(ppc.integer, [(op, 2, pp.opAssoc.LEFT)])"
   ]
  },
  {
   "cell_type": "code",
   "execution_count": 5,
   "metadata": {
    "ExecuteTime": {
     "end_time": "2020-12-18T18:19:03.474136Z",
     "start_time": "2020-12-18T18:19:03.428137Z"
    }
   },
   "outputs": [
    {
     "name": "stdout",
     "output_type": "stream",
     "text": [
      "Eq: 1 + (2 * 3) + (4 * (5 + 6))\n",
      "Parses as:\n",
      "[1, '+', [2, '*', 3], '+', [4, '*', [5, '+', 6]]]\n",
      "=-=-=-=-=-=-=-=-=-=-=-=-=-=-=-=-=-=-=-=-\n",
      "Eq: ((2 + 4 * 9) * (6 + 9 * 8 + 6) + 6) + 2 + 4 * 2\n",
      "Parses as:\n",
      "[[[2, '+', 4, '*', 9], '*', [6, '+', 9, '*', 8, '+', 6], '+', 6], '+', 2, '+', 4, '*', 2]\n"
     ]
    }
   ],
   "source": [
    "res1 = expr.parseString(eq1)\n",
    "print(\"Eq:\", eq1)\n",
    "print(\"Parses as:\")\n",
    "print(res1.asList()[0])\n",
    "print('=-'*20)\n",
    "res2 = expr.parseString(eq2)\n",
    "print(\"Eq:\", eq2)\n",
    "print(\"Parses as:\")\n",
    "print(res2.asList()[0])"
   ]
  },
  {
   "cell_type": "code",
   "execution_count": 6,
   "metadata": {
    "ExecuteTime": {
     "end_time": "2020-12-18T18:19:03.489137Z",
     "start_time": "2020-12-18T18:19:03.477136Z"
    }
   },
   "outputs": [],
   "source": [
    "# Recursively apply operations to the supplied entry list.\n",
    "def recur_list(entry, v0=None):\n",
    "    for element in entry:\n",
    "        if type(element) is list:\n",
    "            # Recurse on it\n",
    "            element = recur_list(element)\n",
    "        if v0 is None:\n",
    "            v0 = element\n",
    "        elif type(element) is int:\n",
    "            if '+' == opcode:\n",
    "                v0 += element\n",
    "            elif '*' == opcode:\n",
    "                v0 *= element\n",
    "            else:\n",
    "                raise ValueError(\"Unhandled opcode: {}\".format(opcode))\n",
    "\n",
    "        elif element in '+*':\n",
    "            opcode = element\n",
    "        else:\n",
    "            raise ValueError(\"Unhandled element: {}\".format(element))\n",
    "    #print(v0, entry)\n",
    "    return v0"
   ]
  },
  {
   "cell_type": "code",
   "execution_count": 7,
   "metadata": {
    "ExecuteTime": {
     "end_time": "2020-12-18T18:19:03.520138Z",
     "start_time": "2020-12-18T18:19:03.490139Z"
    }
   },
   "outputs": [
    {
     "name": "stdout",
     "output_type": "stream",
     "text": [
      "Soln to eq1:\n",
      "51\n",
      "=-=-=-=-=-=-=-=-=-=-=-=-=-=-=-=-=-=-=-=-\n",
      "Soln to eq2:\n",
      "13632\n"
     ]
    }
   ],
   "source": [
    "print(\"Soln to eq1:\")\n",
    "print(recur_list(res1.asList()[0]))\n",
    "print('=-'*20)\n",
    "print(\"Soln to eq2:\")\n",
    "print(recur_list(res2.asList()[0]))"
   ]
  },
  {
   "cell_type": "code",
   "execution_count": 8,
   "metadata": {
    "ExecuteTime": {
     "end_time": "2020-12-18T18:19:03.552139Z",
     "start_time": "2020-12-18T18:19:03.523143Z"
    }
   },
   "outputs": [],
   "source": [
    "# Get all of the homework equations\n",
    "with open('operation_input.txt', 'r') as fid:\n",
    "    eqs = fid.read().splitlines()"
   ]
  },
  {
   "cell_type": "code",
   "execution_count": 9,
   "metadata": {
    "ExecuteTime": {
     "end_time": "2020-12-18T18:19:04.028165Z",
     "start_time": "2020-12-18T18:19:03.554143Z"
    }
   },
   "outputs": [],
   "source": [
    "# Find the answers\n",
    "parsed = [expr.parseString(eq).asList()[0] for eq in eqs]\n",
    "answers = [recur_list(e) for e in parsed]"
   ]
  },
  {
   "cell_type": "code",
   "execution_count": 1,
   "metadata": {
    "ExecuteTime": {
     "end_time": "2021-12-13T18:44:10.897551Z",
     "start_time": "2021-12-13T18:44:10.881925Z"
    }
   },
   "outputs": [],
   "source": [
    "#Markdown(\"The sum of all the homework answers is \"\n",
    "#         \"**{}**\".format(sum(answers)))"
   ]
  },
  {
   "cell_type": "markdown",
   "metadata": {},
   "source": [
    "## Part 2\n",
    "\n",
    "**What do you get if you add up the results of evaluating the homework problems using these new rules?**"
   ]
  },
  {
   "cell_type": "code",
   "execution_count": 11,
   "metadata": {
    "ExecuteTime": {
     "end_time": "2020-12-18T18:19:04.090163Z",
     "start_time": "2020-12-18T18:19:04.063162Z"
    }
   },
   "outputs": [],
   "source": [
    "# Now Addition '+' has precedence over Multiplication '*'\n",
    "# Addition appears first in the opList:\n",
    "expr2 = pp.infixNotation(ppc.integer,\n",
    "                         [('+', 2, pp.opAssoc.LEFT),\n",
    "                          ('*', 2, pp.opAssoc.LEFT)])\n"
   ]
  },
  {
   "cell_type": "code",
   "execution_count": 12,
   "metadata": {
    "ExecuteTime": {
     "end_time": "2020-12-18T18:19:04.137166Z",
     "start_time": "2020-12-18T18:19:04.092165Z"
    }
   },
   "outputs": [
    {
     "name": "stdout",
     "output_type": "stream",
     "text": [
      "Eq: 1 + (2 * 3) + (4 * (5 + 6))\n",
      "Parses as:\n",
      "[1, '+', [2, '*', 3], '+', [4, '*', [5, '+', 6]]]\n",
      "=-=-=-=-=-=-=-=-=-=-=-=-=-=-=-=-=-=-=-=-\n",
      "Eq: ((2 + 4 * 9) * (6 + 9 * 8 + 6) + 6) + 2 + 4 * 2\n",
      "Parses as:\n",
      "[[[[[2, '+', 4], '*', 9], '*', [[[6, '+', 9], '*', [8, '+', 6]], '+', 6]], '+', 2, '+', 4], '*', 2]\n"
     ]
    }
   ],
   "source": [
    "res1_2 = expr2.parseString(eq1)\n",
    "print(\"Eq:\", eq1)\n",
    "print(\"Parses as:\")\n",
    "print(res1_2.asList()[0])\n",
    "print('=-'*20)\n",
    "res2_2 = expr2.parseString(eq2)\n",
    "print(\"Eq:\", eq2)\n",
    "print(\"Parses as:\")\n",
    "print(res2_2.asList()[0])"
   ]
  },
  {
   "cell_type": "code",
   "execution_count": 13,
   "metadata": {
    "ExecuteTime": {
     "end_time": "2020-12-18T18:19:04.168171Z",
     "start_time": "2020-12-18T18:19:04.139168Z"
    }
   },
   "outputs": [
    {
     "name": "stdout",
     "output_type": "stream",
     "text": [
      "Soln to eq1:\n",
      "51\n",
      "=-=-=-=-=-=-=-=-=-=-=-=-=-=-=-=-=-=-=-=-\n",
      "Soln to eq2:\n",
      "23340\n"
     ]
    }
   ],
   "source": [
    "print(\"Soln to eq1:\")\n",
    "print(recur_list(res1_2.asList()[0]))\n",
    "print('=-'*20)\n",
    "print(\"Soln to eq2:\")\n",
    "print(recur_list(res2_2.asList()[0]))"
   ]
  },
  {
   "cell_type": "code",
   "execution_count": 14,
   "metadata": {
    "ExecuteTime": {
     "end_time": "2020-12-18T18:19:06.687275Z",
     "start_time": "2020-12-18T18:19:04.170166Z"
    }
   },
   "outputs": [],
   "source": [
    "# Find the answers using the \"advanced math\" rules\n",
    "parsed2 = [expr2.parseString(eq).asList()[0] for eq in eqs]\n",
    "answers2 = [recur_list(e) for e in parsed2]"
   ]
  },
  {
   "cell_type": "code",
   "execution_count": 2,
   "metadata": {
    "ExecuteTime": {
     "end_time": "2021-12-13T18:44:17.568065Z",
     "start_time": "2021-12-13T18:44:17.552436Z"
    }
   },
   "outputs": [],
   "source": [
    "#Markdown(\"The sum of all the 'advanced math' homework answers is \"\n",
    "#         \"**{}**\".format(sum(answers2)))"
   ]
  },
  {
   "cell_type": "code",
   "execution_count": null,
   "metadata": {},
   "outputs": [],
   "source": []
  }
 ],
 "metadata": {
  "kernelspec": {
   "display_name": "Python 3",
   "language": "python",
   "name": "python3"
  },
  "language_info": {
   "codemirror_mode": {
    "name": "ipython",
    "version": 3
   },
   "file_extension": ".py",
   "mimetype": "text/x-python",
   "name": "python",
   "nbconvert_exporter": "python",
   "pygments_lexer": "ipython3",
   "version": "3.6.12"
  },
  "toc": {
   "base_numbering": 1,
   "nav_menu": {},
   "number_sections": true,
   "sideBar": true,
   "skip_h1_title": false,
   "title_cell": "Table of Contents",
   "title_sidebar": "Contents",
   "toc_cell": false,
   "toc_position": {},
   "toc_section_display": true,
   "toc_window_display": false
  }
 },
 "nbformat": 4,
 "nbformat_minor": 4
}
