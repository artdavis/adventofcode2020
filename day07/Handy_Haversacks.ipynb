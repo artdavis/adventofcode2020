{
 "cells": [
  {
   "cell_type": "code",
   "execution_count": 1,
   "metadata": {
    "ExecuteTime": {
     "end_time": "2020-12-07T22:12:55.762003Z",
     "start_time": "2020-12-07T22:12:55.747956Z"
    }
   },
   "outputs": [],
   "source": [
    "from IPython.display import Markdown\n",
    "from IPython.core.debugger import set_trace as breakpt"
   ]
  },
  {
   "cell_type": "markdown",
   "metadata": {},
   "source": [
    "# Day 7: Handy Haversacks\n",
    "\n",
    "Reference: https://adventofcode.com/2020/day/7\n",
    "\n",
    "## Part 1\n",
    "\n",
    "You land at the regional airport in time for your next flight. In fact, it looks like you'll even have time to grab some food: all flights are currently delayed due to issues in luggage processing.\n",
    "\n",
    "Due to recent aviation regulations, many rules (your puzzle input) are being enforced about bags and their contents; bags must be color-coded and must contain specific quantities of other color-coded bags. Apparently, nobody responsible for these regulations considered how long they would take to enforce!\n",
    "\n",
    "For example, consider the following rules:\n",
    "```\n",
    "light red bags contain 1 bright white bag, 2 muted yellow bags.\n",
    "dark orange bags contain 3 bright white bags, 4 muted yellow bags.\n",
    "bright white bags contain 1 shiny gold bag.\n",
    "muted yellow bags contain 2 shiny gold bags, 9 faded blue bags.\n",
    "shiny gold bags contain 1 dark olive bag, 2 vibrant plum bags.\n",
    "dark olive bags contain 3 faded blue bags, 4 dotted black bags.\n",
    "vibrant plum bags contain 5 faded blue bags, 6 dotted black bags.\n",
    "faded blue bags contain no other bags.\n",
    "dotted black bags contain no other bags.\n",
    "```\n",
    "These rules specify the required contents for 9 bag types. In this example, every faded blue bag is empty, every vibrant plum bag contains 11 bags (5 faded blue and 6 dotted black), and so on.\n",
    "\n",
    "You have a shiny gold bag. If you wanted to carry it in at least one other bag, how many different bag colors would be valid for the outermost bag? (In other words: how many colors can, eventually, contain at least one shiny gold bag?)\n",
    "\n",
    "In the above rules, the following options would be available to you:\n",
    "\n",
    "    A bright white bag, which can hold your shiny gold bag directly.\n",
    "    A muted yellow bag, which can hold your shiny gold bag directly, plus some other bags.\n",
    "    A dark orange bag, which can hold bright white and muted yellow bags, either of which could then hold your shiny gold bag.\n",
    "    A light red bag, which can hold bright white and muted yellow bags, either of which could then hold your shiny gold bag.\n",
    "\n",
    "So, in this example, the number of bag colors that can eventually contain at least one shiny gold bag is 4.\n",
    "\n",
    "How many bag colors can eventually contain at least one shiny gold bag? (The list of rules is quite long; make sure you get all of it.)"
   ]
  },
  {
   "cell_type": "code",
   "execution_count": 2,
   "metadata": {
    "ExecuteTime": {
     "end_time": "2020-12-07T22:12:55.793953Z",
     "start_time": "2020-12-07T22:12:55.765956Z"
    }
   },
   "outputs": [],
   "source": [
    "bagdict = dict()\n",
    "with open('bagrules_input.txt', 'r') as fid:\n",
    "#with open('test_bagrules_input.txt', 'r') as fid:\n",
    "    for line in fid:\n",
    "        k, bagstr = line.strip().split('contain')\n",
    "        # baglist contains description of available bags\n",
    "        baglist = [x.strip(' .') for x in bagstr.split(',')]\n",
    "        # bagset is set of bags that can be held by the bag color\n",
    "        bagset = set()\n",
    "        if 'no other bags' not in baglist:\n",
    "            for b in baglist:\n",
    "                num, color = b.split(' ', 1)\n",
    "                # Remove the 'bag(s)' from the color name\n",
    "                bcolor = color.rsplit(' ', 1)[0]\n",
    "                bagset.add(bcolor)\n",
    "        else:\n",
    "            pass\n",
    "        # Remove the 'bag(s)' from the key name\n",
    "        kcolor = k.strip().rsplit(' ', 1)[0]\n",
    "        bagdict[kcolor] = bagset\n",
    "#display(bagdict)"
   ]
  },
  {
   "cell_type": "code",
   "execution_count": 3,
   "metadata": {
    "ExecuteTime": {
     "end_time": "2020-12-07T22:12:55.809958Z",
     "start_time": "2020-12-07T22:12:55.795956Z"
    }
   },
   "outputs": [
    {
     "name": "stdout",
     "output_type": "stream",
     "text": [
      "clear brown {'muted gray', 'shiny gold'}\n",
      "light lime {'shiny gold', 'posh salmon'}\n",
      "drab cyan {'posh blue', 'shiny gold', 'light cyan'}\n",
      "drab yellow {'shiny gold'}\n"
     ]
    }
   ],
   "source": [
    "# Top level gold\n",
    "for k, v in bagdict.items():\n",
    "    if 'shiny gold' in v:\n",
    "        print(k, v)"
   ]
  },
  {
   "cell_type": "code",
   "execution_count": 4,
   "metadata": {
    "ExecuteTime": {
     "end_time": "2020-12-07T22:12:55.841954Z",
     "start_time": "2020-12-07T22:12:55.812958Z"
    }
   },
   "outputs": [],
   "source": [
    "def hasgold(color, doeshave=False):\n",
    "    for c in bagdict[color]:\n",
    "        if doeshave:\n",
    "            # Match already found, no need to continue\n",
    "            return True\n",
    "        if not bagdict[c]:\n",
    "            # Empty set, nothing to do\n",
    "            pass\n",
    "        elif 'shiny gold' in c:\n",
    "            # This color bag does hold shiny gold\n",
    "            return True\n",
    "        else:\n",
    "            # Try the bags this bag holds\n",
    "            doeshave = hasgold(c)\n",
    "    return doeshave\n",
    "\n",
    "#for bc in bagdict.keys():\n",
    "#    display(Markdown(\"**{}**\".format(bc)))\n",
    "#    print(hasgold(bc))"
   ]
  },
  {
   "cell_type": "code",
   "execution_count": 5,
   "metadata": {
    "ExecuteTime": {
     "end_time": "2020-12-07T22:12:55.905962Z",
     "start_time": "2020-12-07T22:12:55.842955Z"
    }
   },
   "outputs": [],
   "source": [
    "canhold = [hasgold(x) for x in bagdict.keys()]"
   ]
  },
  {
   "cell_type": "code",
   "execution_count": 6,
   "metadata": {
    "ExecuteTime": {
     "end_time": "2020-12-07T22:12:55.937957Z",
     "start_time": "2020-12-07T22:12:55.907960Z"
    }
   },
   "outputs": [],
   "source": [
    "#Markdown(\"**{}** bag colors can eventually contain one shiny gold bag\".format(sum(canhold)))"
   ]
  },
  {
   "cell_type": "markdown",
   "metadata": {},
   "source": [
    "## Part 2\n",
    "\n",
    "It's getting pretty expensive to fly these days - not because of ticket prices, but because of the ridiculous number of bags you need to buy!\n",
    "\n",
    "Consider again your shiny gold bag and the rules from the above example:\n",
    "\n",
    "    faded blue bags contain 0 other bags.\n",
    "    dotted black bags contain 0 other bags.\n",
    "    vibrant plum bags contain 11 other bags: 5 faded blue bags and 6 dotted black bags.\n",
    "    dark olive bags contain 7 other bags: 3 faded blue bags and 4 dotted black bags.\n",
    "\n",
    "So, a single shiny gold bag must contain 1 dark olive bag (and the 7 bags within it) plus 2 vibrant plum bags (and the 11 bags within each of those): 1 + 1*7 + 2 + 2*11 = 32 bags!\n",
    "\n",
    "Of course, the actual rules have a small chance of going several levels deeper than this example; be sure to count all of the bags, even if the nesting becomes topologically impractical!\n",
    "\n",
    "Here's another example:\n",
    "```\n",
    "shiny gold bags contain 2 dark red bags.\n",
    "dark red bags contain 2 dark orange bags.\n",
    "dark orange bags contain 2 dark yellow bags.\n",
    "dark yellow bags contain 2 dark green bags.\n",
    "dark green bags contain 2 dark blue bags.\n",
    "dark blue bags contain 2 dark violet bags.\n",
    "dark violet bags contain no other bags.\n",
    "```\n",
    "In this example, a single shiny gold bag must contain 126 other bags.\n",
    "\n",
    "How many individual bags are required inside your single shiny gold bag?"
   ]
  },
  {
   "cell_type": "code",
   "execution_count": 7,
   "metadata": {
    "ExecuteTime": {
     "end_time": "2020-12-07T22:12:55.969959Z",
     "start_time": "2020-12-07T22:12:55.941959Z"
    }
   },
   "outputs": [],
   "source": [
    "bagdict2 = dict()\n",
    "with open('bagrules_input.txt', 'r') as fid:\n",
    "#with open('test2_bagrules_input.txt', 'r') as fid:\n",
    "#with open('test3_bagrules_input.txt', 'r') as fid:\n",
    "    for line in fid:\n",
    "        k, bagstr = line.strip().split('contain')\n",
    "        # baglist contains description of available bags\n",
    "        baglist = [x.strip(' .') for x in bagstr.split(',')]\n",
    "        # baghold is dict of bags and number held by the bag color\n",
    "        baghold = dict()\n",
    "        if 'no other bags' not in baglist:\n",
    "            for b in baglist:\n",
    "                num, color = b.split(' ', 1)\n",
    "                # Remove the 'bag(s)' from the color name\n",
    "                bcolor = color.rsplit(' ', 1)[0]\n",
    "                baghold[bcolor] = int(num)\n",
    "        # Remove the 'bag(s)' from the key name\n",
    "        kcolor = k.strip().rsplit(' ', 1)[0]\n",
    "        bagdict2[kcolor] = baghold\n",
    "#display(bagdict2)"
   ]
  },
  {
   "cell_type": "code",
   "execution_count": 8,
   "metadata": {
    "ExecuteTime": {
     "end_time": "2020-12-07T22:12:55.985959Z",
     "start_time": "2020-12-07T22:12:55.971960Z"
    }
   },
   "outputs": [],
   "source": [
    "def holding(color, holdsum=0):\n",
    "    for c, n in bagdict2[color].items():\n",
    "        holdsum += n * (holding(c) + 1)\n",
    "    return holdsum\n",
    "\n",
    "#nbags = holding('gold')\n",
    "nbags = holding('shiny gold')"
   ]
  },
  {
   "cell_type": "code",
   "execution_count": 9,
   "metadata": {
    "ExecuteTime": {
     "end_time": "2020-12-07T22:12:56.016960Z",
     "start_time": "2020-12-07T22:12:55.987958Z"
    }
   },
   "outputs": [],
   "source": [
    "#Markdown(\"**{}** individual bags are required inside my single shiny gold bag\"\n",
    "#        .format(nbags))"
   ]
  },
  {
   "cell_type": "code",
   "execution_count": null,
   "metadata": {},
   "outputs": [],
   "source": []
  }
 ],
 "metadata": {
  "kernelspec": {
   "display_name": "Python 3",
   "language": "python",
   "name": "python3"
  },
  "language_info": {
   "codemirror_mode": {
    "name": "ipython",
    "version": 3
   },
   "file_extension": ".py",
   "mimetype": "text/x-python",
   "name": "python",
   "nbconvert_exporter": "python",
   "pygments_lexer": "ipython3",
   "version": "3.6.10"
  },
  "toc": {
   "base_numbering": 1,
   "nav_menu": {},
   "number_sections": true,
   "sideBar": true,
   "skip_h1_title": false,
   "title_cell": "Table of Contents",
   "title_sidebar": "Contents",
   "toc_cell": false,
   "toc_position": {},
   "toc_section_display": true,
   "toc_window_display": false
  }
 },
 "nbformat": 4,
 "nbformat_minor": 4
}
