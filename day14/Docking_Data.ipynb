{
 "cells": [
  {
   "cell_type": "code",
   "execution_count": 1,
   "metadata": {
    "ExecuteTime": {
     "end_time": "2020-12-14T13:48:49.951610Z",
     "start_time": "2020-12-14T13:48:49.935601Z"
    }
   },
   "outputs": [],
   "source": [
    "from IPython.display import Markdown\n",
    "from IPython.core.debugger import set_trace as breakpt"
   ]
  },
  {
   "cell_type": "markdown",
   "metadata": {},
   "source": [
    "# Day 14: Docking Data\n",
    "\n",
    "Reference: https://adventofcode.com/2020/day/14\n",
    "\n",
    "\n",
    "## Part 1\n",
    "\n",
    "**Execute the initialization program. What is the sum of all values left in memory after it completes?**"
   ]
  },
  {
   "cell_type": "code",
   "execution_count": 201,
   "metadata": {
    "ExecuteTime": {
     "end_time": "2020-12-14T19:11:32.134460Z",
     "start_time": "2020-12-14T19:11:32.125460Z"
    }
   },
   "outputs": [],
   "source": [
    "# Read the whole program in to a list\n",
    "with open('dock_input.txt', 'r') as fid:\n",
    "    cmdlist = fid.read().splitlines()"
   ]
  },
  {
   "cell_type": "code",
   "execution_count": 200,
   "metadata": {
    "ExecuteTime": {
     "end_time": "2020-12-14T19:11:28.102794Z",
     "start_time": "2020-12-14T19:11:28.085948Z"
    }
   },
   "outputs": [],
   "source": [
    "class BitCalc(object):\n",
    "    \"\"\"\n",
    "    Data structure for \"decoder chip v1\"\n",
    "    \"\"\"\n",
    "    def __init__(self):\n",
    "        # Initialize mask with no maskvalues\n",
    "        self._mask = 'X' * 36\n",
    "        self.mem = dict()\n",
    "    \n",
    "    @staticmethod\n",
    "    def get_binstr(val):\n",
    "        # Get the 36bit binary string representation of the\n",
    "        # supplied values\n",
    "        s = bin(val)[2:]\n",
    "        if 36 < len(s):\n",
    "            raise ValueError('Value too large for 36 bits')\n",
    "        return '0'*(36 - len(s)) + s\n",
    "\n",
    "    @property\n",
    "    def mask(self):\n",
    "        return self._mask\n",
    "    @mask.setter\n",
    "    def mask(self, val):\n",
    "        self._mask = val\n",
    "        # Compute the mask indices\n",
    "        self._calc_mask_indices()\n",
    "        \n",
    "    def _calc_mask_indices(self):\n",
    "        self._izeros, self._iones = list(), list()\n",
    "        for i, c in enumerate(self.mask):\n",
    "            if '0' == c:\n",
    "                self._izeros.append(i)\n",
    "            elif '1' == c:\n",
    "                self._iones.append(i)   \n",
    "\n",
    "    def apply_mask_to_val(self, val):\n",
    "        vstr = list(self.get_binstr(val))\n",
    "        for i in self._izeros:\n",
    "            vstr[i] = '0'\n",
    "        for i in self._iones:\n",
    "            vstr[i] = '1'\n",
    "        return ''.join(vstr)\n",
    "\n",
    "    def get_masked_val(self, val):\n",
    "        # Return the integer value from applying\n",
    "        # mask to val\n",
    "        return int(self.apply_mask_to_val(val), 2)\n",
    "    \n",
    "    def assign_val(self, mem, val):\n",
    "        self.mem.update({mem: self.get_masked_val(val)})\n",
    "        \n",
    "    @property\n",
    "    def memsum(self):\n",
    "        return sum(self.mem.values())"
   ]
  },
  {
   "cell_type": "code",
   "execution_count": 103,
   "metadata": {
    "ExecuteTime": {
     "end_time": "2020-12-14T15:56:31.453231Z",
     "start_time": "2020-12-14T15:56:31.441230Z"
    }
   },
   "outputs": [],
   "source": [
    "#mask0 = '00X10101X110010011XX0X011X100000X010'"
   ]
  },
  {
   "cell_type": "code",
   "execution_count": 327,
   "metadata": {
    "ExecuteTime": {
     "end_time": "2020-12-14T21:28:04.498451Z",
     "start_time": "2020-12-14T21:28:04.483452Z"
    }
   },
   "outputs": [],
   "source": [
    "# Get an instance of our decoder\n",
    "bitcalc = BitCalc()\n",
    "\n",
    "# Run through the program\n",
    "for cmd in cmdlist:\n",
    "    op, val = cmd.split(' = ')\n",
    "    if 'mask' == op:\n",
    "        bitcalc.mask = val\n",
    "    elif op.startswith('mem'):\n",
    "        addr = int(op.lstrip('mem[').rstrip(']'))\n",
    "        bitcalc.assign_val(addr, int(val))\n",
    "    else:\n",
    "        raise ValueError(\"Unhandled op: {}\".format(op))"
   ]
  },
  {
   "cell_type": "code",
   "execution_count": 1,
   "metadata": {
    "ExecuteTime": {
     "end_time": "2021-12-13T18:38:52.749001Z",
     "start_time": "2021-12-13T18:38:52.717735Z"
    }
   },
   "outputs": [],
   "source": [
    "#Markdown(\"The sum of all values in memory is **{}**\".format(bitcalc.memsum))"
   ]
  },
  {
   "cell_type": "markdown",
   "metadata": {},
   "source": [
    "## Part 2\n",
    "\n",
    "Execute the initialization program using an emulator for a version 2 decoder chip. **What is the sum of all values left in memory after it completes?**"
   ]
  },
  {
   "cell_type": "code",
   "execution_count": 329,
   "metadata": {
    "ExecuteTime": {
     "end_time": "2020-12-14T21:29:13.155859Z",
     "start_time": "2020-12-14T21:29:13.122856Z"
    }
   },
   "outputs": [],
   "source": [
    "class BitCalc2(object):\n",
    "    \"\"\"\n",
    "    Data structure for \"decoder chip v2\" (memory address decoder)\n",
    "    \"\"\"\n",
    "    def __init__(self):\n",
    "        # Initialize mask as None. Must be assigned to be valid\n",
    "        self._mask = None\n",
    "        self.mem = dict()\n",
    "    \n",
    "    @staticmethod\n",
    "    def get_binstr(val, bitlen=36):\n",
    "        # Get the bitlen binary string representation of the\n",
    "        # supplied value\n",
    "        s = bin(val)[2:]\n",
    "        if bitlen < len(s):\n",
    "            raise ValueError('Value too large for {} bits'.format(bitlen))\n",
    "        return '0'*(bitlen - len(s)) + s\n",
    "    \n",
    "    @property\n",
    "    def mask(self):\n",
    "        return self._mask\n",
    "    @mask.setter\n",
    "    def mask(self, val):\n",
    "        self._mask = val\n",
    "        # Compute the mask indices\n",
    "        self._calc_mask_indices()\n",
    "        \n",
    "    def _calc_mask_indices(self):\n",
    "        self._izeros, self._iones = list(), list()\n",
    "        self._ix = list()\n",
    "        for i, c in enumerate(self.mask):\n",
    "            if '0' == c:\n",
    "                # Zeros do not change anything when applied\n",
    "                # May be able to just drop this\n",
    "                self._izeros.append(i)\n",
    "            elif '1' == c:\n",
    "                self._iones.append(i)   \n",
    "            elif 'X' == c:\n",
    "                self._ix.append(i)\n",
    "            else:\n",
    "                raise ValueError(\"Unsupported bit value: {}\".format(c))\n",
    "\n",
    "    def apply_mask_to_addr(self, addr):\n",
    "        # Applying the mask to the address should\n",
    "        # return a list of address indices to vary\n",
    "        combos = 2 ** len(self._ix)\n",
    "        bincombos = [self.get_binstr(x, len(self._ix))\n",
    "                     for x in range(combos)]\n",
    "        icombos = list()\n",
    "        for ib in bincombos:\n",
    "            icombos.append([self._ix[i]\n",
    "                            for i, j in enumerate(ib) if j == '1'])\n",
    "        return icombos\n",
    "\n",
    "    def get_masked_addrs(self, addr):\n",
    "        # Return list of addresses for addr with mask applied\n",
    "        binaddr = list(self.get_binstr(addr))\n",
    "        # Apply self._iones to the binaddr\n",
    "        for i in self._iones:\n",
    "            binaddr[i] = '1'\n",
    "        ixs = self.apply_mask_to_addr(addr)\n",
    "        addrlist = list()\n",
    "        for ix in ixs:\n",
    "            b = binaddr.copy()\n",
    "            # Set zero at all self._ix locations\n",
    "            for i in self._ix:\n",
    "                b[i] = '0'\n",
    "            if ix:\n",
    "                # ix is not an empty list\n",
    "                for i in ix:\n",
    "                    b[i] = '1'\n",
    "            addrlist.append(int(''.join(b), 2))\n",
    "        return addrlist\n",
    "    \n",
    "    def assign_val(self, mem, val):\n",
    "        self.mem.update({addr: val for addr in self.get_masked_addrs(mem)})\n",
    "        \n",
    "    @property\n",
    "    def memsum(self):\n",
    "        return sum(self.mem.values())"
   ]
  },
  {
   "cell_type": "code",
   "execution_count": 330,
   "metadata": {
    "ExecuteTime": {
     "end_time": "2020-12-14T21:30:03.976187Z",
     "start_time": "2020-12-14T21:30:03.969183Z"
    }
   },
   "outputs": [],
   "source": [
    "# Testing\n",
    "#m0 = '000000000000000000000000000000X1001X'\n",
    "#m1 = '00000000000000000000000000000000X0XX'\n",
    "#b = BitCalc2()\n",
    "#b.mask = m0\n",
    "#b.assign_val(42, 100)\n",
    "#b.mask = m1\n",
    "#b.assign_val(26, 1)\n",
    "#b.memsum\n",
    "#b.apply_mask_to_addr(42)\n",
    "#b.apply_mask_to_addr(26)\n",
    "#b.get_masked_addrs(42)\n",
    "#b.get_masked_addrs(26)\n",
    "#icombos = list()\n",
    "#for ib in bincombos:\n",
    "#    icombos.append([xs[i] for i, j in enumerate(ib) if j == '1'])\n",
    "#icombos"
   ]
  },
  {
   "cell_type": "code",
   "execution_count": 331,
   "metadata": {
    "ExecuteTime": {
     "end_time": "2020-12-14T21:30:51.810272Z",
     "start_time": "2020-12-14T21:30:51.395260Z"
    }
   },
   "outputs": [],
   "source": [
    "# Get an instance of our v2 decoder\n",
    "bitcalc = BitCalc2()\n",
    "\n",
    "# Run through the program\n",
    "for cmd in cmdlist:\n",
    "    op, val = cmd.split(' = ')\n",
    "    if 'mask' == op:\n",
    "        bitcalc.mask = val\n",
    "    elif op.startswith('mem'):\n",
    "        addr = int(op.lstrip('mem[').rstrip(']'))\n",
    "        bitcalc.assign_val(addr, int(val))\n",
    "    else:\n",
    "        raise ValueError(\"Unhandled op: {}\".format(op))"
   ]
  },
  {
   "cell_type": "code",
   "execution_count": 2,
   "metadata": {
    "ExecuteTime": {
     "end_time": "2021-12-13T18:39:19.360236Z",
     "start_time": "2021-12-13T18:39:19.344614Z"
    }
   },
   "outputs": [],
   "source": [
    "#Markdown(\"The sum of all values in memory is **{}**\".format(bitcalc.memsum))"
   ]
  },
  {
   "cell_type": "code",
   "execution_count": null,
   "metadata": {},
   "outputs": [],
   "source": []
  }
 ],
 "metadata": {
  "kernelspec": {
   "display_name": "Python 3",
   "language": "python",
   "name": "python3"
  },
  "language_info": {
   "codemirror_mode": {
    "name": "ipython",
    "version": 3
   },
   "file_extension": ".py",
   "mimetype": "text/x-python",
   "name": "python",
   "nbconvert_exporter": "python",
   "pygments_lexer": "ipython3",
   "version": "3.6.12"
  },
  "toc": {
   "base_numbering": 1,
   "nav_menu": {},
   "number_sections": true,
   "sideBar": true,
   "skip_h1_title": false,
   "title_cell": "Table of Contents",
   "title_sidebar": "Contents",
   "toc_cell": false,
   "toc_position": {},
   "toc_section_display": true,
   "toc_window_display": false
  }
 },
 "nbformat": 4,
 "nbformat_minor": 4
}
