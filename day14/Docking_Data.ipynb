{
 "cells": [
  {
   "cell_type": "code",
   "execution_count": 1,
   "metadata": {
    "ExecuteTime": {
     "end_time": "2020-12-14T13:48:49.951610Z",
     "start_time": "2020-12-14T13:48:49.935601Z"
    }
   },
   "outputs": [],
   "source": [
    "from IPython.display import Markdown\n",
    "from IPython.core.debugger import set_trace as breakpt"
   ]
  },
  {
   "cell_type": "markdown",
   "metadata": {},
   "source": [
    "# Day 14: Docking Data\n",
    "\n",
    "Reference: https://adventofcode.com/2020/day/14\n",
    "\n",
    "\n",
    "## Part 1\n",
    "\n",
    "As your ferry approaches the sea port, the captain asks for your help again. The computer system that runs this port isn't compatible with the docking program on the ferry, so the docking parameters aren't being correctly initialized in the docking program's memory.\n",
    "\n",
    "After a brief inspection, you discover that the sea port's computer system uses a strange bitmask system in its initialization program. Although you don't have the correct decoder chip handy, you can emulate it in software!\n",
    "\n",
    "The initialization program (your puzzle input) can either update the bitmask or write a value to memory. Values and memory addresses are both 36-bit unsigned integers. For example, ignoring bitmasks for a moment, a line like mem[8] = 11 would write the value 11 to memory address 8.\n",
    "\n",
    "The bitmask is always given as a string of 36 bits, written with the most significant bit (representing 2^35) on the left and the least significant bit (2^0, that is, the 1s bit) on the right. The current bitmask is applied to values immediately before they are written to memory: a 0 or 1 overwrites the corresponding bit in the value, while an X leaves the bit in the value unchanged.\n",
    "\n",
    "For example, consider the following program:\n",
    "```\n",
    "mask = XXXXXXXXXXXXXXXXXXXXXXXXXXXXX1XXXX0X\n",
    "mem[8] = 11\n",
    "mem[7] = 101\n",
    "mem[8] = 0\n",
    "```\n",
    "This program starts by specifying a bitmask (mask = ....). The mask it specifies will overwrite two bits in every written value: the 2s bit is overwritten with 0, and the 64s bit is overwritten with 1.\n",
    "\n",
    "The program then attempts to write the value 11 to memory address 8. By expanding everything out to individual bits, the mask is applied as follows:\n",
    "```\n",
    "value:  000000000000000000000000000000001011  (decimal 11)\n",
    "mask:   XXXXXXXXXXXXXXXXXXXXXXXXXXXXX1XXXX0X\n",
    "result: 000000000000000000000000000001001001  (decimal 73)\n",
    "```\n",
    "So, because of the mask, the value 73 is written to memory address 8 instead. Then, the program tries to write 101 to address 7:\n",
    "```\n",
    "value:  000000000000000000000000000001100101  (decimal 101)\n",
    "mask:   XXXXXXXXXXXXXXXXXXXXXXXXXXXXX1XXXX0X\n",
    "result: 000000000000000000000000000001100101  (decimal 101)\n",
    "```\n",
    "This time, the mask has no effect, as the bits it overwrote were already the values the mask tried to set. Finally, the program tries to write 0 to address 8:\n",
    "```\n",
    "value:  000000000000000000000000000000000000  (decimal 0)\n",
    "mask:   XXXXXXXXXXXXXXXXXXXXXXXXXXXXX1XXXX0X\n",
    "result: 000000000000000000000000000001000000  (decimal 64)\n",
    "```\n",
    "64 is written to address 8 instead, overwriting the value that was there previously.\n",
    "\n",
    "To initialize your ferry's docking program, you need the sum of all values left in memory after the initialization program completes. (The entire 36-bit address space begins initialized to the value 0 at every address.) In the above example, only two values in memory are not zero - 101 (at address 7) and 64 (at address 8) - producing a sum of 165.\n",
    "\n",
    "Execute the initialization program. What is the sum of all values left in memory after it completes?"
   ]
  },
  {
   "cell_type": "code",
   "execution_count": 201,
   "metadata": {
    "ExecuteTime": {
     "end_time": "2020-12-14T19:11:32.134460Z",
     "start_time": "2020-12-14T19:11:32.125460Z"
    }
   },
   "outputs": [],
   "source": [
    "# Read the whole program in to a list\n",
    "with open('dock_input.txt', 'r') as fid:\n",
    "    cmdlist = fid.read().splitlines()"
   ]
  },
  {
   "cell_type": "code",
   "execution_count": 200,
   "metadata": {
    "ExecuteTime": {
     "end_time": "2020-12-14T19:11:28.102794Z",
     "start_time": "2020-12-14T19:11:28.085948Z"
    }
   },
   "outputs": [],
   "source": [
    "class BitCalc(object):\n",
    "    \"\"\"\n",
    "    Data structure for \"decoder chip v1\"\n",
    "    \"\"\"\n",
    "    def __init__(self):\n",
    "        # Initialize mask with no maskvalues\n",
    "        self._mask = 'X' * 36\n",
    "        self.mem = dict()\n",
    "    \n",
    "    @staticmethod\n",
    "    def get_binstr(val):\n",
    "        # Get the 36bit binary string representation of the\n",
    "        # supplied values\n",
    "        s = bin(val)[2:]\n",
    "        if 36 < len(s):\n",
    "            raise ValueError('Value too large for 36 bits')\n",
    "        return '0'*(36 - len(s)) + s\n",
    "\n",
    "    @property\n",
    "    def mask(self):\n",
    "        return self._mask\n",
    "    @mask.setter\n",
    "    def mask(self, val):\n",
    "        self._mask = val\n",
    "        # Compute the mask indices\n",
    "        self._calc_mask_indices()\n",
    "        \n",
    "    def _calc_mask_indices(self):\n",
    "        self._izeros, self._iones = list(), list()\n",
    "        for i, c in enumerate(self.mask):\n",
    "            if '0' == c:\n",
    "                self._izeros.append(i)\n",
    "            elif '1' == c:\n",
    "                self._iones.append(i)   \n",
    "\n",
    "    def apply_mask_to_val(self, val):\n",
    "        vstr = list(self.get_binstr(val))\n",
    "        for i in self._izeros:\n",
    "            vstr[i] = '0'\n",
    "        for i in self._iones:\n",
    "            vstr[i] = '1'\n",
    "        return ''.join(vstr)\n",
    "\n",
    "    def get_masked_val(self, val):\n",
    "        # Return the integer value from applying\n",
    "        # mask to val\n",
    "        return int(self.apply_mask_to_val(val), 2)\n",
    "    \n",
    "    def assign_val(self, mem, val):\n",
    "        self.mem.update({mem: self.get_masked_val(val)})\n",
    "        \n",
    "    @property\n",
    "    def memsum(self):\n",
    "        return sum(self.mem.values())"
   ]
  },
  {
   "cell_type": "code",
   "execution_count": 103,
   "metadata": {
    "ExecuteTime": {
     "end_time": "2020-12-14T15:56:31.453231Z",
     "start_time": "2020-12-14T15:56:31.441230Z"
    }
   },
   "outputs": [],
   "source": [
    "#mask0 = '00X10101X110010011XX0X011X100000X010'"
   ]
  },
  {
   "cell_type": "code",
   "execution_count": 327,
   "metadata": {
    "ExecuteTime": {
     "end_time": "2020-12-14T21:28:04.498451Z",
     "start_time": "2020-12-14T21:28:04.483452Z"
    }
   },
   "outputs": [],
   "source": [
    "# Get an instance of our decoder\n",
    "bitcalc = BitCalc()\n",
    "\n",
    "# Run through the program\n",
    "for cmd in cmdlist:\n",
    "    op, val = cmd.split(' = ')\n",
    "    if 'mask' == op:\n",
    "        bitcalc.mask = val\n",
    "    elif op.startswith('mem'):\n",
    "        addr = int(op.lstrip('mem[').rstrip(']'))\n",
    "        bitcalc.assign_val(addr, int(val))\n",
    "    else:\n",
    "        raise ValueError(\"Unhandled op: {}\".format(op))"
   ]
  },
  {
   "cell_type": "code",
   "execution_count": 328,
   "metadata": {
    "ExecuteTime": {
     "end_time": "2020-12-14T21:28:05.454175Z",
     "start_time": "2020-12-14T21:28:05.441174Z"
    }
   },
   "outputs": [
    {
     "data": {
      "text/markdown": [
       "The sum of all values in memory is **6386593869035**"
      ],
      "text/plain": [
       "<IPython.core.display.Markdown object>"
      ]
     },
     "execution_count": 328,
     "metadata": {},
     "output_type": "execute_result"
    }
   ],
   "source": [
    "Markdown(\"The sum of all values in memory is **{}**\".format(bitcalc.memsum))"
   ]
  },
  {
   "cell_type": "markdown",
   "metadata": {},
   "source": [
    "## Part 2\n",
    "\n",
    "For some reason, the sea port's computer system still can't communicate with your ferry's docking program. It must be using version 2 of the decoder chip!\n",
    "\n",
    "A version 2 decoder chip doesn't modify the values being written at all. Instead, it acts as a memory address decoder. Immediately before a value is written to memory, each bit in the bitmask modifies the corresponding bit of the destination memory address in the following way:\n",
    "\n",
    "    If the bitmask bit is 0, the corresponding memory address bit is unchanged.\n",
    "    If the bitmask bit is 1, the corresponding memory address bit is overwritten with 1.\n",
    "    If the bitmask bit is X, the corresponding memory address bit is floating.\n",
    "\n",
    "A floating bit is not connected to anything and instead fluctuates unpredictably. In practice, this means the floating bits will take on all possible values, potentially causing many memory addresses to be written all at once!\n",
    "\n",
    "For example, consider the following program:\n",
    "```\n",
    "mask = 000000000000000000000000000000X1001X\n",
    "mem[42] = 100\n",
    "mask = 00000000000000000000000000000000X0XX\n",
    "mem[26] = 1\n",
    "```\n",
    "When this program goes to write to memory address 42, it first applies the bitmask:\n",
    "```\n",
    "address: 000000000000000000000000000000101010  (decimal 42)\n",
    "mask:    000000000000000000000000000000X1001X\n",
    "result:  000000000000000000000000000000X1101X\n",
    "```\n",
    "After applying the mask, four bits are overwritten, three of which are different, and two of which are floating. Floating bits take on every possible combination of values; with two floating bits, four actual memory addresses are written:\n",
    "```\n",
    "000000000000000000000000000000011010  (decimal 26)\n",
    "000000000000000000000000000000011011  (decimal 27)\n",
    "000000000000000000000000000000111010  (decimal 58)\n",
    "000000000000000000000000000000111011  (decimal 59)\n",
    "```\n",
    "Next, the program is about to write to memory address 26 with a different bitmask:\n",
    "```\n",
    "address: 000000000000000000000000000000011010  (decimal 26)\n",
    "mask:    00000000000000000000000000000000X0XX\n",
    "result:  00000000000000000000000000000001X0XX\n",
    "```\n",
    "This results in an address with three floating bits, causing writes to eight memory addresses:\n",
    "```\n",
    "000000000000000000000000000000010000  (decimal 16)\n",
    "000000000000000000000000000000010001  (decimal 17)\n",
    "000000000000000000000000000000010010  (decimal 18)\n",
    "000000000000000000000000000000010011  (decimal 19)\n",
    "000000000000000000000000000000011000  (decimal 24)\n",
    "000000000000000000000000000000011001  (decimal 25)\n",
    "000000000000000000000000000000011010  (decimal 26)\n",
    "000000000000000000000000000000011011  (decimal 27)\n",
    "```\n",
    "The entire 36-bit address space still begins initialized to the value 0 at every address, and you still need the sum of all values left in memory at the end of the program. In this example, the sum is 208.\n",
    "\n",
    "Execute the initialization program using an emulator for a version 2 decoder chip. What is the sum of all values left in memory after it completes?"
   ]
  },
  {
   "cell_type": "code",
   "execution_count": 329,
   "metadata": {
    "ExecuteTime": {
     "end_time": "2020-12-14T21:29:13.155859Z",
     "start_time": "2020-12-14T21:29:13.122856Z"
    }
   },
   "outputs": [],
   "source": [
    "class BitCalc2(object):\n",
    "    \"\"\"\n",
    "    Data structure for \"decoder chip v2\" (memory address decoder)\n",
    "    \"\"\"\n",
    "    def __init__(self):\n",
    "        # Initialize mask as None. Must be assigned to be valid\n",
    "        self._mask = None\n",
    "        self.mem = dict()\n",
    "    \n",
    "    @staticmethod\n",
    "    def get_binstr(val, bitlen=36):\n",
    "        # Get the bitlen binary string representation of the\n",
    "        # supplied value\n",
    "        s = bin(val)[2:]\n",
    "        if bitlen < len(s):\n",
    "            raise ValueError('Value too large for {} bits'.format(bitlen))\n",
    "        return '0'*(bitlen - len(s)) + s\n",
    "    \n",
    "    @property\n",
    "    def mask(self):\n",
    "        return self._mask\n",
    "    @mask.setter\n",
    "    def mask(self, val):\n",
    "        self._mask = val\n",
    "        # Compute the mask indices\n",
    "        self._calc_mask_indices()\n",
    "        \n",
    "    def _calc_mask_indices(self):\n",
    "        self._izeros, self._iones = list(), list()\n",
    "        self._ix = list()\n",
    "        for i, c in enumerate(self.mask):\n",
    "            if '0' == c:\n",
    "                # Zeros do not change anything when applied\n",
    "                # May be able to just drop this\n",
    "                self._izeros.append(i)\n",
    "            elif '1' == c:\n",
    "                self._iones.append(i)   \n",
    "            elif 'X' == c:\n",
    "                self._ix.append(i)\n",
    "            else:\n",
    "                raise ValueError(\"Unsupported bit value: {}\".format(c))\n",
    "\n",
    "    def apply_mask_to_addr(self, addr):\n",
    "        # Applying the mask to the address should\n",
    "        # return a list of address indices to vary\n",
    "        combos = 2 ** len(self._ix)\n",
    "        bincombos = [self.get_binstr(x, len(self._ix))\n",
    "                     for x in range(combos)]\n",
    "        icombos = list()\n",
    "        for ib in bincombos:\n",
    "            icombos.append([self._ix[i]\n",
    "                            for i, j in enumerate(ib) if j == '1'])\n",
    "        return icombos\n",
    "\n",
    "    def get_masked_addrs(self, addr):\n",
    "        # Return list of addresses for addr with mask applied\n",
    "        binaddr = list(self.get_binstr(addr))\n",
    "        # Apply self._iones to the binaddr\n",
    "        for i in self._iones:\n",
    "            binaddr[i] = '1'\n",
    "        ixs = self.apply_mask_to_addr(addr)\n",
    "        addrlist = list()\n",
    "        for ix in ixs:\n",
    "            b = binaddr.copy()\n",
    "            # Set zero at all self._ix locations\n",
    "            for i in self._ix:\n",
    "                b[i] = '0'\n",
    "            if ix:\n",
    "                # ix is not an empty list\n",
    "                for i in ix:\n",
    "                    b[i] = '1'\n",
    "            addrlist.append(int(''.join(b), 2))\n",
    "        return addrlist\n",
    "    \n",
    "    def assign_val(self, mem, val):\n",
    "        self.mem.update({addr: val for addr in self.get_masked_addrs(mem)})\n",
    "        \n",
    "    @property\n",
    "    def memsum(self):\n",
    "        return sum(self.mem.values())"
   ]
  },
  {
   "cell_type": "code",
   "execution_count": 330,
   "metadata": {
    "ExecuteTime": {
     "end_time": "2020-12-14T21:30:03.976187Z",
     "start_time": "2020-12-14T21:30:03.969183Z"
    }
   },
   "outputs": [],
   "source": [
    "# Testing\n",
    "#m0 = '000000000000000000000000000000X1001X'\n",
    "#m1 = '00000000000000000000000000000000X0XX'\n",
    "#b = BitCalc2()\n",
    "#b.mask = m0\n",
    "#b.assign_val(42, 100)\n",
    "#b.mask = m1\n",
    "#b.assign_val(26, 1)\n",
    "#b.memsum\n",
    "#b.apply_mask_to_addr(42)\n",
    "#b.apply_mask_to_addr(26)\n",
    "#b.get_masked_addrs(42)\n",
    "#b.get_masked_addrs(26)\n",
    "#icombos = list()\n",
    "#for ib in bincombos:\n",
    "#    icombos.append([xs[i] for i, j in enumerate(ib) if j == '1'])\n",
    "#icombos"
   ]
  },
  {
   "cell_type": "code",
   "execution_count": 331,
   "metadata": {
    "ExecuteTime": {
     "end_time": "2020-12-14T21:30:51.810272Z",
     "start_time": "2020-12-14T21:30:51.395260Z"
    }
   },
   "outputs": [],
   "source": [
    "# Get an instance of our v2 decoder\n",
    "bitcalc = BitCalc2()\n",
    "\n",
    "# Run through the program\n",
    "for cmd in cmdlist:\n",
    "    op, val = cmd.split(' = ')\n",
    "    if 'mask' == op:\n",
    "        bitcalc.mask = val\n",
    "    elif op.startswith('mem'):\n",
    "        addr = int(op.lstrip('mem[').rstrip(']'))\n",
    "        bitcalc.assign_val(addr, int(val))\n",
    "    else:\n",
    "        raise ValueError(\"Unhandled op: {}\".format(op))"
   ]
  },
  {
   "cell_type": "code",
   "execution_count": 332,
   "metadata": {
    "ExecuteTime": {
     "end_time": "2020-12-14T21:30:52.436293Z",
     "start_time": "2020-12-14T21:30:52.412293Z"
    }
   },
   "outputs": [
    {
     "data": {
      "text/markdown": [
       "The sum of all values in memory is **4288986482164**"
      ],
      "text/plain": [
       "<IPython.core.display.Markdown object>"
      ]
     },
     "execution_count": 332,
     "metadata": {},
     "output_type": "execute_result"
    }
   ],
   "source": [
    "Markdown(\"The sum of all values in memory is **{}**\".format(bitcalc.memsum))"
   ]
  }
 ],
 "metadata": {
  "kernelspec": {
   "display_name": "Python 3",
   "language": "python",
   "name": "python3"
  },
  "language_info": {
   "codemirror_mode": {
    "name": "ipython",
    "version": 3
   },
   "file_extension": ".py",
   "mimetype": "text/x-python",
   "name": "python",
   "nbconvert_exporter": "python",
   "pygments_lexer": "ipython3",
   "version": "3.6.10"
  },
  "toc": {
   "base_numbering": 1,
   "nav_menu": {},
   "number_sections": true,
   "sideBar": true,
   "skip_h1_title": false,
   "title_cell": "Table of Contents",
   "title_sidebar": "Contents",
   "toc_cell": false,
   "toc_position": {},
   "toc_section_display": true,
   "toc_window_display": false
  }
 },
 "nbformat": 4,
 "nbformat_minor": 4
}
