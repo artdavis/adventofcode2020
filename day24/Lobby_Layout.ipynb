{
 "cells": [
  {
   "cell_type": "code",
   "execution_count": 1,
   "metadata": {
    "ExecuteTime": {
     "end_time": "2020-12-26T14:28:55.851878Z",
     "start_time": "2020-12-26T14:28:54.317878Z"
    }
   },
   "outputs": [],
   "source": [
    "import numpy as np\n",
    "from scipy.spatial import KDTree\n",
    "from matplotlib import pyplot as plt\n",
    "from IPython.display import Markdown\n",
    "from IPython.core.debugger import set_trace"
   ]
  },
  {
   "cell_type": "markdown",
   "metadata": {},
   "source": [
    "# Day 24: Lobby Layout\n",
    "\n",
    "Reference: https://adventofcode.com/2020/day/24\n",
    "\n",
    "## Part 1\n",
    "\n",
    "Your raft makes it to the tropical island; it turns out that the small crab was an excellent navigator. You make your way to the resort.\n",
    "\n",
    "As you enter the lobby, you discover a small problem: the floor is being renovated. You can't even reach the check-in desk until they've finished installing the new tile floor.\n",
    "\n",
    "The tiles are all hexagonal; they need to be arranged in a hex grid with a very specific color pattern. Not in the mood to wait, you offer to help figure out the pattern.\n",
    "\n",
    "The tiles are all white on one side and black on the other. They start with the white side facing up. The lobby is large enough to fit whatever pattern might need to appear there.\n",
    "\n",
    "A member of the renovation crew gives you a list of the tiles that need to be flipped over (your puzzle input). Each line in the list identifies a single tile that needs to be flipped by giving a series of steps starting from a reference tile in the very center of the room. (Every line starts from the same reference tile.)\n",
    "\n",
    "Because the tiles are hexagonal, every tile has six neighbors: east, southeast, southwest, west, northwest, and northeast. These directions are given in your list, respectively, as e, se, sw, w, nw, and ne. A tile is identified by a series of these directions with no delimiters; for example, esenee identifies the tile you land on if you start at the reference tile and then move one tile east, one tile southeast, one tile northeast, and one tile east.\n",
    "\n",
    "Each time a tile is identified, it flips from white to black or from black to white. Tiles might be flipped more than once. For example, a line like esew flips a tile immediately adjacent to the reference tile, and a line like nwwswee flips the reference tile itself.\n",
    "\n",
    "Here is a larger example:\n",
    "```\n",
    "sesenwnenenewseeswwswswwnenewsewsw\n",
    "neeenesenwnwwswnenewnwwsewnenwseswesw\n",
    "seswneswswsenwwnwse\n",
    "nwnwneseeswswnenewneswwnewseswneseene\n",
    "swweswneswnenwsewnwneneseenw\n",
    "eesenwseswswnenwswnwnwsewwnwsene\n",
    "sewnenenenesenwsewnenwwwse\n",
    "wenwwweseeeweswwwnwwe\n",
    "wsweesenenewnwwnwsenewsenwwsesesenwne\n",
    "neeswseenwwswnwswswnw\n",
    "nenwswwsewswnenenewsenwsenwnesesenew\n",
    "enewnwewneswsewnwswenweswnenwsenwsw\n",
    "sweneswneswneneenwnewenewwneswswnese\n",
    "swwesenesewenwneswnwwneseswwne\n",
    "enesenwswwswneneswsenwnewswseenwsese\n",
    "wnwnesenesenenwwnenwsewesewsesesew\n",
    "nenewswnwewswnenesenwnesewesw\n",
    "eneswnwswnwsenenwnwnwwseeswneewsenese\n",
    "neswnwewnwnwseenwseesewsenwsweewe\n",
    "wseweeenwnesenwwwswnew\n",
    "```\n",
    "In the above example, 10 tiles are flipped once (to black), and 5 more are flipped twice (to black, then back to white). After all of these instructions have been followed, a total of 10 tiles are black.\n",
    "\n",
    "Go through the renovation crew's list and determine which tiles they need to flip. After all of the instructions have been followed, how many tiles are left with the black side up?"
   ]
  },
  {
   "cell_type": "code",
   "execution_count": 2,
   "metadata": {
    "ExecuteTime": {
     "end_time": "2020-12-26T14:28:55.867879Z",
     "start_time": "2020-12-26T14:28:55.854878Z"
    }
   },
   "outputs": [],
   "source": [
    "#with open('test_tiles_input.txt', 'r') as fid:\n",
    "with open('tiles_input.txt', 'r') as fid:\n",
    "    intiles = fid.read().splitlines()"
   ]
  },
  {
   "cell_type": "markdown",
   "metadata": {},
   "source": [
    "### Strategy\n",
    "\n",
    "The coordinate system will use a rectangular grid but tile locations\n",
    "will be restricted to only use points that are part of\n",
    "a hexagonal tiling. As per the offsets defined below:"
   ]
  },
  {
   "cell_type": "code",
   "execution_count": 3,
   "metadata": {
    "ExecuteTime": {
     "end_time": "2020-12-26T14:28:55.883881Z",
     "start_time": "2020-12-26T14:28:55.870878Z"
    }
   },
   "outputs": [],
   "source": [
    "# Codes for the possible directions\n",
    "dir_codes = {'e':'0', 'ne':'1', 'nw':'2',\n",
    "             'w':'3', 'sw':'4', 'se':'5'}\n",
    "\n",
    "offsets = {'0': (2, 0), # e\n",
    "            '1': (1, 2), # ne\n",
    "            '2': (-1, 2), # nw\n",
    "            '3': (-2, 0), # w\n",
    "            '4': (-1, -2), # sw\n",
    "            '5': (1, -2)} # se\n"
   ]
  },
  {
   "cell_type": "markdown",
   "metadata": {},
   "source": [
    "We can see how these points relate to the rectangular grid\n",
    "plotted here:"
   ]
  },
  {
   "cell_type": "code",
   "execution_count": 4,
   "metadata": {
    "ExecuteTime": {
     "end_time": "2020-12-26T14:28:56.186878Z",
     "start_time": "2020-12-26T14:28:55.886878Z"
    }
   },
   "outputs": [
    {
     "data": {
      "image/png": "[encoded data removed]",
      "text/plain": [
       "<Figure size 432x288 with 1 Axes>"
      ]
     },
     "metadata": {
      "needs_background": "light"
     },
     "output_type": "display_data"
    }
   ],
   "source": [
    "xhex = np.array([xy[0] for xy in offsets.values()] + [0])\n",
    "yhex = np.array([xy[1] for xy in offsets.values()] + [0])\n",
    "\n",
    "xg, yg = np.meshgrid(range(-3,4), range(-3,4))\n",
    "\n",
    "fig, ax = plt.subplots()\n",
    "ax.scatter(xg.ravel(), yg.ravel(),\n",
    "           color='blue', s=50,\n",
    "           marker='s')\n",
    "ax.scatter(xhex, yhex,\n",
    "           edgecolors='black',\n",
    "           color='red',\n",
    "           s=500, marker='h')\n",
    "plt.show()"
   ]
  },
  {
   "cell_type": "code",
   "execution_count": 5,
   "metadata": {
    "ExecuteTime": {
     "end_time": "2020-12-26T14:28:56.202878Z",
     "start_time": "2020-12-26T14:28:56.188882Z"
    }
   },
   "outputs": [],
   "source": [
    "def dir_to_codes(txt):\n",
    "    # Replace all ocurrences of diagnoal directions with their\n",
    "    # key code, then 'e' and 'w' can be done without worry\n",
    "    # about having used an e,w from one of the diagnoal specifiers\n",
    "    for k in ['ne', 'nw', 'sw', 'se']:\n",
    "        txt = txt.replace(k, dir_codes[k])\n",
    "    for k in ['e', 'w']:\n",
    "        txt = txt.replace(k, dir_codes[k])\n",
    "    return txt\n",
    "\n",
    "def codes_to_tups(txt):\n",
    "    # Convert code string to displacement tuples\n",
    "    return [offsets[x] for x in txt]\n",
    "\n",
    "def dir_to_tups(txt):\n",
    "    # Convert direction string to displacement tuples\n",
    "    return codes_to_tups(dir_to_codes(txt))"
   ]
  },
  {
   "cell_type": "code",
   "execution_count": 6,
   "metadata": {
    "ExecuteTime": {
     "end_time": "2020-12-26T14:28:56.233878Z",
     "start_time": "2020-12-26T14:28:56.205878Z"
    }
   },
   "outputs": [],
   "source": [
    "dir_tups = list()\n",
    "for txt in intiles:\n",
    "    dir_tups.append(dir_to_tups(txt))"
   ]
  },
  {
   "cell_type": "code",
   "execution_count": 7,
   "metadata": {
    "ExecuteTime": {
     "end_time": "2020-12-26T14:28:56.249878Z",
     "start_time": "2020-12-26T14:28:56.235879Z"
    }
   },
   "outputs": [],
   "source": [
    "def get_visited_tile(dirtups):\n",
    "    # Return the visited tile coordinate\n",
    "    # tuple based on the supplied list\n",
    "    # of offset tuples supplied in dirtups.\n",
    "    x, y = (0, 0) # Reference tile\n",
    "    for dx, dy in dirtups:\n",
    "        x += dx\n",
    "        y += dy\n",
    "    return (x, y)"
   ]
  },
  {
   "cell_type": "code",
   "execution_count": 8,
   "metadata": {
    "ExecuteTime": {
     "end_time": "2020-12-26T14:28:56.281878Z",
     "start_time": "2020-12-26T14:28:56.252882Z"
    }
   },
   "outputs": [],
   "source": [
    "# Coordinates dictionary of visited tiles\n",
    "# White = True; Black = False\n",
    "coords = dict()\n",
    "\n",
    "for dtups in dir_tups:\n",
    "    x, y = get_visited_tile(dtups)\n",
    "    if (x, y) in coords:\n",
    "        coords[(x, y)] = not(coords[(x, y)])\n",
    "    else:\n",
    "        coords[(x, y)] = False"
   ]
  },
  {
   "cell_type": "code",
   "execution_count": 9,
   "metadata": {
    "ExecuteTime": {
     "end_time": "2020-12-26T14:28:56.313881Z",
     "start_time": "2020-12-26T14:28:56.284880Z"
    }
   },
   "outputs": [
    {
     "data": {
      "text/markdown": [
       "The number of tiles that are left with the black side up is **495**"
      ],
      "text/plain": [
       "<IPython.core.display.Markdown object>"
      ]
     },
     "execution_count": 9,
     "metadata": {},
     "output_type": "execute_result"
    }
   ],
   "source": [
    "nblack = len(coords) - sum(coords.values())\n",
    "Markdown(\"The number of tiles that are left with the black side \"\n",
    "         \"up is **{}**\".format(nblack))"
   ]
  },
  {
   "cell_type": "markdown",
   "metadata": {},
   "source": [
    "## Part 2\n",
    "\n",
    "The tile floor in the lobby is meant to be a living art exhibit. Every day, the tiles are all flipped according to the following rules:\n",
    "\n",
    "- Any black tile with zero or more than 2 black tiles immediately adjacent to it is flipped to white.\n",
    "- Any white tile with exactly 2 black tiles immediately adjacent to it is flipped to black.\n",
    "\n",
    "Here, tiles immediately adjacent means the six tiles directly touching the tile in question.\n",
    "\n",
    "The rules are applied simultaneously to every tile; put another way, it is first determined which tiles need to be flipped, then they are all flipped at the same time.\n",
    "\n",
    "In the above example, the number of black tiles that are facing up after the given number of days has passed is as follows:\n",
    "```\n",
    "Day 1: 15\n",
    "Day 2: 12\n",
    "Day 3: 25\n",
    "Day 4: 14\n",
    "Day 5: 23\n",
    "Day 6: 28\n",
    "Day 7: 41\n",
    "Day 8: 37\n",
    "Day 9: 49\n",
    "Day 10: 37\n",
    "\n",
    "Day 20: 132\n",
    "Day 30: 259\n",
    "Day 40: 406\n",
    "Day 50: 566\n",
    "Day 60: 788\n",
    "Day 70: 1106\n",
    "Day 80: 1373\n",
    "Day 90: 1844\n",
    "Day 100: 2208\n",
    "```\n",
    "After executing this process a total of 100 times, there would be 2208 black tiles facing up.\n",
    "\n",
    "How many tiles will be black after 100 days?"
   ]
  },
  {
   "cell_type": "code",
   "execution_count": 10,
   "metadata": {
    "ExecuteTime": {
     "end_time": "2020-12-26T14:28:56.329886Z",
     "start_time": "2020-12-26T14:28:56.315878Z"
    }
   },
   "outputs": [],
   "source": [
    "xc, yc, vals = ([], [], [])\n",
    "for (x, y), v in coords.items():\n",
    "    xc.append(x)\n",
    "    yc.append(y)\n",
    "    vals.append(v)\n",
    "\n",
    "xy = np.array([xc, yc]).T\n",
    "vals = np.array(vals, dtype=np.uint8)\n",
    "\n",
    "xy1 = xy.copy()\n",
    "vals1 = vals.copy()\n",
    "xytups = set([tuple(c) for c in xy1])\n",
    "\n",
    "# For each xy coordinate get all possible neighbors. Any missing neighbors\n",
    "# get added as a white tile.\n",
    "def get_all_neigh_coords(coord0):\n",
    "    global offsets2\n",
    "    return [coord0 + offset for offset in offsets.values()]\n",
    "\n",
    "def get_missing_neigh_coords(coord0):\n",
    "    global xy1\n",
    "    global vals1\n",
    "    global xytups\n",
    "    for coord in get_all_neigh_coords(coord0):\n",
    "        #print(tuple(coord))\n",
    "        if tuple(coord) not in xytups:\n",
    "            xy1 = np.append(xy1, [coord], axis=0)\n",
    "            xytups.add(tuple(coord))\n",
    "            vals1 = np.append(vals1, 1)\n",
    "            "
   ]
  },
  {
   "cell_type": "code",
   "execution_count": 11,
   "metadata": {
    "ExecuteTime": {
     "end_time": "2020-12-26T14:39:50.585922Z",
     "start_time": "2020-12-26T14:28:56.331879Z"
    }
   },
   "outputs": [
    {
     "name": "stdout",
     "output_type": "stream",
     "text": [
      "Day 1: 343\n"
     ]
    },
    {
     "data": {
      "image/png": "[encoded data removed]",
      "text/plain": [
       "<Figure size 432x288 with 1 Axes>"
      ]
     },
     "metadata": {
      "needs_background": "light"
     },
     "output_type": "display_data"
    },
    {
     "name": "stdout",
     "output_type": "stream",
     "text": [
      "Day 10: 575\n"
     ]
    },
    {
     "data": {
      "image/png": "[encoded data removed]",
      "text/plain": [
       "<Figure size 432x288 with 1 Axes>"
      ]
     },
     "metadata": {
      "needs_background": "light"
     },
     "output_type": "display_data"
    },
    {
     "name": "stdout",
     "output_type": "stream",
     "text": [
      "Day 20: 813\n",
      "Day 30: 1054\n",
      "Day 40: 1388\n",
      "Day 50: 1793\n",
      "Day 60: 2074\n",
      "Day 70: 2575\n",
      "Day 80: 3026\n",
      "Day 90: 3711\n",
      "Day 100: 4012\n"
     ]
    }
   ],
   "source": [
    "def initlifecycle(ncycles=100):\n",
    "    global xy1\n",
    "    global vals1\n",
    "    global xytups\n",
    "    xy1 = xy.copy()\n",
    "    vals1 = vals.copy()\n",
    "    xytups = set([tuple(c) for c in xy1])\n",
    "    return lifecycle(ncycles)\n",
    "\n",
    "def lifecycle(ncycles=100):\n",
    "    global xy1\n",
    "    global vals1\n",
    "    global xytups\n",
    "    makeplot = False\n",
    "    for iteration in range(ncycles):\n",
    "        #print(iteration, end='.')\n",
    "        # Find boundary coordinates based on current\n",
    "        # snapshot of xy1\n",
    "        xy2 = xy1.copy()\n",
    "        for c in xy2:\n",
    "            # Update xy1, vals1 and xytups with new border coords\n",
    "            get_missing_neigh_coords(c)\n",
    "        # --------------\n",
    "        if iteration == 1 or iteration == 10:\n",
    "            makeplot = True\n",
    "        if makeplot:\n",
    "            fig, ax = plt.subplots()\n",
    "            zeros = vals1 == 0\n",
    "            ax.scatter(xy1[zeros][:,0], xy1[zeros][:,1],\n",
    "                       color='black', s=20,\n",
    "                       marker='h')\n",
    "            ones = vals1 == 1\n",
    "            ax.scatter(xy1[ones][:,0], xy1[ones][:,1],\n",
    "                       edgecolors='black',\n",
    "                       color='white',\n",
    "                       s=20, marker='h')\n",
    "            ax.set_title(\"Day: {}\".format(iteration))\n",
    "            #ax.set_xlim(-15, 15)\n",
    "            #ax.set_ylim(-15, 15)\n",
    "        # --------------\n",
    "        vals2 = vals1.copy()\n",
    "        kd = KDTree(xy1)\n",
    "        neighs = list()\n",
    "        for c in xy1:\n",
    "            n = kd.query(c, 7, distance_upper_bound=2.24)[1][1:]\n",
    "            #set_trace()\n",
    "            neighs.append(n)    \n",
    "        for i, n in enumerate(neighs):\n",
    "            #if tuple(xy1[i]) == (6, 0):\n",
    "            #    set_trace()\n",
    "            nv = vals1[n[n < len(vals1)]]\n",
    "            nblack = (nv == 0).sum()\n",
    "            if 0 == vals1[i]:\n",
    "                # Starts as a black tile\n",
    "                nvsum = nv.sum()\n",
    "                if 0 == nblack or 2 < nblack:\n",
    "                    # Flip the tile\n",
    "                    vals2[i] = 1\n",
    "            else:\n",
    "                # Starts as a white tile\n",
    "                if 2 == nblack:\n",
    "                    # Flip the tile\n",
    "                    vals2[i] = 0\n",
    "        vals1 = vals2.copy()\n",
    "        # --------------\n",
    "        if makeplot:\n",
    "            #zeros = vals1 == 0\n",
    "            #ax.scatter(xy1[zeros][:,0], xy1[zeros][:,1],\n",
    "            #           color='blue', s=150,\n",
    "            #           marker='h')\n",
    "            #ones = vals1 == 1\n",
    "            #ax.scatter(xy1[ones][:,0], xy1[ones][:,1],\n",
    "            #           edgecolors='black',\n",
    "            #           color='yellow',\n",
    "            #           s=150, marker='h')\n",
    "            plt.show()\n",
    "            makeplot = False\n",
    "        # --------------\n",
    "        if iteration == 0 or iteration % 10 == 9:\n",
    "            print(\"Day {}: {}\".format(iteration + 1, len(vals1) - sum(vals1)))\n",
    "\n",
    "    return vals1, xy1\n",
    "\n",
    "vals1, xy1 = initlifecycle(100)\n",
    "nblack = len(vals1) - sum(vals1)"
   ]
  },
  {
   "cell_type": "code",
   "execution_count": 12,
   "metadata": {
    "ExecuteTime": {
     "end_time": "2020-12-26T14:39:50.601921Z",
     "start_time": "2020-12-26T14:39:50.586921Z"
    }
   },
   "outputs": [
    {
     "data": {
      "text/markdown": [
       "The number of tiles that will be black after 100 days is **4012**"
      ],
      "text/plain": [
       "<IPython.core.display.Markdown object>"
      ]
     },
     "execution_count": 12,
     "metadata": {},
     "output_type": "execute_result"
    }
   ],
   "source": [
    "Markdown(\"The number of tiles that will be black after \"\n",
    "         \"100 days is **{}**\".format(nblack))"
   ]
  },
  {
   "cell_type": "code",
   "execution_count": null,
   "metadata": {},
   "outputs": [],
   "source": []
  }
 ],
 "metadata": {
  "kernelspec": {
   "display_name": "Python 3",
   "language": "python",
   "name": "python3"
  },
  "language_info": {
   "codemirror_mode": {
    "name": "ipython",
    "version": 3
   },
   "file_extension": ".py",
   "mimetype": "text/x-python",
   "name": "python",
   "nbconvert_exporter": "python",
   "pygments_lexer": "ipython3",
   "version": "3.6.10"
  },
  "toc": {
   "base_numbering": 1,
   "nav_menu": {},
   "number_sections": true,
   "sideBar": true,
   "skip_h1_title": false,
   "title_cell": "Table of Contents",
   "title_sidebar": "Contents",
   "toc_cell": false,
   "toc_position": {},
   "toc_section_display": true,
   "toc_window_display": false
  }
 },
 "nbformat": 4,
 "nbformat_minor": 4
}
