{
 "cells": [
  {
   "cell_type": "code",
   "execution_count": 1,
   "metadata": {
    "ExecuteTime": {
     "end_time": "2020-12-25T12:22:39.402394Z",
     "start_time": "2020-12-25T12:22:37.805336Z"
    },
    "collapsed": true
   },
   "outputs": [],
   "source": [
    "from collections import deque\n",
    "import numpy as np\n",
    "import pandas as pd\n",
    "from IPython.display import Markdown\n",
    "from IPython.core.debugger import set_trace as breakpt"
   ]
  },
  {
   "cell_type": "markdown",
   "metadata": {},
   "source": [
    "# Day 23: Crab Cups\n",
    "\n",
    "Reference: https://adventofcode.com/2020/day/23\n",
    "\n",
    "## Part 1\n",
    "\n",
    "The small crab challenges you to a game! The crab is going to mix up some cups, and you have to predict where they'll end up.\n",
    "\n",
    "The cups will be arranged in a circle and labeled clockwise (your puzzle input). For example, if your labeling were 32415, there would be five cups in the circle; going clockwise around the circle from the first cup, the cups would be labeled 3, 2, 4, 1, 5, and then back to 3 again.\n",
    "\n",
    "Before the crab starts, it will designate the first cup in your list as the current cup. The crab is then going to do 100 moves.\n",
    "\n",
    "Each move, the crab does the following actions:\n",
    "\n",
    "- The crab picks up the three cups that are immediately clockwise of the current cup. They are removed from the circle; cup spacing is adjusted as necessary to maintain the circle.\n",
    "- The crab selects a destination cup: the cup with a label equal to the current cup's label minus one. If this would select one of the cups that was just picked up, the crab will keep subtracting one until it finds a cup that wasn't just picked up. If at any point in this process the value goes below the lowest value on any cup's label, it wraps around to the highest value on any cup's label instead.\n",
    "- The crab places the cups it just picked up so that they are immediately clockwise of the destination cup. They keep the same order as when they were picked up.\n",
    "- The crab selects a new current cup: the cup which is immediately clockwise of the current cup.\n",
    "\n",
    "For example, suppose your cup labeling were 389125467. If the crab were to do merely 10 moves, the following changes would occur:\n",
    "```\n",
    "-- move 1 --\n",
    "cups: (3) 8  9  1  2  5  4  6  7 \n",
    "pick up: 8, 9, 1\n",
    "destination: 2\n",
    "\n",
    "-- move 2 --\n",
    "cups:  3 (2) 8  9  1  5  4  6  7 \n",
    "pick up: 8, 9, 1\n",
    "destination: 7\n",
    "\n",
    "-- move 3 --\n",
    "cups:  3  2 (5) 4  6  7  8  9  1 \n",
    "pick up: 4, 6, 7\n",
    "destination: 3\n",
    "\n",
    "-- move 4 --\n",
    "cups:  7  2  5 (8) 9  1  3  4  6 \n",
    "pick up: 9, 1, 3\n",
    "destination: 7\n",
    "\n",
    "-- move 5 --\n",
    "cups:  3  2  5  8 (4) 6  7  9  1 \n",
    "pick up: 6, 7, 9\n",
    "destination: 3\n",
    "\n",
    "-- move 6 --\n",
    "cups:  9  2  5  8  4 (1) 3  6  7 \n",
    "pick up: 3, 6, 7\n",
    "destination: 9\n",
    "\n",
    "-- move 7 --\n",
    "cups:  7  2  5  8  4  1 (9) 3  6 \n",
    "pick up: 3, 6, 7\n",
    "destination: 8\n",
    "\n",
    "-- move 8 --\n",
    "cups:  8  3  6  7  4  1  9 (2) 5 \n",
    "pick up: 5, 8, 3\n",
    "destination: 1\n",
    "\n",
    "-- move 9 --\n",
    "cups:  7  4  1  5  8  3  9  2 (6)\n",
    "pick up: 7, 4, 1\n",
    "destination: 5\n",
    "\n",
    "-- move 10 --\n",
    "cups: (5) 7  4  1  8  3  9  2  6 \n",
    "pick up: 7, 4, 1\n",
    "destination: 3\n",
    "\n",
    "-- final --\n",
    "cups:  5 (8) 3  7  4  1  9  2  6 \n",
    "```\n",
    "In the above example, the cups' values are the labels as they appear moving clockwise around the circle; the current cup is marked with ( ).\n",
    "\n",
    "After the crab is done, what order will the cups be in? Starting after the cup labeled 1, collect the other cups' labels clockwise into a single string with no extra characters; each number except 1 should appear exactly once. In the above example, after 10 moves, the cups clockwise from 1 are labeled 9, 2, 6, 5, and so on, producing `92658374`. If the crab were to complete all 100 moves, the order after cup 1 would be `67384529`.\n",
    "\n",
    "Using your labeling, simulate 100 moves. What are the labels on the cups after cup 1?\n",
    "\n",
    "Your puzzle input was `219347865`."
   ]
  },
  {
   "cell_type": "code",
   "execution_count": 171,
   "metadata": {
    "ExecuteTime": {
     "end_time": "2020-12-25T18:50:22.360715Z",
     "start_time": "2020-12-25T18:50:22.344713Z"
    },
    "collapsed": true
   },
   "outputs": [],
   "source": [
    "# Helper functions while for round iterations\n",
    "\n",
    "def minusone(n, elems):\n",
    "    \"\"\"\n",
    "    From the supplied list elements, return the value\n",
    "    for n - 1. If n - 1 is not in elems, return n - 2\n",
    "    if n - 2 not in elemes, return n -3 and so on.\n",
    "    Wrap around to max value of list if necessay\n",
    "    \"\"\"\n",
    "    n1 = n - 1\n",
    "    while True:\n",
    "        if n1 in elems:\n",
    "            return n1\n",
    "        if n1 < min(elems):\n",
    "            n1 = max(elems)\n",
    "        else:\n",
    "            n1 -= 1\n",
    "\n",
    "def next1(n, elems):\n",
    "    \"\"\"\n",
    "    From the supplied list elements, return\n",
    "    the next 1 after n, wrapping around if\n",
    "    necessary\n",
    "    \"\"\"\n",
    "    i = elems.index(n) + 1\n",
    "    return elems[i % len(elems)]\n",
    "\n",
    "def next3(n, elems):\n",
    "    \"\"\"\n",
    "    From the supplied list elements, return\n",
    "    the next 3 after n, wrapping around if\n",
    "    necessary\n",
    "    \"\"\"\n",
    "    i = elems.index(n) + 1\n",
    "    return [elems[x % len(elems)] for x in range(i, i+3)]"
   ]
  },
  {
   "cell_type": "code",
   "execution_count": 172,
   "metadata": {
    "ExecuteTime": {
     "end_time": "2020-12-25T18:50:26.538479Z",
     "start_time": "2020-12-25T18:50:26.511478Z"
    },
    "collapsed": true
   },
   "outputs": [],
   "source": [
    "#cups = [int(x) for x in '389125467'] # Test input\n",
    "cups = [int(x) for x in '219347865']\n",
    "nrounds = 100\n",
    "current_cup = cups[0]\n",
    "for i in range(nrounds):\n",
    "    ##print('-- move {} --'.format(i + 1))\n",
    "    ##print(\"cups: \", cups)\n",
    "    pick = next3(current_cup, cups)\n",
    "    ##print(\"pick up: \", pick)\n",
    "    pick_stack = list()\n",
    "    for p in pick:\n",
    "        pick_stack.append(p)\n",
    "        cups.remove(p)\n",
    "    #print(\"pick stack: \", pick_stack)\n",
    "    #print(\"cups: \", cups)\n",
    "    destination = minusone(current_cup, cups)\n",
    "    ##print(\"destination: \", destination)\n",
    "    idest = cups.index(destination) + 1\n",
    "    #print(\"idest: \", idest)\n",
    "    for c in pick_stack[::-1]:\n",
    "        cups.insert(idest, c)\n",
    "    #print(\"cups: \", cups)\n",
    "    current_cup = next1(current_cup, cups)"
   ]
  },
  {
   "cell_type": "code",
   "execution_count": 173,
   "metadata": {
    "ExecuteTime": {
     "end_time": "2020-12-25T18:50:27.190317Z",
     "start_time": "2020-12-25T18:50:27.170318Z"
    },
    "collapsed": true
   },
   "outputs": [
    {
     "data": {
      "text/plain": [
       "[3, 6, 4, 7, 2, 5, 9, 8]"
      ]
     },
     "execution_count": 173,
     "metadata": {},
     "output_type": "execute_result"
    }
   ],
   "source": [
    "# Assemble string from 1 and working around\n",
    "soln_list = [cups[x % len(cups)] for x in \n",
    "             range(cups.index(1) + 1, cups.index(1) + len(cups))]\n",
    "soln_list"
   ]
  },
  {
   "cell_type": "code",
   "execution_count": 174,
   "metadata": {
    "ExecuteTime": {
     "end_time": "2020-12-25T18:50:27.955788Z",
     "start_time": "2020-12-25T18:50:27.940786Z"
    },
    "collapsed": true
   },
   "outputs": [
    {
     "data": {
      "text/markdown": [
       "The labels after cups 1 are **36472598**"
      ],
      "text/plain": [
       "<IPython.core.display.Markdown object>"
      ]
     },
     "execution_count": 174,
     "metadata": {},
     "output_type": "execute_result"
    }
   ],
   "source": [
    "soln_labels = ''.join([str(x) for x in soln_list])\n",
    "Markdown(\"The labels after cups 1 are **{}**\".format(soln_labels))"
   ]
  },
  {
   "cell_type": "markdown",
   "metadata": {},
   "source": [
    "## Part Two\n",
    "\n",
    "Due to what you can only assume is a mistranslation (you're not exactly fluent in Crab), you are quite surprised when the crab starts arranging many cups in a circle on your raft - one million (1000000) in total.\n",
    "\n",
    "Your labeling is still correct for the first few cups; after that, the remaining cups are just numbered in an increasing fashion starting from the number after the highest number in your list and proceeding one by one until one million is reached. (For example, if your labeling were 54321, the cups would be numbered 5, 4, 3, 2, 1, and then start counting up from 6 until one million is reached.) In this way, every number from one through one million is used exactly once.\n",
    "\n",
    "After discovering where you made the mistake in translating Crab Numbers, you realize the small crab isn't going to do merely 100 moves; the crab is going to do ten million (10000000) moves!\n",
    "\n",
    "The crab is going to hide your stars - one each - under the two cups that will end up immediately clockwise of cup 1. You can have them if you predict what the labels on those cups will be when the crab is finished.\n",
    "\n",
    "In the above example (389125467), this would be 934001 and then 159792; multiplying these together produces `149245887792`.\n",
    "\n",
    "Determine which two cups will end up immediately clockwise of cup 1. What do you get if you multiply their labels together?\n",
    "\n",
    "Your puzzle answer was `90481418730`.\n",
    "\n",
    "Both parts of this puzzle are complete! They provide two gold stars: **\n",
    "\n",
    "At this point, you should return to your Advent calendar and try another puzzle.\n",
    "\n",
    "Your puzzle input was `219347865`."
   ]
  },
  {
   "cell_type": "markdown",
   "metadata": {},
   "source": [
    "### Failed Strategy\n",
    "\n",
    "Of course expanding the number of cups to 1 million and iterating 10 million is\n",
    "going to take way to long for the orignal process that involved list\n",
    "manitpulations.\n",
    "\n",
    "By using collections.deque for the cups and a second deque for\n",
    "indexing the cups we can speed up the cycle and remove the expensive\n",
    "need for doing value look ups. I was never able to make this fast\n",
    "enough either."
   ]
  },
  {
   "cell_type": "code",
   "execution_count": 124,
   "metadata": {
    "ExecuteTime": {
     "end_time": "2020-12-25T14:53:57.932417Z",
     "start_time": "2020-12-25T14:53:57.912417Z"
    },
    "collapsed": true
   },
   "outputs": [],
   "source": [
    "# =-=-=-=-=-=-=-=-=-=-=-=-=-=-=-=-=\n",
    "# FAILED CODE...\n",
    "# TOO SLOW & STILL NEEDS DBUGGING\n",
    "# =-=-=-=-=-=-=-=-=-=-=-=-=-=-=-=-=\n",
    "\n",
    "# Get the destination cup based on the label\n",
    "# supplied, the known length of cups array and\n",
    "# labels that should be excluded from consideration.\n",
    "def get_dest(n, elems_len, exclude):\n",
    "    n1 = n - 1\n",
    "    while True:\n",
    "        if 0 == n1:\n",
    "            n1 = elems_len\n",
    "        if n1 not in exclude:\n",
    "            return n1\n",
    "        n1 -= 1\n",
    "\n",
    "s0 = '389125467' # Test input\n",
    "#s0 = '219347865'\n",
    "cups = deque([int(x) for x in s0]) # Test input\n",
    "#cups.extend(range(max(cups) + 1, 1000001))\n",
    "stack = deque()\n",
    "# Keep an independent list that indexes cup value to it's\n",
    "# position in cups (hacky linked list)\n",
    "iq = deque(range(len(cups) + 1))\n",
    "# Update the referencs in iq\n",
    "for i, c in enumerate(s0):\n",
    "    iq[int(c)] = i\n",
    "# Now the index of iq holds that value at the address in the list\n",
    "# so for example Say the 5th element of iq is 8: iq[5] = 8\n",
    "# That means 5 can be found in cups at index 8: cups[8] = 5\n",
    "# Keep iq updated as cups is changed so we'll never have to do\n",
    "# an expensive lookup by value\n",
    "cupslen = len(cups)\n",
    "\n",
    "#nrounds = 10000000\n",
    "nrounds = 10\n",
    "#nrounds = 100\n",
    "#nrounds = 3\n",
    "\n",
    "for i in range(nrounds):\n",
    "    #if i % 100 == 0:\n",
    "    #    print(i, end='.')\n",
    "    print('-- move {} --'.format(i + 1))\n",
    "    print(\"cups:  \", list(cups))\n",
    "    #print(\"iq: \", iq)\n",
    "    # Rotate cups queue so current cup is the last element\n",
    "    cups.rotate(-(i + 1)) # ROTATION\n",
    "    # The last element is the current_cup\n",
    "    current_cup = cups[-1]\n",
    "    print(\"current cup: \", current_cup)\n",
    "    # Pop-left the next 3 cups onto the stack\n",
    "    for _ in range(3):\n",
    "        stack.append(cups.popleft())\n",
    "    print(\"pick up: \", stack)\n",
    "    # Find index of destination\n",
    "    dest = get_dest(current_cup, cupslen, stack)\n",
    "    print(\"destination: \", dest)\n",
    "    # Subtract 3 + i from the destination since 3 values have been popped off\n",
    "    # and the queue has been rotated -(i + 1)\n",
    "    ii = (iq[dest] - (3 + i + 1)) % cupslen\n",
    "    # The iq values from here to ii need to be decremented by 3 for the\n",
    "    # cups that have been removed\n",
    "    for j in range(ii + 1):\n",
    "        iq[cups[j]] = (iq[cups[j]]- 3) % cupslen # 350us TOO SLOW!\n",
    "    #print('ii: ', ii)\n",
    "    # Rotate cups to where the stack should be inserted\n",
    "    cups.rotate(-(ii + 1)) # ROTATION\n",
    "    for j in range(3):\n",
    "        v = stack.pop()\n",
    "        iq[v] = (2 - j + (ii + 1 + i + 1)) % cupslen\n",
    "        cups.appendleft(v)\n",
    "    # Advance the cups to the ground state\n",
    "    cups.rotate(ii + 1 + i + 1)"
   ]
  },
  {
   "cell_type": "markdown",
   "metadata": {},
   "source": [
    "### Successful Strategy\n",
    "\n",
    "Use a Pandas.Series with the index as the cup labels\n",
    "and the corresponding value as the next cup label to\n",
    "the right as a linked list. Then all operations can\n",
    "be reduced to look-ups or assignments of values in\n",
    "the Series instance."
   ]
  },
  {
   "cell_type": "code",
   "execution_count": 183,
   "metadata": {
    "ExecuteTime": {
     "end_time": "2020-12-25T19:11:59.721347Z",
     "start_time": "2020-12-25T19:11:59.699344Z"
    }
   },
   "outputs": [],
   "source": [
    "# Helper functions for the rounds\n",
    "\n",
    "def get_seq(current_cup, cuplist=[], seqlen=3):\n",
    "    global cups\n",
    "    # Use recursion to get the next sequence length of cups\n",
    "    if seqlen <= len(cuplist):\n",
    "        #print(cuplist)\n",
    "        return cuplist\n",
    "    nextcup = cups[current_cup]\n",
    "    cuplist.append(nextcup)\n",
    "    get_seq(nextcup, cuplist=cuplist, seqlen=seqlen)\n",
    "    return cuplist\n",
    "\n",
    "def get_pick(current_cup):\n",
    "    global cups\n",
    "    # Get the tuple from the next 3\n",
    "    # after current cup\n",
    "    c1 = cups[current_cup]\n",
    "    c2 = cups[c1]\n",
    "    c3 = cups[c2]\n",
    "    return (c1, c2, c3)\n",
    "\n",
    "# Get the destination cup based on the label\n",
    "# supplied, the known length of cups array and\n",
    "# labels that should be excluded from consideration.\n",
    "def get_dest(n, elems_len, exclude):\n",
    "    n1 = n - 1\n",
    "    while True:\n",
    "        if 0 == n1:\n",
    "            n1 = elems_len\n",
    "        if n1 not in exclude:\n",
    "            return n1\n",
    "        n1 -= 1"
   ]
  },
  {
   "cell_type": "code",
   "execution_count": null,
   "metadata": {
    "ExecuteTime": {
     "end_time": "2020-12-25T16:59:13.050359Z",
     "start_time": "2020-12-25T15:12:18.686477Z"
    }
   },
   "outputs": [],
   "source": [
    "# Use a pandas series to link cup numbers to it's\n",
    "# immediate neighbor on the right\n",
    "#s0 = '389125467' # Test input\n",
    "s0 = '219347865'\n",
    "#cups = pd.Series(index=range(1, len(s0) + 1), dtype=np.uint32)\n",
    "#cups = pd.Series(range(2, 22), index=range(1, 21), dtype=np.uint32)\n",
    "cups = pd.Series(range(2, 1000002), index=range(1, 1000001), dtype=np.uint32)\n",
    "cupslen = len(cups)\n",
    "\n",
    "# Assign neighbors\n",
    "for i, v in enumerate(s0):\n",
    "    ii = (i + 1) % len(s0)\n",
    "    cups[int(v)] = int(s0[ii])\n",
    "# Now for the extended cups set the neighbor for the last\n",
    "# input cup to the first in the extension\n",
    "cups[int(s0[-1])] = len(s0) + 1\n",
    "# And set the last cup to be the neighbor of the first cup\n",
    "cups[cupslen] = int(s0[0])\n",
    "\n",
    "nrounds = 10000000\n",
    "#nrounds = 10\n",
    "#nrounds = 100\n",
    "#nrounds = 3\n",
    "\n",
    "current_cup = int(s0[0])\n",
    "\n",
    "for i in range(nrounds):\n",
    "    if i % 10000 == 0:\n",
    "        print(i, end='.')\n",
    "    #print('-- move {} --'.format(i + 1))\n",
    "    #print(\"cups:  \", get_seq(current_cup, cuplist=[], seqlen=cupslen))\n",
    "    #print(\"current cup: \", current_cup)\n",
    "    pick_up = get_pick(current_cup)\n",
    "    #print(\"pick up: \", pick_up)\n",
    "    # The cup after the current_cup now becomes\n",
    "    # whatever WAS after the last cup picked up\n",
    "    cups[current_cup] = cups[pick_up[2]]\n",
    "    # The picked up cups will be placed after\n",
    "    # current_cup - 1 excluding any of the cups\n",
    "    # that were picked\n",
    "    dest = get_dest(current_cup, cupslen, pick_up)\n",
    "    #print(\"destination: \", dest)\n",
    "    # The cup after the last of the cups picked up\n",
    "    # will be whaterver WAS after the dest cup\n",
    "    cups[pick_up[2]] = cups[dest]\n",
    "    # The NEW cup after the dest cup will be the\n",
    "    # first of the picked up cups\n",
    "    cups[dest] = pick_up[0]\n",
    "    # The next current cup will be the cup after current cup\n",
    "    current_cup = cups[current_cup]"
   ]
  },
  {
   "cell_type": "code",
   "execution_count": 162,
   "metadata": {
    "ExecuteTime": {
     "end_time": "2020-12-25T15:11:51.084037Z",
     "start_time": "2020-12-25T15:11:51.069038Z"
    },
    "collapsed": true
   },
   "outputs": [
    {
     "data": {
      "text/plain": [
       "[9, 2, 6, 5, 8, 3, 7, 4, 1]"
      ]
     },
     "execution_count": 162,
     "metadata": {},
     "output_type": "execute_result"
    }
   ],
   "source": [
    "# For testing...\n",
    "#final_cups = get_seq(1, cuplist=[], seqlen=cupslen)\n",
    "#final_cups\n",
    "# Assemble string from 1 and working around\n",
    "#soln_list = final_cups[:-1]\n",
    "#soln_list"
   ]
  },
  {
   "cell_type": "code",
   "execution_count": null,
   "metadata": {
    "ExecuteTime": {
     "end_time": "2020-12-25T18:31:01.053813Z",
     "start_time": "2020-12-25T18:31:01.035813Z"
    }
   },
   "outputs": [],
   "source": [
    "# After cups 1 the labels are:\n",
    "label1 = cups[1]\n",
    "label2 = cups[label1]"
   ]
  },
  {
   "cell_type": "code",
   "execution_count": 187,
   "metadata": {
    "ExecuteTime": {
     "end_time": "2020-12-25T19:14:47.052797Z",
     "start_time": "2020-12-25T19:14:47.034798Z"
    }
   },
   "outputs": [
    {
     "data": {
      "text/markdown": [
       "The product of the 2 cup labels immediately after 1 is **90481418730**"
      ],
      "text/plain": [
       "<IPython.core.display.Markdown object>"
      ]
     },
     "execution_count": 187,
     "metadata": {},
     "output_type": "execute_result"
    }
   ],
   "source": [
    "label_product = np.uint64(label1) * np.uint64(label2)\n",
    "Markdown(\"The product of the 2 cup labels immediately after 1 \"\n",
    "         \"is **{}**\".format(label_product))"
   ]
  },
  {
   "cell_type": "code",
   "execution_count": null,
   "metadata": {
    "collapsed": true
   },
   "outputs": [],
   "source": []
  }
 ],
 "metadata": {
  "kernelspec": {
   "display_name": "Python 3",
   "language": "python",
   "name": "python3"
  },
  "language_info": {
   "codemirror_mode": {
    "name": "ipython",
    "version": 3
   },
   "file_extension": ".py",
   "mimetype": "text/x-python",
   "name": "python",
   "nbconvert_exporter": "python",
   "pygments_lexer": "ipython3",
   "version": "3.6.10"
  },
  "toc": {
   "base_numbering": 1,
   "nav_menu": {},
   "number_sections": true,
   "sideBar": true,
   "skip_h1_title": false,
   "title_cell": "Table of Contents",
   "title_sidebar": "Contents",
   "toc_cell": false,
   "toc_position": {},
   "toc_section_display": true,
   "toc_window_display": false
  }
 },
 "nbformat": 4,
 "nbformat_minor": 4
}
