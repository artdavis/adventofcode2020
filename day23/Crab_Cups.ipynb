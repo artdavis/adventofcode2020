{
 "cells": [
  {
   "cell_type": "code",
   "execution_count": 1,
   "metadata": {
    "ExecuteTime": {
     "end_time": "2020-12-25T12:22:39.402394Z",
     "start_time": "2020-12-25T12:22:37.805336Z"
    },
    "collapsed": true
   },
   "outputs": [],
   "source": [
    "from collections import deque\n",
    "import numpy as np\n",
    "import pandas as pd\n",
    "from IPython.display import Markdown\n",
    "from IPython.core.debugger import set_trace as breakpt"
   ]
  },
  {
   "cell_type": "markdown",
   "metadata": {},
   "source": [
    "# Day 23: Crab Cups\n",
    "\n",
    "Reference: https://adventofcode.com/2020/day/23\n",
    "\n",
    "## Part 1\n",
    "\n",
    "**What are the labels on the cups after cup 1?**\n",
    "\n",
    "Your puzzle input was `219347865`."
   ]
  },
  {
   "cell_type": "code",
   "execution_count": 171,
   "metadata": {
    "ExecuteTime": {
     "end_time": "2020-12-25T18:50:22.360715Z",
     "start_time": "2020-12-25T18:50:22.344713Z"
    },
    "collapsed": true
   },
   "outputs": [],
   "source": [
    "# Helper functions while for round iterations\n",
    "\n",
    "def minusone(n, elems):\n",
    "    \"\"\"\n",
    "    From the supplied list elements, return the value\n",
    "    for n - 1. If n - 1 is not in elems, return n - 2\n",
    "    if n - 2 not in elemes, return n -3 and so on.\n",
    "    Wrap around to max value of list if necessay\n",
    "    \"\"\"\n",
    "    n1 = n - 1\n",
    "    while True:\n",
    "        if n1 in elems:\n",
    "            return n1\n",
    "        if n1 < min(elems):\n",
    "            n1 = max(elems)\n",
    "        else:\n",
    "            n1 -= 1\n",
    "\n",
    "def next1(n, elems):\n",
    "    \"\"\"\n",
    "    From the supplied list elements, return\n",
    "    the next 1 after n, wrapping around if\n",
    "    necessary\n",
    "    \"\"\"\n",
    "    i = elems.index(n) + 1\n",
    "    return elems[i % len(elems)]\n",
    "\n",
    "def next3(n, elems):\n",
    "    \"\"\"\n",
    "    From the supplied list elements, return\n",
    "    the next 3 after n, wrapping around if\n",
    "    necessary\n",
    "    \"\"\"\n",
    "    i = elems.index(n) + 1\n",
    "    return [elems[x % len(elems)] for x in range(i, i+3)]"
   ]
  },
  {
   "cell_type": "code",
   "execution_count": 172,
   "metadata": {
    "ExecuteTime": {
     "end_time": "2020-12-25T18:50:26.538479Z",
     "start_time": "2020-12-25T18:50:26.511478Z"
    },
    "collapsed": true
   },
   "outputs": [],
   "source": [
    "#cups = [int(x) for x in '389125467'] # Test input\n",
    "cups = [int(x) for x in '219347865']\n",
    "nrounds = 100\n",
    "current_cup = cups[0]\n",
    "for i in range(nrounds):\n",
    "    ##print('-- move {} --'.format(i + 1))\n",
    "    ##print(\"cups: \", cups)\n",
    "    pick = next3(current_cup, cups)\n",
    "    ##print(\"pick up: \", pick)\n",
    "    pick_stack = list()\n",
    "    for p in pick:\n",
    "        pick_stack.append(p)\n",
    "        cups.remove(p)\n",
    "    #print(\"pick stack: \", pick_stack)\n",
    "    #print(\"cups: \", cups)\n",
    "    destination = minusone(current_cup, cups)\n",
    "    ##print(\"destination: \", destination)\n",
    "    idest = cups.index(destination) + 1\n",
    "    #print(\"idest: \", idest)\n",
    "    for c in pick_stack[::-1]:\n",
    "        cups.insert(idest, c)\n",
    "    #print(\"cups: \", cups)\n",
    "    current_cup = next1(current_cup, cups)"
   ]
  },
  {
   "cell_type": "code",
   "execution_count": 173,
   "metadata": {
    "ExecuteTime": {
     "end_time": "2020-12-25T18:50:27.190317Z",
     "start_time": "2020-12-25T18:50:27.170318Z"
    },
    "collapsed": true
   },
   "outputs": [
    {
     "data": {
      "text/plain": [
       "[3, 6, 4, 7, 2, 5, 9, 8]"
      ]
     },
     "execution_count": 173,
     "metadata": {},
     "output_type": "execute_result"
    }
   ],
   "source": [
    "# Assemble string from 1 and working around\n",
    "soln_list = [cups[x % len(cups)] for x in \n",
    "             range(cups.index(1) + 1, cups.index(1) + len(cups))]\n",
    "soln_list"
   ]
  },
  {
   "cell_type": "code",
   "execution_count": null,
   "metadata": {
    "ExecuteTime": {
     "end_time": "2020-12-25T18:50:27.955788Z",
     "start_time": "2020-12-25T18:50:27.940786Z"
    }
   },
   "outputs": [],
   "source": [
    "soln_labels = ''.join([str(x) for x in soln_list])"
   ]
  },
  {
   "cell_type": "code",
   "execution_count": 1,
   "metadata": {
    "ExecuteTime": {
     "end_time": "2021-12-13T18:52:35.575046Z",
     "start_time": "2021-12-13T18:52:35.559419Z"
    }
   },
   "outputs": [],
   "source": [
    "#Markdown(\"The labels after cups 1 are **{}**\".format(soln_labels))"
   ]
  },
  {
   "cell_type": "markdown",
   "metadata": {},
   "source": [
    "## Part Two\n",
    "\n",
    "Determine which two cups will end up immediately clockwise of cup 1. **What do you get if you multiply their labels together?**\n",
    "\n",
    "Your puzzle input was `219347865`."
   ]
  },
  {
   "cell_type": "markdown",
   "metadata": {},
   "source": [
    "### Failed Strategy\n",
    "\n",
    "Of course expanding the number of cups to 1 million and iterating 10 million is\n",
    "going to take way to long for the orignal process that involved list\n",
    "manitpulations.\n",
    "\n",
    "By using collections.deque for the cups and a second deque for\n",
    "indexing the cups we can speed up the cycle and remove the expensive\n",
    "need for doing value look ups. I was never able to make this fast\n",
    "enough either."
   ]
  },
  {
   "cell_type": "code",
   "execution_count": 124,
   "metadata": {
    "ExecuteTime": {
     "end_time": "2020-12-25T14:53:57.932417Z",
     "start_time": "2020-12-25T14:53:57.912417Z"
    },
    "collapsed": true
   },
   "outputs": [],
   "source": [
    "# =-=-=-=-=-=-=-=-=-=-=-=-=-=-=-=-=\n",
    "# FAILED CODE...\n",
    "# TOO SLOW & STILL NEEDS DBUGGING\n",
    "# =-=-=-=-=-=-=-=-=-=-=-=-=-=-=-=-=\n",
    "\n",
    "# Get the destination cup based on the label\n",
    "# supplied, the known length of cups array and\n",
    "# labels that should be excluded from consideration.\n",
    "def get_dest(n, elems_len, exclude):\n",
    "    n1 = n - 1\n",
    "    while True:\n",
    "        if 0 == n1:\n",
    "            n1 = elems_len\n",
    "        if n1 not in exclude:\n",
    "            return n1\n",
    "        n1 -= 1\n",
    "\n",
    "s0 = '389125467' # Test input\n",
    "#s0 = '219347865'\n",
    "cups = deque([int(x) for x in s0]) # Test input\n",
    "#cups.extend(range(max(cups) + 1, 1000001))\n",
    "stack = deque()\n",
    "# Keep an independent list that indexes cup value to it's\n",
    "# position in cups (hacky linked list)\n",
    "iq = deque(range(len(cups) + 1))\n",
    "# Update the referencs in iq\n",
    "for i, c in enumerate(s0):\n",
    "    iq[int(c)] = i\n",
    "# Now the index of iq holds that value at the address in the list\n",
    "# so for example Say the 5th element of iq is 8: iq[5] = 8\n",
    "# That means 5 can be found in cups at index 8: cups[8] = 5\n",
    "# Keep iq updated as cups is changed so we'll never have to do\n",
    "# an expensive lookup by value\n",
    "cupslen = len(cups)\n",
    "\n",
    "#nrounds = 10000000\n",
    "nrounds = 10\n",
    "#nrounds = 100\n",
    "#nrounds = 3\n",
    "\n",
    "for i in range(nrounds):\n",
    "    #if i % 100 == 0:\n",
    "    #    print(i, end='.')\n",
    "    print('-- move {} --'.format(i + 1))\n",
    "    print(\"cups:  \", list(cups))\n",
    "    #print(\"iq: \", iq)\n",
    "    # Rotate cups queue so current cup is the last element\n",
    "    cups.rotate(-(i + 1)) # ROTATION\n",
    "    # The last element is the current_cup\n",
    "    current_cup = cups[-1]\n",
    "    print(\"current cup: \", current_cup)\n",
    "    # Pop-left the next 3 cups onto the stack\n",
    "    for _ in range(3):\n",
    "        stack.append(cups.popleft())\n",
    "    print(\"pick up: \", stack)\n",
    "    # Find index of destination\n",
    "    dest = get_dest(current_cup, cupslen, stack)\n",
    "    print(\"destination: \", dest)\n",
    "    # Subtract 3 + i from the destination since 3 values have been popped off\n",
    "    # and the queue has been rotated -(i + 1)\n",
    "    ii = (iq[dest] - (3 + i + 1)) % cupslen\n",
    "    # The iq values from here to ii need to be decremented by 3 for the\n",
    "    # cups that have been removed\n",
    "    for j in range(ii + 1):\n",
    "        iq[cups[j]] = (iq[cups[j]]- 3) % cupslen # 350us TOO SLOW!\n",
    "    #print('ii: ', ii)\n",
    "    # Rotate cups to where the stack should be inserted\n",
    "    cups.rotate(-(ii + 1)) # ROTATION\n",
    "    for j in range(3):\n",
    "        v = stack.pop()\n",
    "        iq[v] = (2 - j + (ii + 1 + i + 1)) % cupslen\n",
    "        cups.appendleft(v)\n",
    "    # Advance the cups to the ground state\n",
    "    cups.rotate(ii + 1 + i + 1)"
   ]
  },
  {
   "cell_type": "markdown",
   "metadata": {},
   "source": [
    "### Successful Strategy\n",
    "\n",
    "Use a Pandas.Series with the index as the cup labels\n",
    "and the corresponding value as the next cup label to\n",
    "the right as a linked list. Then all operations can\n",
    "be reduced to look-ups or assignments of values in\n",
    "the Series instance."
   ]
  },
  {
   "cell_type": "code",
   "execution_count": 183,
   "metadata": {
    "ExecuteTime": {
     "end_time": "2020-12-25T19:11:59.721347Z",
     "start_time": "2020-12-25T19:11:59.699344Z"
    }
   },
   "outputs": [],
   "source": [
    "# Helper functions for the rounds\n",
    "\n",
    "def get_seq(current_cup, cuplist=[], seqlen=3):\n",
    "    global cups\n",
    "    # Use recursion to get the next sequence length of cups\n",
    "    if seqlen <= len(cuplist):\n",
    "        #print(cuplist)\n",
    "        return cuplist\n",
    "    nextcup = cups[current_cup]\n",
    "    cuplist.append(nextcup)\n",
    "    get_seq(nextcup, cuplist=cuplist, seqlen=seqlen)\n",
    "    return cuplist\n",
    "\n",
    "def get_pick(current_cup):\n",
    "    global cups\n",
    "    # Get the tuple from the next 3\n",
    "    # after current cup\n",
    "    c1 = cups[current_cup]\n",
    "    c2 = cups[c1]\n",
    "    c3 = cups[c2]\n",
    "    return (c1, c2, c3)\n",
    "\n",
    "# Get the destination cup based on the label\n",
    "# supplied, the known length of cups array and\n",
    "# labels that should be excluded from consideration.\n",
    "def get_dest(n, elems_len, exclude):\n",
    "    n1 = n - 1\n",
    "    while True:\n",
    "        if 0 == n1:\n",
    "            n1 = elems_len\n",
    "        if n1 not in exclude:\n",
    "            return n1\n",
    "        n1 -= 1"
   ]
  },
  {
   "cell_type": "code",
   "execution_count": null,
   "metadata": {
    "ExecuteTime": {
     "end_time": "2020-12-25T16:59:13.050359Z",
     "start_time": "2020-12-25T15:12:18.686477Z"
    }
   },
   "outputs": [],
   "source": [
    "# Use a pandas series to link cup numbers to it's\n",
    "# immediate neighbor on the right\n",
    "#s0 = '389125467' # Test input\n",
    "s0 = '219347865'\n",
    "#cups = pd.Series(index=range(1, len(s0) + 1), dtype=np.uint32)\n",
    "#cups = pd.Series(range(2, 22), index=range(1, 21), dtype=np.uint32)\n",
    "cups = pd.Series(range(2, 1000002), index=range(1, 1000001), dtype=np.uint32)\n",
    "cupslen = len(cups)\n",
    "\n",
    "# Assign neighbors\n",
    "for i, v in enumerate(s0):\n",
    "    ii = (i + 1) % len(s0)\n",
    "    cups[int(v)] = int(s0[ii])\n",
    "# Now for the extended cups set the neighbor for the last\n",
    "# input cup to the first in the extension\n",
    "cups[int(s0[-1])] = len(s0) + 1\n",
    "# And set the last cup to be the neighbor of the first cup\n",
    "cups[cupslen] = int(s0[0])\n",
    "\n",
    "nrounds = 10000000\n",
    "#nrounds = 10\n",
    "#nrounds = 100\n",
    "#nrounds = 3\n",
    "\n",
    "current_cup = int(s0[0])\n",
    "\n",
    "for i in range(nrounds):\n",
    "    if i % 10000 == 0:\n",
    "        print(i, end='.')\n",
    "    #print('-- move {} --'.format(i + 1))\n",
    "    #print(\"cups:  \", get_seq(current_cup, cuplist=[], seqlen=cupslen))\n",
    "    #print(\"current cup: \", current_cup)\n",
    "    pick_up = get_pick(current_cup)\n",
    "    #print(\"pick up: \", pick_up)\n",
    "    # The cup after the current_cup now becomes\n",
    "    # whatever WAS after the last cup picked up\n",
    "    cups[current_cup] = cups[pick_up[2]]\n",
    "    # The picked up cups will be placed after\n",
    "    # current_cup - 1 excluding any of the cups\n",
    "    # that were picked\n",
    "    dest = get_dest(current_cup, cupslen, pick_up)\n",
    "    #print(\"destination: \", dest)\n",
    "    # The cup after the last of the cups picked up\n",
    "    # will be whaterver WAS after the dest cup\n",
    "    cups[pick_up[2]] = cups[dest]\n",
    "    # The NEW cup after the dest cup will be the\n",
    "    # first of the picked up cups\n",
    "    cups[dest] = pick_up[0]\n",
    "    # The next current cup will be the cup after current cup\n",
    "    current_cup = cups[current_cup]"
   ]
  },
  {
   "cell_type": "code",
   "execution_count": 188,
   "metadata": {
    "ExecuteTime": {
     "end_time": "2020-12-25T19:19:43.443348Z",
     "start_time": "2020-12-25T19:19:43.429348Z"
    }
   },
   "outputs": [],
   "source": [
    "# For testing...\n",
    "#final_cups = get_seq(1, cuplist=[], seqlen=cupslen)\n",
    "#final_cups\n",
    "# Assemble string from 1 and working around\n",
    "#soln_list = final_cups[:-1]\n",
    "#soln_list"
   ]
  },
  {
   "cell_type": "code",
   "execution_count": null,
   "metadata": {
    "ExecuteTime": {
     "end_time": "2020-12-25T18:31:01.053813Z",
     "start_time": "2020-12-25T18:31:01.035813Z"
    }
   },
   "outputs": [],
   "source": [
    "# After cup 1 the next two labels are:\n",
    "label1 = cups[1]\n",
    "label2 = cups[label1]"
   ]
  },
  {
   "cell_type": "code",
   "execution_count": null,
   "metadata": {
    "ExecuteTime": {
     "end_time": "2020-12-25T19:14:47.052797Z",
     "start_time": "2020-12-25T19:14:47.034798Z"
    }
   },
   "outputs": [],
   "source": [
    "label_product = np.uint64(label1) * np.uint64(label2)"
   ]
  },
  {
   "cell_type": "code",
   "execution_count": 2,
   "metadata": {
    "ExecuteTime": {
     "end_time": "2021-12-13T18:53:42.930865Z",
     "start_time": "2021-12-13T18:53:42.915235Z"
    }
   },
   "outputs": [],
   "source": [
    "#Markdown(\"The product of the 2 cup labels immediately after 1 \"\n",
    "#         \"is **{}**\".format(label_product))"
   ]
  },
  {
   "cell_type": "code",
   "execution_count": null,
   "metadata": {
    "collapsed": true
   },
   "outputs": [],
   "source": []
  }
 ],
 "metadata": {
  "kernelspec": {
   "display_name": "Python 3",
   "language": "python",
   "name": "python3"
  },
  "language_info": {
   "codemirror_mode": {
    "name": "ipython",
    "version": 3
   },
   "file_extension": ".py",
   "mimetype": "text/x-python",
   "name": "python",
   "nbconvert_exporter": "python",
   "pygments_lexer": "ipython3",
   "version": "3.6.12"
  },
  "toc": {
   "base_numbering": 1,
   "nav_menu": {},
   "number_sections": true,
   "sideBar": true,
   "skip_h1_title": false,
   "title_cell": "Table of Contents",
   "title_sidebar": "Contents",
   "toc_cell": false,
   "toc_position": {},
   "toc_section_display": true,
   "toc_window_display": false
  }
 },
 "nbformat": 4,
 "nbformat_minor": 4
}
