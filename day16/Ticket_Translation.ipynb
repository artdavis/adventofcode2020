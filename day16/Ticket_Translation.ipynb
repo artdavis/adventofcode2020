{
 "cells": [
  {
   "cell_type": "code",
   "execution_count": 1,
   "metadata": {
    "ExecuteTime": {
     "end_time": "2020-12-16T16:54:34.876215Z",
     "start_time": "2020-12-16T16:54:33.764214Z"
    }
   },
   "outputs": [],
   "source": [
    "import pandas as pd\n",
    "pd.set_option('display.notebook_repr_html', False)\n",
    "from IPython.display import Markdown\n",
    "#from IPython.core.debugger import set_trace as breakpt"
   ]
  },
  {
   "cell_type": "markdown",
   "metadata": {},
   "source": [
    "# Day 16: Ticket Translation\n",
    "\n",
    "Reference: https://adventofcode.com/2020/day/16\n",
    "\n",
    "## Part 1\n",
    "\n",
    "As you're walking to yet another connecting flight, you realize that one of the legs of your re-routed trip coming up is on a high-speed train. However, the train ticket you were given is in a language you don't understand. You should probably figure out what it says before you get to the train station after the next flight.\n",
    "\n",
    "Unfortunately, you can't actually read the words on the ticket. You can, however, read the numbers, and so you figure out the fields these tickets must have and the valid ranges for values in those fields.\n",
    "\n",
    "You collect the rules for ticket fields, the numbers on your ticket, and the numbers on other nearby tickets for the same train service (via the airport security cameras) together into a single document you can reference (your puzzle input).\n",
    "\n",
    "The rules for ticket fields specify a list of fields that exist somewhere on the ticket and the valid ranges of values for each field. For example, a rule like class: 1-3 or 5-7 means that one of the fields in every ticket is named class and can be any value in the ranges 1-3 or 5-7 (inclusive, such that 3 and 5 are both valid in this field, but 4 is not).\n",
    "\n",
    "Each ticket is represented by a single line of comma-separated values. The values are the numbers on the ticket in the order they appear; every ticket has the same format. For example, consider this ticket:\n",
    "```\n",
    ".--------------------------------------------------------.\n",
    "| ????: 101    ?????: 102   ??????????: 103     ???: 104 |\n",
    "|                                                        |\n",
    "| ??: 301  ??: 302             ???????: 303      ??????? |\n",
    "| ??: 401  ??: 402           ???? ????: 403    ????????? |\n",
    "'--------------------------------------------------------'\n",
    "```\n",
    "Here, ? represents text in a language you don't understand. This ticket might be represented as 101,102,103,104,301,302,303,401,402,403; of course, the actual train tickets you're looking at are much more complicated. In any case, you've extracted just the numbers in such a way that the first number is always the same specific field, the second number is always a different specific field, and so on - you just don't know what each position actually means!\n",
    "\n",
    "Start by determining which tickets are completely invalid; these are tickets that contain values which aren't valid for any field. Ignore your ticket for now.\n",
    "\n",
    "For example, suppose you have the following notes:\n",
    "```\n",
    "class: 1-3 or 5-7\n",
    "row: 6-11 or 33-44\n",
    "seat: 13-40 or 45-50\n",
    "\n",
    "your ticket:\n",
    "7,1,14\n",
    "\n",
    "nearby tickets:\n",
    "7,3,47\n",
    "40,4,50\n",
    "55,2,20\n",
    "38,6,12\n",
    "```\n",
    "It doesn't matter which position corresponds to which field; you can identify invalid nearby tickets by considering only whether tickets contain values that are not valid for any field. In this example, the values on the first nearby ticket are all valid for at least one field. This is not true of the other three nearby tickets: the values 4, 55, and 12 are are not valid for any field. Adding together all of the invalid values produces your ticket scanning error rate: 4 + 55 + 12 = 71.\n",
    "\n",
    "Consider the validity of the nearby tickets you scanned. What is your ticket scanning error rate?"
   ]
  },
  {
   "cell_type": "code",
   "execution_count": 2,
   "metadata": {
    "ExecuteTime": {
     "end_time": "2020-12-16T16:54:34.924216Z",
     "start_time": "2020-12-16T16:54:34.880221Z"
    }
   },
   "outputs": [],
   "source": [
    "notemap = {'departure location': 'locdep',\n",
    "           'departure station': 'stadep',\n",
    "           'departure platform': 'platdep',\n",
    "           'departure track': 'trackdep',\n",
    "           'departure date': 'datedep',\n",
    "           'departure time': 'timedep',\n",
    "           'arrival location': 'locar',\n",
    "           'arrival station': 'staar',\n",
    "           'arrival platform': 'platar',\n",
    "           'arrival track': 'trackar',\n",
    "          }\n",
    "readmode = 'notes'\n",
    "notes = dict()\n",
    "nearby = list()\n",
    "\n",
    "def get_rangeset(rangestr):\n",
    "    # Take a range string like \"1-10 or 20-30\"\n",
    "    # and return a set of numbers it corresponds to\n",
    "    r1, r2 = rangestr.split(' or ')\n",
    "    r1_0, r1_1 = [int(x) for x in r1.split('-')]\n",
    "    r2_0, r2_1 = [int(x) for x in r2.split('-')]\n",
    "    s1 = set(range(r1_0, r1_1 + 1))\n",
    "    s2 = set(range(r2_0, r2_1 + 1))\n",
    "    return s1 | s2\n",
    "\n",
    "with open('ticket_input.txt', 'r') as fid:\n",
    "    for line in fid:\n",
    "        if line.strip().startswith('your ticket'):\n",
    "            readmode = 'ticket'\n",
    "            continue\n",
    "        if line.strip().startswith('nearby tickets'):\n",
    "            readmode = 'nearby'\n",
    "            continue\n",
    "        if not line.strip():\n",
    "            # Empty Line\n",
    "            continue\n",
    "        if 'notes' == readmode:\n",
    "            k, v = line.strip().split(': ')\n",
    "            rangeset = get_rangeset(v)\n",
    "            if k in notemap:\n",
    "                notes[notemap[k]] = rangeset\n",
    "            else:\n",
    "                notes[k] = rangeset\n",
    "        elif 'ticket' == readmode:\n",
    "            ticket = [int(x) for x in line.strip().split(',')]\n",
    "        elif 'nearby' == readmode:\n",
    "            nearby.append([int(x) for x in line.strip().split(',')])\n",
    "        else:\n",
    "            raise ValueError(\"Unhandled readmode: {}\".format(readmode))"
   ]
  },
  {
   "cell_type": "code",
   "execution_count": 3,
   "metadata": {
    "ExecuteTime": {
     "end_time": "2020-12-16T16:54:34.940218Z",
     "start_time": "2020-12-16T16:54:34.929216Z"
    }
   },
   "outputs": [],
   "source": [
    "# Get comprehensive set of all valid values\n",
    "allvals = set()\n",
    "for vals in notes.values():\n",
    "    allvals |= vals\n",
    "\n",
    "invalids = list()\n",
    "for tick in nearby:\n",
    "    # Put any invalid numbers we find into invalids list\n",
    "    invalids.extend(set(tick) - allvals)"
   ]
  },
  {
   "cell_type": "code",
   "execution_count": 4,
   "metadata": {
    "ExecuteTime": {
     "end_time": "2020-12-16T16:54:34.972221Z",
     "start_time": "2020-12-16T16:54:34.944221Z"
    }
   },
   "outputs": [
    {
     "data": {
      "text/markdown": [
       "The ticket scanning error rate (sum of invalid values) is **29759**"
      ],
      "text/plain": [
       "<IPython.core.display.Markdown object>"
      ]
     },
     "execution_count": 4,
     "metadata": {},
     "output_type": "execute_result"
    }
   ],
   "source": [
    "Markdown(\"The ticket scanning error rate (sum of invalid values) \"\n",
    "         \"is **{}**\".format(sum(invalids)))"
   ]
  },
  {
   "cell_type": "markdown",
   "metadata": {},
   "source": [
    "## Part Two\n",
    "\n",
    "Now that you've identified which tickets contain invalid values, discard those tickets entirely. Use the remaining valid tickets to determine which field is which.\n",
    "\n",
    "Using the valid ranges for each field, determine what order the fields appear on the tickets. The order is consistent between all tickets: if seat is the third field, it is the third field on every ticket, including your ticket.\n",
    "\n",
    "For example, suppose you have the following notes:\n",
    "```\n",
    "class: 0-1 or 4-19\n",
    "row: 0-5 or 8-19\n",
    "seat: 0-13 or 16-19\n",
    "\n",
    "your ticket:\n",
    "11,12,13\n",
    "\n",
    "nearby tickets:\n",
    "3,9,18\n",
    "15,1,5\n",
    "5,14,9\n",
    "```\n",
    "Based on the nearby tickets in the above example, the first position must be row, the second position must be class, and the third position must be seat; you can conclude that in your ticket, class is 12, row is 11, and seat is 13.\n",
    "\n",
    "Once you work out which field is which, look for the six fields on your ticket that start with the word departure. What do you get if you multiply those six values together?"
   ]
  },
  {
   "cell_type": "code",
   "execution_count": 5,
   "metadata": {
    "ExecuteTime": {
     "end_time": "2020-12-16T16:54:35.019220Z",
     "start_time": "2020-12-16T16:54:34.975220Z"
    }
   },
   "outputs": [
    {
     "data": {
      "text/plain": [
       "field      0    1    2    3    4    5    6    7    8    9   10   11   12   13  \\\n",
       "ticknum                                                                         \n",
       "0        390  125  294  296  621  356  716  135  845  790  433  348  710  927   \n",
       "1        819  227  432  784  840  691  760  608  352  759   85  712  578  575   \n",
       "2        455  784  136  934  493  390  140   53  397  355  802  100  420  126   \n",
       "3         71  303  390  394   68  796  372  829  153  656  769  103  827  588   \n",
       "4        494  323  586  945  847   75  839  606  586  457  355  840  114  376   \n",
       "...      ...  ...  ...  ...  ...  ...  ...  ...  ...  ...  ...  ...  ...  ...   \n",
       "185      489  764  761   51  500  267  858  869  786  626  499  522  753  624   \n",
       "186      793  791  577  870  411  814  336  712  816  874  367   60  521  135   \n",
       "187      259  102  136  423  310  752  486  486  229  456  371  246  725  585   \n",
       "188      602  391  715  479  116  762  148  269  403  151  768  263  857  184   \n",
       "189      303  337  657   69  622  839  603   95  294  675  803  787  628  424   \n",
       "\n",
       "field     14   15   16   17   18   19  \n",
       "ticknum                                \n",
       "0        863  136  834  139  115  323  \n",
       "1        901  151  440  494  283  274  \n",
       "2        902  870  588  498   60  607  \n",
       "3        873  595  619  149  235  785  \n",
       "4        753  207  205  823  273  840  \n",
       "...      ...  ...  ...  ...  ...  ...  \n",
       "185       73  584  281  196  237  147  \n",
       "186       66  298  855  616  582  558  \n",
       "187      869  406  430  703  456  549  \n",
       "188      762  749   95  231  934  629  \n",
       "189       55  459  421  766  323  399  \n",
       "\n",
       "[190 rows x 20 columns]"
      ]
     },
     "execution_count": 5,
     "metadata": {},
     "output_type": "execute_result"
    }
   ],
   "source": [
    "# First off, toss out any invalid tickets\n",
    "goodticks = list()\n",
    "for tick in nearby:\n",
    "    if (set(tick) - allvals):\n",
    "        # This ticket is invalid\n",
    "        continue\n",
    "    goodticks.append(tick)\n",
    "\n",
    "# Convert to DataFrame for easier handling\n",
    "df = pd.DataFrame(goodticks)\n",
    "df.columns.name = 'field'\n",
    "df.index.name = 'ticknum'\n",
    "df"
   ]
  },
  {
   "cell_type": "code",
   "execution_count": 6,
   "metadata": {
    "ExecuteTime": {
     "end_time": "2020-12-16T16:54:35.321222Z",
     "start_time": "2020-12-16T16:54:35.020216Z"
    }
   },
   "outputs": [
    {
     "data": {
      "text/plain": [
       "fieldname  locdep  stadep  platdep  trackdep  datedep  timedep  locar  staar  \\\n",
       "field                                                                          \n",
       "0           False   False    False     False    False    False  False  False   \n",
       "1           False   False     True      True    False    False  False  False   \n",
       "2            True    True     True      True     True    False  False  False   \n",
       "3            True    True     True      True     True     True   True   True   \n",
       "4            True    True     True      True     True     True  False   True   \n",
       "5            True    True     True      True     True     True  False  False   \n",
       "6            True    True     True      True     True     True  False  False   \n",
       "7            True    True     True      True     True     True  False   True   \n",
       "8            True    True     True      True     True     True   True   True   \n",
       "9           False   False    False     False    False    False  False  False   \n",
       "10           True    True     True      True     True     True  False  False   \n",
       "11           True    True     True      True     True     True  False  False   \n",
       "12          False   False    False     False    False    False  False  False   \n",
       "13          False   False    False     False    False    False  False  False   \n",
       "14          False    True     True      True    False    False  False  False   \n",
       "15           True    True     True      True     True     True   True   True   \n",
       "16          False   False     True     False    False    False  False  False   \n",
       "17          False    True     True      True     True    False  False  False   \n",
       "18           True    True     True      True     True     True   True   True   \n",
       "19           True    True     True      True     True     True  False  False   \n",
       "\n",
       "fieldname  platar  trackar  class  duration  price  route    row   seat  \\\n",
       "field                                                                     \n",
       "0           False    False   True     False  False   True  False  False   \n",
       "1           False    False   True     False  False   True   True  False   \n",
       "2           False    False   True     False  False   True   True  False   \n",
       "3            True    False   True      True   True   True   True   True   \n",
       "4           False    False   True      True  False   True   True  False   \n",
       "5           False    False   True     False  False   True   True  False   \n",
       "6           False    False   True     False  False   True   True  False   \n",
       "7           False    False   True      True   True   True   True  False   \n",
       "8           False    False   True      True   True   True   True   True   \n",
       "9           False    False   True     False  False   True   True  False   \n",
       "10          False    False   True     False  False   True   True  False   \n",
       "11          False    False   True     False  False   True   True  False   \n",
       "12          False    False  False     False  False  False  False  False   \n",
       "13          False    False  False     False  False   True  False  False   \n",
       "14          False    False   True     False  False   True   True  False   \n",
       "15           True     True   True      True   True   True   True   True   \n",
       "16          False    False   True     False  False   True   True  False   \n",
       "17          False    False   True     False  False   True   True  False   \n",
       "18          False    False   True      True   True   True   True  False   \n",
       "19          False    False   True      True  False   True   True  False   \n",
       "\n",
       "fieldname  train   type  wagon   zone  \n",
       "field                                  \n",
       "0          False  False   True  False  \n",
       "1          False  False   True  False  \n",
       "2          False  False   True  False  \n",
       "3           True   True   True   True  \n",
       "4           True   True   True   True  \n",
       "5           True   True   True   True  \n",
       "6          False  False   True  False  \n",
       "7           True   True   True   True  \n",
       "8           True   True   True   True  \n",
       "9          False  False   True  False  \n",
       "10         False   True   True  False  \n",
       "11          True   True   True  False  \n",
       "12         False  False   True  False  \n",
       "13         False  False   True  False  \n",
       "14         False  False   True  False  \n",
       "15          True   True   True   True  \n",
       "16         False  False   True  False  \n",
       "17         False  False   True  False  \n",
       "18          True   True   True   True  \n",
       "19          True   True   True   True  "
      ]
     },
     "execution_count": 6,
     "metadata": {},
     "output_type": "execute_result"
    }
   ],
   "source": [
    "# Construct a truth table where if all fields for a given field number\n",
    "# fall within the range of a field name then it is True; otherwise False\n",
    "candidates = dict()\n",
    "for fieldname in notes.keys():\n",
    "    truthtable = list()\n",
    "    for field, vals in df.iteritems():\n",
    "        truthtable.append(vals.apply(lambda x: x in notes[fieldname]).all())\n",
    "    candidates[fieldname] = truthtable\n",
    "\n",
    "df2 = pd.DataFrame(candidates, index=df.columns)\n",
    "df2.index.name = 'field'\n",
    "df2.columns.name = 'fieldname'\n",
    "df2"
   ]
  },
  {
   "cell_type": "code",
   "execution_count": 7,
   "metadata": {
    "ExecuteTime": {
     "end_time": "2020-12-16T16:54:35.337304Z",
     "start_time": "2020-12-16T16:54:35.324217Z"
    }
   },
   "outputs": [
    {
     "data": {
      "text/plain": [
       "fieldname\n",
       "locdep      False\n",
       "stadep      False\n",
       "platdep     False\n",
       "trackdep    False\n",
       "datedep     False\n",
       "timedep     False\n",
       "locar       False\n",
       "staar       False\n",
       "platar      False\n",
       "trackar      True\n",
       "class       False\n",
       "duration    False\n",
       "price       False\n",
       "route       False\n",
       "row         False\n",
       "seat        False\n",
       "train       False\n",
       "type        False\n",
       "wagon       False\n",
       "zone        False\n",
       "dtype: bool"
      ]
     },
     "execution_count": 7,
     "metadata": {},
     "output_type": "execute_result"
    }
   ],
   "source": [
    "# Where a column sums to 1 this identifies a field that this column\n",
    "# name must be associated with since there's no other field it is True for.\n",
    "df2.sum() == 1"
   ]
  },
  {
   "cell_type": "code",
   "execution_count": 8,
   "metadata": {
    "ExecuteTime": {
     "end_time": "2020-12-16T16:54:35.369222Z",
     "start_time": "2020-12-16T16:54:35.340222Z"
    }
   },
   "outputs": [
    {
     "data": {
      "text/plain": [
       "'trackar'"
      ]
     },
     "execution_count": 8,
     "metadata": {},
     "output_type": "execute_result"
    }
   ],
   "source": [
    "# In the first case then only 'trackar' is uniquely identified\n",
    "df2.columns[df2.sum() == 1][0]"
   ]
  },
  {
   "cell_type": "code",
   "execution_count": 9,
   "metadata": {
    "ExecuteTime": {
     "end_time": "2020-12-16T16:54:35.385219Z",
     "start_time": "2020-12-16T16:54:35.373218Z"
    }
   },
   "outputs": [
    {
     "data": {
      "text/plain": [
       "15"
      ]
     },
     "execution_count": 9,
     "metadata": {},
     "output_type": "execute_result"
    }
   ],
   "source": [
    "# And the field index for trackar must be 15\n",
    "df2.index[df2['trackar']][0]"
   ]
  },
  {
   "cell_type": "code",
   "execution_count": 10,
   "metadata": {
    "ExecuteTime": {
     "end_time": "2020-12-16T16:54:35.478222Z",
     "start_time": "2020-12-16T16:54:35.387221Z"
    }
   },
   "outputs": [
    {
     "data": {
      "text/plain": [
       "{15: 'trackar',\n",
       " 3: 'platar',\n",
       " 8: 'seat',\n",
       " 18: 'locar',\n",
       " 7: 'price',\n",
       " 4: 'staar',\n",
       " 19: 'duration',\n",
       " 5: 'zone',\n",
       " 11: 'train',\n",
       " 10: 'type',\n",
       " 6: 'timedep',\n",
       " 2: 'locdep',\n",
       " 17: 'datedep',\n",
       " 14: 'stadep',\n",
       " 1: 'trackdep',\n",
       " 16: 'platdep',\n",
       " 9: 'row',\n",
       " 0: 'class',\n",
       " 13: 'route',\n",
       " 12: 'wagon'}"
      ]
     },
     "execution_count": 10,
     "metadata": {},
     "output_type": "execute_result"
    }
   ],
   "source": [
    "# Iteratively perform this process eliminating field\n",
    "# names and field indices as you go until all field names\n",
    "# have been associeated with a field index\n",
    "assocs = dict()\n",
    "df3 = df2.copy()\n",
    "while(0 < df3.size):\n",
    "    # Keep processing df3 to build the associations\n",
    "    # until it's all gone\n",
    "    colname = df3.columns[df3.sum() == 1][0]\n",
    "    ii = df3.index[df3[colname]][0]\n",
    "    assocs[ii] = colname\n",
    "    # Drop this column and row\n",
    "    df3.drop(columns=colname, inplace=True)\n",
    "    df3.drop(index=ii, inplace=True)\n",
    "\n",
    "assocs"
   ]
  },
  {
   "cell_type": "code",
   "execution_count": 11,
   "metadata": {
    "ExecuteTime": {
     "end_time": "2020-12-16T16:54:35.509218Z",
     "start_time": "2020-12-16T16:54:35.480217Z"
    }
   },
   "outputs": [
    {
     "data": {
      "text/plain": [
       "{'trackar': 59,\n",
       " 'platar': 127,\n",
       " 'seat': 73,\n",
       " 'locar': 107,\n",
       " 'price': 53,\n",
       " 'staar': 83,\n",
       " 'duration': 79,\n",
       " 'zone': 61,\n",
       " 'train': 113,\n",
       " 'type': 131,\n",
       " 'timedep': 89,\n",
       " 'locdep': 139,\n",
       " 'datedep': 97,\n",
       " 'stadep': 71,\n",
       " 'trackdep': 149,\n",
       " 'platdep': 103,\n",
       " 'row': 67,\n",
       " 'class': 137,\n",
       " 'route': 101,\n",
       " 'wagon': 109}"
      ]
     },
     "execution_count": 11,
     "metadata": {},
     "output_type": "execute_result"
    }
   ],
   "source": [
    "# Use the associations to parse our ticket\n",
    "tickparse = dict()\n",
    "for k, v in assocs.items():\n",
    "    tickparse[v] = ticket[k]\n",
    "tickparse"
   ]
  },
  {
   "cell_type": "code",
   "execution_count": 12,
   "metadata": {
    "ExecuteTime": {
     "end_time": "2020-12-16T16:54:35.541222Z",
     "start_time": "2020-12-16T16:54:35.511218Z"
    }
   },
   "outputs": [
    {
     "data": {
      "text/plain": [
       "[89, 139, 97, 71, 149, 103]"
      ]
     },
     "execution_count": 12,
     "metadata": {},
     "output_type": "execute_result"
    }
   ],
   "source": [
    "soln_fields = ['timedep', 'locdep', 'datedep', 'stadep', 'trackdep', 'platdep']\n",
    "soln_factors = [tickparse[k] for k in soln_fields]\n",
    "soln_factors"
   ]
  },
  {
   "cell_type": "code",
   "execution_count": 13,
   "metadata": {
    "ExecuteTime": {
     "end_time": "2020-12-16T16:54:35.557217Z",
     "start_time": "2020-12-16T16:54:35.543217Z"
    }
   },
   "outputs": [
    {
     "data": {
      "text/markdown": [
       "For our ticket, the product of all the fields that start with 'departure' is **1307550234719**"
      ],
      "text/plain": [
       "<IPython.core.display.Markdown object>"
      ]
     },
     "execution_count": 13,
     "metadata": {},
     "output_type": "execute_result"
    }
   ],
   "source": [
    "mx = 1\n",
    "for factor in soln_factors:\n",
    "    mx *= factor\n",
    "\n",
    "Markdown(\"For our ticket, the product of all the fields that start \"\n",
    "         \"with 'departure' is **{}**\".format(mx))"
   ]
  }
 ],
 "metadata": {
  "kernelspec": {
   "display_name": "Python 3",
   "language": "python",
   "name": "python3"
  },
  "language_info": {
   "codemirror_mode": {
    "name": "ipython",
    "version": 3
   },
   "file_extension": ".py",
   "mimetype": "text/x-python",
   "name": "python",
   "nbconvert_exporter": "python",
   "pygments_lexer": "ipython3",
   "version": "3.6.10"
  },
  "toc": {
   "base_numbering": 1,
   "nav_menu": {},
   "number_sections": true,
   "sideBar": true,
   "skip_h1_title": false,
   "title_cell": "Table of Contents",
   "title_sidebar": "Contents",
   "toc_cell": false,
   "toc_position": {},
   "toc_section_display": true,
   "toc_window_display": false
  }
 },
 "nbformat": 4,
 "nbformat_minor": 4
}
