{
 "cells": [
  {
   "cell_type": "markdown",
   "metadata": {},
   "source": [
    "# Day 6: Custom Customs\n",
    "\n",
    "Reference: https://adventofcode.com/2020/day/6\n",
    "\n",
    "## Part 1\n",
    "\n",
    "For each group, count the number of questions to which anyone answered \"yes\". **What is the sum of those counts?**"
   ]
  },
  {
   "cell_type": "code",
   "execution_count": 1,
   "metadata": {
    "ExecuteTime": {
     "end_time": "2020-12-06T13:24:56.463632Z",
     "start_time": "2020-12-06T13:24:56.454631Z"
    }
   },
   "outputs": [],
   "source": [
    "from functools import reduce\n",
    "from IPython.display import Markdown\n",
    "#from IPython.core.debugger import set_trace as breakpt"
   ]
  },
  {
   "cell_type": "code",
   "execution_count": 2,
   "metadata": {
    "ExecuteTime": {
     "end_time": "2020-12-06T13:24:56.495630Z",
     "start_time": "2020-12-06T13:24:56.468632Z"
    }
   },
   "outputs": [],
   "source": [
    "# Read in the customs data\n",
    "with open('customs_input.txt', 'r') as fid:\n",
    "    clist = [s.strip().split('\\n') for s in fid.read().split('\\n\\n')]"
   ]
  },
  {
   "cell_type": "code",
   "execution_count": 3,
   "metadata": {
    "ExecuteTime": {
     "end_time": "2020-12-06T13:24:56.511631Z",
     "start_time": "2020-12-06T13:24:56.498633Z"
    }
   },
   "outputs": [],
   "source": [
    "any_yes = list()\n",
    "for glist in clist:\n",
    "    any_yes.append(len(reduce(lambda x, y: set(x) | set(y), glist)))"
   ]
  },
  {
   "cell_type": "code",
   "execution_count": 8,
   "metadata": {
    "ExecuteTime": {
     "end_time": "2020-12-06T13:28:32.722589Z",
     "start_time": "2020-12-06T13:28:32.715582Z"
    }
   },
   "outputs": [],
   "source": [
    "#Markdown(\"The sum of the number of ANYONE answering yes per group is **{}**\"\n",
    "#         .format(sum(any_yes)))"
   ]
  },
  {
   "cell_type": "markdown",
   "metadata": {},
   "source": [
    "## Part 2\n",
    "\n",
    "For each group, count the number of questions to which everyone answered \"yes\". **What is the sum of those counts?**"
   ]
  },
  {
   "cell_type": "code",
   "execution_count": 5,
   "metadata": {
    "ExecuteTime": {
     "end_time": "2020-12-06T13:24:56.559636Z",
     "start_time": "2020-12-06T13:24:56.545636Z"
    }
   },
   "outputs": [],
   "source": [
    "every_yes = list()\n",
    "for glist in clist:\n",
    "    every_yes.append(len(reduce(lambda x, y: set(x) & set(y), glist)))"
   ]
  },
  {
   "cell_type": "code",
   "execution_count": 7,
   "metadata": {
    "ExecuteTime": {
     "end_time": "2020-12-06T13:28:28.631863Z",
     "start_time": "2020-12-06T13:28:28.619861Z"
    }
   },
   "outputs": [],
   "source": [
    "#Markdown(\"The sum of the number of EVERYONE answering yes per group is **{}**\"\n",
    "#         .format(sum(every_yes)))"
   ]
  },
  {
   "cell_type": "code",
   "execution_count": null,
   "metadata": {},
   "outputs": [],
   "source": []
  }
 ],
 "metadata": {
  "kernelspec": {
   "display_name": "Python 3",
   "language": "python",
   "name": "python3"
  },
  "language_info": {
   "codemirror_mode": {
    "name": "ipython",
    "version": 3
   },
   "file_extension": ".py",
   "mimetype": "text/x-python",
   "name": "python",
   "nbconvert_exporter": "python",
   "pygments_lexer": "ipython3",
   "version": "3.6.12"
  },
  "toc": {
   "base_numbering": 1,
   "nav_menu": {},
   "number_sections": true,
   "sideBar": true,
   "skip_h1_title": false,
   "title_cell": "Table of Contents",
   "title_sidebar": "Contents",
   "toc_cell": false,
   "toc_position": {},
   "toc_section_display": true,
   "toc_window_display": false
  }
 },
 "nbformat": 4,
 "nbformat_minor": 4
}
