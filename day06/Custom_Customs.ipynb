{
 "cells": [
  {
   "cell_type": "markdown",
   "metadata": {},
   "source": [
    "# Day 6: Custom Customs\n",
    "\n",
    "Reference: https://adventofcode.com/2020/day/6\n",
    "\n",
    "## Part 1\n",
    "\n",
    "As your flight approaches the regional airport where you'll switch to a much larger plane, customs declaration forms are distributed to the passengers.\n",
    "\n",
    "The form asks a series of 26 yes-or-no questions marked a through z. All you need to do is identify the questions for which anyone in your group answers \"yes\". Since your group is just you, this doesn't take very long.\n",
    "\n",
    "However, the person sitting next to you seems to be experiencing a language barrier and asks if you can help. For each of the people in their group, you write down the questions for which they answer \"yes\", one per line. For example:\n",
    "```\n",
    "abcx\n",
    "abcy\n",
    "abcz\n",
    "```\n",
    "In this group, there are 6 questions to which anyone answered \"yes\": a, b, c, x, y, and z. (Duplicate answers to the same question don't count extra; each question counts at most once.)\n",
    "\n",
    "Another group asks for your help, then another, and eventually you've collected answers from every group on the plane (your puzzle input). Each group's answers are separated by a blank line, and within each group, each person's answers are on a single line. For example:\n",
    "```\n",
    "abc\n",
    "\n",
    "a\n",
    "b\n",
    "c\n",
    "\n",
    "ab\n",
    "ac\n",
    "\n",
    "a\n",
    "a\n",
    "a\n",
    "a\n",
    "\n",
    "b\n",
    "```\n",
    "This list represents answers from five groups:\n",
    "\n",
    "    The first group contains one person who answered \"yes\" to 3 questions: a, b, and c.\n",
    "    The second group contains three people; combined, they answered \"yes\" to 3 questions: a, b, and c.\n",
    "    The third group contains two people; combined, they answered \"yes\" to 3 questions: a, b, and c.\n",
    "    The fourth group contains four people; combined, they answered \"yes\" to only 1 question, a.\n",
    "    The last group contains one person who answered \"yes\" to only 1 question, b.\n",
    "\n",
    "In this example, the sum of these counts is `3 + 3 + 3 + 1 + 1 = 11`.\n",
    "\n",
    "For each group, count the number of questions to which anyone answered \"yes\". What is the sum of those counts?"
   ]
  },
  {
   "cell_type": "code",
   "execution_count": 1,
   "metadata": {
    "ExecuteTime": {
     "end_time": "2020-12-06T13:02:42.051836Z",
     "start_time": "2020-12-06T13:02:42.043842Z"
    }
   },
   "outputs": [],
   "source": [
    "from functools import reduce\n",
    "from IPython.display import Markdown\n",
    "#from IPython.core.debugger import set_trace as breakpt"
   ]
  },
  {
   "cell_type": "code",
   "execution_count": 2,
   "metadata": {
    "ExecuteTime": {
     "end_time": "2020-12-06T13:02:42.082836Z",
     "start_time": "2020-12-06T13:02:42.054845Z"
    }
   },
   "outputs": [],
   "source": [
    "# Read in the customs data\n",
    "clist = list()\n",
    "glist = list()\n",
    "with open('customs_input.txt', 'r') as fid:\n",
    "    for line in fid:\n",
    "        if not line.strip():\n",
    "            # Matched an empty line, capture the codes\n",
    "            clist.append(glist)\n",
    "            glist = list()\n",
    "        else:\n",
    "            glist.append(line.strip())\n",
    "if glist:\n",
    "    # Last set of codes still needs to be captured\n",
    "    clist.append(glist)"
   ]
  },
  {
   "cell_type": "code",
   "execution_count": 3,
   "metadata": {
    "ExecuteTime": {
     "end_time": "2020-12-06T13:02:42.113836Z",
     "start_time": "2020-12-06T13:02:42.087841Z"
    }
   },
   "outputs": [],
   "source": [
    "any_yes = list()\n",
    "for glist in clist:\n",
    "    any_yes.append(len(reduce(lambda x, y: set(x) | set(y), glist)))"
   ]
  },
  {
   "cell_type": "code",
   "execution_count": 8,
   "metadata": {
    "ExecuteTime": {
     "end_time": "2020-12-06T13:03:39.815243Z",
     "start_time": "2020-12-06T13:03:39.802247Z"
    }
   },
   "outputs": [],
   "source": [
    "#Markdown(\"The sum of the number of ANYONE answering yes per group is **{}**\"\n",
    "#         .format(sum(any_yes)))"
   ]
  },
  {
   "cell_type": "markdown",
   "metadata": {},
   "source": [
    "## Part 2\n",
    "\n",
    "As you finish the last group's customs declaration, you notice that you misread one word in the instructions:\n",
    "\n",
    "You don't need to identify the questions to which anyone answered \"yes\"; you need to identify the questions to which everyone answered \"yes\"!\n",
    "\n",
    "Using the same example as above:\n",
    "```\n",
    "abc\n",
    "\n",
    "a\n",
    "b\n",
    "c\n",
    "\n",
    "ab\n",
    "ac\n",
    "\n",
    "a\n",
    "a\n",
    "a\n",
    "a\n",
    "\n",
    "b\n",
    "```\n",
    "This list represents answers from five groups:\n",
    "\n",
    "    In the first group, everyone (all 1 person) answered \"yes\" to 3 questions: a, b, and c.\n",
    "    In the second group, there is no question to which everyone answered \"yes\".\n",
    "    In the third group, everyone answered yes to only 1 question, a. Since some people did not answer \"yes\" to b or c, they don't count.\n",
    "    In the fourth group, everyone answered yes to only 1 question, a.\n",
    "    In the fifth group, everyone (all 1 person) answered \"yes\" to 1 question, b.\n",
    "\n",
    "In this example, the sum of these counts is `3 + 0 + 1 + 1 + 1 = 6`.\n",
    "\n",
    "For each group, count the number of questions to which everyone answered \"yes\". What is the "
   ]
  },
  {
   "cell_type": "code",
   "execution_count": 5,
   "metadata": {
    "ExecuteTime": {
     "end_time": "2020-12-06T13:02:42.174836Z",
     "start_time": "2020-12-06T13:02:42.147843Z"
    }
   },
   "outputs": [],
   "source": [
    "every_yes = list()\n",
    "for glist in clist:\n",
    "    every_yes.append(len(reduce(lambda x, y: set(x) & set(y), glist)))"
   ]
  },
  {
   "cell_type": "code",
   "execution_count": 7,
   "metadata": {
    "ExecuteTime": {
     "end_time": "2020-12-06T13:03:31.166148Z",
     "start_time": "2020-12-06T13:03:31.162142Z"
    }
   },
   "outputs": [],
   "source": [
    "#Markdown(\"The sum of the number of EVERYONE answering yes per group is **{}**\"\n",
    "#         .format(sum(every_yes)))"
   ]
  },
  {
   "cell_type": "code",
   "execution_count": null,
   "metadata": {},
   "outputs": [],
   "source": []
  }
 ],
 "metadata": {
  "kernelspec": {
   "display_name": "Python 3",
   "language": "python",
   "name": "python3"
  },
  "language_info": {
   "codemirror_mode": {
    "name": "ipython",
    "version": 3
   },
   "file_extension": ".py",
   "mimetype": "text/x-python",
   "name": "python",
   "nbconvert_exporter": "python",
   "pygments_lexer": "ipython3",
   "version": "3.6.10"
  },
  "toc": {
   "base_numbering": 1,
   "nav_menu": {},
   "number_sections": true,
   "sideBar": true,
   "skip_h1_title": false,
   "title_cell": "Table of Contents",
   "title_sidebar": "Contents",
   "toc_cell": false,
   "toc_position": {},
   "toc_section_display": true,
   "toc_window_display": false
  }
 },
 "nbformat": 4,
 "nbformat_minor": 4
}
