{
 "cells": [
  {
   "cell_type": "code",
   "execution_count": 1,
   "metadata": {
    "ExecuteTime": {
     "end_time": "2020-12-06T11:33:49.838361Z",
     "start_time": "2020-12-06T11:33:49.831363Z"
    }
   },
   "outputs": [],
   "source": [
    "from IPython.display import Markdown\n",
    "#from IPython.core.debugger import set_trace as breakpt"
   ]
  },
  {
   "cell_type": "code",
   "execution_count": 47,
   "metadata": {
    "ExecuteTime": {
     "end_time": "2020-12-06T11:49:05.001247Z",
     "start_time": "2020-12-06T11:49:04.977244Z"
    }
   },
   "outputs": [],
   "source": [
    "# Read in the customs data\n",
    "clist = list()\n",
    "with open('customs_input.txt', 'r') as fid:\n",
    "    codes = set()\n",
    "    for line in fid:\n",
    "        if not line.strip():\n",
    "            # Matched an empty line, dump the codes\n",
    "            clist.append(codes.copy())\n",
    "            codes = set()\n",
    "        else:\n",
    "            codes |= set(line.strip())\n",
    "if codes:\n",
    "    # Last set of codes was not dumped, do it now\n",
    "    clist.append(codes.copy())"
   ]
  },
  {
   "cell_type": "code",
   "execution_count": 54,
   "metadata": {
    "ExecuteTime": {
     "end_time": "2020-12-06T11:52:34.279577Z",
     "start_time": "2020-12-06T11:52:34.257577Z"
    }
   },
   "outputs": [
    {
     "data": {
      "text/plain": [
       "3232"
      ]
     },
     "execution_count": 54,
     "metadata": {},
     "output_type": "execute_result"
    }
   ],
   "source": [
    "ccounts = [len(x) for x in clist]\n",
    "\n",
    "sum(ccounts)"
   ]
  },
  {
   "cell_type": "code",
   "execution_count": null,
   "metadata": {},
   "outputs": [],
   "source": [
    "# Guess 1: 6286 is too low"
   ]
  },
  {
   "cell_type": "code",
   "execution_count": null,
   "metadata": {},
   "outputs": [],
   "source": []
  },
  {
   "cell_type": "code",
   "execution_count": 125,
   "metadata": {
    "ExecuteTime": {
     "end_time": "2020-12-06T12:21:52.206305Z",
     "start_time": "2020-12-06T12:21:52.183307Z"
    }
   },
   "outputs": [
    {
     "data": {
      "text/plain": [
       "3193"
      ]
     },
     "execution_count": 125,
     "metadata": {},
     "output_type": "execute_result"
    }
   ],
   "source": [
    "# Read in the customs data\n",
    "clist = list()\n",
    "with open('customs_input.txt', 'r') as fid:\n",
    "    codegroup = list()\n",
    "    for line in fid:\n",
    "        if not line.strip():\n",
    "            # Matched an empty line, dump the codes\n",
    "            ii = iter(codegroup)\n",
    "            s0 = set(next(ii))\n",
    "            for s in ii:\n",
    "                s0 &= set(s )\n",
    "            clist.append(''.join(s0))\n",
    "            codegroup = list()\n",
    "        else:\n",
    "            codegroup.append(line.strip())\n",
    "if codegroup:\n",
    "    # Last set of codes was not dumped, do it now\n",
    "    ii = iter(codegroup)\n",
    "    s0 = set(next(ii))\n",
    "    for s in ii:\n",
    "        s0 &= set(s )\n",
    "    clist.append(''.join(s0))\n",
    "\n",
    "ccounts = [len(x) for x in clist]\n",
    "sum(ccounts)"
   ]
  },
  {
   "cell_type": "code",
   "execution_count": null,
   "metadata": {},
   "outputs": [],
   "source": [
    "# Guess 1 3232 is too high\n",
    "# Guess 2 3248 is too high\n",
    "# Guess 3 3179 is too low\n",
    "# Guess 4 3180 is not correct"
   ]
  }
 ],
 "metadata": {
  "kernelspec": {
   "display_name": "Python 3",
   "language": "python",
   "name": "python3"
  },
  "language_info": {
   "codemirror_mode": {
    "name": "ipython",
    "version": 3
   },
   "file_extension": ".py",
   "mimetype": "text/x-python",
   "name": "python",
   "nbconvert_exporter": "python",
   "pygments_lexer": "ipython3",
   "version": "3.6.10"
  },
  "toc": {
   "base_numbering": 1,
   "nav_menu": {},
   "number_sections": true,
   "sideBar": true,
   "skip_h1_title": false,
   "title_cell": "Table of Contents",
   "title_sidebar": "Contents",
   "toc_cell": false,
   "toc_position": {},
   "toc_section_display": true,
   "toc_window_display": false
  }
 },
 "nbformat": 4,
 "nbformat_minor": 4
}
