{
 "cells": [
  {
   "cell_type": "code",
   "execution_count": 1,
   "metadata": {
    "ExecuteTime": {
     "end_time": "2020-12-15T13:21:47.846650Z",
     "start_time": "2020-12-15T13:21:47.838643Z"
    }
   },
   "outputs": [],
   "source": [
    "from IPython.display import Markdown\n",
    "from IPython.core.debugger import set_trace as breakpt"
   ]
  },
  {
   "cell_type": "markdown",
   "metadata": {},
   "source": [
    "# Day 15: Rambunctious Recitation\n",
    "\n",
    "Reference: https://adventofcode.com/2020/day/15\n",
    "\n",
    "# Part 1\n",
    "\n",
    "**Given your starting numbers, what will be the 2020th number spoken?**\n",
    "\n",
    "Your puzzle input was `20,0,1,11,6,3`."
   ]
  },
  {
   "cell_type": "code",
   "execution_count": 172,
   "metadata": {
    "ExecuteTime": {
     "end_time": "2020-12-15T20:46:33.849842Z",
     "start_time": "2020-12-15T20:46:33.838841Z"
    }
   },
   "outputs": [],
   "source": [
    "N0 = [20, 0, 1, 11, 6, 3]\n",
    "#nturns = 2020\n",
    "#nturns = 30000000\n",
    "\n",
    "def elfgame(nturns, n0=N0):\n",
    "    \"\"\"\n",
    "    Parameters\n",
    "    ----------\n",
    "    nturns: int\n",
    "        Number or turns to report the result for (e.g. 2020)\n",
    "    n0: list (default: N0)\n",
    "        List of integer start numbers (e.g [0, 3, 6])\n",
    "        \n",
    "    Examples:\n",
    "        n0 = [0, 3, 6] # 2020:1 3E7:175594\n",
    "        n0 = [2, 1, 3] # 2020:10 3E7:3544142\n",
    "        n0 = [1, 2, 3] # 2020:27 3E7:261214\n",
    "        n0 = [2, 3, 1] # 2020:78 3E7:6895259\n",
    "        n0 = [3, 2, 1] # 2020:438 3E7:18\n",
    "        n0 = [3, 1, 2] # 2020:1836 3E7:362\n",
    "        n0 = [20, 0, 1, 11, 6, 3] # 2020:421 3E7:436\n",
    "    \"\"\"\n",
    "    # Initialize turn_indices with starting values\n",
    "    turn_indices = [(0, 0) for x in range(nturns)]\n",
    "    i = 1\n",
    "    for n in n0[:-1]:\n",
    "        turn_indices[n] = (i, i)\n",
    "        i += 1\n",
    "    spoken = n0[-1]\n",
    "    turn_indices[spoken] = (0, i)\n",
    "\n",
    "    for turn in range(len(n0) + 1, nturns + 1):\n",
    "        #print(\"TURN: {}; PREVIOUS SPEAK: {}\".format(turn, spoken))\n",
    "        t0, t1 = turn_indices[spoken]\n",
    "        #print(\"({}, {})\".format(t0, t1))\n",
    "        if 0 == t0:\n",
    "            spoken = 0\n",
    "        else:\n",
    "            spoken = t1 - t0\n",
    "        turn_indices[spoken] = (turn_indices[spoken][1], turn)\n",
    "        #print(\"{}: {}\".format(turn, spoken))\n",
    "\n",
    "    #print(\"Turn: {}, Spoken: {}\".format(turn, spoken))\n",
    "    return {'turn': turn, 'spoken': spoken}"
   ]
  },
  {
   "cell_type": "code",
   "execution_count": 1,
   "metadata": {
    "ExecuteTime": {
     "end_time": "2021-12-13T18:40:07.112394Z",
     "start_time": "2021-12-13T18:40:07.081132Z"
    }
   },
   "outputs": [],
   "source": [
    "#Markdown(\"The **{turn}th** spoken number is **{spoken}**\".format(**elfgame(2020, N0)))"
   ]
  },
  {
   "cell_type": "markdown",
   "metadata": {},
   "source": [
    "## Part Two\n",
    "\n",
    "**Given your starting numbers, what will be the 30000000th number spoken?**"
   ]
  },
  {
   "cell_type": "code",
   "execution_count": 2,
   "metadata": {
    "ExecuteTime": {
     "end_time": "2021-12-13T18:40:34.860615Z",
     "start_time": "2021-12-13T18:40:34.844973Z"
    }
   },
   "outputs": [],
   "source": [
    "#Markdown(\"The **{turn:,}th** spoken number is **{spoken}**\"\n",
    "#         .format(**elfgame(30000000, N0)))"
   ]
  },
  {
   "cell_type": "code",
   "execution_count": null,
   "metadata": {},
   "outputs": [],
   "source": []
  }
 ],
 "metadata": {
  "kernelspec": {
   "display_name": "Python 3",
   "language": "python",
   "name": "python3"
  },
  "language_info": {
   "codemirror_mode": {
    "name": "ipython",
    "version": 3
   },
   "file_extension": ".py",
   "mimetype": "text/x-python",
   "name": "python",
   "nbconvert_exporter": "python",
   "pygments_lexer": "ipython3",
   "version": "3.6.12"
  },
  "toc": {
   "base_numbering": 1,
   "nav_menu": {},
   "number_sections": true,
   "sideBar": true,
   "skip_h1_title": false,
   "title_cell": "Table of Contents",
   "title_sidebar": "Contents",
   "toc_cell": false,
   "toc_position": {},
   "toc_section_display": true,
   "toc_window_display": false
  }
 },
 "nbformat": 4,
 "nbformat_minor": 4
}
