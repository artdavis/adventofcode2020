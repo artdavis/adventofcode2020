{
 "cells": [
  {
   "cell_type": "code",
   "execution_count": 1,
   "metadata": {
    "ExecuteTime": {
     "end_time": "2020-12-15T13:21:47.846650Z",
     "start_time": "2020-12-15T13:21:47.838643Z"
    }
   },
   "outputs": [],
   "source": [
    "from IPython.display import Markdown\n",
    "from IPython.core.debugger import set_trace as breakpt"
   ]
  },
  {
   "cell_type": "markdown",
   "metadata": {},
   "source": [
    "# Day 15: Rambunctious Recitation\n",
    "\n",
    "Reference: https://adventofcode.com/2020/day/15\n",
    "\n",
    "# Part 1\n",
    "\n",
    "You catch the airport shuttle and try to book a new flight to your vacation island. Due to the storm, all direct flights have been cancelled, but a route is available to get around the storm. You take it.\n",
    "\n",
    "While you wait for your flight, you decide to check in with the Elves back at the North Pole. They're playing a memory game and are ever so excited to explain the rules!\n",
    "\n",
    "In this game, the players take turns saying numbers. They begin by taking turns reading from a list of starting numbers (your puzzle input). Then, each turn consists of considering the most recently spoken number:\n",
    "\n",
    "- If that was the first time the number has been spoken, the current player says 0.\n",
    "- Otherwise, the number had been spoken before; the current player announces how many turns apart the number is from when it was previously spoken.\n",
    "\n",
    "So, after the starting numbers, each turn results in that player speaking aloud either 0 (if the last number is new) or an age (if the last number is a repeat).\n",
    "\n",
    "For example, suppose the starting numbers are 0,3,6:\n",
    "\n",
    "- Turn 1: The 1st number spoken is a starting number, 0.\n",
    "- Turn 2: The 2nd number spoken is a starting number, 3.\n",
    "- Turn 3: The 3rd number spoken is a starting number, 6.\n",
    "- Turn 4: Now, consider the last number spoken, 6. Since that was the first time the number had been spoken, the 4th number spoken is 0.\n",
    "- Turn 5: Next, again consider the last number spoken, 0. Since it had been spoken before, the next number to speak is the difference between the turn number when it was last spoken (the previous turn, 4) and the turn number of the time it was most recently spoken before then (turn 1). Thus, the 5th number spoken is 4 - 1, 3.\n",
    "- Turn 6: The last number spoken, 3 had also been spoken before, most recently on turns 5 and 2. So, the 6th number spoken is 5 - 2, 3.\n",
    "- Turn 7: Since 3 was just spoken twice in a row, and the last two turns are 1 turn apart, the 7th number spoken is 1.\n",
    "- Turn 8: Since 1 is new, the 8th number spoken is 0.\n",
    "- Turn 9: 0 was last spoken on turns 8 and 4, so the 9th number spoken is the difference between them, 4.\n",
    "- Turn 10: 4 is new, so the 10th number spoken is 0.\n",
    "\n",
    "(The game ends when the Elves get sick of playing or dinner is ready, whichever comes first.)\n",
    "\n",
    "Their question for you is: what will be the 2020th number spoken? In the example above, the 2020th number spoken will be 436.\n",
    "\n",
    "Here are a few more examples:\n",
    "\n",
    "    Given the starting numbers 1,3,2, the 2020th number spoken is 1.\n",
    "    Given the starting numbers 2,1,3, the 2020th number spoken is 10.\n",
    "    Given the starting numbers 1,2,3, the 2020th number spoken is 27.\n",
    "    Given the starting numbers 2,3,1, the 2020th number spoken is 78.\n",
    "    Given the starting numbers 3,2,1, the 2020th number spoken is 438.\n",
    "    Given the starting numbers 3,1,2, the 2020th number spoken is 1836.\n",
    "\n",
    "Given your starting numbers, what will be the 2020th number spoken?\n",
    "\n",
    "Your puzzle input was `20,0,1,11,6,3`."
   ]
  },
  {
   "cell_type": "code",
   "execution_count": 160,
   "metadata": {
    "ExecuteTime": {
     "end_time": "2020-12-15T20:34:44.534649Z",
     "start_time": "2020-12-15T20:34:44.518648Z"
    }
   },
   "outputs": [],
   "source": [
    "N0 = [20, 0, 1, 11, 6, 3]\n",
    "#nturns = 2020\n",
    "#nturns = 30000000\n",
    "\n",
    "def elfgame(nturns, n0=N0):\n",
    "    \"\"\"\n",
    "    Parameters\n",
    "    ----------\n",
    "    n0: list\n",
    "        List of integer start numbers (e.g [0, 3, 6])\n",
    "    nturns: int\n",
    "        Number or turns to report the result for (e.g. 2020)\n",
    "        \n",
    "    Examples:\n",
    "        n0 = [0, 3, 6] # 2020:1 3E7:175594\n",
    "        n0 = [2, 1, 3] # 2020:10 3E7:3544142\n",
    "        n0 = [1, 2, 3] # 2020:27 3E7:261214\n",
    "        n0 = [2, 3, 1] # 2020:78 3E7:6895259\n",
    "        n0 = [3, 2, 1] # 2020:438 3E7:18\n",
    "        n0 = [3, 1, 2] # 2020:1836 3E7:362\n",
    "        n0 = [20, 0, 1, 11, 6, 3] # 2020:421 3E7:436\n",
    "    \"\"\"\n",
    "    # Initialize turn_indices with starting values\n",
    "    turn_indices = [(0, 0) for x in range(nturns)]\n",
    "    i = 1\n",
    "    for n in n0[:-1]:\n",
    "        turn_indices[n] = (i, i)\n",
    "        i += 1\n",
    "    spoken = n0[-1]\n",
    "    turn_indices[spoken] = (0, i)\n",
    "\n",
    "    for turn in range(len(n0) + 1, nturns + 1):\n",
    "        #print(\"TURN: {}; PREVIOUS SPEAK: {}\".format(turn, spoken))\n",
    "        t0, t1 = turn_indices[spoken]\n",
    "        #print(\"({}, {})\".format(t0, t1))\n",
    "        if 0 == t0:\n",
    "            spoken = 0\n",
    "        else:\n",
    "            spoken = t1 - t0\n",
    "        turn_indices[spoken] = (turn_indices[spoken][1], turn)\n",
    "        #print(\"{}: {}\".format(turn, spoken))\n",
    "\n",
    "    #print(\"Turn: {}, Spoken: {}\".format(turn, spoken))\n",
    "    return {'turn': turn, 'spoken': spoken}"
   ]
  },
  {
   "cell_type": "code",
   "execution_count": 168,
   "metadata": {
    "ExecuteTime": {
     "end_time": "2020-12-15T20:38:22.088438Z",
     "start_time": "2020-12-15T20:38:22.074437Z"
    }
   },
   "outputs": [
    {
     "data": {
      "text/markdown": [
       "The **2020th** spoken number is **421**"
      ],
      "text/plain": [
       "<IPython.core.display.Markdown object>"
      ]
     },
     "execution_count": 168,
     "metadata": {},
     "output_type": "execute_result"
    }
   ],
   "source": [
    "Markdown(\"The **{turn}th** spoken number is **{spoken}**\".format(**elfgame(2020, N0)))"
   ]
  },
  {
   "cell_type": "markdown",
   "metadata": {},
   "source": [
    "## Part Two\n",
    "\n",
    "Impressed, the Elves issue you a challenge: determine the 30000000th number spoken. For example, given the same starting numbers as above:\n",
    "\n",
    "    Given 0,3,6, the 30000000th number spoken is 175594.\n",
    "    Given 1,3,2, the 30000000th number spoken is 2578.\n",
    "    Given 2,1,3, the 30000000th number spoken is 3544142.\n",
    "    Given 1,2,3, the 30000000th number spoken is 261214.\n",
    "    Given 2,3,1, the 30000000th number spoken is 6895259.\n",
    "    Given 3,2,1, the 30000000th number spoken is 18.\n",
    "    Given 3,1,2, the 30000000th number spoken is 362.\n",
    "\n",
    "Given your starting numbers, what will be the 30000000th number spoken?"
   ]
  },
  {
   "cell_type": "code",
   "execution_count": 171,
   "metadata": {
    "ExecuteTime": {
     "end_time": "2020-12-15T20:40:42.325841Z",
     "start_time": "2020-12-15T20:40:28.130714Z"
    }
   },
   "outputs": [
    {
     "data": {
      "text/markdown": [
       "The **30,000,000th** spoken number is **436**"
      ],
      "text/plain": [
       "<IPython.core.display.Markdown object>"
      ]
     },
     "execution_count": 171,
     "metadata": {},
     "output_type": "execute_result"
    }
   ],
   "source": [
    "Markdown(\"The **{turn:,}th** spoken number is **{spoken}**\"\n",
    "         .format(**elfgame(30000000, N0)))"
   ]
  },
  {
   "cell_type": "code",
   "execution_count": null,
   "metadata": {},
   "outputs": [],
   "source": []
  }
 ],
 "metadata": {
  "kernelspec": {
   "display_name": "Python 3",
   "language": "python",
   "name": "python3"
  },
  "language_info": {
   "codemirror_mode": {
    "name": "ipython",
    "version": 3
   },
   "file_extension": ".py",
   "mimetype": "text/x-python",
   "name": "python",
   "nbconvert_exporter": "python",
   "pygments_lexer": "ipython3",
   "version": "3.6.10"
  },
  "toc": {
   "base_numbering": 1,
   "nav_menu": {},
   "number_sections": true,
   "sideBar": true,
   "skip_h1_title": false,
   "title_cell": "Table of Contents",
   "title_sidebar": "Contents",
   "toc_cell": false,
   "toc_position": {},
   "toc_section_display": true,
   "toc_window_display": false
  }
 },
 "nbformat": 4,
 "nbformat_minor": 4
}
