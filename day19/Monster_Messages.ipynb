{
 "cells": [
  {
   "cell_type": "code",
   "execution_count": 1,
   "metadata": {
    "ExecuteTime": {
     "end_time": "2020-12-20T21:33:17.216335Z",
     "start_time": "2020-12-20T21:33:17.202327Z"
    }
   },
   "outputs": [],
   "source": [
    "import re\n",
    "from IPython.display import Markdown\n",
    "from IPython.core.debugger import set_trace as breakpt"
   ]
  },
  {
   "cell_type": "markdown",
   "metadata": {},
   "source": [
    "# Day 19: Monster Messages\n",
    "\n",
    "Reference: https://adventofcode.com/2020/day/19\n",
    "\n",
    "## Part 1\n",
    "You land in an airport surrounded by dense forest. As you walk to your high-speed train, the Elves at the Mythical Information Bureau contact you again. They think their satellite has collected an image of a sea monster! Unfortunately, the connection to the satellite is having problems, and many of the messages sent back from the satellite have been corrupted.\n",
    "\n",
    "They sent you a list of the rules valid messages should obey and a list of received messages they've collected so far (your puzzle input).\n",
    "\n",
    "The rules for valid messages (the top part of your puzzle input) are numbered and build upon each other. For example:\n",
    "```\n",
    "0: 1 2\n",
    "1: \"a\"\n",
    "2: 1 3 | 3 1\n",
    "3: \"b\"\n",
    "```\n",
    "Some rules, like 3: \"b\", simply match a single character (in this case, b).\n",
    "\n",
    "The remaining rules list the sub-rules that must be followed; for example, the rule 0: 1 2 means that to match rule 0, the text being checked must match rule 1, and the text after the part that matched rule 1 must then match rule 2.\n",
    "\n",
    "Some of the rules have multiple lists of sub-rules separated by a pipe (|). This means that at least one list of sub-rules must match. (The ones that match might be different each time the rule is encountered.) For example, the rule 2: 1 3 | 3 1 means that to match rule 2, the text being checked must match rule 1 followed by rule 3 or it must match rule 3 followed by rule 1.\n",
    "\n",
    "Fortunately, there are no loops in the rules, so the list of possible matches will be finite. Since rule 1 matches a and rule 3 matches b, rule 2 matches either ab or ba. Therefore, rule 0 matches aab or aba.\n",
    "\n",
    "Here's a more interesting example:\n",
    "```\n",
    "0: 4 1 5\n",
    "1: 2 3 | 3 2\n",
    "2: 4 4 | 5 5\n",
    "3: 4 5 | 5 4\n",
    "4: \"a\"\n",
    "5: \"b\"\n",
    "```\n",
    "Here, because rule 4 matches a and rule 5 matches b, rule 2 matches two letters that are the same (aa or bb), and rule 3 matches two letters that are different (ab or ba).\n",
    "\n",
    "Since rule 1 matches rules 2 and 3 once each in either order, it must match two pairs of letters, one pair with matching letters and one pair with different letters. This leaves eight possibilities: aaab, aaba, bbab, bbba, abaa, abbb, baaa, or babb.\n",
    "\n",
    "Rule 0, therefore, matches a (rule 4), then any of the eight options from rule 1, then b (rule 5): aaaabb, aaabab, abbabb, abbbab, aabaab, aabbbb, abaaab, or ababbb.\n",
    "\n",
    "The received messages (the bottom part of your puzzle input) need to be checked against the rules so you can determine which are valid and which are corrupted. Including the rules and the messages together, this might look like:\n",
    "```\n",
    "0: 4 1 5\n",
    "1: 2 3 | 3 2\n",
    "2: 4 4 | 5 5\n",
    "3: 4 5 | 5 4\n",
    "4: \"a\"\n",
    "5: \"b\"\n",
    "\n",
    "ababbb\n",
    "bababa\n",
    "abbbab\n",
    "aaabbb\n",
    "aaaabbb\n",
    "```\n",
    "Your goal is to determine the number of messages that completely match rule 0. In the above example, ababbb and abbbab match, but bababa, aaabbb, and aaaabbb do not, producing the answer 2. The whole message must match all of rule 0; there can't be extra unmatched characters in the message. (For example, aaaabbb might appear to match rule 0 above, but it has an extra unmatched b on the end.)\n",
    "\n",
    "How many messages completely match rule 0?"
   ]
  },
  {
   "cell_type": "code",
   "execution_count": 71,
   "metadata": {
    "ExecuteTime": {
     "end_time": "2020-12-21T16:16:22.874129Z",
     "start_time": "2020-12-21T16:16:22.854130Z"
    }
   },
   "outputs": [],
   "source": [
    "rules_dict = dict()\n",
    "dat = list()\n",
    "mode = 'rules'\n",
    "with open('satt_input.txt', 'r') as fid:\n",
    "    for line in fid:\n",
    "        line = line.strip()\n",
    "        if not line:\n",
    "            # Empty string, switch modes\n",
    "            mode = 'data'\n",
    "            continue\n",
    "        if 'rules' == mode:\n",
    "            n, s = line.split(': ')\n",
    "            rules_dict[int(n)] = s.strip('\"')\n",
    "        elif 'data' == mode:\n",
    "            dat.append(line)\n",
    "\n",
    "# Convert rules to a list, so it can just be\n",
    "# dereferenced by index of the list by sorting\n",
    "# the rules dict and converting the values\n",
    "rules_raw = list({k: rules_dict[k] for k in sorted(rules_dict)}.values())"
   ]
  },
  {
   "cell_type": "code",
   "execution_count": 126,
   "metadata": {
    "ExecuteTime": {
     "end_time": "2020-12-20T17:38:06.219408Z",
     "start_time": "2020-12-20T17:38:06.207408Z"
    }
   },
   "outputs": [],
   "source": [
    "test_rules_raw1 = ['1 2',\n",
    "              'a',\n",
    "              '1 3 | 3 1',\n",
    "              'b']\n",
    "test_rules_raw2 = ['4 1 5',\n",
    "              '2 3 | 3 2',\n",
    "              '4 4 | 5 5',\n",
    "              '4 5 | 5 4',\n",
    "              'a',\n",
    "              'b']"
   ]
  },
  {
   "cell_type": "markdown",
   "metadata": {
    "ExecuteTime": {
     "end_time": "2020-12-20T21:33:17.312331Z",
     "start_time": "2020-12-20T21:33:17.298327Z"
    }
   },
   "source": [
    "### Strategy\n",
    "\n",
    "Work backwards.\n",
    "Start with list items for a & b and go back and\n",
    "replace all references to to them with actual a & b's\n",
    "Then find any rules that don't have any numbers in them.\n",
    "Go through and replace references to them with a & b's\n",
    "Continue until all list item references have been resolved."
   ]
  },
  {
   "cell_type": "code",
   "execution_count": 73,
   "metadata": {
    "ExecuteTime": {
     "end_time": "2020-12-21T16:21:12.168658Z",
     "start_time": "2020-12-21T16:21:12.150817Z"
    }
   },
   "outputs": [],
   "source": [
    "# Regex for matching on digits will be ver helpful:\n",
    "rdig = re.compile('\\d+')\n",
    "\n",
    "# So as not to stack up redundant levels of parenthesis,\n",
    "# create a function to determine whether the parenthesis\n",
    "# within a string are balanced or not:\n",
    "def get_balanced(txt):\n",
    "    # Check if supplied txt string has balanced\n",
    "    # parens. Return True if so, False otherwise\n",
    "    stack = list()\n",
    "    for c in txt:\n",
    "        if '(' == c:\n",
    "            stack.append(c)\n",
    "        elif ')' == c:\n",
    "            if 1 > len(stack):\n",
    "                return False\n",
    "            else:\n",
    "                stack.pop(0)\n",
    "    if 0 < len(stack):\n",
    "        return False\n",
    "    else:\n",
    "        return True\n",
    "\n",
    "# This is our workhorse function which will go through\n",
    "# and resolve rule references by replacing them with the\n",
    "# rules they refer to:\n",
    "def rep_rules(rules, skipset=set()):\n",
    "    rules_deref = rules.copy()\n",
    "    rules_deref2 = rules.copy()\n",
    "    for i, rule in enumerate(rules_deref):\n",
    "        if i not in skipset and not rdig.search(rule):\n",
    "        #if not rdig.search(rule):\n",
    "            #print(\"{}: {}\".format(i, rule))\n",
    "            # No references in this rule (and rule is not in skipset)\n",
    "            # Find all rules that reference this rule\n",
    "            # and replace those references with this string\n",
    "            # Must match non-digit then digits followed by a non-digit so as\n",
    "            # not to match part of a number\n",
    "            ri = re.compile('(^|(?<=\\D)){}(?=\\D|$)'.format(i))\n",
    "            for j, rule2 in enumerate(rules_deref2):\n",
    "                if 1 < len(rule):\n",
    "                    # Check if it's already contained in parens\n",
    "                    if rule[0] != '(' and rule[-1] != ')':\n",
    "                        # Rule is not encased in parenthesis, defintely add them\n",
    "                        rule = '({})'.format(rule)\n",
    "                    else:\n",
    "                        # Assume outer parens exist... but are they top level\n",
    "                        # parens or part of several paren expressions? Check\n",
    "                        # by seeing if the substring that excludes the first\n",
    "                        # and last characters are paren balanced. If they are,\n",
    "                        # we don't need any more parens. If they aren't we do.\n",
    "                        if not get_balanced(rule[1:-1]):\n",
    "                            rule = '({})'.format(rule)\n",
    "                newrule, nsubs = ri.subn(rule, rule2)\n",
    "                if 0 < nsubs:\n",
    "                    # Only if substitutions were made...\n",
    "                    #print(\"newrule: \", newrule)\n",
    "                    rules_deref2[j] = newrule\n",
    "            skipset.add(i)\n",
    "    #return rules_deref3, skipset\n",
    "    return rules_deref2, skipset"
   ]
  },
  {
   "cell_type": "code",
   "execution_count": 77,
   "metadata": {
    "ExecuteTime": {
     "end_time": "2020-12-21T16:22:02.116286Z",
     "start_time": "2020-12-21T16:22:02.102287Z"
    }
   },
   "outputs": [],
   "source": [
    "# For testing\n",
    "#rules_deref = rules_raw.copy()\n",
    "#skipset = set()\n",
    "#rrs = [0, 8, 2, 130, 92, 19, 9]\n",
    "#for j in range(5):\n",
    "#    print(\"=-\"*20)\n",
    "#    rules_deref, skipset = rep_rules(rules_deref, skipset)\n",
    "#    for i in rrs:\n",
    "#        print(\"{}: {}\".format(i, rules_deref[i].replace(' ', '')))"
   ]
  },
  {
   "cell_type": "code",
   "execution_count": 84,
   "metadata": {
    "ExecuteTime": {
     "end_time": "2020-12-21T16:28:20.303187Z",
     "start_time": "2020-12-21T16:28:19.849189Z"
    }
   },
   "outputs": [
    {
     "name": "stdout",
     "output_type": "stream",
     "text": [
      "Our completely assembled regex is:\n",
      "^((a(a(b(b(b(a(a|b)|ba)|a(bb))|a(a(ba|(a|b)b)|b(bb|aa)))|a(a((bb|aa)b|(ba|(a|b)b)a)|b(b(aa|ab)|a(ab|bb))))|b(a(b((ba|(a|b)b)a|(aa|b(a|b))b)|a((ba|aa)b|(bb|aa)a))|b(a(a(ba)|b(ba|aa))|b(a(ba|(a|b)b)|b(a(a|b)|ba)))))|b(b((((ab|bb)a|(ba)b)a|(a(ab)|b(ba|(a|b)b))b)b|((a(ba|aa)|b(aa|ab))b|((bb)a)a)a)|a(b(((aa|ab)a|((a|b)(a|b))b)a|(b(aa|ab)|a(ab|bb))b)|a(((a(a|b)|ba)b|(aa|b(a|b))a)b|(b(aa)|a(aa))a))))b|(b(a(a(b((bb)b|(ba|aa)a)|a((bb|a(a|b))a|(ab)b))|b(((aa)b|(bb|a(a|b))a)b|((ba|(a|b)b)a|(bb|ba)b)a))|b(a(b(a(aa)|b(bb|a(a|b)))|a((bb|a(a|b))(a|b)))|b(b(b(bb|a(a|b))|a(ab|bb))|a((bb|ba)(a|b)))))|a(b((a((bb)b|(ba|aa)a)|b(b(bb|a(a|b))|a(ab)))a|(a(b(bb)|a(aa|b(a|b)))|b((ab)a))b)|a((b((bb|a(a|b))b|(ba|(a|b)b)a)|a((ab)a|(aa|ab)b))a|(a(b(ba|aa)|a(aa))|b((ab)b|(ab)a))b)))a)(((a(a(b(b(b(a(a|b)|ba)|a(bb))|a(a(ba|(a|b)b)|b(bb|aa)))|a(a((bb|aa)b|(ba|(a|b)b)a)|b(b(aa|ab)|a(ab|bb))))|b(a(b((ba|(a|b)b)a|(aa|b(a|b))b)|a((ba|aa)b|(bb|aa)a))|b(a(a(ba)|b(ba|aa))|b(a(ba|(a|b)b)|b(a(a|b)|ba)))))|b(b((((ab|bb)a|(ba)b)a|(a(ab)|b(ba|(a|b)b))b)b|((a(ba|aa)|b(aa|ab))b|((bb)a)a)a)|a(b(((aa|ab)a|((a|b)(a|b))b)a|(b(aa|ab)|a(ab|bb))b)|a(((a(a|b)|ba)b|(aa|b(a|b))a)b|(b(aa)|a(aa))a))))b|(b(a(a(b((bb)b|(ba|aa)a)|a((bb|a(a|b))a|(ab)b))|b(((aa)b|(bb|a(a|b))a)b|((ba|(a|b)b)a|(bb|ba)b)a))|b(a(b(a(aa)|b(bb|a(a|b)))|a((bb|a(a|b))(a|b)))|b(b(b(bb|a(a|b))|a(ab|bb))|a((bb|ba)(a|b)))))|a(b((a((bb)b|(ba|aa)a)|b(b(bb|a(a|b))|a(ab)))a|(a(b(bb)|a(aa|b(a|b)))|b((ab)a))b)|a((b((bb|a(a|b))b|(ba|(a|b)b)a)|a((ab)a|(aa|ab)b))a|(a(b(ba|aa)|a(aa))|b((ab)b|(ab)a))b)))a)((b(((b(b(bb|ba)|a(ab|bb))|a((aa|ab)(a|b)))b|((b(a(a|b)|ba)|a(bb))a|(a(bb|a(a|b))|b((a|b)(a|b)))b)a)a|(a((b(bb|a(a|b))|a(ab))a|(a(bb)|b(bb))b)|b(((ba|aa)a|(bb|a(a|b))b)a|((ab)b|(a(a|b)|ba)a)b))b)|a(b((b(b(aa)|a(aa))|a(a(ba|ab)|b(aa)))a|(a(b(ab)|a(ab|bb))|b(b(bb)|a((a|b)(a|b))))b)|a((b(b(bb|aa)|a(ba))|a((ab)a|(bb|aa)b))b|(a(a(aa)|b(bb|a(a|b)))|b(a(bb|aa)|b(aa|ab)))a)))b|((b((((aa|b(a|b))b|(ab)a)b|((aa|b(a|b))b|(ab|bb)a)a)b|((b(aa)|a(aa))b|(b(bb|ba)|a(ba))a)a)|a(a(((ab)b|(ab|bb)a)b|((ab)b|(a(a|b)|ba)a)a)|b(b((bb|a(a|b))a|(ab)b)|a((a(a|b)|ba)b|(ab|bb)a))))a|(b((a((aa|b(a|b))b|(ab|bb)a)|b(a(ba)|b(aa)))b|(((bb|aa)a|(a(a|b)|ba)b)a|((ba|aa)a|(aa)b)b)a)|a(((b(ba|(a|b)b)|a(bb|ba))a|(b(ab|bb)|a(bb|aa))b)a|(b((bb|ba)b|((a|b)(a|b))a)|a((bb|a(a|b))b|((a|b)(a|b))a))b))b)a))$\n"
     ]
    }
   ],
   "source": [
    "# Repeatedly call rep_rules() on our ruleset until\n",
    "# rule 0 is fully resolved:\n",
    "#rules_deref = test_rules_raw2.copy()\n",
    "rules_deref = rules_raw.copy()\n",
    "skipset = set()\n",
    "last_skipset = set()\n",
    "#while len(skipset) < len(rules_deref):\n",
    "keep_going = True\n",
    "while(keep_going):\n",
    "    rules_deref, skipset = rep_rules(rules_deref, skipset)\n",
    "    r0 = rules_deref[0]\n",
    "    keep_going = bool(rdig.search(r0))\n",
    "    if last_skipset == skipset:\n",
    "        print(\"Did not get any new matches\")\n",
    "        keep_going = False\n",
    "    last_skipset = skipset.copy()\n",
    "#print(rules_deref[0])\n",
    "# Make regex including beginning (^) and end ($) assertions\n",
    "# so patterns with extraneous text are not matched\n",
    "r0 = '^' + rules_deref[0].replace(' ', '') + '$'\n",
    "print(\"Our completely assembled regex is:\")\n",
    "print(r0)"
   ]
  },
  {
   "cell_type": "code",
   "execution_count": 75,
   "metadata": {
    "ExecuteTime": {
     "end_time": "2020-12-21T16:21:21.229783Z",
     "start_time": "2020-12-21T16:21:21.206783Z"
    }
   },
   "outputs": [],
   "source": [
    "rx = re.compile(r0)\n",
    "#matches = [bool(rx.match(x)) for x in test_dat2]\n",
    "matches = [bool(rx.match(x)) for x in dat]\n",
    "#matches"
   ]
  },
  {
   "cell_type": "code",
   "execution_count": 85,
   "metadata": {
    "ExecuteTime": {
     "end_time": "2020-12-21T16:29:24.991150Z",
     "start_time": "2020-12-21T16:29:24.976150Z"
    }
   },
   "outputs": [
    {
     "data": {
      "text/markdown": [
       "The number of messages that completely match rule 0 is **269**"
      ],
      "text/plain": [
       "<IPython.core.display.Markdown object>"
      ]
     },
     "execution_count": 85,
     "metadata": {},
     "output_type": "execute_result"
    }
   ],
   "source": [
    "Markdown(\"The number of messages that completely match rule 0 is \"\n",
    "         \"**{}**\".format(sum(matches)))"
   ]
  },
  {
   "cell_type": "markdown",
   "metadata": {},
   "source": [
    "## Part Two\n",
    "\n",
    "As you look over the list of messages, you realize your matching rules aren't quite right. To fix them, completely replace rules 8: 42 and 11: 42 31 with the following:\n",
    "```\n",
    "8: 42 | 42 8\n",
    "11: 42 31 | 42 11 31\n",
    "```\n",
    "This small change has a big impact: now, the rules do contain loops, and the list of messages they could hypothetically match is infinite. You'll need to determine how these changes affect which messages are valid.\n",
    "\n",
    "Fortunately, many of the rules are unaffected by this change; it might help to start by looking at which rules always match the same set of values and how those rules (especially rules 42 and 31) are used by the new versions of rules 8 and 11.\n",
    "\n",
    "(Remember, you only need to handle the rules you have; building a solution that could handle any hypothetical combination of rules would be significantly more difficult.)\n",
    "\n",
    "For example:\n",
    "```\n",
    "42: 9 14 | 10 1\n",
    "9: 14 27 | 1 26\n",
    "10: 23 14 | 28 1\n",
    "1: \"a\"\n",
    "11: 42 31\n",
    "5: 1 14 | 15 1\n",
    "19: 14 1 | 14 14\n",
    "12: 24 14 | 19 1\n",
    "16: 15 1 | 14 14\n",
    "31: 14 17 | 1 13\n",
    "6: 14 14 | 1 14\n",
    "2: 1 24 | 14 4\n",
    "0: 8 11\n",
    "13: 14 3 | 1 12\n",
    "15: 1 | 14\n",
    "17: 14 2 | 1 7\n",
    "23: 25 1 | 22 14\n",
    "28: 16 1\n",
    "4: 1 1\n",
    "20: 14 14 | 1 15\n",
    "3: 5 14 | 16 1\n",
    "27: 1 6 | 14 18\n",
    "14: \"b\"\n",
    "21: 14 1 | 1 14\n",
    "25: 1 1 | 1 14\n",
    "22: 14 14\n",
    "8: 42\n",
    "26: 14 22 | 1 20\n",
    "18: 15 15\n",
    "7: 14 5 | 1 21\n",
    "24: 14 1\n",
    "\n",
    "abbbbbabbbaaaababbaabbbbabababbbabbbbbbabaaaa\n",
    "bbabbbbaabaabba\n",
    "babbbbaabbbbbabbbbbbaabaaabaaa\n",
    "aaabbbbbbaaaabaababaabababbabaaabbababababaaa\n",
    "bbbbbbbaaaabbbbaaabbabaaa\n",
    "bbbababbbbaaaaaaaabbababaaababaabab\n",
    "ababaaaaaabaaab\n",
    "ababaaaaabbbaba\n",
    "baabbaaaabbaaaababbaababb\n",
    "abbbbabbbbaaaababbbbbbaaaababb\n",
    "aaaaabbaabaaaaababaa\n",
    "aaaabbaaaabbaaa\n",
    "aaaabbaabbaaaaaaabbbabbbaaabbaabaaa\n",
    "babaaabbbaaabaababbaabababaaab\n",
    "aabbbbbaabbbaaaaaabbbbbababaaaaabbaaabba\n",
    "```\n",
    "Without updating rules 8 and 11, these rules only match three messages: bbabbbbaabaabba, ababaaaaaabaaab, and ababaaaaabbbaba.\n",
    "\n",
    "However, after updating rules 8 and 11, a total of 12 messages match:\n",
    "\n",
    "    bbabbbbaabaabba\n",
    "    babbbbaabbbbbabbbbbbaabaaabaaa\n",
    "    aaabbbbbbaaaabaababaabababbabaaabbababababaaa\n",
    "    bbbbbbbaaaabbbbaaabbabaaa\n",
    "    bbbababbbbaaaaaaaabbababaaababaabab\n",
    "    ababaaaaaabaaab\n",
    "    ababaaaaabbbaba\n",
    "    baabbaaaabbaaaababbaababb\n",
    "    abbbbabbbbaaaababbbbbbaaaababb\n",
    "    aaaaabbaabaaaaababaa\n",
    "    aaaabbaabbaaaaaaabbbabbbaaabbaabaaa\n",
    "    aabbbbbaabbbaaaaaabbbbbababaaaaabbaaabba\n",
    "\n",
    "After updating rules 8 and 11, how many messages completely match rule 0?"
   ]
  },
  {
   "cell_type": "code",
   "execution_count": 132,
   "metadata": {
    "ExecuteTime": {
     "end_time": "2020-12-21T18:15:41.761937Z",
     "start_time": "2020-12-21T18:15:41.748936Z"
    }
   },
   "outputs": [],
   "source": [
    "rules_raw2 = rules_raw.copy()\n",
    "\n",
    "#rules_raw2[8] = '42 | 42 8'\n",
    "# Expanding out how this would look: 42 | 42 42 | 42 42 42 | 42 42 42 42 ...\n",
    "# So we can eliminate the infinite loop by just using the (+) regex expression\n",
    "# for \"match one or more\". Our new rule then becomes:\n",
    "rules_raw2[8] = '42+'\n",
    "\n",
    "#rules_raw2[11] = '42 31 | 42 11 31'\n",
    "# Expanding: 42 31 | 42 42 31 31 | 42 42 42 31 31 31 ...\n",
    "# I don't know how to convert this to a regex... but if I just\n",
    "# manually right out the first half-dozen cycles, maybe that will\n",
    "# be enough:\n",
    "rules_raw2[11] = ('42 31 | 42 42 31 31 | 42 42 42 31 31 31 | 42 42 42 42 31 31 31 31'\n",
    "                  ' | 42 42 42 42 42 31 31 31 31 31 | 42 42 42 42 42 42 31 31 31 31 31 31')"
   ]
  },
  {
   "cell_type": "code",
   "execution_count": 169,
   "metadata": {
    "ExecuteTime": {
     "end_time": "2020-12-21T18:42:29.259726Z",
     "start_time": "2020-12-21T18:42:29.245725Z"
    }
   },
   "outputs": [],
   "source": [
    "# Rule to match space not between digits\n",
    "rnds = re.compile('(?<=\\D)\\s(?=\\D)')\n",
    "\n",
    "# Function for printing out choice rules well formatted\n",
    "def print_rules(rule_list):\n",
    "    irules = [0, 8, 11, 42, 31]\n",
    "    print('=-'*20)\n",
    "    for i in irules:\n",
    "        r = rule_list[i]\n",
    "        r = rnds.sub('', r)\n",
    "        print(\"{}: {}\".format(i, r))"
   ]
  },
  {
   "cell_type": "code",
   "execution_count": 170,
   "metadata": {
    "ExecuteTime": {
     "end_time": "2020-12-21T18:42:36.867751Z",
     "start_time": "2020-12-21T18:42:35.657747Z"
    },
    "scrolled": false
   },
   "outputs": [],
   "source": [
    "#rules_deref = rules_raw2.copy()\n",
    "rules_deref = rules_raw2.copy()\n",
    "skipset = set()\n",
    "last_skipset = set()\n",
    "#while len(skipset) < len(rules_deref):\n",
    "keep_going = True\n",
    "#print_rules(rules_deref)\n",
    "while(keep_going):\n",
    "    rules_deref, skipset = rep_rules(rules_deref, skipset)\n",
    "    #print_rules(rules_deref)\n",
    "    r0 = rules_deref[0]\n",
    "    keep_going = bool(rdig.search(r0))\n",
    "    if last_skipset == skipset:\n",
    "        print(\"Did not get any new matches\")\n",
    "        keep_going = False\n",
    "    last_skipset = skipset.copy()\n",
    "#print(rules_deref[0])\n",
    "r0 = '^' + rules_deref[0].replace(' ', '') + '$'\n",
    "#print(r0)"
   ]
  },
  {
   "cell_type": "code",
   "execution_count": 171,
   "metadata": {
    "ExecuteTime": {
     "end_time": "2020-12-21T18:42:39.187769Z",
     "start_time": "2020-12-21T18:42:39.136763Z"
    }
   },
   "outputs": [],
   "source": [
    "rx = re.compile(r0)\n",
    "#matches = [bool(rx.match(x)) for x in test_dat2]\n",
    "matches = [bool(rx.match(x)) for x in dat]\n",
    "#matches"
   ]
  },
  {
   "cell_type": "code",
   "execution_count": 172,
   "metadata": {
    "ExecuteTime": {
     "end_time": "2020-12-21T18:43:02.427048Z",
     "start_time": "2020-12-21T18:43:02.418042Z"
    }
   },
   "outputs": [
    {
     "data": {
      "text/markdown": [
       "The number of messages that completely match rule 0 is **403**"
      ],
      "text/plain": [
       "<IPython.core.display.Markdown object>"
      ]
     },
     "execution_count": 172,
     "metadata": {},
     "output_type": "execute_result"
    }
   ],
   "source": [
    "Markdown(\"The number of messages that completely match rule 0 is \"\n",
    "         \"**{}**\".format(sum(matches)))"
   ]
  }
 ],
 "metadata": {
  "kernelspec": {
   "display_name": "Python 3",
   "language": "python",
   "name": "python3"
  },
  "language_info": {
   "codemirror_mode": {
    "name": "ipython",
    "version": 3
   },
   "file_extension": ".py",
   "mimetype": "text/x-python",
   "name": "python",
   "nbconvert_exporter": "python",
   "pygments_lexer": "ipython3",
   "version": "3.6.10"
  },
  "toc": {
   "base_numbering": 1,
   "nav_menu": {},
   "number_sections": true,
   "sideBar": true,
   "skip_h1_title": false,
   "title_cell": "Table of Contents",
   "title_sidebar": "Contents",
   "toc_cell": false,
   "toc_position": {},
   "toc_section_display": true,
   "toc_window_display": false
  }
 },
 "nbformat": 4,
 "nbformat_minor": 4
}
