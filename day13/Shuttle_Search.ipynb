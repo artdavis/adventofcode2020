{
 "cells": [
  {
   "cell_type": "code",
   "execution_count": 1,
   "metadata": {
    "ExecuteTime": {
     "end_time": "2020-12-15T22:24:14.446011Z",
     "start_time": "2020-12-15T22:24:13.404992Z"
    }
   },
   "outputs": [],
   "source": [
    "import numpy as np\n",
    "import re\n",
    "import pandas as pd\n",
    "pd.set_option('display.notebook_repr_html', False)\n",
    "from IPython.display import Markdown\n",
    "from IPython.core.debugger import set_trace as breakpt"
   ]
  },
  {
   "cell_type": "markdown",
   "metadata": {},
   "source": [
    "# Day 13: Shuttle Search\n",
    "\n",
    "Reference: https://adventofcode.com/2020/day/13\n",
    "        \n",
    "## Part 1\n",
    "\n",
    "**What is the ID of the earliest bus you can take to the airport multiplied by the number of minutes you'll need to wait for that bus?**"
   ]
  },
  {
   "cell_type": "code",
   "execution_count": 2,
   "metadata": {
    "ExecuteTime": {
     "end_time": "2020-12-15T22:24:14.462016Z",
     "start_time": "2020-12-15T22:24:14.448011Z"
    }
   },
   "outputs": [
    {
     "data": {
      "text/plain": [
       "'29,x,x,x,x,x,x,x,x,x,x,x,x,x,x,x,x,x,x,41,x,x,x,37,x,x,x,x,x,653,x,x,x,x,x,x,x,x,x,x,x,x,13,x,x,x,17,x,x,x,x,x,23,x,x,x,x,x,x,x,823,x,x,x,x,x,x,x,x,x,x,x,x,x,x,x,x,x,x,19'"
      ]
     },
     "execution_count": 2,
     "metadata": {},
     "output_type": "execute_result"
    }
   ],
   "source": [
    "#with open('test1_bus_input.txt', 'r') as fid:\n",
    "with open('bus_input.txt', 'r') as fid:\n",
    "    t0 = int(fid.readline().strip())\n",
    "    bustimes = fid.readline().strip()\n",
    "    \n",
    "bustimes"
   ]
  },
  {
   "cell_type": "code",
   "execution_count": 3,
   "metadata": {
    "ExecuteTime": {
     "end_time": "2020-12-15T22:24:14.494012Z",
     "start_time": "2020-12-15T22:24:14.466017Z"
    }
   },
   "outputs": [
    {
     "data": {
      "text/plain": [
       "array([ 29,  41,  37, 653,  13,  17,  23, 823,  19])"
      ]
     },
     "execution_count": 3,
     "metadata": {},
     "output_type": "execute_result"
    }
   ],
   "source": [
    "r1 = re.compile('(,x)+')\n",
    "bustimes = np.array([int(x) for x in r1.sub('', bustimes).split(',')])\n",
    "bustimes"
   ]
  },
  {
   "cell_type": "code",
   "execution_count": 4,
   "metadata": {
    "ExecuteTime": {
     "end_time": "2020-12-15T22:24:14.525013Z",
     "start_time": "2020-12-15T22:24:14.496013Z"
    }
   },
   "outputs": [
    {
     "data": {
      "text/markdown": [
       "We can catch a bus at 1008175 minutes"
      ],
      "text/plain": [
       "<IPython.core.display.Markdown object>"
      ]
     },
     "execution_count": 4,
     "metadata": {},
     "output_type": "execute_result"
    }
   ],
   "source": [
    "t = t0\n",
    "while True:\n",
    "    if len(np.where(t % bustimes == 0)[0]) > 0:\n",
    "        # Stop as soon as we can catch a bus\n",
    "        break\n",
    "    t += 1\n",
    "Markdown(\"We can catch a bus at {} minutes\".format(t))"
   ]
  },
  {
   "cell_type": "code",
   "execution_count": 5,
   "metadata": {
    "ExecuteTime": {
     "end_time": "2020-12-15T22:24:14.541019Z",
     "start_time": "2020-12-15T22:24:14.527016Z"
    }
   },
   "outputs": [
    {
     "data": {
      "text/markdown": [
       "We'll have to wait 6 minutes"
      ],
      "text/plain": [
       "<IPython.core.display.Markdown object>"
      ]
     },
     "execution_count": 5,
     "metadata": {},
     "output_type": "execute_result"
    }
   ],
   "source": [
    "wait_time = t - t0\n",
    "Markdown(\"We'll have to wait {} minutes\".format(wait_time))"
   ]
  },
  {
   "cell_type": "code",
   "execution_count": null,
   "metadata": {
    "ExecuteTime": {
     "end_time": "2020-12-15T22:24:14.573015Z",
     "start_time": "2020-12-15T22:24:14.542020Z"
    }
   },
   "outputs": [],
   "source": [
    "id_wait_product = bustimes[t % bustimes == 0][0] * wait_time"
   ]
  },
  {
   "cell_type": "code",
   "execution_count": 1,
   "metadata": {
    "ExecuteTime": {
     "end_time": "2021-12-13T19:01:36.707712Z",
     "start_time": "2021-12-13T19:01:36.676445Z"
    }
   },
   "outputs": [],
   "source": [
    "#Markdown(\"The product of the ID of the earliest bus we can take \"\n",
    "#         \"and the wait time is: **{}**\".format(id_wait_product))"
   ]
  },
  {
   "cell_type": "markdown",
   "metadata": {},
   "source": [
    "## Part 2\n",
    "\n",
    "**What is the earliest timestamp such that all of the listed bus IDs depart at offsets matching their positions in the list?**"
   ]
  },
  {
   "cell_type": "code",
   "execution_count": 7,
   "metadata": {
    "ExecuteTime": {
     "end_time": "2020-12-15T22:24:14.605015Z",
     "start_time": "2020-12-15T22:24:14.575015Z"
    }
   },
   "outputs": [],
   "source": [
    "with open('test1_bus_input.txt', 'r') as fid:\n",
    "#with open('bus_input.txt', 'r') as fid:\n",
    "    t0 = int(fid.readline().strip())\n",
    "    bustimes = fid.readline().strip()\n",
    "    \n",
    "#bustimes\n",
    "\n",
    "ibus, busid = list(), list()\n",
    "for i, b in enumerate(bustimes.split(',')):\n",
    "    if 'x' != b:\n",
    "        ibus.append(i)\n",
    "        busid.append(int(b))\n",
    "ibus = np.array(ibus)\n",
    "busid = np.array(busid)"
   ]
  },
  {
   "cell_type": "code",
   "execution_count": 8,
   "metadata": {
    "ExecuteTime": {
     "end_time": "2020-12-15T22:24:14.621019Z",
     "start_time": "2020-12-15T22:24:14.608021Z"
    }
   },
   "outputs": [
    {
     "data": {
      "text/plain": [
       "toff\n",
       "0     7\n",
       "1    13\n",
       "4    59\n",
       "6    31\n",
       "7    19\n",
       "Name: busid, dtype: uint64"
      ]
     },
     "execution_count": 8,
     "metadata": {},
     "output_type": "execute_result"
    }
   ],
   "source": [
    "# Make a series of bus IDs indexed on time offsets\n",
    "buses = pd.Series(data=busid, index=ibus, name='busid', dtype=np.uint64)\n",
    "buses.index.name = 'toff'\n",
    "buses"
   ]
  },
  {
   "cell_type": "code",
   "execution_count": 9,
   "metadata": {
    "ExecuteTime": {
     "end_time": "2020-12-15T22:24:14.653017Z",
     "start_time": "2020-12-15T22:24:14.623020Z"
    }
   },
   "outputs": [
    {
     "data": {
      "text/plain": [
       "busid\n",
       "7     0\n",
       "13    1\n",
       "59    4\n",
       "31    6\n",
       "19    7\n",
       "Name: toff, dtype: uint64"
      ]
     },
     "execution_count": 9,
     "metadata": {},
     "output_type": "execute_result"
    }
   ],
   "source": [
    "# Also make a series that indexes time offsets on bus IDs\n",
    "toffs = pd.Series(data=ibus, index=busid, name='toff', dtype=np.uint64)\n",
    "toffs.index.name = 'busid'\n",
    "toffs"
   ]
  },
  {
   "cell_type": "code",
   "execution_count": 10,
   "metadata": {
    "ExecuteTime": {
     "end_time": "2020-12-15T22:24:14.685017Z",
     "start_time": "2020-12-15T22:24:14.654016Z"
    }
   },
   "outputs": [],
   "source": [
    "# Make some helper functions for easily checking bus IDs\n",
    "# time values and solutions\n",
    "\n",
    "def get_tvals(t):\n",
    "    # From supplied t value, compute and return requesite\n",
    "    # solution t values\n",
    "    return np.array(t + buses.index, dtype=np.uint64)\n",
    "\n",
    "def get_busid_tvals(t, busid):\n",
    "    # From supplied t value of supplied busid get solution t values\n",
    "    return np.array(t - toffs[busid] + buses.index, dtype=np.uint64)\n",
    "\n",
    "def check_solution(tvals):\n",
    "    # Return True if supplied tvals satisfies solution\n",
    "    #return (tvals % buses == 0).all()\n",
    "    return (tvals % buses).sum() == 0 # slightly faster\n",
    "\n",
    "def check_busid_solution(t, busid):\n",
    "    # From supplied t value of supplied busid check if a solution\n",
    "    return check_solution(get_busid_tvals(t, busid))"
   ]
  },
  {
   "cell_type": "code",
   "execution_count": 11,
   "metadata": {
    "ExecuteTime": {
     "end_time": "2020-12-15T22:24:14.733019Z",
     "start_time": "2020-12-15T22:24:14.689017Z"
    }
   },
   "outputs": [
    {
     "data": {
      "text/plain": [
       "busid  7   13  59  31  19\n",
       "t                        \n",
       "7       7   8  11  13  14\n",
       "14     14  15  18  20  21\n",
       "21     21  22  25  27  28\n",
       "28     28  29  32  34  35\n",
       "35     35  36  39  41  42\n",
       "42     42  43  46  48  49\n",
       "49     49  50  53  55  56\n",
       "56     56  57  60  62  63\n",
       "63     63  64  67  69  70\n",
       "70     70  71  74  76  77\n",
       "77     77  78  81  83  84\n",
       "84     84  85  88  90  91"
      ]
     },
     "execution_count": 11,
     "metadata": {},
     "output_type": "execute_result"
    }
   ],
   "source": [
    "# In the example data we have busid 7 at the 0 time offset.\n",
    "# So we know we can increment by AT LEAST this busid since\n",
    "# the solution must be integer divisible by this busid.\n",
    "# Have a look at the first dozen timecodes at this step\n",
    "# increment and what the subsequent time codes per bus ID\n",
    "# works out to be:\n",
    "tarr = np.arange(buses[0], 12*buses[0]+1, buses[0], dtype=np.uint64)\n",
    "tvals_list = [get_tvals(x) for x in tarr]\n",
    "df = pd.DataFrame(tvals_list, index=tarr, columns=buses)\n",
    "df.index.name = 't'\n",
    "df"
   ]
  },
  {
   "cell_type": "code",
   "execution_count": 12,
   "metadata": {
    "ExecuteTime": {
     "end_time": "2020-12-15T22:24:14.749023Z",
     "start_time": "2020-12-15T22:24:14.735023Z"
    }
   },
   "outputs": [
    {
     "data": {
      "text/plain": [
       "busid  7   13  59  31  19\n",
       "t                        \n",
       "7       0   8  11  13  14\n",
       "14      0   2  18  20   2\n",
       "21      0   9  25  27   9\n",
       "28      0   3  32   3  16\n",
       "35      0  10  39  10   4\n",
       "42      0   4  46  17  11\n",
       "49      0  11  53  24  18\n",
       "56      0   5   1   0   6\n",
       "63      0  12   8   7  13\n",
       "70      0   6  15  14   1\n",
       "77      0   0  22  21   8\n",
       "84      0   7  29  28  15"
      ]
     },
     "execution_count": 12,
     "metadata": {},
     "output_type": "execute_result"
    }
   ],
   "source": [
    "# Where a timecode is integer divisible by it's\n",
    "# bus ID (modulo equals 0), that is a possible\n",
    "# solution\n",
    "df % buses.values"
   ]
  },
  {
   "cell_type": "code",
   "execution_count": 13,
   "metadata": {
    "ExecuteTime": {
     "end_time": "2020-12-15T22:24:14.780019Z",
     "start_time": "2020-12-15T22:24:14.751022Z"
    }
   },
   "outputs": [
    {
     "data": {
      "text/plain": [
       "busid    7     13    59    31    19\n",
       "t                                  \n",
       "77       77    78    81    83    84\n",
       "168     168   169   172   174   175\n",
       "259     259   260   263   265   266\n",
       "350     350   351   354   356   357\n",
       "441     441   442   445   447   448\n",
       "532     532   533   536   538   539\n",
       "623     623   624   627   629   630\n",
       "714     714   715   718   720   721\n",
       "805     805   806   809   811   812\n",
       "896     896   897   900   902   903\n",
       "987     987   988   991   993   994\n",
       "1078   1078  1079  1082  1084  1085\n",
       "1169   1169  1170  1173  1175  1176"
      ]
     },
     "execution_count": 13,
     "metadata": {},
     "output_type": "execute_result"
    }
   ],
   "source": [
    "# Of course all of the time codes for bus ID 7 are\n",
    "# possible solutions (modulo 7 all equals zero)\n",
    "# since we incremented the time codes by 7.\n",
    "# Now look what has happened at t=77. We have two\n",
    "# adjacent possible solutions since one minute later\n",
    "# t=78 modulo bus ID 13 = 0. We know this must hold\n",
    "# for our solution in order for all timecodes modulo\n",
    "# their bus IDs evaluate to zero. This means we may\n",
    "# now increment the time codes by 7 * 13 = 91 since\n",
    "# incrementing by any less will not allow bus IDs\n",
    "# 7 & 13 to \"line up\". Let's check. Construct a new\n",
    "# DataFrame starting at 77 with our new time code\n",
    "# increment of 91.\n",
    "t2 = 77\n",
    "incr = 7 * 13\n",
    "tarr2 = np.arange(t2, t2 + 12*incr+1, incr, dtype=np.uint64)\n",
    "tvals2_list = [get_tvals(x) for x in tarr2]\n",
    "df2 = pd.DataFrame(tvals2_list, index=tarr2, columns=buses)\n",
    "df2.index.name = 't'\n",
    "df2"
   ]
  },
  {
   "cell_type": "code",
   "execution_count": 14,
   "metadata": {
    "ExecuteTime": {
     "end_time": "2020-12-15T22:24:14.828021Z",
     "start_time": "2020-12-15T22:24:14.782018Z"
    }
   },
   "outputs": [
    {
     "data": {
      "text/plain": [
       "busid  7   13  59  31  19\n",
       "t                        \n",
       "77      0   0  22  21   8\n",
       "168     0   0  54  19   4\n",
       "259     0   0  27  17   0\n",
       "350     0   0   0  15  15\n",
       "441     0   0  32  13  11\n",
       "532     0   0   5  11   7\n",
       "623     0   0  37   9   3\n",
       "714     0   0  10   7  18\n",
       "805     0   0  42   5  14\n",
       "896     0   0  15   3  10\n",
       "987     0   0  47   1   6\n",
       "1078    0   0  20  30   2\n",
       "1169    0   0  52  28  17"
      ]
     },
     "execution_count": 14,
     "metadata": {},
     "output_type": "execute_result"
    }
   ],
   "source": [
    "# Modulo the timecodes with their bus IDs\n",
    "df2 % buses.values"
   ]
  },
  {
   "cell_type": "code",
   "execution_count": 15,
   "metadata": {
    "ExecuteTime": {
     "end_time": "2020-12-15T22:24:14.844018Z",
     "start_time": "2020-12-15T22:24:14.830021Z"
    }
   },
   "outputs": [],
   "source": [
    "# Buses 7 & 13 line up every time!\n",
    "# Now we just need to keep going until bus\n",
    "# 59 lines up. From that point forward we\n",
    "# could increase our time step increment to\n",
    "# 7 * 13 * 59 = 5369. This increases our\n",
    "# search speed dramatically. Proceed with this\n",
    "# process updating the time step increment\n",
    "# accordingly until ultimately reaching the solution!"
   ]
  },
  {
   "cell_type": "code",
   "execution_count": 16,
   "metadata": {
    "ExecuteTime": {
     "end_time": "2020-12-15T22:24:14.876022Z",
     "start_time": "2020-12-15T22:24:14.845018Z"
    }
   },
   "outputs": [],
   "source": [
    "#with open('test1_bus_input.txt', 'r') as fid:\n",
    "with open('bus_input.txt', 'r') as fid:\n",
    "    t0 = int(fid.readline().strip())\n",
    "    bustimes = fid.readline().strip()\n",
    "    \n",
    "#bustimes\n",
    "\n",
    "ibus, busid = list(), list()\n",
    "for i, b in enumerate(bustimes.split(',')):\n",
    "    if 'x' != b:\n",
    "        ibus.append(i)\n",
    "        busid.append(int(b))\n",
    "ibus = np.array(ibus)\n",
    "busid = np.array(busid)\n",
    "\n",
    "# Make a series of bus IDs indexed on time offsets\n",
    "buses = pd.Series(data=busid, index=ibus, name='busid', dtype=np.uint64)\n",
    "buses.index.name = 'toff'\n",
    "\n",
    "# Also make a series that indexes time offsets on bus IDs\n",
    "toffs = pd.Series(data=ibus, index=busid, name='toff', dtype=np.uint64)\n",
    "toffs.index.name = 'busid'"
   ]
  },
  {
   "cell_type": "code",
   "execution_count": 17,
   "metadata": {
    "ExecuteTime": {
     "end_time": "2020-12-15T22:24:16.624061Z",
     "start_time": "2020-12-15T22:24:14.878022Z"
    }
   },
   "outputs": [],
   "source": [
    "t = buses[0]\n",
    "i = 1\n",
    "incr = buses[0]\n",
    "while True:\n",
    "    # Check this time\n",
    "    tvals = get_tvals(t)\n",
    "    tvals_eval = tvals % buses == 0\n",
    "    if tvals_eval.all():\n",
    "        # This is a solution and we are done!\n",
    "        #print(\"FOUND SOLUTION! t: {}\".format(t), tvals)\n",
    "        break\n",
    "    if (tvals_eval)[:i].all():\n",
    "        #print(\"t: {}; Possible solution:\".format(t), tvals)\n",
    "        # Up to the i'th tval is a solution. Calculate\n",
    "        # the new increment\n",
    "        incr = np.prod(buses[:i])\n",
    "        #print(\"   {} -- New increment: {}\".format(i, incr))\n",
    "        i += 1\n",
    "    t += incr"
   ]
  },
  {
   "cell_type": "code",
   "execution_count": 2,
   "metadata": {
    "ExecuteTime": {
     "end_time": "2021-12-13T19:01:45.109515Z",
     "start_time": "2021-12-13T19:01:45.093889Z"
    }
   },
   "outputs": [],
   "source": [
    "#Markdown(\"The earliset timestamp such that all bus IDs depart \"\n",
    "#         \"at offsets matching their positions in the list is: \"\n",
    "#         \"**{}**\".format(t))"
   ]
  },
  {
   "cell_type": "code",
   "execution_count": null,
   "metadata": {},
   "outputs": [],
   "source": []
  }
 ],
 "metadata": {
  "kernelspec": {
   "display_name": "Python 3",
   "language": "python",
   "name": "python3"
  },
  "language_info": {
   "codemirror_mode": {
    "name": "ipython",
    "version": 3
   },
   "file_extension": ".py",
   "mimetype": "text/x-python",
   "name": "python",
   "nbconvert_exporter": "python",
   "pygments_lexer": "ipython3",
   "version": "3.6.12"
  },
  "toc": {
   "base_numbering": 1,
   "nav_menu": {},
   "number_sections": true,
   "sideBar": true,
   "skip_h1_title": false,
   "title_cell": "Table of Contents",
   "title_sidebar": "Contents",
   "toc_cell": false,
   "toc_position": {},
   "toc_section_display": true,
   "toc_window_display": false
  }
 },
 "nbformat": 4,
 "nbformat_minor": 4
}
