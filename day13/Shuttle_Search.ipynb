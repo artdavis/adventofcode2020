{
 "cells": [
  {
   "cell_type": "code",
   "execution_count": 14,
   "metadata": {
    "ExecuteTime": {
     "end_time": "2020-12-15T21:02:59.102908Z",
     "start_time": "2020-12-15T21:02:58.165826Z"
    }
   },
   "outputs": [],
   "source": [
    "import numpy as np\n",
    "import re\n",
    "import pandas as pd\n",
    "from functools import reduce\n",
    "from IPython.display import Markdown\n",
    "from IPython.core.debugger import set_trace as breakpt"
   ]
  },
  {
   "cell_type": "markdown",
   "metadata": {},
   "source": [
    "# Day 13: Shuttle Search\n",
    "\n",
    "Reference: https://adventofcode.com/2020/day/13\n",
    "        \n",
    "## Part 1\n",
    "\n",
    "Your ferry can make it safely to a nearby port, but it won't get much further. When you call to book another ship, you discover that no ships embark from that port to your vacation island. You'll need to get from the port to the nearest airport.\n",
    "\n",
    "Fortunately, a shuttle bus service is available to bring you from the sea port to the airport! Each bus has an ID number that also indicates how often the bus leaves for the airport.\n",
    "\n",
    "Bus schedules are defined based on a timestamp that measures the number of minutes since some fixed reference point in the past. At timestamp 0, every bus simultaneously departed from the sea port. After that, each bus travels to the airport, then various other locations, and finally returns to the sea port to repeat its journey forever.\n",
    "\n",
    "The time this loop takes a particular bus is also its ID number: the bus with ID 5 departs from the sea port at timestamps 0, 5, 10, 15, and so on. The bus with ID 11 departs at 0, 11, 22, 33, and so on. If you are there when the bus departs, you can ride that bus to the airport!\n",
    "\n",
    "Your notes (your puzzle input) consist of two lines. The first line is your estimate of the earliest timestamp you could depart on a bus. The second line lists the bus IDs that are in service according to the shuttle company; entries that show x must be out of service, so you decide to ignore them.\n",
    "\n",
    "To save time once you arrive, your goal is to figure out the earliest bus you can take to the airport. (There will be exactly one such bus.)\n",
    "\n",
    "For example, suppose you have the following notes:\n",
    "```\n",
    "939\n",
    "7,13,x,x,59,x,31,19\n",
    "```\n",
    "Here, the earliest timestamp you could depart is 939, and the bus IDs in service are 7, 13, 59, 31, and 19. Near timestamp 939, these bus IDs depart at the times marked D:\n",
    "```\n",
    "time   bus 7   bus 13  bus 59  bus 31  bus 19\n",
    "929      .       .       .       .       .\n",
    "930      .       .       .       D       .\n",
    "931      D       .       .       .       D\n",
    "932      .       .       .       .       .\n",
    "933      .       .       .       .       .\n",
    "934      .       .       .       .       .\n",
    "935      .       .       .       .       .\n",
    "936      .       D       .       .       .\n",
    "937      .       .       .       .       .\n",
    "938      D       .       .       .       .\n",
    "939      .       .       .       .       .\n",
    "940      .       .       .       .       .\n",
    "941      .       .       .       .       .\n",
    "942      .       .       .       .       .\n",
    "943      .       .       .       .       .\n",
    "944      .       .       D       .       .\n",
    "945      D       .       .       .       .\n",
    "946      .       .       .       .       .\n",
    "947      .       .       .       .       .\n",
    "948      .       .       .       .       .\n",
    "949      .       D       .       .       .\n",
    "```\n",
    "The earliest bus you could take is bus ID 59. It doesn't depart until timestamp 944, so you would need to wait 944 - 939 = 5 minutes before it departs. Multiplying the bus ID by the number of minutes you'd need to wait gives 295.\n",
    "\n",
    "What is the ID of the earliest bus you can take to the airport multiplied by the number of minutes you'll need to wait for that bus?"
   ]
  },
  {
   "cell_type": "code",
   "execution_count": 2,
   "metadata": {
    "ExecuteTime": {
     "end_time": "2020-12-15T20:55:05.760241Z",
     "start_time": "2020-12-15T20:55:05.738237Z"
    }
   },
   "outputs": [
    {
     "data": {
      "text/plain": [
       "'29,x,x,x,x,x,x,x,x,x,x,x,x,x,x,x,x,x,x,41,x,x,x,37,x,x,x,x,x,653,x,x,x,x,x,x,x,x,x,x,x,x,13,x,x,x,17,x,x,x,x,x,23,x,x,x,x,x,x,x,823,x,x,x,x,x,x,x,x,x,x,x,x,x,x,x,x,x,x,19'"
      ]
     },
     "execution_count": 2,
     "metadata": {},
     "output_type": "execute_result"
    }
   ],
   "source": [
    "#with open('test1_bus_input.txt', 'r') as fid:\n",
    "with open('bus_input.txt', 'r') as fid:\n",
    "    t0 = int(fid.readline().strip())\n",
    "    bustimes = fid.readline().strip()\n",
    "    \n",
    "bustimes"
   ]
  },
  {
   "cell_type": "code",
   "execution_count": 3,
   "metadata": {
    "ExecuteTime": {
     "end_time": "2020-12-15T20:55:06.695242Z",
     "start_time": "2020-12-15T20:55:06.682244Z"
    }
   },
   "outputs": [
    {
     "data": {
      "text/plain": [
       "array([ 29,  41,  37, 653,  13,  17,  23, 823,  19])"
      ]
     },
     "execution_count": 3,
     "metadata": {},
     "output_type": "execute_result"
    }
   ],
   "source": [
    "r1 = re.compile('(,x)+')\n",
    "bustimes = np.array([int(x) for x in r1.sub('', bustimes).split(',')])\n",
    "bustimes"
   ]
  },
  {
   "cell_type": "code",
   "execution_count": 13,
   "metadata": {
    "ExecuteTime": {
     "end_time": "2020-12-15T21:00:50.990956Z",
     "start_time": "2020-12-15T21:00:50.978955Z"
    }
   },
   "outputs": [
    {
     "data": {
      "text/markdown": [
       "We can catch a bust at 1008175 minutes"
      ],
      "text/plain": [
       "<IPython.core.display.Markdown object>"
      ]
     },
     "execution_count": 13,
     "metadata": {},
     "output_type": "execute_result"
    }
   ],
   "source": [
    "t = t0\n",
    "while True:\n",
    "    if len(np.where(t % bustimes == 0)[0]) > 0:\n",
    "        # Stop as soon as we can catch a bus\n",
    "        break\n",
    "    t += 1\n",
    "Markdown(\"We can catch a bust at {} minutes\".format(t))"
   ]
  },
  {
   "cell_type": "code",
   "execution_count": 12,
   "metadata": {
    "ExecuteTime": {
     "end_time": "2020-12-15T21:00:48.220726Z",
     "start_time": "2020-12-15T21:00:48.202722Z"
    }
   },
   "outputs": [
    {
     "data": {
      "text/markdown": [
       "We'll have to wait 6 minutes"
      ],
      "text/plain": [
       "<IPython.core.display.Markdown object>"
      ]
     },
     "execution_count": 12,
     "metadata": {},
     "output_type": "execute_result"
    }
   ],
   "source": [
    "wait_time = t - t0\n",
    "Markdown(\"We'll have to wait {} minutes\".format(wait_time))"
   ]
  },
  {
   "cell_type": "code",
   "execution_count": 11,
   "metadata": {
    "ExecuteTime": {
     "end_time": "2020-12-15T21:00:38.541911Z",
     "start_time": "2020-12-15T21:00:38.521907Z"
    }
   },
   "outputs": [
    {
     "data": {
      "text/markdown": [
       "The product of the ID of the earliest bus we can take and the wait time is: **4938**"
      ],
      "text/plain": [
       "<IPython.core.display.Markdown object>"
      ]
     },
     "execution_count": 11,
     "metadata": {},
     "output_type": "execute_result"
    }
   ],
   "source": [
    "id_wait_product = bustimes[t % bustimes == 0][0] * wait_time\n",
    "Markdown(\"The product of the ID of the earliest bus we can take \"\n",
    "         \"and the wait time is: **{}**\".format(id_wait_product))"
   ]
  },
  {
   "cell_type": "markdown",
   "metadata": {},
   "source": [
    "## Part 2\n",
    "\n",
    "The shuttle company is running a contest: one gold coin for anyone that can find the earliest timestamp such that the first bus ID departs at that time and each subsequent listed bus ID departs at that subsequent minute. (The first line in your input is no longer relevant.)\n",
    "\n",
    "For example, suppose you have the same list of bus IDs as above:\n",
    "```\n",
    "7,13,x,x,59,x,31,19\n",
    "```\n",
    "An x in the schedule means there are no constraints on what bus IDs must depart at that time.\n",
    "\n",
    "This means you are looking for the earliest timestamp (called t) such that:\n",
    "\n",
    "- `Bus ID 7` departs at timestamp t.\n",
    "- `Bus ID 13` departs one minute after timestamp t.\n",
    "- There are no requirements or restrictions on departures at two or three minutes after timestamp t.\n",
    "- `Bus ID 59` departs four minutes after timestamp t.\n",
    "- There are no requirements or restrictions on departures at five minutes after timestamp t.\n",
    "- `Bus ID 31` departs six minutes after timestamp t.\n",
    "- `Bus ID 19` departs seven minutes after timestamp t.\n",
    "\n",
    "The only bus departures that matter are the listed bus IDs at their specific offsets from t. Those bus IDs can depart at other times, and other bus IDs can depart at those times. For example, in the list above, because bus ID 19 must depart seven minutes after the timestamp at which bus ID 7 departs, bus ID 7 will always also be departing with bus ID 19 at seven minutes after timestamp t.\n",
    "\n",
    "In this example, the earliest timestamp at which this occurs is 1068781:\n",
    "```\n",
    "time     bus 7   bus 13  bus 59  bus 31  bus 19\n",
    "1068773    .       .       .       .       .\n",
    "1068774    D       .       .       .       .\n",
    "1068775    .       .       .       .       .\n",
    "1068776    .       .       .       .       .\n",
    "1068777    .       .       .       .       .\n",
    "1068778    .       .       .       .       .\n",
    "1068779    .       .       .       .       .\n",
    "1068780    .       .       .       .       .\n",
    "1068781    D       .       .       .       .\n",
    "1068782    .       D       .       .       .\n",
    "1068783    .       .       .       .       .\n",
    "1068784    .       .       .       .       .\n",
    "1068785    .       .       D       .       .\n",
    "1068786    .       .       .       .       .\n",
    "1068787    .       .       .       D       .\n",
    "1068788    D       .       .       .       D\n",
    "1068789    .       .       .       .       .\n",
    "1068790    .       .       .       .       .\n",
    "1068791    .       .       .       .       .\n",
    "1068792    .       .       .       .       .\n",
    "1068793    .       .       .       .       .\n",
    "1068794    .       .       .       .       .\n",
    "1068795    D       D       .       .       .\n",
    "1068796    .       .       .       .       .\n",
    "1068797    .       .       .       .       .\n",
    "```\n",
    "In the above example, bus ID 7 departs at timestamp 1068788 (seven minutes after t). This is fine; the only requirement on that minute is that bus ID 19 departs then, and it does.\n",
    "\n",
    "Here are some other examples:\n",
    "```\n",
    "    The earliest timestamp that matches the list 17,x,13,19 is 3417.\n",
    "    67,7,59,61 first occurs at timestamp 754018.\n",
    "    67,x,7,59,61 first occurs at timestamp 779210.\n",
    "    67,7,x,59,61 first occurs at timestamp 1261476.\n",
    "    1789,37,47,1889 first occurs at timestamp 1202161486.\n",
    "```\n",
    "However, with so many bus IDs in your list, surely the actual earliest timestamp will be larger than 100000000000000!"
   ]
  },
  {
   "cell_type": "code",
   "execution_count": 78,
   "metadata": {
    "ExecuteTime": {
     "end_time": "2020-12-15T21:48:36.430465Z",
     "start_time": "2020-12-15T21:48:36.420465Z"
    }
   },
   "outputs": [],
   "source": [
    "with open('test1_bus_input.txt', 'r') as fid:\n",
    "#with open('bus_input.txt', 'r') as fid:\n",
    "    t0 = int(fid.readline().strip())\n",
    "    bustimes = fid.readline().strip()\n",
    "    \n",
    "#bustimes\n",
    "\n",
    "ibus, busid = list(), list()\n",
    "for i, b in enumerate(bustimes.split(',')):\n",
    "    if 'x' != b:\n",
    "        ibus.append(i)\n",
    "        busid.append(int(b))\n",
    "ibus = np.array(ibus)\n",
    "busid = np.array(busid)"
   ]
  },
  {
   "cell_type": "code",
   "execution_count": 79,
   "metadata": {
    "ExecuteTime": {
     "end_time": "2020-12-15T21:48:37.384793Z",
     "start_time": "2020-12-15T21:48:37.372793Z"
    }
   },
   "outputs": [
    {
     "data": {
      "text/plain": [
       "toff\n",
       "0     7\n",
       "1    13\n",
       "4    59\n",
       "6    31\n",
       "7    19\n",
       "Name: busid, dtype: uint64"
      ]
     },
     "execution_count": 79,
     "metadata": {},
     "output_type": "execute_result"
    }
   ],
   "source": [
    "# Make a series of bus IDs indexed on time offsets\n",
    "buses = pd.Series(data=busid, index=ibus, name='busid', dtype=np.uint64)\n",
    "buses.index.name = 'toff'\n",
    "buses"
   ]
  },
  {
   "cell_type": "code",
   "execution_count": 80,
   "metadata": {
    "ExecuteTime": {
     "end_time": "2020-12-15T21:48:38.478942Z",
     "start_time": "2020-12-15T21:48:38.460939Z"
    }
   },
   "outputs": [
    {
     "data": {
      "text/plain": [
       "busid\n",
       "7     0\n",
       "13    1\n",
       "59    4\n",
       "31    6\n",
       "19    7\n",
       "Name: toff, dtype: uint64"
      ]
     },
     "execution_count": 80,
     "metadata": {},
     "output_type": "execute_result"
    }
   ],
   "source": [
    "# Also make a series that indexes time offsets on bus IDs\n",
    "toffs = pd.Series(data=ibus, index=busid, name='toff', dtype=np.uint64)\n",
    "toffs.index.name = 'busid'\n",
    "toffs"
   ]
  },
  {
   "cell_type": "code",
   "execution_count": 81,
   "metadata": {
    "ExecuteTime": {
     "end_time": "2020-12-15T21:48:40.989434Z",
     "start_time": "2020-12-15T21:48:40.978256Z"
    }
   },
   "outputs": [],
   "source": [
    "# Make some helper functions for easily checking bus IDs\n",
    "# time values and solutions\n",
    "\n",
    "def get_tvals(t):\n",
    "    # From supplied t value, compute and return requesite\n",
    "    # solution t values\n",
    "    return np.array(t + buses.index, dtype=np.uint64)\n",
    "\n",
    "def get_busid_tvals(t, busid):\n",
    "    # From supplied t value of supplied busid get solution t values\n",
    "    return np.array(t - toffs[busid] + buses.index, dtype=np.uint64)\n",
    "\n",
    "def check_solution(tvals):\n",
    "    # Return True if supplied tvals satisfies solution\n",
    "    #return (tvals % buses == 0).all()\n",
    "    return (tvals % buses).sum() == 0 # slightly faster\n",
    "\n",
    "def check_busid_solution(t, busid):\n",
    "    # From supplied t value of supplied busid check if a solution\n",
    "    return check_solution(get_busid_tvals(t, busid))"
   ]
  },
  {
   "cell_type": "code",
   "execution_count": 86,
   "metadata": {
    "ExecuteTime": {
     "end_time": "2020-12-15T21:58:07.978825Z",
     "start_time": "2020-12-15T21:58:07.939825Z"
    }
   },
   "outputs": [
    {
     "data": {
      "text/html": [
       "<div>\n",
       "<style scoped>\n",
       "    .dataframe tbody tr th:only-of-type {\n",
       "        vertical-align: middle;\n",
       "    }\n",
       "\n",
       "    .dataframe tbody tr th {\n",
       "        vertical-align: top;\n",
       "    }\n",
       "\n",
       "    .dataframe thead th {\n",
       "        text-align: right;\n",
       "    }\n",
       "</style>\n",
       "<table border=\"1\" class=\"dataframe\">\n",
       "  <thead>\n",
       "    <tr style=\"text-align: right;\">\n",
       "      <th>busid</th>\n",
       "      <th>7</th>\n",
       "      <th>13</th>\n",
       "      <th>59</th>\n",
       "      <th>31</th>\n",
       "      <th>19</th>\n",
       "    </tr>\n",
       "    <tr>\n",
       "      <th>t</th>\n",
       "      <th></th>\n",
       "      <th></th>\n",
       "      <th></th>\n",
       "      <th></th>\n",
       "      <th></th>\n",
       "    </tr>\n",
       "  </thead>\n",
       "  <tbody>\n",
       "    <tr>\n",
       "      <th>7</th>\n",
       "      <td>7</td>\n",
       "      <td>8</td>\n",
       "      <td>11</td>\n",
       "      <td>13</td>\n",
       "      <td>14</td>\n",
       "    </tr>\n",
       "    <tr>\n",
       "      <th>14</th>\n",
       "      <td>14</td>\n",
       "      <td>15</td>\n",
       "      <td>18</td>\n",
       "      <td>20</td>\n",
       "      <td>21</td>\n",
       "    </tr>\n",
       "    <tr>\n",
       "      <th>21</th>\n",
       "      <td>21</td>\n",
       "      <td>22</td>\n",
       "      <td>25</td>\n",
       "      <td>27</td>\n",
       "      <td>28</td>\n",
       "    </tr>\n",
       "    <tr>\n",
       "      <th>28</th>\n",
       "      <td>28</td>\n",
       "      <td>29</td>\n",
       "      <td>32</td>\n",
       "      <td>34</td>\n",
       "      <td>35</td>\n",
       "    </tr>\n",
       "    <tr>\n",
       "      <th>35</th>\n",
       "      <td>35</td>\n",
       "      <td>36</td>\n",
       "      <td>39</td>\n",
       "      <td>41</td>\n",
       "      <td>42</td>\n",
       "    </tr>\n",
       "    <tr>\n",
       "      <th>42</th>\n",
       "      <td>42</td>\n",
       "      <td>43</td>\n",
       "      <td>46</td>\n",
       "      <td>48</td>\n",
       "      <td>49</td>\n",
       "    </tr>\n",
       "    <tr>\n",
       "      <th>49</th>\n",
       "      <td>49</td>\n",
       "      <td>50</td>\n",
       "      <td>53</td>\n",
       "      <td>55</td>\n",
       "      <td>56</td>\n",
       "    </tr>\n",
       "    <tr>\n",
       "      <th>56</th>\n",
       "      <td>56</td>\n",
       "      <td>57</td>\n",
       "      <td>60</td>\n",
       "      <td>62</td>\n",
       "      <td>63</td>\n",
       "    </tr>\n",
       "    <tr>\n",
       "      <th>63</th>\n",
       "      <td>63</td>\n",
       "      <td>64</td>\n",
       "      <td>67</td>\n",
       "      <td>69</td>\n",
       "      <td>70</td>\n",
       "    </tr>\n",
       "    <tr>\n",
       "      <th>70</th>\n",
       "      <td>70</td>\n",
       "      <td>71</td>\n",
       "      <td>74</td>\n",
       "      <td>76</td>\n",
       "      <td>77</td>\n",
       "    </tr>\n",
       "    <tr>\n",
       "      <th>77</th>\n",
       "      <td>77</td>\n",
       "      <td>78</td>\n",
       "      <td>81</td>\n",
       "      <td>83</td>\n",
       "      <td>84</td>\n",
       "    </tr>\n",
       "    <tr>\n",
       "      <th>84</th>\n",
       "      <td>84</td>\n",
       "      <td>85</td>\n",
       "      <td>88</td>\n",
       "      <td>90</td>\n",
       "      <td>91</td>\n",
       "    </tr>\n",
       "  </tbody>\n",
       "</table>\n",
       "</div>"
      ],
      "text/plain": [
       "busid  7   13  59  31  19\n",
       "t                        \n",
       "7       7   8  11  13  14\n",
       "14     14  15  18  20  21\n",
       "21     21  22  25  27  28\n",
       "28     28  29  32  34  35\n",
       "35     35  36  39  41  42\n",
       "42     42  43  46  48  49\n",
       "49     49  50  53  55  56\n",
       "56     56  57  60  62  63\n",
       "63     63  64  67  69  70\n",
       "70     70  71  74  76  77\n",
       "77     77  78  81  83  84\n",
       "84     84  85  88  90  91"
      ]
     },
     "execution_count": 86,
     "metadata": {},
     "output_type": "execute_result"
    }
   ],
   "source": [
    "# In the example data we have busid 7 at the 0 time offset.\n",
    "# So we know we can increment by AT LEAST this busid since\n",
    "# the solution must be integer divisible by this busid.\n",
    "# Have a look at the first dozen timecodes at this step\n",
    "# increment and what the subsequent time codes per bus ID\n",
    "# works out to be:\n",
    "tarr = np.arange(buses[0], 12*buses[0]+1, buses[0], dtype=np.uint64)\n",
    "tvals_list = [get_tvals(x) for x in tarr]\n",
    "df = pd.DataFrame(tvals_list, index=tarr, columns=buses)\n",
    "df.index.name = 't'\n",
    "df"
   ]
  },
  {
   "cell_type": "code",
   "execution_count": 87,
   "metadata": {
    "ExecuteTime": {
     "end_time": "2020-12-15T21:58:12.405466Z",
     "start_time": "2020-12-15T21:58:12.369474Z"
    }
   },
   "outputs": [
    {
     "data": {
      "text/html": [
       "<div>\n",
       "<style scoped>\n",
       "    .dataframe tbody tr th:only-of-type {\n",
       "        vertical-align: middle;\n",
       "    }\n",
       "\n",
       "    .dataframe tbody tr th {\n",
       "        vertical-align: top;\n",
       "    }\n",
       "\n",
       "    .dataframe thead th {\n",
       "        text-align: right;\n",
       "    }\n",
       "</style>\n",
       "<table border=\"1\" class=\"dataframe\">\n",
       "  <thead>\n",
       "    <tr style=\"text-align: right;\">\n",
       "      <th>busid</th>\n",
       "      <th>7</th>\n",
       "      <th>13</th>\n",
       "      <th>59</th>\n",
       "      <th>31</th>\n",
       "      <th>19</th>\n",
       "    </tr>\n",
       "    <tr>\n",
       "      <th>t</th>\n",
       "      <th></th>\n",
       "      <th></th>\n",
       "      <th></th>\n",
       "      <th></th>\n",
       "      <th></th>\n",
       "    </tr>\n",
       "  </thead>\n",
       "  <tbody>\n",
       "    <tr>\n",
       "      <th>7</th>\n",
       "      <td>0</td>\n",
       "      <td>8</td>\n",
       "      <td>11</td>\n",
       "      <td>13</td>\n",
       "      <td>14</td>\n",
       "    </tr>\n",
       "    <tr>\n",
       "      <th>14</th>\n",
       "      <td>0</td>\n",
       "      <td>2</td>\n",
       "      <td>18</td>\n",
       "      <td>20</td>\n",
       "      <td>2</td>\n",
       "    </tr>\n",
       "    <tr>\n",
       "      <th>21</th>\n",
       "      <td>0</td>\n",
       "      <td>9</td>\n",
       "      <td>25</td>\n",
       "      <td>27</td>\n",
       "      <td>9</td>\n",
       "    </tr>\n",
       "    <tr>\n",
       "      <th>28</th>\n",
       "      <td>0</td>\n",
       "      <td>3</td>\n",
       "      <td>32</td>\n",
       "      <td>3</td>\n",
       "      <td>16</td>\n",
       "    </tr>\n",
       "    <tr>\n",
       "      <th>35</th>\n",
       "      <td>0</td>\n",
       "      <td>10</td>\n",
       "      <td>39</td>\n",
       "      <td>10</td>\n",
       "      <td>4</td>\n",
       "    </tr>\n",
       "    <tr>\n",
       "      <th>42</th>\n",
       "      <td>0</td>\n",
       "      <td>4</td>\n",
       "      <td>46</td>\n",
       "      <td>17</td>\n",
       "      <td>11</td>\n",
       "    </tr>\n",
       "    <tr>\n",
       "      <th>49</th>\n",
       "      <td>0</td>\n",
       "      <td>11</td>\n",
       "      <td>53</td>\n",
       "      <td>24</td>\n",
       "      <td>18</td>\n",
       "    </tr>\n",
       "    <tr>\n",
       "      <th>56</th>\n",
       "      <td>0</td>\n",
       "      <td>5</td>\n",
       "      <td>1</td>\n",
       "      <td>0</td>\n",
       "      <td>6</td>\n",
       "    </tr>\n",
       "    <tr>\n",
       "      <th>63</th>\n",
       "      <td>0</td>\n",
       "      <td>12</td>\n",
       "      <td>8</td>\n",
       "      <td>7</td>\n",
       "      <td>13</td>\n",
       "    </tr>\n",
       "    <tr>\n",
       "      <th>70</th>\n",
       "      <td>0</td>\n",
       "      <td>6</td>\n",
       "      <td>15</td>\n",
       "      <td>14</td>\n",
       "      <td>1</td>\n",
       "    </tr>\n",
       "    <tr>\n",
       "      <th>77</th>\n",
       "      <td>0</td>\n",
       "      <td>0</td>\n",
       "      <td>22</td>\n",
       "      <td>21</td>\n",
       "      <td>8</td>\n",
       "    </tr>\n",
       "    <tr>\n",
       "      <th>84</th>\n",
       "      <td>0</td>\n",
       "      <td>7</td>\n",
       "      <td>29</td>\n",
       "      <td>28</td>\n",
       "      <td>15</td>\n",
       "    </tr>\n",
       "  </tbody>\n",
       "</table>\n",
       "</div>"
      ],
      "text/plain": [
       "busid  7   13  59  31  19\n",
       "t                        \n",
       "7       0   8  11  13  14\n",
       "14      0   2  18  20   2\n",
       "21      0   9  25  27   9\n",
       "28      0   3  32   3  16\n",
       "35      0  10  39  10   4\n",
       "42      0   4  46  17  11\n",
       "49      0  11  53  24  18\n",
       "56      0   5   1   0   6\n",
       "63      0  12   8   7  13\n",
       "70      0   6  15  14   1\n",
       "77      0   0  22  21   8\n",
       "84      0   7  29  28  15"
      ]
     },
     "execution_count": 87,
     "metadata": {},
     "output_type": "execute_result"
    }
   ],
   "source": [
    "# Where a timecode is integer divisible by it's\n",
    "# bus ID (modulo equals 0), that is a possible\n",
    "# solution\n",
    "df % buses.values"
   ]
  },
  {
   "cell_type": "code",
   "execution_count": 88,
   "metadata": {
    "ExecuteTime": {
     "end_time": "2020-12-15T22:00:31.653272Z",
     "start_time": "2020-12-15T22:00:31.612266Z"
    }
   },
   "outputs": [
    {
     "data": {
      "text/html": [
       "<div>\n",
       "<style scoped>\n",
       "    .dataframe tbody tr th:only-of-type {\n",
       "        vertical-align: middle;\n",
       "    }\n",
       "\n",
       "    .dataframe tbody tr th {\n",
       "        vertical-align: top;\n",
       "    }\n",
       "\n",
       "    .dataframe thead th {\n",
       "        text-align: right;\n",
       "    }\n",
       "</style>\n",
       "<table border=\"1\" class=\"dataframe\">\n",
       "  <thead>\n",
       "    <tr style=\"text-align: right;\">\n",
       "      <th>busid</th>\n",
       "      <th>7</th>\n",
       "      <th>13</th>\n",
       "      <th>59</th>\n",
       "      <th>31</th>\n",
       "      <th>19</th>\n",
       "    </tr>\n",
       "    <tr>\n",
       "      <th>t</th>\n",
       "      <th></th>\n",
       "      <th></th>\n",
       "      <th></th>\n",
       "      <th></th>\n",
       "      <th></th>\n",
       "    </tr>\n",
       "  </thead>\n",
       "  <tbody>\n",
       "    <tr>\n",
       "      <th>77</th>\n",
       "      <td>77</td>\n",
       "      <td>78</td>\n",
       "      <td>81</td>\n",
       "      <td>83</td>\n",
       "      <td>84</td>\n",
       "    </tr>\n",
       "    <tr>\n",
       "      <th>168</th>\n",
       "      <td>168</td>\n",
       "      <td>169</td>\n",
       "      <td>172</td>\n",
       "      <td>174</td>\n",
       "      <td>175</td>\n",
       "    </tr>\n",
       "    <tr>\n",
       "      <th>259</th>\n",
       "      <td>259</td>\n",
       "      <td>260</td>\n",
       "      <td>263</td>\n",
       "      <td>265</td>\n",
       "      <td>266</td>\n",
       "    </tr>\n",
       "    <tr>\n",
       "      <th>350</th>\n",
       "      <td>350</td>\n",
       "      <td>351</td>\n",
       "      <td>354</td>\n",
       "      <td>356</td>\n",
       "      <td>357</td>\n",
       "    </tr>\n",
       "    <tr>\n",
       "      <th>441</th>\n",
       "      <td>441</td>\n",
       "      <td>442</td>\n",
       "      <td>445</td>\n",
       "      <td>447</td>\n",
       "      <td>448</td>\n",
       "    </tr>\n",
       "    <tr>\n",
       "      <th>532</th>\n",
       "      <td>532</td>\n",
       "      <td>533</td>\n",
       "      <td>536</td>\n",
       "      <td>538</td>\n",
       "      <td>539</td>\n",
       "    </tr>\n",
       "    <tr>\n",
       "      <th>623</th>\n",
       "      <td>623</td>\n",
       "      <td>624</td>\n",
       "      <td>627</td>\n",
       "      <td>629</td>\n",
       "      <td>630</td>\n",
       "    </tr>\n",
       "    <tr>\n",
       "      <th>714</th>\n",
       "      <td>714</td>\n",
       "      <td>715</td>\n",
       "      <td>718</td>\n",
       "      <td>720</td>\n",
       "      <td>721</td>\n",
       "    </tr>\n",
       "    <tr>\n",
       "      <th>805</th>\n",
       "      <td>805</td>\n",
       "      <td>806</td>\n",
       "      <td>809</td>\n",
       "      <td>811</td>\n",
       "      <td>812</td>\n",
       "    </tr>\n",
       "    <tr>\n",
       "      <th>896</th>\n",
       "      <td>896</td>\n",
       "      <td>897</td>\n",
       "      <td>900</td>\n",
       "      <td>902</td>\n",
       "      <td>903</td>\n",
       "    </tr>\n",
       "    <tr>\n",
       "      <th>987</th>\n",
       "      <td>987</td>\n",
       "      <td>988</td>\n",
       "      <td>991</td>\n",
       "      <td>993</td>\n",
       "      <td>994</td>\n",
       "    </tr>\n",
       "    <tr>\n",
       "      <th>1078</th>\n",
       "      <td>1078</td>\n",
       "      <td>1079</td>\n",
       "      <td>1082</td>\n",
       "      <td>1084</td>\n",
       "      <td>1085</td>\n",
       "    </tr>\n",
       "    <tr>\n",
       "      <th>1169</th>\n",
       "      <td>1169</td>\n",
       "      <td>1170</td>\n",
       "      <td>1173</td>\n",
       "      <td>1175</td>\n",
       "      <td>1176</td>\n",
       "    </tr>\n",
       "  </tbody>\n",
       "</table>\n",
       "</div>"
      ],
      "text/plain": [
       "busid    7     13    59    31    19\n",
       "t                                  \n",
       "77       77    78    81    83    84\n",
       "168     168   169   172   174   175\n",
       "259     259   260   263   265   266\n",
       "350     350   351   354   356   357\n",
       "441     441   442   445   447   448\n",
       "532     532   533   536   538   539\n",
       "623     623   624   627   629   630\n",
       "714     714   715   718   720   721\n",
       "805     805   806   809   811   812\n",
       "896     896   897   900   902   903\n",
       "987     987   988   991   993   994\n",
       "1078   1078  1079  1082  1084  1085\n",
       "1169   1169  1170  1173  1175  1176"
      ]
     },
     "execution_count": 88,
     "metadata": {},
     "output_type": "execute_result"
    }
   ],
   "source": [
    "# Of course all of the time codes for bus ID 7 are\n",
    "# possible solutions (modulo 7 all equals zero)\n",
    "# since we incremented the time codes by 7.\n",
    "# Now look what has happened at t=77. We have two\n",
    "# adjacent possible solutions since one minute later\n",
    "# t=78 modulo bus ID 13 = 0. We know this must hold\n",
    "# for our solution in order for all timecodes modulo\n",
    "# their bus IDs evaluate to zero. This means we may\n",
    "# now increment the time codes by 7 * 13 = 91 since\n",
    "# incrementing by any less will not allow bus IDs\n",
    "# 7 & 13 to \"line up\". Let's check. Construct a new\n",
    "# DataFrame starting at 77 with our new time code\n",
    "# increment of 91.\n",
    "t2 = 77\n",
    "incr = 7 * 13\n",
    "tarr2 = np.arange(t2, t2 + 12*incr+1, incr, dtype=np.uint64)\n",
    "tvals2_list = [get_tvals(x) for x in tarr2]\n",
    "df2 = pd.DataFrame(tvals2_list, index=tarr2, columns=buses)\n",
    "df2.index.name = 't'\n",
    "df2"
   ]
  },
  {
   "cell_type": "code",
   "execution_count": 90,
   "metadata": {
    "ExecuteTime": {
     "end_time": "2020-12-15T22:02:23.041499Z",
     "start_time": "2020-12-15T22:02:23.019494Z"
    }
   },
   "outputs": [
    {
     "data": {
      "text/html": [
       "<div>\n",
       "<style scoped>\n",
       "    .dataframe tbody tr th:only-of-type {\n",
       "        vertical-align: middle;\n",
       "    }\n",
       "\n",
       "    .dataframe tbody tr th {\n",
       "        vertical-align: top;\n",
       "    }\n",
       "\n",
       "    .dataframe thead th {\n",
       "        text-align: right;\n",
       "    }\n",
       "</style>\n",
       "<table border=\"1\" class=\"dataframe\">\n",
       "  <thead>\n",
       "    <tr style=\"text-align: right;\">\n",
       "      <th>busid</th>\n",
       "      <th>7</th>\n",
       "      <th>13</th>\n",
       "      <th>59</th>\n",
       "      <th>31</th>\n",
       "      <th>19</th>\n",
       "    </tr>\n",
       "    <tr>\n",
       "      <th>t</th>\n",
       "      <th></th>\n",
       "      <th></th>\n",
       "      <th></th>\n",
       "      <th></th>\n",
       "      <th></th>\n",
       "    </tr>\n",
       "  </thead>\n",
       "  <tbody>\n",
       "    <tr>\n",
       "      <th>77</th>\n",
       "      <td>0</td>\n",
       "      <td>0</td>\n",
       "      <td>22</td>\n",
       "      <td>21</td>\n",
       "      <td>8</td>\n",
       "    </tr>\n",
       "    <tr>\n",
       "      <th>168</th>\n",
       "      <td>0</td>\n",
       "      <td>0</td>\n",
       "      <td>54</td>\n",
       "      <td>19</td>\n",
       "      <td>4</td>\n",
       "    </tr>\n",
       "    <tr>\n",
       "      <th>259</th>\n",
       "      <td>0</td>\n",
       "      <td>0</td>\n",
       "      <td>27</td>\n",
       "      <td>17</td>\n",
       "      <td>0</td>\n",
       "    </tr>\n",
       "    <tr>\n",
       "      <th>350</th>\n",
       "      <td>0</td>\n",
       "      <td>0</td>\n",
       "      <td>0</td>\n",
       "      <td>15</td>\n",
       "      <td>15</td>\n",
       "    </tr>\n",
       "    <tr>\n",
       "      <th>441</th>\n",
       "      <td>0</td>\n",
       "      <td>0</td>\n",
       "      <td>32</td>\n",
       "      <td>13</td>\n",
       "      <td>11</td>\n",
       "    </tr>\n",
       "    <tr>\n",
       "      <th>532</th>\n",
       "      <td>0</td>\n",
       "      <td>0</td>\n",
       "      <td>5</td>\n",
       "      <td>11</td>\n",
       "      <td>7</td>\n",
       "    </tr>\n",
       "    <tr>\n",
       "      <th>623</th>\n",
       "      <td>0</td>\n",
       "      <td>0</td>\n",
       "      <td>37</td>\n",
       "      <td>9</td>\n",
       "      <td>3</td>\n",
       "    </tr>\n",
       "    <tr>\n",
       "      <th>714</th>\n",
       "      <td>0</td>\n",
       "      <td>0</td>\n",
       "      <td>10</td>\n",
       "      <td>7</td>\n",
       "      <td>18</td>\n",
       "    </tr>\n",
       "    <tr>\n",
       "      <th>805</th>\n",
       "      <td>0</td>\n",
       "      <td>0</td>\n",
       "      <td>42</td>\n",
       "      <td>5</td>\n",
       "      <td>14</td>\n",
       "    </tr>\n",
       "    <tr>\n",
       "      <th>896</th>\n",
       "      <td>0</td>\n",
       "      <td>0</td>\n",
       "      <td>15</td>\n",
       "      <td>3</td>\n",
       "      <td>10</td>\n",
       "    </tr>\n",
       "    <tr>\n",
       "      <th>987</th>\n",
       "      <td>0</td>\n",
       "      <td>0</td>\n",
       "      <td>47</td>\n",
       "      <td>1</td>\n",
       "      <td>6</td>\n",
       "    </tr>\n",
       "    <tr>\n",
       "      <th>1078</th>\n",
       "      <td>0</td>\n",
       "      <td>0</td>\n",
       "      <td>20</td>\n",
       "      <td>30</td>\n",
       "      <td>2</td>\n",
       "    </tr>\n",
       "    <tr>\n",
       "      <th>1169</th>\n",
       "      <td>0</td>\n",
       "      <td>0</td>\n",
       "      <td>52</td>\n",
       "      <td>28</td>\n",
       "      <td>17</td>\n",
       "    </tr>\n",
       "  </tbody>\n",
       "</table>\n",
       "</div>"
      ],
      "text/plain": [
       "busid  7   13  59  31  19\n",
       "t                        \n",
       "77      0   0  22  21   8\n",
       "168     0   0  54  19   4\n",
       "259     0   0  27  17   0\n",
       "350     0   0   0  15  15\n",
       "441     0   0  32  13  11\n",
       "532     0   0   5  11   7\n",
       "623     0   0  37   9   3\n",
       "714     0   0  10   7  18\n",
       "805     0   0  42   5  14\n",
       "896     0   0  15   3  10\n",
       "987     0   0  47   1   6\n",
       "1078    0   0  20  30   2\n",
       "1169    0   0  52  28  17"
      ]
     },
     "execution_count": 90,
     "metadata": {},
     "output_type": "execute_result"
    }
   ],
   "source": [
    "# Modulo the timecodes with their bus IDs\n",
    "df2 % buses.values"
   ]
  },
  {
   "cell_type": "code",
   "execution_count": 92,
   "metadata": {
    "ExecuteTime": {
     "end_time": "2020-12-15T22:06:10.051790Z",
     "start_time": "2020-12-15T22:06:10.036798Z"
    }
   },
   "outputs": [],
   "source": [
    "# Buses 7 & 13 line up every time!\n",
    "# Now we just need to keep going until bus\n",
    "# 59 lines up. From that point forward we\n",
    "# could increase our time step increment to\n",
    "# 7 * 13 * 59 = 5369. This increases our\n",
    "# search speed dramatically. Proceed with this\n",
    "# process updating the time step increment\n",
    "# accordingly until ultimately reaching the solution!"
   ]
  },
  {
   "cell_type": "code",
   "execution_count": 98,
   "metadata": {
    "ExecuteTime": {
     "end_time": "2020-12-15T22:12:07.852654Z",
     "start_time": "2020-12-15T22:12:07.831653Z"
    }
   },
   "outputs": [],
   "source": [
    "#with open('test1_bus_input.txt', 'r') as fid:\n",
    "with open('bus_input.txt', 'r') as fid:\n",
    "    t0 = int(fid.readline().strip())\n",
    "    bustimes = fid.readline().strip()\n",
    "    \n",
    "#bustimes\n",
    "\n",
    "ibus, busid = list(), list()\n",
    "for i, b in enumerate(bustimes.split(',')):\n",
    "    if 'x' != b:\n",
    "        ibus.append(i)\n",
    "        busid.append(int(b))\n",
    "ibus = np.array(ibus)\n",
    "busid = np.array(busid)\n",
    "\n",
    "# Make a series of bus IDs indexed on time offsets\n",
    "buses = pd.Series(data=busid, index=ibus, name='busid', dtype=np.uint64)\n",
    "buses.index.name = 'toff'\n",
    "\n",
    "# Also make a series that indexes time offsets on bus IDs\n",
    "toffs = pd.Series(data=ibus, index=busid, name='toff', dtype=np.uint64)\n",
    "toffs.index.name = 'busid'"
   ]
  },
  {
   "cell_type": "code",
   "execution_count": 99,
   "metadata": {
    "ExecuteTime": {
     "end_time": "2020-12-15T22:12:10.659890Z",
     "start_time": "2020-12-15T22:12:08.894836Z"
    }
   },
   "outputs": [],
   "source": [
    "t = buses[0]\n",
    "i = 1\n",
    "incr = buses[0]\n",
    "while True:\n",
    "    # Check this time\n",
    "    tvals = get_tvals(t)\n",
    "    tvals_eval = tvals % buses == 0\n",
    "    if tvals_eval.all():\n",
    "        # This is a solution and we are done!\n",
    "        #print(\"FOUND SOLUTION! t: {}\".format(t), tvals)\n",
    "        break\n",
    "    if (tvals_eval)[:i].all():\n",
    "        #print(\"t: {}; Possible solution:\".format(t), tvals)\n",
    "        # Up to the i'th tval is a solution. Calculate\n",
    "        # the new increment\n",
    "        incr = np.prod(buses[:i])\n",
    "        #print(\"   {} -- New increment: {}\".format(i, incr))\n",
    "        i += 1\n",
    "    t += incr"
   ]
  },
  {
   "cell_type": "code",
   "execution_count": 100,
   "metadata": {
    "ExecuteTime": {
     "end_time": "2020-12-15T22:12:10.691891Z",
     "start_time": "2020-12-15T22:12:10.661890Z"
    }
   },
   "outputs": [
    {
     "data": {
      "text/markdown": [
       "The earliset timestamp such that all bus IDs depart at offsets matching their positions in the list is: **230903629977901**"
      ],
      "text/plain": [
       "<IPython.core.display.Markdown object>"
      ]
     },
     "execution_count": 100,
     "metadata": {},
     "output_type": "execute_result"
    }
   ],
   "source": [
    "Markdown(\"The earliset timestamp such that all bus IDs depart \"\n",
    "         \"at offsets matching their positions in the list is: \"\n",
    "         \"**{}**\".format(t))"
   ]
  },
  {
   "cell_type": "code",
   "execution_count": null,
   "metadata": {},
   "outputs": [],
   "source": []
  }
 ],
 "metadata": {
  "kernelspec": {
   "display_name": "Python 3",
   "language": "python",
   "name": "python3"
  },
  "language_info": {
   "codemirror_mode": {
    "name": "ipython",
    "version": 3
   },
   "file_extension": ".py",
   "mimetype": "text/x-python",
   "name": "python",
   "nbconvert_exporter": "python",
   "pygments_lexer": "ipython3",
   "version": "3.6.10"
  },
  "toc": {
   "base_numbering": 1,
   "nav_menu": {},
   "number_sections": true,
   "sideBar": true,
   "skip_h1_title": false,
   "title_cell": "Table of Contents",
   "title_sidebar": "Contents",
   "toc_cell": false,
   "toc_position": {},
   "toc_section_display": true,
   "toc_window_display": false
  }
 },
 "nbformat": 4,
 "nbformat_minor": 4
}
