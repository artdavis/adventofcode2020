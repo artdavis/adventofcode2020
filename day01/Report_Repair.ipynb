{
 "cells": [
  {
   "cell_type": "code",
   "execution_count": 2,
   "metadata": {
    "ExecuteTime": {
     "end_time": "2020-12-08T18:24:08.526115Z",
     "start_time": "2020-12-08T18:24:07.983107Z"
    }
   },
   "outputs": [],
   "source": [
    "import numpy as np\n",
    "import itertools\n",
    "from IPython.display import Markdown\n",
    "from IPython.display import Image # Syntax: Image(filename='file', width=wd, height=ht)"
   ]
  },
  {
   "cell_type": "markdown",
   "metadata": {},
   "source": [
    "# Day 1: Report Repair\n",
    "\n",
    "Reference: https://adventofcode.com/2020/day/1"
   ]
  },
  {
   "cell_type": "markdown",
   "metadata": {},
   "source": [
    "## Part 1\n",
    "\n",
    "Find the two entries that sum to 2020; **what do you get if you multiply them together?**"
   ]
  },
  {
   "cell_type": "code",
   "execution_count": 2,
   "metadata": {
    "ExecuteTime": {
     "end_time": "2020-12-02T12:34:43.531367Z",
     "start_time": "2020-12-02T12:34:43.518365Z"
    }
   },
   "outputs": [],
   "source": [
    "dat = np.loadtxt('day1_input.txt')"
   ]
  },
  {
   "cell_type": "code",
   "execution_count": 3,
   "metadata": {
    "ExecuteTime": {
     "end_time": "2020-12-02T12:34:43.547370Z",
     "start_time": "2020-12-02T12:34:43.533369Z"
    }
   },
   "outputs": [],
   "source": [
    "# Let the two entries we seek equal a & b\n",
    "# a + b = 2020\n",
    "a = np.array(dat, dtype=np.uint)\n",
    "# Let x equal the product we seek\n",
    "# a * b = x ... rewrite as b = x/a and substitute for b in our first eq:\n",
    "x = a * (2020 - a)\n",
    "b = x // a\n",
    "\n",
    "# The intersection of a & b is our solution\n",
    "a0, b0 = set(a) & set(b)"
   ]
  },
  {
   "cell_type": "code",
   "execution_count": 4,
   "metadata": {
    "ExecuteTime": {
     "end_time": "2020-12-02T12:34:43.579372Z",
     "start_time": "2020-12-02T12:34:43.549366Z"
    }
   },
   "outputs": [],
   "source": [
    "# display(Markdown(\"{} + {} = {}\".format(a0, b0, a0 + b0)))\n",
    "# display(Markdown(\"{} * {} = **{}**\".format(a0, b0, a0 * b0)))"
   ]
  },
  {
   "cell_type": "markdown",
   "metadata": {},
   "source": [
    "## Part 2\n",
    "\n",
    "In your expense report, **what is the product of the three entries that sum to 2020?**"
   ]
  },
  {
   "cell_type": "code",
   "execution_count": 5,
   "metadata": {
    "ExecuteTime": {
     "end_time": "2020-12-02T12:34:45.062400Z",
     "start_time": "2020-12-02T12:34:43.581366Z"
    }
   },
   "outputs": [],
   "source": [
    "# 2 equations and 3 unknowns now...\n",
    "# Guess we try the hard way (all permutations)\n",
    "for a1, b1, c1 in itertools.permutations(a, 3):\n",
    "    if 2020 == a1 + b1 + c1:\n",
    "        # Got it. Have a break:\n",
    "        break"
   ]
  },
  {
   "cell_type": "code",
   "execution_count": 6,
   "metadata": {
    "ExecuteTime": {
     "end_time": "2020-12-02T12:34:45.078400Z",
     "start_time": "2020-12-02T12:34:45.064400Z"
    }
   },
   "outputs": [],
   "source": [
    "# display(Markdown(\"{} + {} + {} = {}\".format(a1, b1, c1, a1 + b1 + c1)))\n",
    "# display(Markdown(\"{} * {} * {} = **{}**\".format(a1, b1, c1, a1 * b1 * c1)))"
   ]
  },
  {
   "cell_type": "code",
   "execution_count": null,
   "metadata": {},
   "outputs": [],
   "source": []
  }
 ],
 "metadata": {
  "kernelspec": {
   "display_name": "Python 3",
   "language": "python",
   "name": "python3"
  },
  "language_info": {
   "codemirror_mode": {
    "name": "ipython",
    "version": 3
   },
   "file_extension": ".py",
   "mimetype": "text/x-python",
   "name": "python",
   "nbconvert_exporter": "python",
   "pygments_lexer": "ipython3",
   "version": "3.6.12"
  },
  "toc": {
   "base_numbering": 1,
   "nav_menu": {},
   "number_sections": true,
   "sideBar": true,
   "skip_h1_title": false,
   "title_cell": "Table of Contents",
   "title_sidebar": "Contents",
   "toc_cell": false,
   "toc_position": {},
   "toc_section_display": true,
   "toc_window_display": false
  }
 },
 "nbformat": 4,
 "nbformat_minor": 4
}
