{
 "cells": [
  {
   "cell_type": "markdown",
   "metadata": {},
   "source": [
    "# Day 1: Report Repair\n",
    "\n",
    "Reproduced from: https://adventofcode.com/2020/day/1\n",
    "\n",
    "## Part 1\n",
    "\n",
    "After saving Christmas five years in a row, you've decided to take a vacation at a nice resort on a tropical island. Surely, Christmas will go on without you.\n",
    "\n",
    "The tropical island has its own currency and is entirely cash-only. The gold coins used there have a little picture of a starfish; the locals just call them stars. None of the currency exchanges seem to have heard of them, but somehow, you'll need to find fifty of these coins by the time you arrive so you can pay the deposit on your room.\n",
    "\n",
    "To save your vacation, you need to get all fifty stars by December 25th.\n",
    "\n",
    "Collect stars by solving puzzles. Two puzzles will be made available on each day in the Advent calendar; the second puzzle is unlocked when you complete the first. Each puzzle grants one star. Good luck!\n",
    "\n",
    "Before you leave, the Elves in accounting just need you to fix your expense report (your puzzle input); apparently, something isn't quite adding up.\n",
    "\n",
    "Specifically, they need you to find the two entries that sum to 2020 and then multiply those two numbers together.\n",
    "\n",
    "For example, suppose your expense report contained the following:\n",
    "\n",
    "```\n",
    "1721\n",
    "979\n",
    "366\n",
    "299\n",
    "675\n",
    "1456\n",
    "```\n",
    "\n",
    "In this list, the two entries that sum to 2020 are 1721 and 299. Multiplying them together produces 1721 * 299 = 514579, so the correct answer is 514579.\n",
    "\n",
    "Of course, your expense report is much larger. Find the two entries that sum to 2020; what do you get if you multiply them together?"
   ]
  },
  {
   "cell_type": "code",
   "execution_count": 1,
   "metadata": {
    "ExecuteTime": {
     "end_time": "2020-12-02T12:29:39.993580Z",
     "start_time": "2020-12-02T12:29:39.580569Z"
    }
   },
   "outputs": [],
   "source": [
    "import numpy as np\n",
    "import itertools\n",
    "from IPython.display import Markdown"
   ]
  },
  {
   "cell_type": "code",
   "execution_count": 2,
   "metadata": {
    "ExecuteTime": {
     "end_time": "2020-12-02T12:29:40.025582Z",
     "start_time": "2020-12-02T12:29:39.996585Z"
    }
   },
   "outputs": [],
   "source": [
    "dat = np.loadtxt('day1_input.txt')"
   ]
  },
  {
   "cell_type": "code",
   "execution_count": 5,
   "metadata": {
    "ExecuteTime": {
     "end_time": "2020-12-02T12:29:54.581977Z",
     "start_time": "2020-12-02T12:29:54.575980Z"
    }
   },
   "outputs": [],
   "source": [
    "# Let the two entries we seek equal a & b\n",
    "# a + b = 2020\n",
    "a = np.array(dat, dtype=np.uint)\n",
    "# Let x equal the product we seek\n",
    "# a * b = x ... rewrite as b = x/a and substitute for b in our first eq:\n",
    "x = a * (2020 - a)\n",
    "b = x // a\n",
    "\n",
    "# The intersection of a & b is our solution\n",
    "a0, b0 = set(a) & set(b)"
   ]
  },
  {
   "cell_type": "raw",
   "metadata": {
    "ExecuteTime": {
     "end_time": "2020-12-02T12:30:37.767132Z",
     "start_time": "2020-12-02T12:30:37.752134Z"
    }
   },
   "source": [
    "display(Markdown(\"{} + {} = {}\".format(a0, b0, a0 + b0)))\n",
    "display(Markdown(\"{} * {} = **{}**\".format(a0, b0, a0 * b0)))"
   ]
  },
  {
   "cell_type": "markdown",
   "metadata": {},
   "source": [
    "## Part 2\n",
    "\n",
    "The Elves in accounting are thankful for your help; one of them even offers you a starfish coin they had left over from a past vacation. They offer you a second one if you can find three numbers in your expense report that meet the same criteria.\n",
    "\n",
    "Using the above example again, the three entries that sum to 2020 are 979, 366, and 675. Multiplying them together produces the answer, 241861950.\n",
    "\n",
    "In your expense report, what is the product of the three entries that sum to 2020?"
   ]
  },
  {
   "cell_type": "code",
   "execution_count": 9,
   "metadata": {
    "ExecuteTime": {
     "end_time": "2020-12-02T12:31:19.938673Z",
     "start_time": "2020-12-02T12:31:18.633228Z"
    }
   },
   "outputs": [],
   "source": [
    "# 2 equations and 3 unknowns now...\n",
    "# Guess we try the hard way (all permutations)\n",
    "for a1, b1, c1 in itertools.permutations(a, 3):\n",
    "    if 2020 == a1 + b1 + c1:\n",
    "        # Got it. Have a break:\n",
    "        break"
   ]
  },
  {
   "cell_type": "raw",
   "metadata": {
    "ExecuteTime": {
     "end_time": "2020-12-02T12:31:31.338963Z",
     "start_time": "2020-12-02T12:31:31.329962Z"
    }
   },
   "source": [
    "display(Markdown(\"{} + {} + {} = {}\".format(a1, b1, c1, a1 + b1 + c1)))\n",
    "display(Markdown(\"{} * {} * {} = **{}**\".format(a1, b1, c1, a1 * b1 * c1)))"
   ]
  },
  {
   "cell_type": "code",
   "execution_count": null,
   "metadata": {},
   "outputs": [],
   "source": []
  }
 ],
 "metadata": {
  "kernelspec": {
   "display_name": "Python 3",
   "language": "python",
   "name": "python3"
  },
  "language_info": {
   "codemirror_mode": {
    "name": "ipython",
    "version": 3
   },
   "file_extension": ".py",
   "mimetype": "text/x-python",
   "name": "python",
   "nbconvert_exporter": "python",
   "pygments_lexer": "ipython3",
   "version": "3.6.10"
  },
  "toc": {
   "base_numbering": 1,
   "nav_menu": {},
   "number_sections": true,
   "sideBar": true,
   "skip_h1_title": false,
   "title_cell": "Table of Contents",
   "title_sidebar": "Contents",
   "toc_cell": false,
   "toc_position": {},
   "toc_section_display": true,
   "toc_window_display": false
  }
 },
 "nbformat": 4,
 "nbformat_minor": 4
}
