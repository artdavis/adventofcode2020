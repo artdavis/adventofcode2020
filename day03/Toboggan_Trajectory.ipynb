{
 "cells": [
  {
   "cell_type": "markdown",
   "metadata": {},
   "source": [
    "# Day 4: Toboggan Trajectory\n",
    "\n",
    "Reference: https://adventofcode.com/2020/day/3\n",
    "\n",
    "## Part 1\n",
    "\n",
    "With the toboggan login problems resolved, you set off toward the airport. While travel by toboggan might be easy, it's certainly not safe: there's very minimal steering and the area is covered in trees. You'll need to see which angles will take you near the fewest trees.\n",
    "\n",
    "Due to the local geology, trees in this area only grow on exact integer coordinates in a grid. You make a map (your puzzle input) of the open squares (.) and trees (#) you can see. For example:\n",
    "```\n",
    "..##.......\n",
    "#...#...#..\n",
    ".#....#..#.\n",
    "..#.#...#.#\n",
    ".#...##..#.\n",
    "..#.##.....\n",
    ".#.#.#....#\n",
    ".#........#\n",
    "#.##...#...\n",
    "#...##....#\n",
    ".#..#...#.#\n",
    "```\n",
    "These aren't the only trees, though; due to something you read about once involving arboreal genetics and biome stability, the same pattern repeats to the right many times:\n",
    "```\n",
    "..##.........##.........##.........##.........##.........##.......  --->\n",
    "#...#...#..#...#...#..#...#...#..#...#...#..#...#...#..#...#...#..\n",
    ".#....#..#..#....#..#..#....#..#..#....#..#..#....#..#..#....#..#.\n",
    "..#.#...#.#..#.#...#.#..#.#...#.#..#.#...#.#..#.#...#.#..#.#...#.#\n",
    ".#...##..#..#...##..#..#...##..#..#...##..#..#...##..#..#...##..#.\n",
    "..#.##.......#.##.......#.##.......#.##.......#.##.......#.##.....  --->\n",
    ".#.#.#....#.#.#.#....#.#.#.#....#.#.#.#....#.#.#.#....#.#.#.#....#\n",
    ".#........#.#........#.#........#.#........#.#........#.#........#\n",
    "#.##...#...#.##...#...#.##...#...#.##...#...#.##...#...#.##...#...\n",
    "#...##....##...##....##...##....##...##....##...##....##...##....#\n",
    ".#..#...#.#.#..#...#.#.#..#...#.#.#..#...#.#.#..#...#.#.#..#...#.#  --->\n",
    "```\n",
    "You start on the open square (.) in the top-left corner and need to reach the bottom (below the bottom-most row on your map).\n",
    "\n",
    "The toboggan can only follow a few specific slopes (you opted for a cheaper model that prefers rational numbers); start by counting all the trees you would encounter for the slope right 3, down 1:\n",
    "\n",
    "From your starting position at the top-left, check the position that is right 3 and down 1. Then, check the position that is right 3 and down 1 from there, and so on until you go past the bottom of the map.\n",
    "\n",
    "The locations you'd check in the above example are marked here with O where there was an open square and X where there was a tree:\n",
    "```\n",
    "..##.........##.........##.........##.........##.........##.......  --->\n",
    "#..O#...#..#...#...#..#...#...#..#...#...#..#...#...#..#...#...#..\n",
    ".#....X..#..#....#..#..#....#..#..#....#..#..#....#..#..#....#..#.\n",
    "..#.#...#O#..#.#...#.#..#.#...#.#..#.#...#.#..#.#...#.#..#.#...#.#\n",
    ".#...##..#..X...##..#..#...##..#..#...##..#..#...##..#..#...##..#.\n",
    "..#.##.......#.X#.......#.##.......#.##.......#.##.......#.##.....  --->\n",
    ".#.#.#....#.#.#.#.O..#.#.#.#....#.#.#.#....#.#.#.#....#.#.#.#....#\n",
    ".#........#.#........X.#........#.#........#.#........#.#........#\n",
    "#.##...#...#.##...#...#.X#...#...#.##...#...#.##...#...#.##...#...\n",
    "#...##....##...##....##...#X....##...##....##...##....##...##....#\n",
    ".#..#...#.#.#..#...#.#.#..#...X.#.#..#...#.#.#..#...#.#.#..#...#.#  --->\n",
    "```\n",
    "In this example, traversing the map using this slope would cause you to encounter 7 trees.\n",
    "\n",
    "Starting at the top-left corner of your map and following a slope of right 3 and down 1, how many trees would you encounter?"
   ]
  },
  {
   "cell_type": "code",
   "execution_count": 1,
   "metadata": {
    "ExecuteTime": {
     "end_time": "2020-12-03T16:23:30.006521Z",
     "start_time": "2020-12-03T16:23:29.662515Z"
    }
   },
   "outputs": [],
   "source": [
    "import itertools\n",
    "import numpy as np\n",
    "from IPython.display import Markdown\n",
    "from IPython.core.debugger import set_trace as breakpt\n"
   ]
  },
  {
   "cell_type": "markdown",
   "metadata": {
    "ExecuteTime": {
     "end_time": "2020-12-03T15:01:28.538884Z",
     "start_time": "2020-12-03T15:01:28.531879Z"
    }
   },
   "source": [
    "### Approach 1: BRUTE FORCE!\n",
    "\n",
    "March the toboggan down the hill and check for any crashes.\n",
    "Uses itertools.cycle to repeat the map input pattern as\n",
    "needed."
   ]
  },
  {
   "cell_type": "code",
   "execution_count": 2,
   "metadata": {
    "ExecuteTime": {
     "end_time": "2020-12-03T16:23:30.037515Z",
     "start_time": "2020-12-03T16:23:30.011523Z"
    }
   },
   "outputs": [],
   "source": [
    "def brute_crashes(dx, dy=1):\n",
    "    \"\"\"\n",
    "    Parameters\n",
    "    ----------\n",
    "    dx: int\n",
    "        Number of spaces right the tobaggon moves\n",
    "    dy : int (default: 1)\n",
    "        Number of spaces down the tobaggon moves\n",
    "    \"\"\"\n",
    "    x = dx\n",
    "    collisions = 0\n",
    "    tr = {'.': False, '#': True}\n",
    "    with open('map_input.txt', 'r') as fid:\n",
    "        # Don't need the first line for testing tree collision\n",
    "        fid.readline()\n",
    "        for y, line in enumerate(fid):\n",
    "            # Throw away any lines skipped because of dy\n",
    "            if dy > 1 and not(y % dy):\n",
    "                continue\n",
    "            level = itertools.cycle([tr[_] for _ in line.strip()])\n",
    "            for _ in range(x + 1):\n",
    "                loc = next(level)\n",
    "            if loc:\n",
    "                collisions += 1\n",
    "            x += dx\n",
    "    return collisions"
   ]
  },
  {
   "cell_type": "markdown",
   "metadata": {
    "ExecuteTime": {
     "end_time": "2020-12-03T15:01:28.538884Z",
     "start_time": "2020-12-03T15:01:28.531879Z"
    }
   },
   "source": [
    "### Approach 2: BINARY SHENANIGANS!\n",
    "\n",
    "Treat the terrain map as a list of binary numbers\n",
    "and the tobaggon position as an incrementing\n",
    "binary number. Whenever the `bitwise_and` of the\n",
    "tobaggon with the terrain gives you back the value\n",
    "of the tobaggon, a tree crash has ocurred."
   ]
  },
  {
   "cell_type": "code",
   "execution_count": 3,
   "metadata": {
    "ExecuteTime": {
     "end_time": "2020-12-03T16:23:30.068516Z",
     "start_time": "2020-12-03T16:23:30.042515Z"
    }
   },
   "outputs": [],
   "source": [
    "def getasnum(strdat, ntype='int', endian='little'):\n",
    "    \"\"\"\n",
    "    Convert '.' '#' maps to an integer assuming '.' values are\n",
    "    binary 0 and '#' are binary 1.\n",
    "    \n",
    "    Parameters\n",
    "    ----------\n",
    "    strdat: str\n",
    "        String containing charachters of '.' and '#'\n",
    "    ntype: {'int', 'bin', 'str'} (default: 'int')\n",
    "        Python type that can do binary string conversion.\n",
    "        Typically int, bin or str\n",
    "    endian: {'little', 'big'} (default: 'little')\n",
    "        Endianess of strdat. Assuming first character is\n",
    "        least significant is 'little' endian. If first\n",
    "        character is most significant that's 'big' endian\n",
    "    \"\"\"\n",
    "    bmap = {'.': '0', '#': '1'}\n",
    "    bstr = ''.join([bmap[x] for x in strdat])\n",
    "    if 'little' == endian:\n",
    "        bstr = bstr[::-1] # Reverse order in the string\n",
    "    elif 'big' == endian:\n",
    "        pass # Already big\n",
    "    else:\n",
    "        raise ValueError(\"Unhandled endian: {}\".format(endian))\n",
    "    if 'str' == ntype:\n",
    "        return bstr\n",
    "    bint = np.uint32(np.int(bstr, 2))\n",
    "    if 'int' == ntype:\n",
    "        return bint\n",
    "    if 'bin' == ntype:\n",
    "        return np.binary_repr(bint, width=32)\n",
    "    raise ValueError(\"Unhandled ntype: {}\".format(ntype))\n",
    "\n",
    "def get_collisions(dx, dy=1):\n",
    "    \"\"\"\n",
    "    Return the number of collisions for a tobbogan trajectory\n",
    "    that moves at a slope of dx / dy\n",
    "    \n",
    "    Parameters\n",
    "    ----------\n",
    "    dx : int\n",
    "        Number of spaces right the tobaggon moves\n",
    "    dy : int (default: 1)\n",
    "        Number of spaces down the tobaggon moves\n",
    "    \"\"\"\n",
    "    x = 1\n",
    "    collisions = 0\n",
    "    with open('map_input.txt', 'r') as fid:\n",
    "        # Don't need the first line for testing tree collision\n",
    "        # Use it to get the repeating pattern length\n",
    "        plen = len(fid.readline().strip())\n",
    "        for y, line in enumerate(fid):\n",
    "            # Throw away any lines skipped because of dy\n",
    "            if dy > 1 and not(y % dy):\n",
    "                continue\n",
    "            x += dx\n",
    "            lnum = getasnum(line.strip())\n",
    "            xmod = 2**((x - 1) % plen)\n",
    "            collision_test = np.bitwise_and(xmod, lnum)\n",
    "            if xmod == collision_test:\n",
    "                # If the bitwise_and yielded back the same value as the\n",
    "                # toboggon location, then there had to be a tree there and\n",
    "                # a collision has ocurred\n",
    "                collisions += 1\n",
    "    return collisions"
   ]
  },
  {
   "cell_type": "code",
   "execution_count": 4,
   "metadata": {
    "ExecuteTime": {
     "end_time": "2020-12-03T16:23:30.084520Z",
     "start_time": "2020-12-03T16:23:30.071515Z"
    }
   },
   "outputs": [],
   "source": [
    "def compute_crashes(dxlist, dylist, fn=get_collisions):\n",
    "    \"\"\"\n",
    "    Compute the number of crashes for the supplied\n",
    "    lists of dx, dy and also the product of the\n",
    "    number of crashes\n",
    "    \n",
    "    Parameters\n",
    "    ----------\n",
    "    dxlist: list of ints\n",
    "    dylist: list of ints\n",
    "    fn: {brute_crashes, get_collisions} (default: get_collisions)\n",
    "    \"\"\"\n",
    "    report = dict()\n",
    "    crashlist = list(map(fn, dxlist, dylist))\n",
    "    for i, crashes in enumerate(crashlist):\n",
    "        report[(dxlist[i], dylist[i])] = crashes\n",
    "    return report\n",
    "\n",
    "def report_crashes(crashdict):\n",
    "    \"\"\"\n",
    "    Report the crashes\n",
    "    \n",
    "    Parameters\n",
    "    ----------\n",
    "    crashdict: dict\n",
    "        Dictionary returned from compute_crashes\n",
    "    \"\"\"\n",
    "    crashprod = 1\n",
    "    for (dx, dy), crashes in crashdict.items():\n",
    "        display(Markdown(\"({}, {}) crashed {} times\".format(dx, dy, crashes)))\n",
    "        crashprod *= crashes\n",
    "    #crashprod = np.prod(list(crashdict.values()), dtype=np.uint64)\n",
    "    display(Markdown(\"Product of tree crashes: **{}**\".format(crashprod)))\n"
   ]
  },
  {
   "cell_type": "markdown",
   "metadata": {},
   "source": [
    "### Results"
   ]
  },
  {
   "cell_type": "code",
   "execution_count": 5,
   "metadata": {
    "ExecuteTime": {
     "end_time": "2020-12-03T16:23:30.163516Z",
     "start_time": "2020-12-03T16:23:30.086516Z"
    }
   },
   "outputs": [
    {
     "data": {
      "text/markdown": [
       "#### Brute Force"
      ],
      "text/plain": [
       "<IPython.core.display.Markdown object>"
      ]
     },
     "metadata": {},
     "output_type": "display_data"
    },
    {
     "name": "stdout",
     "output_type": "stream",
     "text": [
      "Wall time: 18 ms\n"
     ]
    },
    {
     "data": {
      "text/markdown": [
       "#### Binary Shenanigans"
      ],
      "text/plain": [
       "<IPython.core.display.Markdown object>"
      ]
     },
     "metadata": {},
     "output_type": "display_data"
    },
    {
     "name": "stdout",
     "output_type": "stream",
     "text": [
      "Wall time: 3 ms\n"
     ]
    }
   ],
   "source": [
    "# Part 1 parameters\n",
    "dxlist = [3]\n",
    "dylist = [1]\n",
    "display(Markdown(\"#### Brute Force\"))\n",
    "%time crashdict1 = compute_crashes(dxlist, dylist, fn=brute_crashes)\n",
    "#report_crashes(crashdict1)\n",
    "display(Markdown(\"#### Binary Shenanigans\"))\n",
    "%time crashdict2 = compute_crashes(dxlist, dylist, fn=get_collisions)\n",
    "#report_crashes(crashdict2)"
   ]
  },
  {
   "cell_type": "markdown",
   "metadata": {},
   "source": [
    "## Part 2\n",
    "\n",
    "Time to check the rest of the slopes - you need to minimize the probability of a sudden arboreal stop, after all.\n",
    "\n",
    "Determine the number of trees you would encounter if, for each of the following slopes, you start at the top-left corner and traverse the map all the way to the bottom:\n",
    "\n",
    "    Right 1, down 1.\n",
    "    Right 3, down 1. (This is the slope you already checked.)\n",
    "    Right 5, down 1.\n",
    "    Right 7, down 1.\n",
    "    Right 1, down 2.\n",
    "\n",
    "In the above example, these slopes would find 2, 7, 3, 4, and 2 tree(s) respectively; multiplied together, these produce the answer 336.\n",
    "\n",
    "What do you get if you multiply together the number of trees encountered on each of the listed slopes?"
   ]
  },
  {
   "cell_type": "markdown",
   "metadata": {},
   "source": [
    "### Results"
   ]
  },
  {
   "cell_type": "code",
   "execution_count": 6,
   "metadata": {
    "ExecuteTime": {
     "end_time": "2020-12-03T16:23:30.321516Z",
     "start_time": "2020-12-03T16:23:30.165516Z"
    }
   },
   "outputs": [
    {
     "data": {
      "text/markdown": [
       "#### Brute Force"
      ],
      "text/plain": [
       "<IPython.core.display.Markdown object>"
      ]
     },
     "metadata": {},
     "output_type": "display_data"
    },
    {
     "name": "stdout",
     "output_type": "stream",
     "text": [
      "Wall time: 118 ms\n"
     ]
    },
    {
     "data": {
      "text/markdown": [
       "#### Binary Shenanigans"
      ],
      "text/plain": [
       "<IPython.core.display.Markdown object>"
      ]
     },
     "metadata": {},
     "output_type": "display_data"
    },
    {
     "name": "stdout",
     "output_type": "stream",
     "text": [
      "Wall time: 16 ms\n"
     ]
    }
   ],
   "source": [
    "# Part 2 parameters\n",
    "dxlist = [1, 3, 5, 7, 1]\n",
    "dylist = [1, 1, 1, 1, 2]\n",
    "display(Markdown(\"#### Brute Force\"))\n",
    "%time crashdict1 = compute_crashes(dxlist, dylist, fn=brute_crashes)\n",
    "#report_crashes(crashdict1)\n",
    "display(Markdown(\"#### Binary Shenanigans\"))\n",
    "%time crashdict2 = compute_crashes(dxlist, dylist, fn=get_collisions)\n",
    "#report_crashes(crashdict2)"
   ]
  },
  {
   "cell_type": "code",
   "execution_count": null,
   "metadata": {},
   "outputs": [],
   "source": []
  }
 ],
 "metadata": {
  "kernelspec": {
   "display_name": "Python 3",
   "language": "python",
   "name": "python3"
  },
  "language_info": {
   "codemirror_mode": {
    "name": "ipython",
    "version": 3
   },
   "file_extension": ".py",
   "mimetype": "text/x-python",
   "name": "python",
   "nbconvert_exporter": "python",
   "pygments_lexer": "ipython3",
   "version": "3.6.10"
  },
  "toc": {
   "base_numbering": 1,
   "nav_menu": {},
   "number_sections": true,
   "sideBar": true,
   "skip_h1_title": false,
   "title_cell": "Table of Contents",
   "title_sidebar": "Contents",
   "toc_cell": false,
   "toc_position": {},
   "toc_section_display": true,
   "toc_window_display": false
  }
 },
 "nbformat": 4,
 "nbformat_minor": 4
}
