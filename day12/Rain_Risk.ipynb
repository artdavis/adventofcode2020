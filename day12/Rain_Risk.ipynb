{
 "cells": [
  {
   "cell_type": "code",
   "execution_count": 2,
   "metadata": {
    "ExecuteTime": {
     "end_time": "2020-12-12T17:28:13.919543Z",
     "start_time": "2020-12-12T17:28:13.907541Z"
    }
   },
   "outputs": [],
   "source": [
    "import math\n",
    "from IPython.display import Markdown\n",
    "from IPython.core.debugger import set_trace as breakpt"
   ]
  },
  {
   "cell_type": "markdown",
   "metadata": {},
   "source": [
    "# Day 12: Rain Risk\n",
    "\n",
    "Reference: https://adventofcode.com/2020/day/12\n",
    "\n",
    "## Part 1\n",
    "\n",
    "**What is the Manhattan distance between that location and the ship's starting position?**"
   ]
  },
  {
   "cell_type": "code",
   "execution_count": 3,
   "metadata": {
    "ExecuteTime": {
     "end_time": "2020-12-12T17:28:18.230779Z",
     "start_time": "2020-12-12T17:28:18.209779Z"
    }
   },
   "outputs": [],
   "source": [
    "#with open('test1_ferry_input.txt', 'r') as fid:\n",
    "with open('ferry_input.txt', 'r') as fid:\n",
    "    instructs = fid.read().splitlines()"
   ]
  },
  {
   "cell_type": "code",
   "execution_count": 4,
   "metadata": {
    "ExecuteTime": {
     "end_time": "2020-12-12T17:28:18.860148Z",
     "start_time": "2020-12-12T17:28:18.841985Z"
    }
   },
   "outputs": [],
   "source": [
    "ang_dict = {0: 'E', 90: 'N', 180: 'W', 270: 'S'}\n",
    "orient_dict = {v: k for k, v in ang_dict.items()}\n",
    "\n",
    "def parse_instruct(instr, e, n, heading):\n",
    "    \"\"\"\n",
    "    Parse the supplie instruction string and\n",
    "    return the ferry's new position/orientation\n",
    "    \n",
    "    Parameters\n",
    "    ----------\n",
    "    instr: str\n",
    "        Instruction like <str><val> where\n",
    "    \"\"\"\n",
    "    op, val = instr[0], int(instr[1:])\n",
    "    if op in 'NESWF':\n",
    "        mvdict = {'N': lambda x: (e, n + x, heading),\n",
    "                  'S': lambda x: (e, n - x, heading),\n",
    "                  'E': lambda x: (e + x, n, heading),\n",
    "                  'W': lambda x: (e - x, n, heading)}\n",
    "        if 'F' == op:\n",
    "            return mvdict[heading](val)\n",
    "        else:\n",
    "            return mvdict[op](val)\n",
    "    if op in 'RL':\n",
    "        if 'R' == op:\n",
    "            direction = -1\n",
    "        else:\n",
    "            direction = 1\n",
    "        new_heading = (orient_dict[heading] + direction * val) % 360\n",
    "        return (e, n, ang_dict[new_heading])\n",
    "    raise ValueError(\"Unhandled instruction: {}\".format(instr))"
   ]
  },
  {
   "cell_type": "code",
   "execution_count": 5,
   "metadata": {
    "ExecuteTime": {
     "end_time": "2020-12-12T17:28:21.526801Z",
     "start_time": "2020-12-12T17:28:21.508802Z"
    }
   },
   "outputs": [],
   "source": [
    "e = 0\n",
    "n = 0\n",
    "heading = 'E'\n",
    "coords = list()\n",
    "for instr in instructs:\n",
    "    e, n, heading = parse_instruct(instr, e, n, heading)\n",
    "    coords.append((e, n, heading))\n",
    "    \n",
    "pos = coords[-1]\n",
    "#pos\n",
    "manhat_dist = sum([abs(x) for x in pos[:2]])"
   ]
  },
  {
   "cell_type": "code",
   "execution_count": 1,
   "metadata": {
    "ExecuteTime": {
     "end_time": "2021-12-13T19:01:03.704988Z",
     "start_time": "2021-12-13T19:01:03.689361Z"
    }
   },
   "outputs": [],
   "source": [
    "#Markdown(\"The Manhattan distance of the ship from its start position is **{}**\"\n",
    "#         .format(manhat_dist))"
   ]
  },
  {
   "cell_type": "markdown",
   "metadata": {},
   "source": [
    "## Part 2\n",
    "\n",
    "**What is the Manhattan distance between that location and the ship's starting position?**"
   ]
  },
  {
   "cell_type": "code",
   "execution_count": 10,
   "metadata": {
    "ExecuteTime": {
     "end_time": "2020-12-12T17:31:04.742822Z",
     "start_time": "2020-12-12T17:31:04.715821Z"
    }
   },
   "outputs": [],
   "source": [
    "# Use a class data structure this time\n",
    "class Ferry(object):\n",
    "    def __init__(self, e=0, n=0, eway=10, nway=1):\n",
    "        # Ship coordinates: East, North\n",
    "        self.e = e\n",
    "        self.n = n\n",
    "        # Waypoint coordinates: East, North\n",
    "        # relative to the ferry\n",
    "        self.eway = eway\n",
    "        self.nway = nway\n",
    "\n",
    "    def rotate(self, ang):\n",
    "        c = int(math.cos(math.radians(ang)))\n",
    "        s = int(math.sin(math.radians(ang)))\n",
    "        e2 = self.eway * c - self.nway * s\n",
    "        n2 = self.eway * s + self.nway * c\n",
    "        self.eway, self.nway = e2, n2\n",
    "    \n",
    "    def parse_instruct(self, instr):\n",
    "        op, val = instr[0], int(instr[1:])\n",
    "        if op in 'NESW':\n",
    "            # Move the waypoint\n",
    "            if 'N' == op: self.nway += val\n",
    "            if 'S' == op: self.nway -= val\n",
    "            if 'E' == op: self.eway += val\n",
    "            if 'W' == op: self.eway -= val\n",
    "        elif op in 'LR':\n",
    "            if 'L' == op:\n",
    "                self.rotate(val)\n",
    "            else:\n",
    "                self.rotate(-val)\n",
    "        elif 'F' == op:\n",
    "            # Move the ship\n",
    "            self.e += self.eway * val\n",
    "            self.n += self.nway * val\n",
    "        else:\n",
    "            raise ValueError(\"Unhandled instruction: {}\".format(instr))\n",
    "        return\n",
    "    \n",
    "    @property\n",
    "    def manhattan_dist(self):\n",
    "        return abs(self.e) + abs(self.n)\n",
    "        \n",
    "    def __str__(self):\n",
    "        # What to return for string context representation\n",
    "        outstr = \"Ship coords: ({}, {})\\n\".format(self.e, self.n)\n",
    "        outstr += \"Waypoint coords: ({}, {})\\n\".format(self.eway, self.nway)\n",
    "        outstr += \"Manhattan distance: {}\".format(self.manhattan_dist)\n",
    "        return outstr\n",
    "    \n",
    "    def __repr__(self):\n",
    "        # Return string representation\n",
    "        return self.__str__()\n",
    "    \n",
    "    def __call__(self, instr):\n",
    "        # If instance is called directly, parse_instruct\n",
    "        self.parse_instruct(instr)\n"
   ]
  },
  {
   "cell_type": "code",
   "execution_count": 11,
   "metadata": {
    "ExecuteTime": {
     "end_time": "2020-12-12T17:31:05.556872Z",
     "start_time": "2020-12-12T17:31:05.539878Z"
    }
   },
   "outputs": [
    {
     "data": {
      "text/plain": [
       "Ship coords: (0, 0)\n",
       "Waypoint coords: (10, 1)\n",
       "Manhattan distance: 0"
      ]
     },
     "execution_count": 11,
     "metadata": {},
     "output_type": "execute_result"
    }
   ],
   "source": [
    "# Starting position\n",
    "ferry = Ferry()\n",
    "ferry"
   ]
  },
  {
   "cell_type": "code",
   "execution_count": 12,
   "metadata": {
    "ExecuteTime": {
     "end_time": "2020-12-12T17:31:07.471880Z",
     "start_time": "2020-12-12T17:31:07.458881Z"
    }
   },
   "outputs": [
    {
     "data": {
      "text/plain": [
       "Ship coords: (17379, 6581)\n",
       "Waypoint coords: (-7, -7)\n",
       "Manhattan distance: 23960"
      ]
     },
     "execution_count": 12,
     "metadata": {},
     "output_type": "execute_result"
    }
   ],
   "source": [
    "# Follow instructions\n",
    "for instr in instructs:\n",
    "    ferry(instr)\n",
    "ferry"
   ]
  },
  {
   "cell_type": "code",
   "execution_count": 2,
   "metadata": {
    "ExecuteTime": {
     "end_time": "2021-12-13T19:01:08.863917Z",
     "start_time": "2021-12-13T19:01:08.848283Z"
    }
   },
   "outputs": [],
   "source": [
    "#Markdown(\"The Manhattan distance of the ship from its start position is **{}**\"\n",
    "#         .format(ferry.manhattan_dist))"
   ]
  },
  {
   "cell_type": "code",
   "execution_count": null,
   "metadata": {},
   "outputs": [],
   "source": []
  }
 ],
 "metadata": {
  "kernelspec": {
   "display_name": "Python 3",
   "language": "python",
   "name": "python3"
  },
  "language_info": {
   "codemirror_mode": {
    "name": "ipython",
    "version": 3
   },
   "file_extension": ".py",
   "mimetype": "text/x-python",
   "name": "python",
   "nbconvert_exporter": "python",
   "pygments_lexer": "ipython3",
   "version": "3.6.12"
  },
  "toc": {
   "base_numbering": 1,
   "nav_menu": {},
   "number_sections": true,
   "sideBar": true,
   "skip_h1_title": false,
   "title_cell": "Table of Contents",
   "title_sidebar": "Contents",
   "toc_cell": false,
   "toc_position": {},
   "toc_section_display": true,
   "toc_window_display": false
  }
 },
 "nbformat": 4,
 "nbformat_minor": 4
}
