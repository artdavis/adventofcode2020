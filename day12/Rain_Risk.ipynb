{
 "cells": [
  {
   "cell_type": "code",
   "execution_count": 2,
   "metadata": {
    "ExecuteTime": {
     "end_time": "2020-12-12T17:28:13.919543Z",
     "start_time": "2020-12-12T17:28:13.907541Z"
    }
   },
   "outputs": [],
   "source": [
    "import math\n",
    "from IPython.display import Markdown\n",
    "from IPython.core.debugger import set_trace as breakpt"
   ]
  },
  {
   "cell_type": "markdown",
   "metadata": {},
   "source": [
    "# Day 12: Rain Risk\n",
    "\n",
    "Reference: https://adventofcode.com/2020/day/12\n",
    "\n",
    "## Part 1\n",
    "\n",
    "Your ferry made decent progress toward the island, but the storm came in faster than anyone expected. The ferry needs to take evasive actions!\n",
    "\n",
    "Unfortunately, the ship's navigation computer seems to be malfunctioning; rather than giving a route directly to safety, it produced extremely circuitous instructions. When the captain uses the PA system to ask if anyone can help, you quickly volunteer.\n",
    "\n",
    "The navigation instructions (your puzzle input) consists of a sequence of single-character actions paired with integer input values. After staring at them for a few minutes, you work out what they probably mean:\n",
    "\n",
    "    Action N means to move north by the given value.\n",
    "    Action S means to move south by the given value.\n",
    "    Action E means to move east by the given value.\n",
    "    Action W means to move west by the given value.\n",
    "    Action L means to turn left the given number of degrees.\n",
    "    Action R means to turn right the given number of degrees.\n",
    "    Action F means to move forward by the given value in the direction the ship is currently facing.\n",
    "\n",
    "The ship starts by facing east. Only the L and R actions change the direction the ship is facing. (That is, if the ship is facing east and the next instruction is N10, the ship would move north 10 units, but would still move east if the following action were F.)\n",
    "\n",
    "For example:\n",
    "```\n",
    "F10\n",
    "N3\n",
    "F7\n",
    "R90\n",
    "F11\n",
    "```\n",
    "These instructions would be handled as follows:\n",
    "\n",
    "    F10 would move the ship 10 units east (because the ship starts by facing east) to east 10, north 0.\n",
    "    N3 would move the ship 3 units north to east 10, north 3.\n",
    "    F7 would move the ship another 7 units east (because the ship is still facing east) to east 17, north 3.\n",
    "    R90 would cause the ship to turn right by 90 degrees and face south; it remains at east 17, north 3.\n",
    "    F11 would move the ship 11 units south to east 17, south 8.\n",
    "\n",
    "At the end of these instructions, the ship's Manhattan distance (sum of the absolute values of its east/west position and its north/south position) from its starting position is 17 + 8 = 25.\n",
    "\n",
    "Figure out where the navigation instructions lead. What is the Manhattan distance between that location and the ship's starting position?"
   ]
  },
  {
   "cell_type": "code",
   "execution_count": 3,
   "metadata": {
    "ExecuteTime": {
     "end_time": "2020-12-12T17:28:18.230779Z",
     "start_time": "2020-12-12T17:28:18.209779Z"
    }
   },
   "outputs": [],
   "source": [
    "#with open('test1_ferry_input.txt', 'r') as fid:\n",
    "with open('ferry_input.txt', 'r') as fid:\n",
    "    instructs = fid.read().splitlines()"
   ]
  },
  {
   "cell_type": "code",
   "execution_count": 4,
   "metadata": {
    "ExecuteTime": {
     "end_time": "2020-12-12T17:28:18.860148Z",
     "start_time": "2020-12-12T17:28:18.841985Z"
    }
   },
   "outputs": [],
   "source": [
    "ang_dict = {0: 'E', 90: 'N', 180: 'W', 270: 'S'}\n",
    "orient_dict = {v: k for k, v in ang_dict.items()}\n",
    "\n",
    "def parse_instruct(instr, e, n, heading):\n",
    "    \"\"\"\n",
    "    Parse the supplie instruction string and\n",
    "    return the ferry's new position/orientation\n",
    "    \n",
    "    Parameters\n",
    "    ----------\n",
    "    instr: str\n",
    "        Instruction like <str><val> where\n",
    "    \"\"\"\n",
    "    op, val = instr[0], int(instr[1:])\n",
    "    if op in 'NESWF':\n",
    "        mvdict = {'N': lambda x: (e, n + x, heading),\n",
    "                  'S': lambda x: (e, n - x, heading),\n",
    "                  'E': lambda x: (e + x, n, heading),\n",
    "                  'W': lambda x: (e - x, n, heading)}\n",
    "        if 'F' == op:\n",
    "            return mvdict[heading](val)\n",
    "        else:\n",
    "            return mvdict[op](val)\n",
    "    if op in 'RL':\n",
    "        if 'R' == op:\n",
    "            direction = -1\n",
    "        else:\n",
    "            direction = 1\n",
    "        new_heading = (orient_dict[heading] + direction * val) % 360\n",
    "        return (e, n, ang_dict[new_heading])\n",
    "    raise ValueError(\"Unhandled instruction: {}\".format(instr))"
   ]
  },
  {
   "cell_type": "code",
   "execution_count": 5,
   "metadata": {
    "ExecuteTime": {
     "end_time": "2020-12-12T17:28:21.526801Z",
     "start_time": "2020-12-12T17:28:21.508802Z"
    }
   },
   "outputs": [],
   "source": [
    "e = 0\n",
    "n = 0\n",
    "heading = 'E'\n",
    "coords = list()\n",
    "for instr in instructs:\n",
    "    e, n, heading = parse_instruct(instr, e, n, heading)\n",
    "    coords.append((e, n, heading))\n",
    "    \n",
    "pos = coords[-1]\n",
    "#pos\n",
    "manhat_dist = sum([abs(x) for x in pos[:2]])"
   ]
  },
  {
   "cell_type": "code",
   "execution_count": 6,
   "metadata": {
    "ExecuteTime": {
     "end_time": "2020-12-12T17:28:22.072761Z",
     "start_time": "2020-12-12T17:28:22.056761Z"
    }
   },
   "outputs": [
    {
     "data": {
      "text/markdown": [
       "The Manhattan distance of the ship from its start position is **1589**"
      ],
      "text/plain": [
       "<IPython.core.display.Markdown object>"
      ]
     },
     "execution_count": 6,
     "metadata": {},
     "output_type": "execute_result"
    }
   ],
   "source": [
    "Markdown(\"The Manhattan distance of the ship from its start position is **{}**\"\n",
    "         .format(manhat_dist))"
   ]
  },
  {
   "cell_type": "markdown",
   "metadata": {},
   "source": [
    "## Part 2\n",
    "\n",
    "Before you can give the destination to the captain, you realize that the actual action meanings were printed on the back of the instructions the whole time.\n",
    "\n",
    "Almost all of the actions indicate how to move a waypoint which is relative to the ship's position:\n",
    "\n",
    "    Action N means to move the waypoint north by the given value.\n",
    "    Action S means to move the waypoint south by the given value.\n",
    "    Action E means to move the waypoint east by the given value.\n",
    "    Action W means to move the waypoint west by the given value.\n",
    "    Action L means to rotate the waypoint around the ship left (counter-clockwise) the given number of degrees.\n",
    "    Action R means to rotate the waypoint around the ship right (clockwise) the given number of degrees.\n",
    "    Action F means to move forward to the waypoint a number of times equal to the given value.\n",
    "\n",
    "The waypoint starts 10 units east and 1 unit north relative to the ship. The waypoint is relative to the ship; that is, if the ship moves, the waypoint moves with it.\n",
    "\n",
    "For example, using the same instructions as above:\n",
    "\n",
    "    F10 moves the ship to the waypoint 10 times (a total of 100 units east and 10 units north), leaving the ship at east 100, north 10. The waypoint stays 10 units east and 1 unit north of the ship.\n",
    "    N3 moves the waypoint 3 units north to 10 units east and 4 units north of the ship. The ship remains at east 100, north 10.\n",
    "    F7 moves the ship to the waypoint 7 times (a total of 70 units east and 28 units north), leaving the ship at east 170, north 38. The waypoint stays 10 units east and 4 units north of the ship.\n",
    "    R90 rotates the waypoint around the ship clockwise 90 degrees, moving it to 4 units east and 10 units south of the ship. The ship remains at east 170, north 38.\n",
    "    F11 moves the ship to the waypoint 11 times (a total of 44 units east and 110 units south), leaving the ship at east 214, south 72. The waypoint stays 4 units east and 10 units south of the ship.\n",
    "\n",
    "After these operations, the ship's Manhattan distance from its starting position is 214 + 72 = 286.\n",
    "\n",
    "Figure out where the navigation instructions actually lead. What is the Manhattan distance between that location and the ship's starting position?"
   ]
  },
  {
   "cell_type": "code",
   "execution_count": 10,
   "metadata": {
    "ExecuteTime": {
     "end_time": "2020-12-12T17:31:04.742822Z",
     "start_time": "2020-12-12T17:31:04.715821Z"
    }
   },
   "outputs": [],
   "source": [
    "# Use a class data structure this time\n",
    "class Ferry(object):\n",
    "    def __init__(self, e=0, n=0, eway=10, nway=1):\n",
    "        # Ship coordinates: East, North\n",
    "        self.e = e\n",
    "        self.n = n\n",
    "        # Waypoint coordinates: East, North\n",
    "        # relative to the ferry\n",
    "        self.eway = eway\n",
    "        self.nway = nway\n",
    "\n",
    "    def rotate(self, ang):\n",
    "        c = int(math.cos(math.radians(ang)))\n",
    "        s = int(math.sin(math.radians(ang)))\n",
    "        e2 = self.eway * c - self.nway * s\n",
    "        n2 = self.eway * s + self.nway * c\n",
    "        self.eway, self.nway = e2, n2\n",
    "    \n",
    "    def parse_instruct(self, instr):\n",
    "        op, val = instr[0], int(instr[1:])\n",
    "        if op in 'NESW':\n",
    "            # Move the waypoint\n",
    "            if 'N' == op: self.nway += val\n",
    "            if 'S' == op: self.nway -= val\n",
    "            if 'E' == op: self.eway += val\n",
    "            if 'W' == op: self.eway -= val\n",
    "        elif op in 'LR':\n",
    "            if 'L' == op:\n",
    "                self.rotate(val)\n",
    "            else:\n",
    "                self.rotate(-val)\n",
    "        elif 'F' == op:\n",
    "            # Move the ship\n",
    "            self.e += self.eway * val\n",
    "            self.n += self.nway * val\n",
    "        else:\n",
    "            raise ValueError(\"Unhandled instruction: {}\".format(instr))\n",
    "        return\n",
    "    \n",
    "    @property\n",
    "    def manhattan_dist(self):\n",
    "        return abs(self.e) + abs(self.n)\n",
    "        \n",
    "    def __str__(self):\n",
    "        # What to return for string context representation\n",
    "        outstr = \"Ship coords: ({}, {})\\n\".format(self.e, self.n)\n",
    "        outstr += \"Waypoint coords: ({}, {})\\n\".format(self.eway, self.nway)\n",
    "        outstr += \"Manhattan distance: {}\".format(self.manhattan_dist)\n",
    "        return outstr\n",
    "    \n",
    "    def __repr__(self):\n",
    "        # Return string representation\n",
    "        return self.__str__()\n",
    "    \n",
    "    def __call__(self, instr):\n",
    "        # If instance is called directly, parse_instruct\n",
    "        self.parse_instruct(instr)\n"
   ]
  },
  {
   "cell_type": "code",
   "execution_count": 11,
   "metadata": {
    "ExecuteTime": {
     "end_time": "2020-12-12T17:31:05.556872Z",
     "start_time": "2020-12-12T17:31:05.539878Z"
    }
   },
   "outputs": [
    {
     "data": {
      "text/plain": [
       "Ship coords: (0, 0)\n",
       "Waypoint coords: (10, 1)\n",
       "Manhattan distance: 0"
      ]
     },
     "execution_count": 11,
     "metadata": {},
     "output_type": "execute_result"
    }
   ],
   "source": [
    "# Starting position\n",
    "ferry = Ferry()\n",
    "ferry"
   ]
  },
  {
   "cell_type": "code",
   "execution_count": 12,
   "metadata": {
    "ExecuteTime": {
     "end_time": "2020-12-12T17:31:07.471880Z",
     "start_time": "2020-12-12T17:31:07.458881Z"
    }
   },
   "outputs": [
    {
     "data": {
      "text/plain": [
       "Ship coords: (17379, 6581)\n",
       "Waypoint coords: (-7, -7)\n",
       "Manhattan distance: 23960"
      ]
     },
     "execution_count": 12,
     "metadata": {},
     "output_type": "execute_result"
    }
   ],
   "source": [
    "# Follow instructions\n",
    "for instr in instructs:\n",
    "    ferry(instr)\n",
    "ferry"
   ]
  },
  {
   "cell_type": "code",
   "execution_count": 13,
   "metadata": {
    "ExecuteTime": {
     "end_time": "2020-12-12T17:31:15.029930Z",
     "start_time": "2020-12-12T17:31:15.012936Z"
    }
   },
   "outputs": [
    {
     "data": {
      "text/markdown": [
       "The Manhattan distance of the ship from its start position is **23960**"
      ],
      "text/plain": [
       "<IPython.core.display.Markdown object>"
      ]
     },
     "execution_count": 13,
     "metadata": {},
     "output_type": "execute_result"
    }
   ],
   "source": [
    "Markdown(\"The Manhattan distance of the ship from its start position is **{}**\"\n",
    "         .format(ferry.manhattan_dist))"
   ]
  },
  {
   "cell_type": "code",
   "execution_count": null,
   "metadata": {},
   "outputs": [],
   "source": []
  }
 ],
 "metadata": {
  "kernelspec": {
   "display_name": "Python 3",
   "language": "python",
   "name": "python3"
  },
  "language_info": {
   "codemirror_mode": {
    "name": "ipython",
    "version": 3
   },
   "file_extension": ".py",
   "mimetype": "text/x-python",
   "name": "python",
   "nbconvert_exporter": "python",
   "pygments_lexer": "ipython3",
   "version": "3.6.10"
  },
  "toc": {
   "base_numbering": 1,
   "nav_menu": {},
   "number_sections": true,
   "sideBar": true,
   "skip_h1_title": false,
   "title_cell": "Table of Contents",
   "title_sidebar": "Contents",
   "toc_cell": false,
   "toc_position": {},
   "toc_section_display": true,
   "toc_window_display": false
  }
 },
 "nbformat": 4,
 "nbformat_minor": 4
}
