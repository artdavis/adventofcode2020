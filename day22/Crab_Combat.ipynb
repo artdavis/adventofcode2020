{
 "cells": [
  {
   "cell_type": "code",
   "execution_count": 1,
   "metadata": {
    "ExecuteTime": {
     "end_time": "2020-12-22T19:45:04.301159Z",
     "start_time": "2020-12-22T19:45:03.963164Z"
    }
   },
   "outputs": [],
   "source": [
    "import numpy as np\n",
    "from IPython.display import Markdown\n",
    "from IPython.core.debugger import set_trace as breakpt"
   ]
  },
  {
   "cell_type": "markdown",
   "metadata": {},
   "source": [
    "# Day 22: Crab Combat\n",
    "\n",
    "Reference: https://adventofcode.com/2020/day/22\n",
    "\n",
    "## Part 1\n",
    "\n",
    "**What is the winning player's score?**"
   ]
  },
  {
   "cell_type": "code",
   "execution_count": 2,
   "metadata": {
    "ExecuteTime": {
     "end_time": "2020-12-22T19:45:04.317165Z",
     "start_time": "2020-12-22T19:45:04.303159Z"
    }
   },
   "outputs": [],
   "source": [
    "cards1 = list()\n",
    "cards2 = list()\n",
    "mode = \"Player 1\"\n",
    "with open('cards_input.txt', 'r') as fid:\n",
    "    # Throw away first line\n",
    "    fid.readline()\n",
    "    for line in fid:\n",
    "        if '' == line.strip():\n",
    "            # Empty line\n",
    "            continue\n",
    "        if line.startswith(\"Player 2\"):\n",
    "            mode = \"Player 2\"\n",
    "            continue\n",
    "        if \"Player 1\" == mode:\n",
    "            cards1.append(int(line.strip()))\n",
    "        elif \"Player 2\" == mode:\n",
    "            cards2.append(int(line.strip()))"
   ]
  },
  {
   "cell_type": "code",
   "execution_count": 3,
   "metadata": {
    "ExecuteTime": {
     "end_time": "2020-12-22T19:45:04.349159Z",
     "start_time": "2020-12-22T19:45:04.320160Z"
    }
   },
   "outputs": [],
   "source": [
    "h1 = cards1.copy() # Player 1 hand\n",
    "h2 = cards2.copy() # Player 2 hand\n",
    "while(bool(h1) and bool(h2)):\n",
    "    # Play until either player 1 or player 2 are out of cards\n",
    "    p1, p2 = h1.pop(0), h2.pop(0)\n",
    "    if p1 > p2:\n",
    "        # Player 1 wins\n",
    "        h1.extend([p1, p2])\n",
    "    else:\n",
    "        # Player 2 wins\n",
    "        h2.extend([p2, p1])"
   ]
  },
  {
   "cell_type": "code",
   "execution_count": 4,
   "metadata": {
    "ExecuteTime": {
     "end_time": "2020-12-22T19:45:04.365165Z",
     "start_time": "2020-12-22T19:45:04.351165Z"
    }
   },
   "outputs": [],
   "source": [
    "def get_score(hand):\n",
    "    # Supply winning hand array-like to get the\n",
    "    # score returned\n",
    "    arr = np.array(hand, dtype=np.uint32)\n",
    "    ptvals = np.arange(len(arr), dtype=np.uint32)[::-1] + 1\n",
    "    return (arr * ptvals).sum()"
   ]
  },
  {
   "cell_type": "code",
   "execution_count": 5,
   "metadata": {
    "ExecuteTime": {
     "end_time": "2020-12-22T19:45:04.413157Z",
     "start_time": "2020-12-22T19:45:04.367166Z"
    }
   },
   "outputs": [
    {
     "name": "stdout",
     "output_type": "stream",
     "text": [
      "Winner: PLAYER 2\n"
     ]
    },
    {
     "data": {
      "text/plain": [
       "array([23,  8, 49, 40, 30, 17, 43, 34, 31, 13, 44, 32, 36, 20, 25, 11, 26,\n",
       "       18, 21, 16, 48, 19, 24,  4, 38, 37, 33, 14, 29, 10,  7,  6, 47, 46,\n",
       "       45, 39,  9,  2, 50, 12, 42,  1, 41,  5, 28,  3, 35, 27, 22, 15],\n",
       "      dtype=uint32)"
      ]
     },
     "execution_count": 5,
     "metadata": {},
     "output_type": "execute_result"
    }
   ],
   "source": [
    "if h1:\n",
    "    print(\"Winner: PLAYER 1\")\n",
    "    winner = 1\n",
    "    win_hand = np.array(h1.copy(), dtype=np.uint32)\n",
    "else:\n",
    "    print(\"Winner: PLAYER 2\")\n",
    "    winner = 2\n",
    "    win_hand = np.array(h2.copy(), dtype=np.uint32)\n",
    "    \n",
    "win_hand"
   ]
  },
  {
   "cell_type": "code",
   "execution_count": 1,
   "metadata": {
    "ExecuteTime": {
     "end_time": "2021-12-13T18:51:09.616995Z",
     "start_time": "2021-12-13T18:51:09.601368Z"
    }
   },
   "outputs": [],
   "source": [
    "#Markdown(\"Player {} wins with a score of **{}**\".format(winner, get_score(win_hand)))"
   ]
  },
  {
   "cell_type": "markdown",
   "metadata": {},
   "source": [
    "## Part 2\n",
    "\n",
    "**What is the winning player's score?**"
   ]
  },
  {
   "cell_type": "code",
   "execution_count": 7,
   "metadata": {
    "ExecuteTime": {
     "end_time": "2020-12-22T19:45:04.461165Z",
     "start_time": "2020-12-22T19:45:04.431160Z"
    }
   },
   "outputs": [],
   "source": [
    "test_cards1 = [9, 2, 6, 3, 1]\n",
    "test_cards2 = [5, 8, 4, 7, 10]"
   ]
  },
  {
   "cell_type": "code",
   "execution_count": 8,
   "metadata": {
    "ExecuteTime": {
     "end_time": "2020-12-22T19:45:04.477160Z",
     "start_time": "2020-12-22T19:45:04.463167Z"
    }
   },
   "outputs": [],
   "source": [
    "# Construct recursive function:\n",
    "def play_combat(cards1, cards2):\n",
    "    #print(\"START OF ROUND: \", cards1, cards2)\n",
    "    h1 = cards1.copy() # Player 1 hand\n",
    "    h2 = cards2.copy() # Player 2 hand\n",
    "    handlog = set() # To keep track of hands per subgame\n",
    "    # Play regular combat\n",
    "    while(bool(h1) and bool(h2)):\n",
    "        #print(\"START OF ROUND: \", h1, h2)\n",
    "        # Convert the hands to tuples so they are hashable and\n",
    "        # can be added to the handhash set. If they are already\n",
    "        # in the set the round is already over and player one wins\n",
    "        handhash = (tuple(h1), tuple(h2))\n",
    "        if handhash in handlog:\n",
    "            #print(\"PREVIOUSLY SEEN HANDS: \", h1, h2)\n",
    "            winner, win_hand = (1, h1)\n",
    "            break\n",
    "        handlog.add(handhash)\n",
    "        p1, p2 = h1.pop(0), h2.pop(0)\n",
    "        # Play until either player 1 or player 2 are out of cards\n",
    "        # For the cards that were dealt this round, check whether\n",
    "        # the players have at least that many cards remaining in their\n",
    "        # hands. If either do not, proceed to play regular combat.\n",
    "        # If both do, recurse\n",
    "        if len(h1) >= p1 and len(h2) >= p2:\n",
    "            # Play recursive combat\n",
    "            #print(\"RECURSING\")\n",
    "            winner, win_hand = play_combat(h1[:p1], h2[:p2])\n",
    "            if 1 == winner:\n",
    "                # Player 1 wins recursive combat\n",
    "                h1.extend([p1, p2])\n",
    "            else:\n",
    "                # Player 2 wins recursive combat\n",
    "                h2.extend([p2, p1])\n",
    "            #print(\"AFTER RECURSING: \", h1, h2)\n",
    "        elif p1 > p2:\n",
    "            # Player 1 wins the round\n",
    "            h1.extend([p1, p2])\n",
    "            #print(1, h1, h2)\n",
    "        else:\n",
    "            # Player 2 wins the round\n",
    "            h2.extend([p2, p1])\n",
    "            #print(2, h1, h2)\n",
    "    if h1:\n",
    "        # Player 1 wins the hand\n",
    "        #print(1, p1, p2)\n",
    "        winner, win_hand = (1, h1)\n",
    "    else:\n",
    "        # Player 2 wins the hand\n",
    "        #win_hand = np.array(h2.copy(), dtype=np.uint32)\n",
    "        #print(2, p2, p1)\n",
    "        winner, win_hand = (2, h2)\n",
    "    #print(\"END SUBGAME: \", winner, win_hand)\n",
    "    #print(h1, h2)\n",
    "    return winner, win_hand"
   ]
  },
  {
   "cell_type": "code",
   "execution_count": 9,
   "metadata": {
    "ExecuteTime": {
     "end_time": "2020-12-22T19:45:07.762181Z",
     "start_time": "2020-12-22T19:45:04.481159Z"
    }
   },
   "outputs": [],
   "source": [
    "#play_combat(test_cards1, test_cards2)\n",
    "winner2, win_hand2 = play_combat(cards1, cards2)"
   ]
  },
  {
   "cell_type": "code",
   "execution_count": 2,
   "metadata": {
    "ExecuteTime": {
     "end_time": "2021-12-13T18:51:46.303946Z",
     "start_time": "2021-12-13T18:51:46.272681Z"
    }
   },
   "outputs": [],
   "source": [
    "#Markdown(\"Player {} wins with a score of **{}**\".format(winner2, get_score(win_hand2)))"
   ]
  },
  {
   "cell_type": "code",
   "execution_count": null,
   "metadata": {},
   "outputs": [],
   "source": []
  }
 ],
 "metadata": {
  "kernelspec": {
   "display_name": "Python 3",
   "language": "python",
   "name": "python3"
  },
  "language_info": {
   "codemirror_mode": {
    "name": "ipython",
    "version": 3
   },
   "file_extension": ".py",
   "mimetype": "text/x-python",
   "name": "python",
   "nbconvert_exporter": "python",
   "pygments_lexer": "ipython3",
   "version": "3.6.12"
  },
  "toc": {
   "base_numbering": 1,
   "nav_menu": {},
   "number_sections": true,
   "sideBar": true,
   "skip_h1_title": false,
   "title_cell": "Table of Contents",
   "title_sidebar": "Contents",
   "toc_cell": false,
   "toc_position": {},
   "toc_section_display": true,
   "toc_window_display": false
  }
 },
 "nbformat": 4,
 "nbformat_minor": 4
}
