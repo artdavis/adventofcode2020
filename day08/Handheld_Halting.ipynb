{
 "cells": [
  {
   "cell_type": "markdown",
   "metadata": {},
   "source": [
    "# Day 8: Handheld Halting\n",
    "\n",
    "Reference: https://adventofcode.com/2020/day/8\n",
    "\n",
    "## Part 1\n",
    "\n",
    "Your flight to the major airline hub reaches cruising altitude without incident. While you consider checking the in-flight menu for one of those drinks that come with a little umbrella, you are interrupted by the kid sitting next to you.\n",
    "\n",
    "Their handheld game console won't turn on! They ask if you can take a look.\n",
    "\n",
    "You narrow the problem down to a strange infinite loop in the boot code (your puzzle input) of the device. You should be able to fix it, but first you need to be able to run the code in isolation.\n",
    "\n",
    "The boot code is represented as a text file with one instruction per line of text. Each instruction consists of an operation (acc, jmp, or nop) and an argument (a signed number like +4 or -20).\n",
    "\n",
    "- `acc` increases or decreases a single global value called the accumulator by the value given in the argument. For example, acc +7 would increase the accumulator by 7. The accumulator starts at 0. After an acc instruction, the instruction immediately below it is executed next.\n",
    "- `jmp` jumps to a new instruction relative to itself. The next instruction to execute is found using the argument as an offset from the jmp instruction; for example, jmp +2 would skip the next instruction, jmp +1 would continue to the instruction immediately below it, and jmp -20 would cause the instruction 20 lines above to be executed next.\n",
    "- `nop` stands for No OPeration - it does nothing. The instruction immediately below it is executed next.\n",
    "\n",
    "For example, consider the following program:\n",
    "```\n",
    "nop +0\n",
    "acc +1\n",
    "jmp +4\n",
    "acc +3\n",
    "jmp -3\n",
    "acc -99\n",
    "acc +1\n",
    "jmp -4\n",
    "acc +6\n",
    "```\n",
    "These instructions are visited in this order:\n",
    "```\n",
    "nop +0  | 1\n",
    "acc +1  | 2, 8(!)\n",
    "jmp +4  | 3\n",
    "acc +3  | 6\n",
    "jmp -3  | 7\n",
    "acc -99 |\n",
    "acc +1  | 4\n",
    "jmp -4  | 5\n",
    "acc +6  |\n",
    "```\n",
    "First, the nop +0 does nothing. Then, the accumulator is increased from 0 to 1 (acc +1) and jmp +4 sets the next instruction to the other acc +1 near the bottom. After it increases the accumulator from 1 to 2, jmp -4 executes, setting the next instruction to the only acc +3. It sets the accumulator to 5, and jmp -3 causes the program to continue back at the first acc +1.\n",
    "\n",
    "This is an infinite loop: with this sequence of jumps, the program will run forever. The moment the program tries to run any instruction a second time, you know it will never terminate.\n",
    "\n",
    "Immediately before the program would run an instruction a second time, the value in the accumulator is 5.\n",
    "\n",
    "Run your copy of the boot code. Immediately before any instruction is executed a second time, what value is in the accumulator?"
   ]
  },
  {
   "cell_type": "code",
   "execution_count": 1,
   "metadata": {
    "ExecuteTime": {
     "end_time": "2020-12-08T14:12:48.069968Z",
     "start_time": "2020-12-08T14:12:48.050920Z"
    }
   },
   "outputs": [],
   "source": [
    "from IPython.display import Markdown\n",
    "#from IPython.core.debugger import set_trace as breakpt"
   ]
  },
  {
   "cell_type": "code",
   "execution_count": 2,
   "metadata": {
    "ExecuteTime": {
     "end_time": "2020-12-08T14:12:48.101923Z",
     "start_time": "2020-12-08T14:12:48.073924Z"
    }
   },
   "outputs": [],
   "source": [
    "with open('code_input.txt', 'r') as fid:\n",
    "#with open('test1_code_input.txt', 'r') as fid:\n",
    "    stack = fid.read().splitlines()\n",
    "\n",
    "#stack"
   ]
  },
  {
   "cell_type": "code",
   "execution_count": 3,
   "metadata": {
    "ExecuteTime": {
     "end_time": "2020-12-08T14:12:48.117923Z",
     "start_time": "2020-12-08T14:12:48.105925Z"
    }
   },
   "outputs": [],
   "source": [
    "def parse_cmd(cmdstr, ptr):\n",
    "    cmd, val = cmdstr.split(' ')\n",
    "    val = int(val)\n",
    "    if 'acc' == cmd:\n",
    "        accumval = val\n",
    "        ptr += 1\n",
    "    elif 'jmp' == cmd:\n",
    "        accumval = 0\n",
    "        ptr += val\n",
    "    elif 'nop' == cmd:\n",
    "        accumval = 0\n",
    "        ptr += 1\n",
    "    else:\n",
    "        raise ValueError(\"Unhandled cmd '{}''\".format(cmd))\n",
    "    return (ptr, accumval)\n",
    "\n",
    "accum = 0\n",
    "ptr = 0\n",
    "ptrs_seen = set()\n",
    "ptr = 0\n",
    "while(True):\n",
    "    #print(ptr, accum, stack[ptr])\n",
    "    ptr, accumval = parse_cmd(stack[ptr], ptr)\n",
    "    if ptr in ptrs_seen:\n",
    "        #print(\"Already seen ptr: {}\".format(ptr))\n",
    "        #print(\"Accumulator value: {}\".format(accum))\n",
    "        break\n",
    "    if accumval:\n",
    "        accum += accumval\n",
    "    ptrs_seen.add(ptr)\n",
    "    "
   ]
  },
  {
   "cell_type": "code",
   "execution_count": 4,
   "metadata": {
    "ExecuteTime": {
     "end_time": "2020-12-08T14:12:48.149923Z",
     "start_time": "2020-12-08T14:12:48.119920Z"
    }
   },
   "outputs": [],
   "source": [
    "#Markdown(\"Accumulator before program hang: **{}**\".format(accum))"
   ]
  },
  {
   "cell_type": "markdown",
   "metadata": {},
   "source": [
    "## Part 2\n",
    "\n",
    "After some careful analysis, you believe that exactly one instruction is corrupted.\n",
    "\n",
    "Somewhere in the program, either a jmp is supposed to be a nop, or a nop is supposed to be a jmp. (No acc instructions were harmed in the corruption of this boot code.)\n",
    "\n",
    "The program is supposed to terminate by attempting to execute an instruction immediately after the last instruction in the file. By changing exactly one jmp or nop, you can repair the boot code and make it terminate correctly.\n",
    "\n",
    "For example, consider the same program from above:\n",
    "```\n",
    "nop +0\n",
    "acc +1\n",
    "jmp +4\n",
    "acc +3\n",
    "jmp -3\n",
    "acc -99\n",
    "acc +1\n",
    "jmp -4\n",
    "acc +6\n",
    "```\n",
    "If you change the first instruction from nop +0 to jmp +0, it would create a single-instruction infinite loop, never leaving that instruction. If you change almost any of the jmp instructions, the program will still eventually find another jmp instruction and loop forever.\n",
    "\n",
    "However, if you change the second-to-last instruction (from jmp -4 to nop -4), the program terminates! The instructions are visited in this order:\n",
    "```\n",
    "nop +0  | 1\n",
    "acc +1  | 2\n",
    "jmp +4  | 3\n",
    "acc +3  |\n",
    "jmp -3  |\n",
    "acc -99 |\n",
    "acc +1  | 4\n",
    "nop -4  | 5\n",
    "acc +6  | 6\n",
    "```\n",
    "After the last instruction (acc +6), the program terminates by attempting to run the instruction below the last instruction in the file. With this change, after the program terminates, the accumulator contains the value 8 (acc +1, acc +1, acc +6).\n",
    "\n",
    "Fix the program so that it terminates normally by changing exactly one jmp (to nop) or nop (to jmp). What is the value of the accumulator after the program terminates?"
   ]
  },
  {
   "cell_type": "code",
   "execution_count": 5,
   "metadata": {
    "ExecuteTime": {
     "end_time": "2020-12-08T14:12:48.165923Z",
     "start_time": "2020-12-08T14:12:48.150920Z"
    }
   },
   "outputs": [],
   "source": [
    "# Convert stack to 2 lists of ops and vals\n",
    "stack_ops, stack_params = list(zip(*[x.split(' ') for x in stack]))\n",
    "stack_ops = list(stack_ops)\n",
    "stack_vals = [int(x) for x in stack_params]"
   ]
  },
  {
   "cell_type": "code",
   "execution_count": 6,
   "metadata": {
    "ExecuteTime": {
     "end_time": "2020-12-08T14:12:48.196920Z",
     "start_time": "2020-12-08T14:12:48.167923Z"
    }
   },
   "outputs": [],
   "source": [
    "def parse_op(cmd, val, ptr):\n",
    "    if 'acc' == cmd:\n",
    "        accumval = val\n",
    "        ptr += 1\n",
    "    elif 'jmp' == cmd:\n",
    "        accumval = 0\n",
    "        ptr += val\n",
    "    elif 'nop' == cmd:\n",
    "        accumval = 0\n",
    "        ptr += 1\n",
    "    else:\n",
    "        raise ValueError(\"Unhandled cmd '{}''\".format(cmd))\n",
    "    return (ptr, accumval)\n",
    "\n",
    "def test_hang(stack_ops, stack_vals):\n",
    "    # Program succeeds if it gets to the last\n",
    "    # instruction at ptr_end in ehich case return the\n",
    "    # accumulator values. Otherwise return None\n",
    "    ptr_end = len(stack_ops) - 1\n",
    "    accum = 0\n",
    "    ptr = 0\n",
    "    ptrs_seen = set()\n",
    "    ptr = 0\n",
    "    while(True):\n",
    "        #print(ptr, accum, stack[ptr])\n",
    "        ptr, accumval = parse_op(stack_ops[ptr], stack_vals[ptr], ptr)\n",
    "        if ptr in ptrs_seen:\n",
    "            #print(\"Already seen ptr: {}\".format(ptr))\n",
    "            #print(\"Accumulator value: {}\".format(accum))\n",
    "            # Program hangs\n",
    "            #return [None, ptr, accum]\n",
    "            return None\n",
    "        if accumval:\n",
    "            accum += accumval\n",
    "        if ptr == ptr_end:\n",
    "            # Got to the end. Success!\n",
    "            return accum\n",
    "        ptrs_seen.add(ptr)\n",
    "\n",
    "\n",
    "#test_hang(stack_ops, stack_vals)"
   ]
  },
  {
   "cell_type": "code",
   "execution_count": 7,
   "metadata": {
    "ExecuteTime": {
     "end_time": "2020-12-08T14:12:48.227921Z",
     "start_time": "2020-12-08T14:12:48.198921Z"
    }
   },
   "outputs": [
    {
     "name": "stdout",
     "output_type": "stream",
     "text": [
      "SUCCESS!\n"
     ]
    }
   ],
   "source": [
    "# Process stack_ops each time swapping a jmp for a nop or vice versa\n",
    "accum = None\n",
    "for i, op in enumerate(stack_ops):\n",
    "    if 'nop' == op:\n",
    "        so = stack_ops.copy()\n",
    "        so[i] = 'jmp'\n",
    "    elif 'jmp' == op:\n",
    "        so = stack_ops.copy()\n",
    "        so[i] = 'nop'\n",
    "    else:\n",
    "        # Nothing to try changing\n",
    "        continue\n",
    "    accum = test_hang(so, stack_vals)\n",
    "    if accum is not None:\n",
    "        print(\"SUCCESS!\")\n",
    "        break"
   ]
  },
  {
   "cell_type": "code",
   "execution_count": 8,
   "metadata": {
    "ExecuteTime": {
     "end_time": "2020-12-08T14:12:48.258922Z",
     "start_time": "2020-12-08T14:12:48.230920Z"
    }
   },
   "outputs": [],
   "source": [
    "#Markdown(\"Accumulator for successful program run: **{}**\".format(accum))"
   ]
  }
 ],
 "metadata": {
  "kernelspec": {
   "display_name": "Python 3",
   "language": "python",
   "name": "python3"
  },
  "language_info": {
   "codemirror_mode": {
    "name": "ipython",
    "version": 3
   },
   "file_extension": ".py",
   "mimetype": "text/x-python",
   "name": "python",
   "nbconvert_exporter": "python",
   "pygments_lexer": "ipython3",
   "version": "3.6.10"
  },
  "toc": {
   "base_numbering": 1,
   "nav_menu": {},
   "number_sections": true,
   "sideBar": true,
   "skip_h1_title": false,
   "title_cell": "Table of Contents",
   "title_sidebar": "Contents",
   "toc_cell": false,
   "toc_position": {},
   "toc_section_display": true,
   "toc_window_display": false
  }
 },
 "nbformat": 4,
 "nbformat_minor": 4
}
