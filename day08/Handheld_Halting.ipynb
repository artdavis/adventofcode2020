{
 "cells": [
  {
   "cell_type": "markdown",
   "metadata": {},
   "source": [
    "# Day 8: Handheld Halting\n",
    "\n",
    "Reference: https://adventofcode.com/2020/day/8\n",
    "\n",
    "## Part 1\n",
    "\n",
    "Immediately before any instruction is executed a second time, **what value is in the accumulator?**"
   ]
  },
  {
   "cell_type": "code",
   "execution_count": 1,
   "metadata": {
    "ExecuteTime": {
     "end_time": "2020-12-08T14:12:48.069968Z",
     "start_time": "2020-12-08T14:12:48.050920Z"
    }
   },
   "outputs": [],
   "source": [
    "from IPython.display import Markdown\n",
    "#from IPython.core.debugger import set_trace as breakpt"
   ]
  },
  {
   "cell_type": "code",
   "execution_count": 2,
   "metadata": {
    "ExecuteTime": {
     "end_time": "2020-12-08T14:12:48.101923Z",
     "start_time": "2020-12-08T14:12:48.073924Z"
    }
   },
   "outputs": [],
   "source": [
    "with open('code_input.txt', 'r') as fid:\n",
    "#with open('test1_code_input.txt', 'r') as fid:\n",
    "    stack = fid.read().splitlines()\n",
    "\n",
    "#stack"
   ]
  },
  {
   "cell_type": "code",
   "execution_count": 3,
   "metadata": {
    "ExecuteTime": {
     "end_time": "2020-12-08T14:12:48.117923Z",
     "start_time": "2020-12-08T14:12:48.105925Z"
    }
   },
   "outputs": [],
   "source": [
    "def parse_cmd(cmdstr, ptr):\n",
    "    cmd, val = cmdstr.split(' ')\n",
    "    val = int(val)\n",
    "    if 'acc' == cmd:\n",
    "        accumval = val\n",
    "        ptr += 1\n",
    "    elif 'jmp' == cmd:\n",
    "        accumval = 0\n",
    "        ptr += val\n",
    "    elif 'nop' == cmd:\n",
    "        accumval = 0\n",
    "        ptr += 1\n",
    "    else:\n",
    "        raise ValueError(\"Unhandled cmd '{}''\".format(cmd))\n",
    "    return (ptr, accumval)\n",
    "\n",
    "accum = 0\n",
    "ptr = 0\n",
    "ptrs_seen = set()\n",
    "ptr = 0\n",
    "while(True):\n",
    "    #print(ptr, accum, stack[ptr])\n",
    "    ptr, accumval = parse_cmd(stack[ptr], ptr)\n",
    "    if ptr in ptrs_seen:\n",
    "        #print(\"Already seen ptr: {}\".format(ptr))\n",
    "        #print(\"Accumulator value: {}\".format(accum))\n",
    "        break\n",
    "    if accumval:\n",
    "        accum += accumval\n",
    "    ptrs_seen.add(ptr)\n",
    "    "
   ]
  },
  {
   "cell_type": "code",
   "execution_count": 4,
   "metadata": {
    "ExecuteTime": {
     "end_time": "2020-12-08T14:12:48.149923Z",
     "start_time": "2020-12-08T14:12:48.119920Z"
    }
   },
   "outputs": [],
   "source": [
    "#Markdown(\"Accumulator before program hang: **{}**\".format(accum))"
   ]
  },
  {
   "cell_type": "markdown",
   "metadata": {},
   "source": [
    "## Part 2\n",
    "\n",
    "**What is the value of the accumulator after the program terminates?**"
   ]
  },
  {
   "cell_type": "code",
   "execution_count": 5,
   "metadata": {
    "ExecuteTime": {
     "end_time": "2020-12-08T14:12:48.165923Z",
     "start_time": "2020-12-08T14:12:48.150920Z"
    }
   },
   "outputs": [],
   "source": [
    "# Convert stack to 2 lists of ops and vals\n",
    "stack_ops, stack_params = list(zip(*[x.split(' ') for x in stack]))\n",
    "stack_ops = list(stack_ops)\n",
    "stack_vals = [int(x) for x in stack_params]"
   ]
  },
  {
   "cell_type": "code",
   "execution_count": 6,
   "metadata": {
    "ExecuteTime": {
     "end_time": "2020-12-08T14:12:48.196920Z",
     "start_time": "2020-12-08T14:12:48.167923Z"
    }
   },
   "outputs": [],
   "source": [
    "def parse_op(cmd, val, ptr):\n",
    "    if 'acc' == cmd:\n",
    "        accumval = val\n",
    "        ptr += 1\n",
    "    elif 'jmp' == cmd:\n",
    "        accumval = 0\n",
    "        ptr += val\n",
    "    elif 'nop' == cmd:\n",
    "        accumval = 0\n",
    "        ptr += 1\n",
    "    else:\n",
    "        raise ValueError(\"Unhandled cmd '{}''\".format(cmd))\n",
    "    return (ptr, accumval)\n",
    "\n",
    "def test_hang(stack_ops, stack_vals):\n",
    "    # Program succeeds if it gets to the last\n",
    "    # instruction at ptr_end in ehich case return the\n",
    "    # accumulator values. Otherwise return None\n",
    "    ptr_end = len(stack_ops) - 1\n",
    "    accum = 0\n",
    "    ptr = 0\n",
    "    ptrs_seen = set()\n",
    "    ptr = 0\n",
    "    while(True):\n",
    "        #print(ptr, accum, stack[ptr])\n",
    "        ptr, accumval = parse_op(stack_ops[ptr], stack_vals[ptr], ptr)\n",
    "        if ptr in ptrs_seen:\n",
    "            #print(\"Already seen ptr: {}\".format(ptr))\n",
    "            #print(\"Accumulator value: {}\".format(accum))\n",
    "            # Program hangs\n",
    "            #return [None, ptr, accum]\n",
    "            return None\n",
    "        if accumval:\n",
    "            accum += accumval\n",
    "        if ptr == ptr_end:\n",
    "            # Got to the end. Success!\n",
    "            return accum\n",
    "        ptrs_seen.add(ptr)\n",
    "\n",
    "\n",
    "#test_hang(stack_ops, stack_vals)"
   ]
  },
  {
   "cell_type": "code",
   "execution_count": 7,
   "metadata": {
    "ExecuteTime": {
     "end_time": "2020-12-08T14:12:48.227921Z",
     "start_time": "2020-12-08T14:12:48.198921Z"
    }
   },
   "outputs": [
    {
     "name": "stdout",
     "output_type": "stream",
     "text": [
      "SUCCESS!\n"
     ]
    }
   ],
   "source": [
    "# Process stack_ops each time swapping a jmp for a nop or vice versa\n",
    "accum = None\n",
    "for i, op in enumerate(stack_ops):\n",
    "    if 'nop' == op:\n",
    "        so = stack_ops.copy()\n",
    "        so[i] = 'jmp'\n",
    "    elif 'jmp' == op:\n",
    "        so = stack_ops.copy()\n",
    "        so[i] = 'nop'\n",
    "    else:\n",
    "        # Nothing to try changing\n",
    "        continue\n",
    "    accum = test_hang(so, stack_vals)\n",
    "    if accum is not None:\n",
    "        print(\"SUCCESS!\")\n",
    "        break"
   ]
  },
  {
   "cell_type": "code",
   "execution_count": 8,
   "metadata": {
    "ExecuteTime": {
     "end_time": "2020-12-08T14:12:48.258922Z",
     "start_time": "2020-12-08T14:12:48.230920Z"
    }
   },
   "outputs": [],
   "source": [
    "#Markdown(\"Accumulator for successful program run: **{}**\".format(accum))"
   ]
  }
 ],
 "metadata": {
  "kernelspec": {
   "display_name": "Python 3",
   "language": "python",
   "name": "python3"
  },
  "language_info": {
   "codemirror_mode": {
    "name": "ipython",
    "version": 3
   },
   "file_extension": ".py",
   "mimetype": "text/x-python",
   "name": "python",
   "nbconvert_exporter": "python",
   "pygments_lexer": "ipython3",
   "version": "3.6.12"
  },
  "toc": {
   "base_numbering": 1,
   "nav_menu": {},
   "number_sections": true,
   "sideBar": true,
   "skip_h1_title": false,
   "title_cell": "Table of Contents",
   "title_sidebar": "Contents",
   "toc_cell": false,
   "toc_position": {},
   "toc_section_display": true,
   "toc_window_display": false
  }
 },
 "nbformat": 4,
 "nbformat_minor": 4
}
